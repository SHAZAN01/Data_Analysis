{
  "nbformat": 4,
  "nbformat_minor": 0,
  "metadata": {
    "colab": {
      "provenance": [],
      "include_colab_link": true
    },
    "kernelspec": {
      "name": "python3",
      "display_name": "Python 3"
    },
    "language_info": {
      "name": "python"
    }
  },
  "cells": [
    {
      "cell_type": "markdown",
      "metadata": {
        "id": "view-in-github",
        "colab_type": "text"
      },
      "source": [
        "<a href=\"https://colab.research.google.com/github/SHAZAN01/Data_Analysis/blob/main/Pandas_0.ipynb\" target=\"_parent\"><img src=\"https://colab.research.google.com/assets/colab-badge.svg\" alt=\"Open In Colab\"/></a>"
      ]
    },
    {
      "cell_type": "markdown",
      "source": [
        "#Pandas -\n",
        "Stands for - Panel Data\n",
        "\n",
        "Core library for Data manipulation and analysis.\n",
        "\n",
        "Consists of single, multi dimensional data structures for manipulation.\n"
      ],
      "metadata": {
        "id": "SdKNrl_FpHDm"
      }
    },
    {
      "cell_type": "code",
      "execution_count": null,
      "metadata": {
        "id": "Cmcpu2PhohDP"
      },
      "outputs": [],
      "source": [
        "import pandas as pd"
      ]
    },
    {
      "cell_type": "code",
      "source": [
        "pd.__version__"
      ],
      "metadata": {
        "colab": {
          "base_uri": "https://localhost:8080/",
          "height": 36
        },
        "id": "BF77O_4qo7RM",
        "outputId": "83d39ee0-b96b-4b6c-9ddd-362f5c899097"
      },
      "execution_count": null,
      "outputs": [
        {
          "output_type": "execute_result",
          "data": {
            "text/plain": [
              "'1.5.3'"
            ],
            "application/vnd.google.colaboratory.intrinsic+json": {
              "type": "string"
            }
          },
          "metadata": {},
          "execution_count": 2
        }
      ]
    },
    {
      "cell_type": "markdown",
      "source": [
        "Pandas Series\n",
        "\n",
        "Pandas DataFrames"
      ],
      "metadata": {
        "id": "LbY6-Ja6BCRW"
      }
    },
    {
      "cell_type": "markdown",
      "source": [
        "**Series**\n",
        "\n",
        "A pandas Series is a one-dimensional labelled data structure which can hold data such as strings, integers and even other Python objects. It is built on top of numpy array and is the primary data structure to hold one-dimensional data in pandas."
      ],
      "metadata": {
        "id": "lA15sBc8BS-p"
      }
    },
    {
      "cell_type": "code",
      "source": [
        "a  = list(range(5))\n",
        "a,type(a)"
      ],
      "metadata": {
        "colab": {
          "base_uri": "https://localhost:8080/"
        },
        "id": "V2FiF47_rJ9C",
        "outputId": "24f8c6b1-beed-43a9-ad8c-49db219f6b56"
      },
      "execution_count": null,
      "outputs": [
        {
          "output_type": "execute_result",
          "data": {
            "text/plain": [
              "([0, 1, 2, 3, 4], list)"
            ]
          },
          "metadata": {},
          "execution_count": 4
        }
      ]
    },
    {
      "cell_type": "code",
      "source": [
        "import numpy as np\n",
        "a = np.arange(5)\n",
        "type(a)"
      ],
      "metadata": {
        "colab": {
          "base_uri": "https://localhost:8080/"
        },
        "id": "ZwPJpcElsbw5",
        "outputId": "2ed3570a-6eb0-4660-c0f5-c830620ed2bb"
      },
      "execution_count": null,
      "outputs": [
        {
          "output_type": "execute_result",
          "data": {
            "text/plain": [
              "numpy.ndarray"
            ]
          },
          "metadata": {},
          "execution_count": 7
        }
      ]
    },
    {
      "cell_type": "code",
      "source": [
        "import pandas as pd\n",
        "a = pd.Series([1,2,3,4,5])\n",
        "a\n",
        "# type(a)"
      ],
      "metadata": {
        "colab": {
          "base_uri": "https://localhost:8080/"
        },
        "id": "YbwYmD73soXy",
        "outputId": "ac472449-1bdb-4f04-c47f-6c3d3e12c05f"
      },
      "execution_count": null,
      "outputs": [
        {
          "output_type": "execute_result",
          "data": {
            "text/plain": [
              "0    1\n",
              "1    2\n",
              "2    3\n",
              "3    4\n",
              "4    5\n",
              "dtype: int64"
            ]
          },
          "metadata": {},
          "execution_count": 9
        }
      ]
    },
    {
      "cell_type": "code",
      "source": [
        "a = pd.Series([1,2,3,4,5],index = ['a','b','c','d','e'])\n",
        "a"
      ],
      "metadata": {
        "colab": {
          "base_uri": "https://localhost:8080/"
        },
        "id": "SQq_yD1Jt0BM",
        "outputId": "2c70346b-a3b7-47e3-b192-1063e0bf44d8"
      },
      "execution_count": null,
      "outputs": [
        {
          "output_type": "execute_result",
          "data": {
            "text/plain": [
              "a    1\n",
              "b    2\n",
              "c    3\n",
              "d    4\n",
              "e    5\n",
              "dtype: int64"
            ]
          },
          "metadata": {},
          "execution_count": 10
        }
      ]
    },
    {
      "cell_type": "code",
      "source": [
        "a = pd.Series({'a':10,'b':11,'c':12})\n",
        "a"
      ],
      "metadata": {
        "colab": {
          "base_uri": "https://localhost:8080/"
        },
        "id": "eq_BDgP-tlr8",
        "outputId": "30df066e-54e3-4279-81b6-e66e82836223"
      },
      "execution_count": null,
      "outputs": [
        {
          "output_type": "execute_result",
          "data": {
            "text/plain": [
              "a    10\n",
              "b    11\n",
              "c    12\n",
              "dtype: int64"
            ]
          },
          "metadata": {},
          "execution_count": 11
        }
      ]
    },
    {
      "cell_type": "code",
      "source": [
        "a = pd.Series({'a':10,'b':11,'c':12},index=['b','c','a'])\n",
        "a\n"
      ],
      "metadata": {
        "colab": {
          "base_uri": "https://localhost:8080/"
        },
        "id": "wyrureD1uKBA",
        "outputId": "dcfc425b-7a2e-45df-a186-81dc28aa44e5"
      },
      "execution_count": null,
      "outputs": [
        {
          "output_type": "execute_result",
          "data": {
            "text/plain": [
              "b    11\n",
              "c    12\n",
              "a    10\n",
              "dtype: int64"
            ]
          },
          "metadata": {},
          "execution_count": 14
        }
      ]
    },
    {
      "cell_type": "code",
      "source": [
        "l = list('abcdefghijklmnopqrstuvwxyz')\n",
        "i = np.arange(1,27)\n",
        "alpha = pd.Series(l,index=i)\n",
        "alpha"
      ],
      "metadata": {
        "id": "gFErDRlouaIJ",
        "outputId": "248cc5a2-19e5-48ed-c936-509f743381b8",
        "colab": {
          "base_uri": "https://localhost:8080/",
          "height": 218
        }
      },
      "execution_count": null,
      "outputs": [
        {
          "output_type": "error",
          "ename": "NameError",
          "evalue": "ignored",
          "traceback": [
            "\u001b[0;31m---------------------------------------------------------------------------\u001b[0m",
            "\u001b[0;31mNameError\u001b[0m                                 Traceback (most recent call last)",
            "\u001b[0;32m<ipython-input-1-0c9912c6c77e>\u001b[0m in \u001b[0;36m<cell line: 2>\u001b[0;34m()\u001b[0m\n\u001b[1;32m      1\u001b[0m \u001b[0ml\u001b[0m \u001b[0;34m=\u001b[0m \u001b[0mlist\u001b[0m\u001b[0;34m(\u001b[0m\u001b[0;34m'abcdefghijklmnopqrstuvwxyz'\u001b[0m\u001b[0;34m)\u001b[0m\u001b[0;34m\u001b[0m\u001b[0;34m\u001b[0m\u001b[0m\n\u001b[0;32m----> 2\u001b[0;31m \u001b[0mi\u001b[0m \u001b[0;34m=\u001b[0m \u001b[0mnp\u001b[0m\u001b[0;34m.\u001b[0m\u001b[0marange\u001b[0m\u001b[0;34m(\u001b[0m\u001b[0;36m1\u001b[0m\u001b[0;34m,\u001b[0m\u001b[0;36m27\u001b[0m\u001b[0;34m)\u001b[0m\u001b[0;34m\u001b[0m\u001b[0;34m\u001b[0m\u001b[0m\n\u001b[0m\u001b[1;32m      3\u001b[0m \u001b[0malpha\u001b[0m \u001b[0;34m=\u001b[0m \u001b[0mpd\u001b[0m\u001b[0;34m.\u001b[0m\u001b[0mSeries\u001b[0m\u001b[0;34m(\u001b[0m\u001b[0ml\u001b[0m\u001b[0;34m,\u001b[0m\u001b[0mindex\u001b[0m\u001b[0;34m=\u001b[0m\u001b[0mi\u001b[0m\u001b[0;34m)\u001b[0m\u001b[0;34m\u001b[0m\u001b[0;34m\u001b[0m\u001b[0m\n\u001b[1;32m      4\u001b[0m \u001b[0malpha\u001b[0m\u001b[0;34m\u001b[0m\u001b[0;34m\u001b[0m\u001b[0m\n",
            "\u001b[0;31mNameError\u001b[0m: name 'np' is not defined"
          ]
        }
      ]
    },
    {
      "cell_type": "code",
      "source": [
        "a = []\n",
        "for i in range(26):\n",
        "  a.append(chr(97+i))\n",
        "i = np.arange(1,27)\n",
        "alpha = pd.Series(a,index=i)\n",
        "alpha"
      ],
      "metadata": {
        "id": "JAxobs-5wJ-t"
      },
      "execution_count": null,
      "outputs": []
    },
    {
      "cell_type": "code",
      "source": [
        "import string\n",
        "a = pd.Series(list(string.ascii_lowercase),index=i)\n",
        "a"
      ],
      "metadata": {
        "id": "CeJXBukYwcxx"
      },
      "execution_count": null,
      "outputs": []
    },
    {
      "cell_type": "code",
      "source": [
        "string.ascii_lowercase"
      ],
      "metadata": {
        "colab": {
          "base_uri": "https://localhost:8080/",
          "height": 36
        },
        "id": "yK4trj7BwkNU",
        "outputId": "686fdc71-6c63-494d-9c36-8d6283ac9d51"
      },
      "execution_count": null,
      "outputs": [
        {
          "output_type": "execute_result",
          "data": {
            "text/plain": [
              "'abcdefghijklmnopqrstuvwxyz'"
            ],
            "application/vnd.google.colaboratory.intrinsic+json": {
              "type": "string"
            }
          },
          "metadata": {},
          "execution_count": 23
        }
      ]
    },
    {
      "cell_type": "code",
      "source": [
        "string.ascii_uppercase"
      ],
      "metadata": {
        "colab": {
          "base_uri": "https://localhost:8080/",
          "height": 36
        },
        "id": "GZ7lkpx9wlFZ",
        "outputId": "da1ab99b-a29a-4a59-f5b3-9e0f2e3856f7"
      },
      "execution_count": null,
      "outputs": [
        {
          "output_type": "execute_result",
          "data": {
            "text/plain": [
              "'ABCDEFGHIJKLMNOPQRSTUVWXYZ'"
            ],
            "application/vnd.google.colaboratory.intrinsic+json": {
              "type": "string"
            }
          },
          "metadata": {},
          "execution_count": 24
        }
      ]
    },
    {
      "cell_type": "code",
      "source": [
        "data  = np.random.randint(1,10,5)\n",
        "a = pd.Series(data,index = ['a','b','c','d','e'])\n",
        "a"
      ],
      "metadata": {
        "colab": {
          "base_uri": "https://localhost:8080/"
        },
        "id": "v_uDsE-XwpFi",
        "outputId": "6ba5c624-3bc1-45e6-8e94-0e2b2edf91e2"
      },
      "execution_count": null,
      "outputs": [
        {
          "output_type": "execute_result",
          "data": {
            "text/plain": [
              "a    6\n",
              "b    7\n",
              "c    3\n",
              "d    4\n",
              "e    8\n",
              "dtype: int64"
            ]
          },
          "metadata": {},
          "execution_count": 27
        }
      ]
    },
    {
      "cell_type": "code",
      "source": [
        "a.reindex(['c','e','a','d','b'])"
      ],
      "metadata": {
        "colab": {
          "base_uri": "https://localhost:8080/"
        },
        "id": "v5Hhz8arxmiS",
        "outputId": "f2e5e28f-17d3-4981-a40d-5410a5b170db"
      },
      "execution_count": null,
      "outputs": [
        {
          "output_type": "execute_result",
          "data": {
            "text/plain": [
              "c    3\n",
              "e    8\n",
              "a    6\n",
              "d    4\n",
              "b    7\n",
              "dtype: int64"
            ]
          },
          "metadata": {},
          "execution_count": 28
        }
      ]
    },
    {
      "cell_type": "code",
      "source": [
        "a['d']"
      ],
      "metadata": {
        "colab": {
          "base_uri": "https://localhost:8080/"
        },
        "id": "rSz8hDZbx2UO",
        "outputId": "e4ff6444-6103-4c67-9b50-9ee6717fdc4b"
      },
      "execution_count": null,
      "outputs": [
        {
          "output_type": "execute_result",
          "data": {
            "text/plain": [
              "4"
            ]
          },
          "metadata": {},
          "execution_count": 30
        }
      ]
    },
    {
      "cell_type": "markdown",
      "source": [
        "Arithmetic operations on Series"
      ],
      "metadata": {
        "id": "PxLpIpouyBEi"
      }
    },
    {
      "cell_type": "code",
      "source": [
        "# Arithmetic Serieswise\n",
        "# a+a\n",
        "# a-a\n",
        "# a*a\n",
        "# a/a"
      ],
      "metadata": {
        "id": "XKDqEempx_L6"
      },
      "execution_count": null,
      "outputs": []
    },
    {
      "cell_type": "code",
      "source": [
        "# Arithmetic scalar\n",
        "# a+2\n",
        "# a-2\n",
        "# a*2\n",
        "# a/2\n",
        "# a//2"
      ],
      "metadata": {
        "id": "H4uIIDtkz6hK"
      },
      "execution_count": null,
      "outputs": []
    },
    {
      "cell_type": "code",
      "source": [
        "data1 = np.random.randint(1,10,5)\n",
        "data2 = np.random.randint(1,10,5)\n",
        "data1,data2"
      ],
      "metadata": {
        "colab": {
          "base_uri": "https://localhost:8080/"
        },
        "id": "IO4bljpvz7FW",
        "outputId": "addc05c1-d54a-457f-d74c-cc0a6a1b4152"
      },
      "execution_count": null,
      "outputs": [
        {
          "output_type": "execute_result",
          "data": {
            "text/plain": [
              "(array([9, 2, 5, 8, 1]), array([7, 9, 5, 5, 3]))"
            ]
          },
          "metadata": {},
          "execution_count": 31
        }
      ]
    },
    {
      "cell_type": "code",
      "source": [
        "data1 == data2\n",
        "data1 >= data2\n",
        "data1 <= data2\n",
        "data1 != data2"
      ],
      "metadata": {
        "colab": {
          "base_uri": "https://localhost:8080/"
        },
        "id": "fS3mM3JI0LYK",
        "outputId": "b11ab0ae-c7eb-4ed8-ce5b-3e3bd6f5a7f9"
      },
      "execution_count": null,
      "outputs": [
        {
          "output_type": "execute_result",
          "data": {
            "text/plain": [
              "array([ True,  True, False,  True,  True])"
            ]
          },
          "metadata": {},
          "execution_count": 33
        }
      ]
    },
    {
      "cell_type": "code",
      "source": [
        "data1 = pd.Series(data1)\n",
        "data2 = pd.Series(data2)\n",
        "# data1.append(data2)\n",
        "a = pd.concat([data1,data2])"
      ],
      "metadata": {
        "id": "XXFapKik0lQe"
      },
      "execution_count": null,
      "outputs": []
    },
    {
      "cell_type": "code",
      "source": [
        "a.reset_index()"
      ],
      "metadata": {
        "id": "UvJOK7rd1PKm"
      },
      "execution_count": null,
      "outputs": []
    },
    {
      "cell_type": "code",
      "source": [
        "a = data1.append(data2).reset_index(drop=True)"
      ],
      "metadata": {
        "colab": {
          "base_uri": "https://localhost:8080/"
        },
        "id": "WQdLFOio26_C",
        "outputId": "14f4da04-31a4-4ce4-95a8-8c0fada00438"
      },
      "execution_count": null,
      "outputs": [
        {
          "output_type": "stream",
          "name": "stderr",
          "text": [
            "<ipython-input-66-cfc8a5a911aa>:1: FutureWarning: The series.append method is deprecated and will be removed from pandas in a future version. Use pandas.concat instead.\n",
            "  a = data1.append(data2).reset_index(drop=True)\n"
          ]
        }
      ]
    },
    {
      "cell_type": "markdown",
      "source": [
        "slicing"
      ],
      "metadata": {
        "id": "Q1GP-56u3qFa"
      }
    },
    {
      "cell_type": "code",
      "source": [
        "# a[1]\n",
        "a[5:9]"
      ],
      "metadata": {
        "colab": {
          "base_uri": "https://localhost:8080/"
        },
        "id": "lgC5XfBk3PsD",
        "outputId": "284462ba-5ceb-4d0a-a172-a111a94f0436"
      },
      "execution_count": null,
      "outputs": [
        {
          "output_type": "execute_result",
          "data": {
            "text/plain": [
              "5    7\n",
              "6    9\n",
              "7    5\n",
              "8    5\n",
              "dtype: int64"
            ]
          },
          "metadata": {},
          "execution_count": 57
        }
      ]
    },
    {
      "cell_type": "code",
      "source": [
        "a.index"
      ],
      "metadata": {
        "colab": {
          "base_uri": "https://localhost:8080/"
        },
        "id": "49MawZjl34RH",
        "outputId": "3c55f68e-628c-4372-a0fe-7a05e7d2013a"
      },
      "execution_count": null,
      "outputs": [
        {
          "output_type": "execute_result",
          "data": {
            "text/plain": [
              "RangeIndex(start=0, stop=10, step=1)"
            ]
          },
          "metadata": {},
          "execution_count": 58
        }
      ]
    },
    {
      "cell_type": "code",
      "source": [
        "# even records only\n",
        "# a[::2]\n",
        "# print(a)\n",
        "\n",
        "# even indices\n",
        "a[(a.index%2 == 0)]\n",
        "\n",
        "# even values\n",
        "a[a%2 == 0]"
      ],
      "metadata": {
        "id": "qHnZu4E_361U"
      },
      "execution_count": null,
      "outputs": []
    },
    {
      "cell_type": "code",
      "source": [
        "# map\n",
        "def double(b):\n",
        "    return 2*b"
      ],
      "metadata": {
        "id": "XQCJJ63U5SaS"
      },
      "execution_count": null,
      "outputs": []
    },
    {
      "cell_type": "code",
      "source": [
        "a = list(range(10))\n",
        "a"
      ],
      "metadata": {
        "colab": {
          "base_uri": "https://localhost:8080/"
        },
        "id": "xj50GQB95Znp",
        "outputId": "c84c038d-96f2-4207-bbc0-3b6d56e798c6"
      },
      "execution_count": null,
      "outputs": [
        {
          "output_type": "execute_result",
          "data": {
            "text/plain": [
              "[0, 1, 2, 3, 4, 5, 6, 7, 8, 9]"
            ]
          },
          "metadata": {},
          "execution_count": 60
        }
      ]
    },
    {
      "cell_type": "code",
      "source": [
        "# [double(i) for i in a]\n",
        "tuple(map(double,a))"
      ],
      "metadata": {
        "colab": {
          "base_uri": "https://localhost:8080/"
        },
        "id": "9dwphPuA5Zgp",
        "outputId": "4d707d26-f628-47fd-fb4f-f6d548b6e1af"
      },
      "execution_count": null,
      "outputs": [
        {
          "output_type": "execute_result",
          "data": {
            "text/plain": [
              "(0, 2, 4, 6, 8, 10, 12, 14, 16, 18)"
            ]
          },
          "metadata": {},
          "execution_count": 63
        }
      ]
    },
    {
      "cell_type": "code",
      "source": [],
      "metadata": {
        "id": "VbtNF7ve53vn"
      },
      "execution_count": null,
      "outputs": []
    },
    {
      "cell_type": "markdown",
      "source": [
        "Naming"
      ],
      "metadata": {
        "id": "CC7iBeS_62R0"
      }
    },
    {
      "cell_type": "code",
      "source": [
        "data1 = np.random.randint(1,15,15)\n",
        "data1 = pd.Series(data1,name = 'Scores')\n",
        "data1\n",
        "# data1.name"
      ],
      "metadata": {
        "colab": {
          "base_uri": "https://localhost:8080/"
        },
        "id": "4Pse2Oym63PI",
        "outputId": "ef66cdd8-afbb-47b6-b543-6c85861ce3b0"
      },
      "execution_count": null,
      "outputs": [
        {
          "output_type": "execute_result",
          "data": {
            "text/plain": [
              "0      9\n",
              "1     10\n",
              "2      4\n",
              "3      7\n",
              "4      4\n",
              "5     14\n",
              "6     12\n",
              "7      4\n",
              "8     12\n",
              "9      5\n",
              "10    11\n",
              "11     9\n",
              "12     5\n",
              "13     5\n",
              "14     6\n",
              "Name: Scores, dtype: int64"
            ]
          },
          "metadata": {},
          "execution_count": 75
        }
      ]
    },
    {
      "cell_type": "code",
      "source": [
        "data1.rename('HighScores')"
      ],
      "metadata": {
        "colab": {
          "base_uri": "https://localhost:8080/"
        },
        "id": "zzgD7ws67CUh",
        "outputId": "20be2fe9-dba3-4df7-c027-bb4659a9dba8"
      },
      "execution_count": null,
      "outputs": [
        {
          "output_type": "execute_result",
          "data": {
            "text/plain": [
              "0      9\n",
              "1     10\n",
              "2      4\n",
              "3      7\n",
              "4      4\n",
              "5     14\n",
              "6     12\n",
              "7      4\n",
              "8     12\n",
              "9      5\n",
              "10    11\n",
              "11     9\n",
              "12     5\n",
              "13     5\n",
              "14     6\n",
              "Name: HighScores, dtype: int64"
            ]
          },
          "metadata": {},
          "execution_count": 76
        }
      ]
    },
    {
      "cell_type": "code",
      "source": [
        "a = a.drop([1,4,6,8])\n",
        "a"
      ],
      "metadata": {
        "colab": {
          "base_uri": "https://localhost:8080/"
        },
        "id": "7kfegQVr8TFG",
        "outputId": "e9151621-9ed3-479a-ccbb-9c35daaa7db6"
      },
      "execution_count": null,
      "outputs": [
        {
          "output_type": "execute_result",
          "data": {
            "text/plain": [
              "0    9\n",
              "2    5\n",
              "3    8\n",
              "5    7\n",
              "7    5\n",
              "9    3\n",
              "dtype: int64"
            ]
          },
          "metadata": {},
          "execution_count": 79
        }
      ]
    },
    {
      "cell_type": "code",
      "source": [],
      "metadata": {
        "id": "yoV_Umtq7IBs"
      },
      "execution_count": null,
      "outputs": []
    }
  ]
}