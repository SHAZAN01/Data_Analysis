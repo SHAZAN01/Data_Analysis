{
  "nbformat": 4,
  "nbformat_minor": 0,
  "metadata": {
    "colab": {
      "provenance": [],
      "include_colab_link": true
    },
    "kernelspec": {
      "name": "python3",
      "display_name": "Python 3"
    },
    "language_info": {
      "name": "python"
    }
  },
  "cells": [
    {
      "cell_type": "markdown",
      "metadata": {
        "id": "view-in-github",
        "colab_type": "text"
      },
      "source": [
        "<a href=\"https://colab.research.google.com/github/SHAZAN01/Data_Analysis/blob/main/Numpy_0.ipynb\" target=\"_parent\"><img src=\"https://colab.research.google.com/assets/colab-badge.svg\" alt=\"Open In Colab\"/></a>"
      ]
    },
    {
      "cell_type": "markdown",
      "source": [
        "##**numpy Library**\n",
        "* numpy : stands for **Numerical Python**\n",
        "* Like list in Python, array is a datastructure for numpy\n"
      ],
      "metadata": {
        "id": "lPAGB2AsTqoc"
      }
    },
    {
      "cell_type": "markdown",
      "source": [
        "* Python List is a collection of heterogenous datatypes items. It takes huge amount of time and memory for numerical computations of large data.\n",
        "* Numpy array is a collection of homogenous datatypes items. It takes  very little amount of memory and time in comparision with list in terms of numerical computation of large data."
      ],
      "metadata": {
        "id": "JAqmtou4TkkR"
      }
    },
    {
      "cell_type": "code",
      "source": [
        "# Imports all the functions that are there in numpy\n",
        "# from numpy import *\n",
        "\n",
        "# Standard Numpy Convention\n",
        "import numpy as np"
      ],
      "metadata": {
        "id": "ceQFgcBiPDde"
      },
      "execution_count": null,
      "outputs": []
    },
    {
      "cell_type": "code",
      "source": [
        "a = np.array([1,2,3])\n",
        "type(a)"
      ],
      "metadata": {
        "colab": {
          "base_uri": "https://localhost:8080/"
        },
        "id": "uRCnv_cWQOLG",
        "outputId": "d2939d8d-a0bc-4c7a-ef55-71369f06b774"
      },
      "execution_count": null,
      "outputs": [
        {
          "output_type": "execute_result",
          "data": {
            "text/plain": [
              "numpy.ndarray"
            ]
          },
          "metadata": {},
          "execution_count": 6
        }
      ]
    },
    {
      "cell_type": "markdown",
      "source": [
        "* The number of dimensions and items in an array is  defined by its **shape**.\n",
        "* The dimensions are also called as **axes**.\n",
        "* ndarray : n-Dimensional array\n",
        "  * 0D - Scalar\n",
        "  * 1D Array - Vector\n",
        "  * 2D Array - Matrix\n",
        "  * 3D or more (Multi Dimension) - Tensor\n"
      ],
      "metadata": {
        "id": "Fo5Fqri7XXo7"
      }
    },
    {
      "cell_type": "code",
      "source": [
        "a = 1 #0D\n",
        "b = np.array([1,2]) #1D\n",
        "c = np.array([[1,2],[3,4]]) #2D\n",
        "d = np.array([[[1,2],[3,4]],[[5,6],[7,8]]]) #3D\n",
        "type(d)"
      ],
      "metadata": {
        "colab": {
          "base_uri": "https://localhost:8080/"
        },
        "id": "O7b43qIfQ6JJ",
        "outputId": "31bf0839-a7ac-4ccb-e7af-db9de8949086"
      },
      "execution_count": null,
      "outputs": [
        {
          "output_type": "execute_result",
          "data": {
            "text/plain": [
              "numpy.ndarray"
            ]
          },
          "metadata": {},
          "execution_count": 11
        }
      ]
    },
    {
      "cell_type": "code",
      "source": [
        "np.array([1,2.0,'3',4])"
      ],
      "metadata": {
        "colab": {
          "base_uri": "https://localhost:8080/"
        },
        "id": "SUwzw_bbSal-",
        "outputId": "9322552e-638c-4154-e5a2-447b55c2c6f8"
      },
      "execution_count": null,
      "outputs": [
        {
          "output_type": "execute_result",
          "data": {
            "text/plain": [
              "array(['1', '2.0', '3', '4'], dtype='<U32')"
            ]
          },
          "metadata": {},
          "execution_count": 13
        }
      ]
    },
    {
      "cell_type": "code",
      "source": [
        "# np.arange(3,10)\n",
        "# np.arange(3,10,2)\n",
        "np.arange(17,7,-2)"
      ],
      "metadata": {
        "colab": {
          "base_uri": "https://localhost:8080/"
        },
        "id": "GFIqercDStiL",
        "outputId": "9b708295-cf22-4db1-91a9-02cde31610e5"
      },
      "execution_count": null,
      "outputs": [
        {
          "output_type": "execute_result",
          "data": {
            "text/plain": [
              "array([17, 15, 13, 11,  9])"
            ]
          },
          "metadata": {},
          "execution_count": 18
        }
      ]
    },
    {
      "cell_type": "code",
      "source": [
        "# np.ones(1)\n",
        "# np.ones((item,no.of items))\n",
        "# np.ones((1,2))\n",
        "# np.ones((1,4))\n",
        "# np.ones((1,2,3))\n",
        "a = np.ones((2,3,3))\n",
        "# a.ndim\n",
        "a\n",
        "# np.ones((1,2,3,4))"
      ],
      "metadata": {
        "colab": {
          "base_uri": "https://localhost:8080/"
        },
        "id": "Tw32sHXfTizV",
        "outputId": "93593ed7-0746-4686-e461-790f5437ff5d"
      },
      "execution_count": null,
      "outputs": [
        {
          "output_type": "execute_result",
          "data": {
            "text/plain": [
              "array([[[1., 1., 1.],\n",
              "        [1., 1., 1.],\n",
              "        [1., 1., 1.]],\n",
              "\n",
              "       [[1., 1., 1.],\n",
              "        [1., 1., 1.],\n",
              "        [1., 1., 1.]]])"
            ]
          },
          "metadata": {},
          "execution_count": 4
        }
      ]
    },
    {
      "cell_type": "code",
      "source": [
        "a = np.ones((1,2,3,4))\n",
        "a.ndim"
      ],
      "metadata": {
        "colab": {
          "base_uri": "https://localhost:8080/"
        },
        "id": "LIB2hPrTY8Ih",
        "outputId": "0b9ad07e-9844-4056-ed48-e695e36db931"
      },
      "execution_count": null,
      "outputs": [
        {
          "output_type": "execute_result",
          "data": {
            "text/plain": [
              "4"
            ]
          },
          "metadata": {},
          "execution_count": 25
        }
      ]
    },
    {
      "cell_type": "code",
      "source": [
        "a = [1,2]\n",
        "b = [3,4]\n",
        "c = np.array([a,b])\n",
        "c\n",
        "# type(c)\n",
        "c.size"
      ],
      "metadata": {
        "colab": {
          "base_uri": "https://localhost:8080/"
        },
        "id": "Z7ZvEmukbF6Z",
        "outputId": "a8cc52bb-e036-4ba7-d845-e4a33900f1d7"
      },
      "execution_count": null,
      "outputs": [
        {
          "output_type": "execute_result",
          "data": {
            "text/plain": [
              "4"
            ]
          },
          "metadata": {},
          "execution_count": 30
        }
      ]
    },
    {
      "cell_type": "code",
      "source": [
        "alist1,alist2,alist3 = [1,2,3,4,5],[1,2,3,4,5],[1,2,3,4,5]\n",
        "arr2 = np.array([alist1,alist2,alist3])\n",
        "print(arr2)\n",
        "\n",
        "# Size method gives you the total number of elements in the array\n",
        "arr2.size\n",
        "\n",
        "# shape method gives you the rows, columns of the array\n",
        "arr2.shape\n",
        "\n",
        " # number of axes/dimensions\n",
        "arr2.ndim"
      ],
      "metadata": {
        "colab": {
          "base_uri": "https://localhost:8080/"
        },
        "id": "TPp58vRsb2la",
        "outputId": "9411d410-bc81-434f-d352-ebc4a82b65c7"
      },
      "execution_count": null,
      "outputs": [
        {
          "output_type": "stream",
          "name": "stdout",
          "text": [
            "[[1 2 3 4 5]\n",
            " [1 2 3 4 5]\n",
            " [1 2 3 4 5]]\n"
          ]
        },
        {
          "output_type": "execute_result",
          "data": {
            "text/plain": [
              "2"
            ]
          },
          "metadata": {},
          "execution_count": 34
        }
      ]
    },
    {
      "cell_type": "code",
      "source": [
        "alist1,alist2,alist3 = [1,2,3,4,5],[1,2,3,4,5],[1,2,3,4,5]\n",
        "arr2 = np.array([alist1,alist2,alist3])\n",
        "print(arr2)\n",
        "print(arr2.ndim)\n",
        "print(arr2.shape)\n",
        "print(arr2.size)"
      ],
      "metadata": {
        "id": "aVt1nEWJbGVO",
        "colab": {
          "base_uri": "https://localhost:8080/"
        },
        "outputId": "39886534-f41f-495d-a917-cd05964daeff"
      },
      "execution_count": null,
      "outputs": [
        {
          "output_type": "stream",
          "name": "stdout",
          "text": [
            "[[1 2 3 4 5]\n",
            " [1 2 3 4 5]\n",
            " [1 2 3 4 5]]\n",
            "2\n",
            "(3, 5)\n",
            "15\n"
          ]
        }
      ]
    },
    {
      "cell_type": "code",
      "source": [
        "# 1x15\n",
        "# 3x5\n",
        "# 5x3\n",
        "# 15x1\n",
        "# arr2.shape = (15,1)\n",
        "arr2.reshape(5,3)\n",
        "# arr2"
      ],
      "metadata": {
        "colab": {
          "base_uri": "https://localhost:8080/"
        },
        "id": "ckXHJHcrNS9s",
        "outputId": "006c941a-60b2-4b5c-89ed-b7be473c7bde"
      },
      "execution_count": null,
      "outputs": [
        {
          "output_type": "execute_result",
          "data": {
            "text/plain": [
              "array([[1, 2, 3],\n",
              "       [4, 5, 1],\n",
              "       [2, 3, 4],\n",
              "       [5, 1, 2],\n",
              "       [3, 4, 5]])"
            ]
          },
          "metadata": {},
          "execution_count": 16
        }
      ]
    },
    {
      "cell_type": "code",
      "source": [
        "# To convert any dimensions to single dimension\n",
        "# arr2.flatten()\n",
        "a = np.ones((1,2,3))\n",
        "a.flatten()"
      ],
      "metadata": {
        "colab": {
          "base_uri": "https://localhost:8080/"
        },
        "id": "zngfZpMqOI9n",
        "outputId": "030d4396-642b-476d-d998-1de0b657cc61"
      },
      "execution_count": null,
      "outputs": [
        {
          "output_type": "execute_result",
          "data": {
            "text/plain": [
              "array([1., 1., 1., 1., 1., 1.])"
            ]
          },
          "metadata": {},
          "execution_count": 20
        }
      ]
    },
    {
      "cell_type": "code",
      "source": [
        "# Slicing\n",
        "arr = np.array([1,2,3,4,5])\n",
        "# arr[3]\n",
        "# arr[2:4]\n",
        "arr[:5:2]"
      ],
      "metadata": {
        "colab": {
          "base_uri": "https://localhost:8080/"
        },
        "id": "L5_Si91sOvEM",
        "outputId": "d642c2cd-6f45-4a2c-bed4-6afcb572a864"
      },
      "execution_count": null,
      "outputs": [
        {
          "output_type": "execute_result",
          "data": {
            "text/plain": [
              "array([1, 3, 5])"
            ]
          },
          "metadata": {},
          "execution_count": 23
        }
      ]
    },
    {
      "cell_type": "code",
      "source": [
        "arr3 = np.array([[1, 2, 3, 4, 5],\n",
        "       [6,7,8,9,10],\n",
        "       [11, 12, 13, 14, 15]])\n",
        "arr3\n",
        "# arr[row_start:row_end, col_start:col_end]\n",
        "# arr3[0:2,0:5]\n",
        "arr3[1:3,1:3]"
      ],
      "metadata": {
        "colab": {
          "base_uri": "https://localhost:8080/"
        },
        "id": "bvLokV5TPgKc",
        "outputId": "e500d51c-c916-40ee-b8b1-2d2a2a0cf52e"
      },
      "execution_count": null,
      "outputs": [
        {
          "output_type": "execute_result",
          "data": {
            "text/plain": [
              "array([[ 7,  8],\n",
              "       [12, 13]])"
            ]
          },
          "metadata": {},
          "execution_count": 28
        }
      ]
    },
    {
      "cell_type": "code",
      "source": [
        "np.zeros((3,2,5))"
      ],
      "metadata": {
        "colab": {
          "base_uri": "https://localhost:8080/"
        },
        "id": "DI9G4dYvPdBa",
        "outputId": "e76ff2d4-cf5d-4fcb-d337-35c9dd11f946"
      },
      "execution_count": null,
      "outputs": [
        {
          "output_type": "execute_result",
          "data": {
            "text/plain": [
              "array([[[0., 0., 0., 0., 0.],\n",
              "        [0., 0., 0., 0., 0.]],\n",
              "\n",
              "       [[0., 0., 0., 0., 0.],\n",
              "        [0., 0., 0., 0., 0.]],\n",
              "\n",
              "       [[0., 0., 0., 0., 0.],\n",
              "        [0., 0., 0., 0., 0.]]])"
            ]
          },
          "metadata": {},
          "execution_count": 29
        }
      ]
    },
    {
      "cell_type": "code",
      "source": [
        "# np.full(number of items, value)\n",
        "# np.full(1,2)\n",
        "np.full(5,4)\n",
        "np.full(10,3)\n",
        "\n",
        "# np.full((row,col),val)\n",
        "# np.full((10,2),3)\n",
        "np.full((2,2),3)"
      ],
      "metadata": {
        "colab": {
          "base_uri": "https://localhost:8080/"
        },
        "id": "mfg8F4m2Q3uw",
        "outputId": "da4b0363-6dda-4598-b9e8-1ffe982e05f8"
      },
      "execution_count": null,
      "outputs": [
        {
          "output_type": "execute_result",
          "data": {
            "text/plain": [
              "array([[3, 3],\n",
              "       [3, 3]])"
            ]
          },
          "metadata": {},
          "execution_count": 34
        }
      ]
    },
    {
      "cell_type": "code",
      "source": [
        "# generates points within that range with equal spacing\n",
        "# np.linspace(start,end,equally_spacing_value)\n",
        "# np.linspace(1,5,3)\n",
        "np.linspace(1,10,5)"
      ],
      "metadata": {
        "colab": {
          "base_uri": "https://localhost:8080/"
        },
        "id": "n8WRvf6SR8N9",
        "outputId": "36dc2583-ba13-4da8-eb01-3490e0e76b0f"
      },
      "execution_count": null,
      "outputs": [
        {
          "output_type": "execute_result",
          "data": {
            "text/plain": [
              "array([ 1.  ,  3.25,  5.5 ,  7.75, 10.  ])"
            ]
          },
          "metadata": {},
          "execution_count": 39
        }
      ]
    },
    {
      "cell_type": "code",
      "source": [
        "# np.empty((1,2))\n",
        "np.empty((2, 3, 2))\n",
        "# It is unsafe to expect that np.empty will yield an array of all zeros.\n",
        "# It may return uninitialized \"garbage\" values in some instances."
      ],
      "metadata": {
        "colab": {
          "base_uri": "https://localhost:8080/"
        },
        "id": "wQE9yQGBTKyI",
        "outputId": "970e68b5-1273-4c71-9ab3-18c8495ece76"
      },
      "execution_count": null,
      "outputs": [
        {
          "output_type": "execute_result",
          "data": {
            "text/plain": [
              "array([[[2.64088443e-316, 0.00000000e+000],\n",
              "        [0.00000000e+000, 0.00000000e+000],\n",
              "        [0.00000000e+000, 0.00000000e+000]],\n",
              "\n",
              "       [[0.00000000e+000, 0.00000000e+000],\n",
              "        [0.00000000e+000, 0.00000000e+000],\n",
              "        [0.00000000e+000, 0.00000000e+000]]])"
            ]
          },
          "metadata": {},
          "execution_count": 41
        }
      ]
    },
    {
      "cell_type": "markdown",
      "source": [
        "**Data types**\n",
        "\n",
        "A NumPy array's type is numpy. ndarray; this is just the kind of Python object it is (similar to how type(\"hello\") is str). dtype simply specifies how bytes in memory will be translated by a scalar (i.e. a single number) or an array, as well as how the bytes will be processed (e.g. int / float)."
      ],
      "metadata": {
        "id": "0bYFRFpWKhvt"
      }
    },
    {
      "cell_type": "code",
      "source": [
        "arr = np.array([1,2])\n",
        "type(arr)\n",
        "arr.dtype"
      ],
      "metadata": {
        "colab": {
          "base_uri": "https://localhost:8080/"
        },
        "id": "jIZ9Rt-jTZxa",
        "outputId": "8fd41b34-5f82-449a-d3b4-0b5764525b8f"
      },
      "execution_count": null,
      "outputs": [
        {
          "output_type": "execute_result",
          "data": {
            "text/plain": [
              "dtype('int64')"
            ]
          },
          "metadata": {},
          "execution_count": 44
        }
      ]
    },
    {
      "cell_type": "code",
      "source": [
        "float_arr = arr.astype(np.float64)\n",
        "float_arr.dtype"
      ],
      "metadata": {
        "colab": {
          "base_uri": "https://localhost:8080/"
        },
        "id": "SjNBQE9OT5xl",
        "outputId": "c58a939b-d1e3-4eea-fc5b-50aa718961c8"
      },
      "execution_count": null,
      "outputs": [
        {
          "output_type": "execute_result",
          "data": {
            "text/plain": [
              "dtype('float64')"
            ]
          },
          "metadata": {},
          "execution_count": 45
        }
      ]
    },
    {
      "cell_type": "code",
      "source": [
        "a = np.arange(10)\n",
        "# np.append(a,10)\n",
        "np.delete(a,6)"
      ],
      "metadata": {
        "colab": {
          "base_uri": "https://localhost:8080/"
        },
        "id": "3e5b0RIJUU-t",
        "outputId": "0c40488e-d386-43bb-f031-c6894f6f3724"
      },
      "execution_count": null,
      "outputs": [
        {
          "output_type": "execute_result",
          "data": {
            "text/plain": [
              "array([0, 1, 2, 3, 4, 5, 7, 8, 9])"
            ]
          },
          "metadata": {},
          "execution_count": 49
        }
      ]
    },
    {
      "cell_type": "code",
      "source": [
        "a = np.array([7,4,9,6,8,2])\n",
        "np.sort(a)"
      ],
      "metadata": {
        "colab": {
          "base_uri": "https://localhost:8080/"
        },
        "id": "lq-Pfwe4ya7_",
        "outputId": "9bf99488-9681-4f01-bb70-002e5617d234"
      },
      "execution_count": null,
      "outputs": [
        {
          "output_type": "execute_result",
          "data": {
            "text/plain": [
              "array([2, 4, 6, 7, 8, 9])"
            ]
          },
          "metadata": {},
          "execution_count": 34
        }
      ]
    },
    {
      "cell_type": "code",
      "source": [
        "a = np.array([7,4,9,6,8,2])\n",
        "np.sqrt(a)"
      ],
      "metadata": {
        "colab": {
          "base_uri": "https://localhost:8080/"
        },
        "id": "OoliySyjy_t0",
        "outputId": "ce468205-6df2-4fdd-e6c1-138f0cded469"
      },
      "execution_count": null,
      "outputs": [
        {
          "output_type": "execute_result",
          "data": {
            "text/plain": [
              "array([2.64575131, 2.        , 3.        , 2.44948974, 2.82842712,\n",
              "       1.41421356])"
            ]
          },
          "metadata": {},
          "execution_count": 35
        }
      ]
    },
    {
      "cell_type": "code",
      "source": [
        "a = np.array([7,4,9,6,8,2])\n",
        "np.exp(a)"
      ],
      "metadata": {
        "colab": {
          "base_uri": "https://localhost:8080/"
        },
        "id": "QK74Re6jzKJy",
        "outputId": "e06ccb1d-f240-4362-e32a-9edba136a0ee"
      },
      "execution_count": null,
      "outputs": [
        {
          "output_type": "execute_result",
          "data": {
            "text/plain": [
              "array([1.09663316e+03, 5.45981500e+01, 8.10308393e+03, 4.03428793e+02,\n",
              "       2.98095799e+03, 7.38905610e+00])"
            ]
          },
          "metadata": {},
          "execution_count": 36
        }
      ]
    },
    {
      "cell_type": "code",
      "source": [
        "np.random.rand(10)\n",
        "np.random.randint(1,10,8)"
      ],
      "metadata": {
        "colab": {
          "base_uri": "https://localhost:8080/"
        },
        "id": "p3leN9CCXEL7",
        "outputId": "8f8b4d75-e590-4182-b92b-dda290f08114"
      },
      "execution_count": null,
      "outputs": [
        {
          "output_type": "execute_result",
          "data": {
            "text/plain": [
              "array([1, 4, 3, 8, 3, 6, 1, 6])"
            ]
          },
          "metadata": {},
          "execution_count": 52
        }
      ]
    },
    {
      "cell_type": "code",
      "source": [
        "np.random.randn(5)"
      ],
      "metadata": {
        "colab": {
          "base_uri": "https://localhost:8080/"
        },
        "id": "8synFtYgXZKn",
        "outputId": "dbfa1c18-5543-469e-dd93-e75781872a57"
      },
      "execution_count": null,
      "outputs": [
        {
          "output_type": "execute_result",
          "data": {
            "text/plain": [
              "array([ 1.6466842 ,  1.22007162, -1.94865896,  1.99757274, -0.52104102])"
            ]
          },
          "metadata": {},
          "execution_count": 54
        }
      ]
    },
    {
      "cell_type": "markdown",
      "source": [
        "Arithmetic with arrays"
      ],
      "metadata": {
        "id": "keXD5GR30w4r"
      }
    },
    {
      "cell_type": "code",
      "source": [
        "a = np.array([1,2,3])\n",
        "b = np.array([4,5,6])\n",
        "# a+b\n",
        "# a-b\n",
        "# a*b\n",
        "# a/b\n",
        "# a//b\n",
        "# a**b"
      ],
      "metadata": {
        "colab": {
          "base_uri": "https://localhost:8080/"
        },
        "id": "0mRopm42X0Mt",
        "outputId": "01e30b14-3452-467c-9def-42883eef8b4e"
      },
      "execution_count": null,
      "outputs": [
        {
          "output_type": "execute_result",
          "data": {
            "text/plain": [
              "array([  1,  32, 729])"
            ]
          },
          "metadata": {},
          "execution_count": 64
        }
      ]
    },
    {
      "cell_type": "code",
      "source": [
        "# Scalar arithmetic\n",
        "a = np.array([1,2,3])\n",
        "# a+5\n",
        "a*10"
      ],
      "metadata": {
        "colab": {
          "base_uri": "https://localhost:8080/"
        },
        "id": "XcqAzRJGYd06",
        "outputId": "9d930595-84b0-4253-ad1e-846cb34617e8"
      },
      "execution_count": null,
      "outputs": [
        {
          "output_type": "execute_result",
          "data": {
            "text/plain": [
              "array([10, 20, 30])"
            ]
          },
          "metadata": {},
          "execution_count": 66
        }
      ]
    },
    {
      "cell_type": "code",
      "source": [
        "a = np.array([1,2,3])\n",
        "b = np.array([4,0,6])\n",
        "# a>b\n",
        "# a<b\n",
        "# a==b\n",
        "a<=b"
      ],
      "metadata": {
        "colab": {
          "base_uri": "https://localhost:8080/"
        },
        "id": "eg3hzn5rYsYH",
        "outputId": "3e801736-6d80-471b-fdf6-7b9abf29fb82"
      },
      "execution_count": null,
      "outputs": [
        {
          "output_type": "execute_result",
          "data": {
            "text/plain": [
              "array([ True, False,  True])"
            ]
          },
          "metadata": {},
          "execution_count": 71
        }
      ]
    },
    {
      "cell_type": "markdown",
      "source": [
        "Functions like mean and sum take an optional axis argument that computes the statistic over the given axis"
      ],
      "metadata": {
        "id": "KdYAOzFxywKf"
      }
    },
    {
      "cell_type": "code",
      "source": [
        "# compute mean across the columns\n",
        "# a = np.array([1,2,3])\n",
        "a = np.array([[1,2,3],[3,4,5]])\n",
        "# a.mean(axis=0)\n",
        "a.mean(axis=1)"
      ],
      "metadata": {
        "colab": {
          "base_uri": "https://localhost:8080/"
        },
        "id": "wPusvRI2ZCxh",
        "outputId": "72209c50-8377-46c5-db70-4a2b12ee09c3"
      },
      "execution_count": null,
      "outputs": [
        {
          "output_type": "execute_result",
          "data": {
            "text/plain": [
              "array([2., 4.])"
            ]
          },
          "metadata": {},
          "execution_count": 75
        }
      ]
    },
    {
      "cell_type": "code",
      "source": [
        "a.sum(axis=0)\n",
        "a.sum(axis=1)"
      ],
      "metadata": {
        "colab": {
          "base_uri": "https://localhost:8080/"
        },
        "id": "DihB3Cz-bc8i",
        "outputId": "4e801a0e-f99f-4f84-eb2f-e400522c4b94"
      },
      "execution_count": null,
      "outputs": [
        {
          "output_type": "execute_result",
          "data": {
            "text/plain": [
              "array([ 6, 12])"
            ]
          },
          "metadata": {},
          "execution_count": 77
        }
      ]
    },
    {
      "cell_type": "code",
      "source": [
        "# a.cumsum(axis=1)\n",
        "a.cumsum(axis=0)"
      ],
      "metadata": {
        "id": "3Zn2pgElblcB"
      },
      "execution_count": null,
      "outputs": []
    },
    {
      "cell_type": "code",
      "source": [
        "# a.cumprod(axis=0)\n",
        "a.cumprod(axis=1)"
      ],
      "metadata": {
        "id": "TzeWcmt7bnLP"
      },
      "execution_count": null,
      "outputs": []
    },
    {
      "cell_type": "code",
      "source": [
        "a.min()\n",
        "a.max()"
      ],
      "metadata": {
        "id": "V80Su72i1IvD"
      },
      "execution_count": null,
      "outputs": []
    },
    {
      "cell_type": "code",
      "source": [
        "a.var()\n",
        "a.std()"
      ],
      "metadata": {
        "id": "zFDbOTfk1V_n"
      },
      "execution_count": null,
      "outputs": []
    },
    {
      "cell_type": "code",
      "source": [
        "np.median(a)"
      ],
      "metadata": {
        "id": "iZBbt3PPdiCA"
      },
      "execution_count": null,
      "outputs": []
    },
    {
      "cell_type": "markdown",
      "source": [
        "Intersection"
      ],
      "metadata": {
        "id": "MvfdbcRGf0iC"
      }
    },
    {
      "cell_type": "code",
      "source": [
        "ar1 = np.array([1,2,3,4,50])\n",
        "ar2 = np.array([10,20,30,40,50])\n",
        "np.intersect1d(ar1,ar2)"
      ],
      "metadata": {
        "colab": {
          "base_uri": "https://localhost:8080/"
        },
        "id": "zlXpxdROf2a3",
        "outputId": "90f10548-7aaa-42b2-d966-934157414c2b"
      },
      "execution_count": null,
      "outputs": [
        {
          "output_type": "execute_result",
          "data": {
            "text/plain": [
              "array([50])"
            ]
          },
          "metadata": {},
          "execution_count": 56
        }
      ]
    },
    {
      "cell_type": "code",
      "source": [
        "ar1 = np.array([[1,2,3,40,50]])\n",
        "ar2 = np.array([[10,20,30,40,50]])\n",
        "np.intersect1d(ar1,ar2)"
      ],
      "metadata": {
        "colab": {
          "base_uri": "https://localhost:8080/"
        },
        "id": "Pio-v2BbeKwv",
        "outputId": "3cb4701c-5ccb-4ecd-b783-723f37a8f6bf"
      },
      "execution_count": null,
      "outputs": [
        {
          "output_type": "execute_result",
          "data": {
            "text/plain": [
              "array([40, 50])"
            ]
          },
          "metadata": {},
          "execution_count": 83
        }
      ]
    },
    {
      "cell_type": "markdown",
      "source": [
        "Set difference"
      ],
      "metadata": {
        "id": "iND7Hy9TgwuI"
      }
    },
    {
      "cell_type": "code",
      "source": [
        "ar1 = np.array([[1,2,3,4,50]])\n",
        "ar2 = np.array([[10,20,30,40,50]])\n",
        "np.setdiff1d(ar2,ar1)"
      ],
      "metadata": {
        "colab": {
          "base_uri": "https://localhost:8080/"
        },
        "id": "tYfBoHV3g1uZ",
        "outputId": "6c42fa10-0051-45b0-b871-77aa77d6d740"
      },
      "execution_count": null,
      "outputs": [
        {
          "output_type": "execute_result",
          "data": {
            "text/plain": [
              "array([10, 20, 30, 40])"
            ]
          },
          "metadata": {},
          "execution_count": 84
        }
      ]
    },
    {
      "cell_type": "markdown",
      "source": [
        "Multiplication of arrays"
      ],
      "metadata": {
        "id": "BwTBkk75hQkM"
      }
    },
    {
      "cell_type": "code",
      "source": [
        "ar1 = np.array([1,2,3,4,5])\n",
        "ar2 = np.array([10,20,30,40,50])\n",
        "ar1*ar2"
      ],
      "metadata": {
        "colab": {
          "base_uri": "https://localhost:8080/"
        },
        "id": "lmgoaAeZhP-W",
        "outputId": "ae3c03ad-168a-4f1c-87a5-cd977f45d6d4"
      },
      "execution_count": null,
      "outputs": [
        {
          "output_type": "execute_result",
          "data": {
            "text/plain": [
              "array([ 10,  40,  90, 160, 250])"
            ]
          },
          "metadata": {},
          "execution_count": 59
        }
      ]
    },
    {
      "cell_type": "code",
      "source": [
        "ar1 = np.array([[1,2],[3,4]])\n",
        "ar2 = np.array([[1,2],[3,4]])\n",
        "ar1*ar2"
      ],
      "metadata": {
        "colab": {
          "base_uri": "https://localhost:8080/"
        },
        "id": "JWYm-Zxveqn8",
        "outputId": "34496e5e-224d-4cb3-cd4f-03336903424c"
      },
      "execution_count": null,
      "outputs": [
        {
          "output_type": "execute_result",
          "data": {
            "text/plain": [
              "array([[ 1,  4],\n",
              "       [ 9, 16]])"
            ]
          },
          "metadata": {},
          "execution_count": 85
        }
      ]
    },
    {
      "cell_type": "code",
      "source": [
        "ar1 = np.array([[1,2],[3,4]])\n",
        "ar2 = np.array([[1,2],[3,4]])\n",
        "ar1@ar2"
      ],
      "metadata": {
        "colab": {
          "base_uri": "https://localhost:8080/"
        },
        "id": "aFhs5U6Ee8pT",
        "outputId": "a2402ab6-db38-42d0-c359-688b788fe5d7"
      },
      "execution_count": null,
      "outputs": [
        {
          "output_type": "execute_result",
          "data": {
            "text/plain": [
              "array([[ 7, 10],\n",
              "       [15, 22]])"
            ]
          },
          "metadata": {},
          "execution_count": 86
        }
      ]
    },
    {
      "cell_type": "code",
      "source": [
        "a = list(range(10))\n",
        "b = list(range(10))\n",
        "c =[]\n",
        "def add_lists():\n",
        "    for i in range(len(a)):\n",
        "        c.append(a[i]+b[i])\n",
        "    return c\n",
        "add_lists()"
      ],
      "metadata": {
        "colab": {
          "base_uri": "https://localhost:8080/"
        },
        "id": "k-oO87PMYOPx",
        "outputId": "0bbe3e09-2d4c-4c6c-e629-df9ea2fe3fd8"
      },
      "execution_count": null,
      "outputs": [
        {
          "output_type": "execute_result",
          "data": {
            "text/plain": [
              "[0, 2, 4, 6, 8, 10, 12, 14, 16, 18]"
            ]
          },
          "metadata": {},
          "execution_count": 9
        }
      ]
    },
    {
      "cell_type": "code",
      "source": [
        "import numpy as np\n",
        "a = np.arange(10)\n",
        "b = np.arange(10)\n",
        "def add_arrays():\n",
        "    return a+b\n",
        "add_arrays()"
      ],
      "metadata": {
        "colab": {
          "base_uri": "https://localhost:8080/"
        },
        "id": "qdmwQJVIbtTU",
        "outputId": "070f6033-5fdb-4feb-d703-0a1a2bda874e"
      },
      "execution_count": null,
      "outputs": [
        {
          "output_type": "execute_result",
          "data": {
            "text/plain": [
              "array([ 0,  2,  4,  6,  8, 10, 12, 14, 16, 18])"
            ]
          },
          "metadata": {},
          "execution_count": 10
        }
      ]
    },
    {
      "cell_type": "code",
      "source": [
        "from timeit import Timer\n",
        "t1 = Timer('add_lists()','from __main__ import add_lists')\n",
        "print(t1.timeit(100000))"
      ],
      "metadata": {
        "colab": {
          "base_uri": "https://localhost:8080/"
        },
        "id": "xl3jIzZpb7d1",
        "outputId": "bf7fc511-122c-4c0b-87e0-1cf2d989a02b"
      },
      "execution_count": null,
      "outputs": [
        {
          "output_type": "stream",
          "name": "stdout",
          "text": [
            "0.30294305799998256\n"
          ]
        }
      ]
    },
    {
      "cell_type": "code",
      "source": [
        "t2 = Timer('add_arrays()','from __main__ import add_arrays')\n",
        "print(t2.timeit(100000))"
      ],
      "metadata": {
        "colab": {
          "base_uri": "https://localhost:8080/"
        },
        "id": "LUnvhf9kcejY",
        "outputId": "c5465d5e-e4f8-4e7c-dadd-b073257992ca"
      },
      "execution_count": null,
      "outputs": [
        {
          "output_type": "stream",
          "name": "stdout",
          "text": [
            "0.0743289619999814\n"
          ]
        }
      ]
    },
    {
      "cell_type": "markdown",
      "source": [
        "Stacking\n",
        "\n",
        "1. hstack() - rows must be same\n",
        "2. vstack() - columns must be same\n",
        "3. column_stack()  - rows & columns must be same\n"
      ],
      "metadata": {
        "id": "2DM3r0iInoLU"
      }
    },
    {
      "cell_type": "code",
      "source": [
        "ar1 = np.array([1,2,3,4,5])\n",
        "ar2 = np.array([10,20,30,40,50])\n",
        "np.hstack((ar1,ar2))"
      ],
      "metadata": {
        "id": "wSUVsWMCfARC",
        "colab": {
          "base_uri": "https://localhost:8080/"
        },
        "outputId": "b162e3f0-7a68-43a3-a5fe-8799a9ecfda2"
      },
      "execution_count": null,
      "outputs": [
        {
          "output_type": "execute_result",
          "data": {
            "text/plain": [
              "array([ 1,  2,  3,  4,  5, 10, 20, 30, 40, 50])"
            ]
          },
          "metadata": {},
          "execution_count": 22
        }
      ]
    },
    {
      "cell_type": "code",
      "source": [
        "ar1 = np.array([1,2,3,4,5])\n",
        "ar2 = np.array([10,20,30,40,50])\n",
        "np.vstack((ar1,ar2))"
      ],
      "metadata": {
        "id": "NMvfgAKIeKCG"
      },
      "execution_count": null,
      "outputs": []
    },
    {
      "cell_type": "code",
      "source": [
        "ar1 = np.array([1,2,3,4,5])\n",
        "ar2 = np.array([10,20,30,40,50])\n",
        "np.column_stack((ar1,ar2))"
      ],
      "metadata": {
        "colab": {
          "base_uri": "https://localhost:8080/"
        },
        "id": "ionN7rsteNkR",
        "outputId": "03bac058-ba84-4d68-b584-054eec6bf925"
      },
      "execution_count": null,
      "outputs": [
        {
          "output_type": "execute_result",
          "data": {
            "text/plain": [
              "array([[ 1, 10],\n",
              "       [ 2, 20],\n",
              "       [ 3, 30],\n",
              "       [ 4, 40],\n",
              "       [ 5, 50]])"
            ]
          },
          "metadata": {},
          "execution_count": 27
        }
      ]
    },
    {
      "cell_type": "code",
      "source": [
        "a = np.array([[1,2,3,4],[5,6,7,8],[11,12,13,14]])\n",
        "b = np.array([[1,2,3,4],[5,6,7,8],[11,12,13,14]])\n",
        "c = np.array([[1,2,3,4],[5,6,7,8],[11,12,13,14]])\n",
        "\n",
        "np.column_stack((a,b,c))"
      ],
      "metadata": {
        "colab": {
          "base_uri": "https://localhost:8080/"
        },
        "id": "LwuYzYgzejRR",
        "outputId": "5094ae1f-1d00-40c6-bd91-6d03fed54c57"
      },
      "execution_count": null,
      "outputs": [
        {
          "output_type": "execute_result",
          "data": {
            "text/plain": [
              "array([[ 1,  2,  3,  4,  1,  2,  3,  4,  1,  2,  3,  4],\n",
              "       [ 5,  6,  7,  8,  5,  6,  7,  8,  5,  6,  7,  8],\n",
              "       [11, 12, 13, 14, 11, 12, 13, 14, 11, 12, 13, 14]])"
            ]
          },
          "metadata": {},
          "execution_count": 28
        }
      ]
    },
    {
      "cell_type": "code",
      "source": [
        "# concatenate\n",
        "a = np.array([[1,2,3]])\n",
        "b = np.array([[4,5,6]])\n",
        "\n",
        "np.concatenate((a,b),axis=0) #vstack\n",
        "# np.concatenate((a,b),axis=1) #hstack"
      ],
      "metadata": {
        "colab": {
          "base_uri": "https://localhost:8080/"
        },
        "id": "SSOmpPTmvuNL",
        "outputId": "5dc35cf1-1212-4550-8eed-1dad8730fa71"
      },
      "execution_count": null,
      "outputs": [
        {
          "output_type": "execute_result",
          "data": {
            "text/plain": [
              "array([[1, 2, 3],\n",
              "       [4, 5, 6]])"
            ]
          },
          "metadata": {},
          "execution_count": 72
        }
      ]
    },
    {
      "cell_type": "code",
      "source": [
        "ar1 = np.array([[1,2,3,4,5]])\n",
        "# ar1.T\n",
        "ar1.transpose()"
      ],
      "metadata": {
        "colab": {
          "base_uri": "https://localhost:8080/"
        },
        "id": "g22wyREIexCG",
        "outputId": "14e3ff71-c532-43b7-b6cb-9c692500e2a5"
      },
      "execution_count": null,
      "outputs": [
        {
          "output_type": "execute_result",
          "data": {
            "text/plain": [
              "array([[1],\n",
              "       [2],\n",
              "       [3],\n",
              "       [4],\n",
              "       [5]])"
            ]
          },
          "metadata": {},
          "execution_count": 31
        }
      ]
    },
    {
      "cell_type": "code",
      "source": [
        "# 2x6 matrix\n",
        "np.arange(12).reshape(2,6)"
      ],
      "metadata": {
        "colab": {
          "base_uri": "https://localhost:8080/"
        },
        "id": "az36jI2Me6qX",
        "outputId": "79b9424a-327c-40c2-ab1b-2b4019144384"
      },
      "execution_count": null,
      "outputs": [
        {
          "output_type": "execute_result",
          "data": {
            "text/plain": [
              "array([[ 0,  1,  2,  3,  4,  5],\n",
              "       [ 6,  7,  8,  9, 10, 11]])"
            ]
          },
          "metadata": {},
          "execution_count": 32
        }
      ]
    },
    {
      "cell_type": "markdown",
      "source": [
        "save and load an array"
      ],
      "metadata": {
        "id": "mJTJmoRryr17"
      }
    },
    {
      "cell_type": "code",
      "source": [
        "a = np.array([[1,2],[3,4]])\n",
        "np.save('array_A',a)"
      ],
      "metadata": {
        "id": "_WRzNRbQffMR"
      },
      "execution_count": null,
      "outputs": []
    },
    {
      "cell_type": "code",
      "source": [
        "np.load('array_A.npy')"
      ],
      "metadata": {
        "colab": {
          "base_uri": "https://localhost:8080/"
        },
        "id": "iL-SnnfUf0gF",
        "outputId": "a2cc22bb-c70a-4b3a-e695-c8874050b0a3"
      },
      "execution_count": null,
      "outputs": [
        {
          "output_type": "execute_result",
          "data": {
            "text/plain": [
              "array([[1, 2],\n",
              "       [3, 4]])"
            ]
          },
          "metadata": {},
          "execution_count": 35
        }
      ]
    },
    {
      "cell_type": "markdown",
      "source": [
        "Example"
      ],
      "metadata": {
        "id": "2ar5xnDmgJNV"
      }
    },
    {
      "cell_type": "code",
      "source": [
        "friends = np.array(['Tom', 'Joy', 'Bill', 'Tom', 'Gem', 'Ash', 'Sam'])\n",
        "# scores = np.random.randn(7,4)\n",
        "scores = np.random.randint(1,101,(7,4))\n",
        "print(scores)"
      ],
      "metadata": {
        "colab": {
          "base_uri": "https://localhost:8080/"
        },
        "id": "jzt0QtzsfzRt",
        "outputId": "af3c3530-3921-4e53-dfa7-e3b62c159347"
      },
      "execution_count": null,
      "outputs": [
        {
          "output_type": "stream",
          "name": "stdout",
          "text": [
            "[[68 88 20 31]\n",
            " [62 99 80 54]\n",
            " [54 32 78 62]\n",
            " [56 20 88 25]\n",
            " [87 40 78 61]\n",
            " [26 54 67 80]\n",
            " [97 63 99 89]]\n"
          ]
        }
      ]
    },
    {
      "cell_type": "code",
      "source": [
        "# Scores of Tom?\n",
        "friends == 'Tom'"
      ],
      "metadata": {
        "colab": {
          "base_uri": "https://localhost:8080/"
        },
        "id": "ogLcWpkWjvdc",
        "outputId": "39086293-fe4c-45eb-8b4e-46cab8cc443c"
      },
      "execution_count": null,
      "outputs": [
        {
          "output_type": "execute_result",
          "data": {
            "text/plain": [
              "array([ True, False, False,  True, False, False, False])"
            ]
          },
          "metadata": {},
          "execution_count": 38
        }
      ]
    },
    {
      "cell_type": "code",
      "source": [
        "scores[friends == 'Tom']"
      ],
      "metadata": {
        "colab": {
          "base_uri": "https://localhost:8080/"
        },
        "id": "Iz5K8RGzfzI-",
        "outputId": "c21b9b25-ba86-495f-de3e-4e734f41ee1d"
      },
      "execution_count": null,
      "outputs": [
        {
          "output_type": "execute_result",
          "data": {
            "text/plain": [
              "array([[27, 72, 81, 56],\n",
              "       [30, 18, 33, 39]])"
            ]
          },
          "metadata": {},
          "execution_count": 40
        }
      ]
    },
    {
      "cell_type": "code",
      "source": [
        "# scores[friends == 'Tom'][:,:2]\n",
        "scores[friends == 'Tom',:2]"
      ],
      "metadata": {
        "colab": {
          "base_uri": "https://localhost:8080/"
        },
        "id": "WRyyytWxlD_Y",
        "outputId": "c01fd559-0faa-428e-d928-7b991bd0c03a"
      },
      "execution_count": null,
      "outputs": [
        {
          "output_type": "execute_result",
          "data": {
            "text/plain": [
              "array([[27, 72],\n",
              "       [30, 18]])"
            ]
          },
          "metadata": {},
          "execution_count": 43
        }
      ]
    },
    {
      "cell_type": "code",
      "source": [
        "# other then Tom\n",
        "# scores[friends != 'Tom']\n",
        "scores[~(friends == 'Tom')]"
      ],
      "metadata": {
        "colab": {
          "base_uri": "https://localhost:8080/"
        },
        "id": "IJel9E6UmU1J",
        "outputId": "52a254a0-2b2f-43b5-8a72-d22562c25f89"
      },
      "execution_count": null,
      "outputs": [
        {
          "output_type": "execute_result",
          "data": {
            "text/plain": [
              "array([[ 5, 16,  1, 45],\n",
              "       [27, 47, 41, 35],\n",
              "       [26, 50, 61, 29],\n",
              "       [87, 91,  5, 78],\n",
              "       [40, 65, 72, 71]])"
            ]
          },
          "metadata": {},
          "execution_count": 46
        }
      ]
    },
    {
      "cell_type": "code",
      "source": [
        "# Tom, Sam\n",
        "scores[(friends=='Tom') | (friends=='Sam')]"
      ],
      "metadata": {
        "colab": {
          "base_uri": "https://localhost:8080/"
        },
        "id": "veHGdPbMmn_y",
        "outputId": "a11adb13-bef8-446c-a8eb-464c8a254ed0"
      },
      "execution_count": null,
      "outputs": [
        {
          "output_type": "execute_result",
          "data": {
            "text/plain": [
              "array([[27, 72, 81, 56],\n",
              "       [30, 18, 33, 39],\n",
              "       [40, 65, 72, 71]])"
            ]
          },
          "metadata": {},
          "execution_count": 47
        }
      ]
    },
    {
      "cell_type": "code",
      "source": [
        "# more than 50\n",
        "scores[scores>50]\n",
        "# how many scores are more than 50\n",
        "# scores[scores>50].size\n",
        "len(scores[scores>50])"
      ],
      "metadata": {
        "colab": {
          "base_uri": "https://localhost:8080/"
        },
        "id": "Ci6TFsKYoFy7",
        "outputId": "e3edca74-0306-4f84-8ba6-b6f51515cce5"
      },
      "execution_count": null,
      "outputs": [
        {
          "output_type": "execute_result",
          "data": {
            "text/plain": [
              "10"
            ]
          },
          "metadata": {},
          "execution_count": 50
        }
      ]
    },
    {
      "cell_type": "code",
      "source": [
        "# make it 0 for scores less than 50\n",
        "scores[scores<50] = 0\n",
        "scores"
      ],
      "metadata": {
        "colab": {
          "base_uri": "https://localhost:8080/"
        },
        "id": "tqGFAh6go2HM",
        "outputId": "8415d36e-7196-4d74-febd-a5438f8ec88e"
      },
      "execution_count": null,
      "outputs": [
        {
          "output_type": "execute_result",
          "data": {
            "text/plain": [
              "array([[ 0, 72, 81, 56],\n",
              "       [ 0,  0,  0,  0],\n",
              "       [ 0,  0,  0,  0],\n",
              "       [ 0,  0,  0,  0],\n",
              "       [ 0, 50, 61,  0],\n",
              "       [87, 91,  0, 78],\n",
              "       [ 0, 65, 72, 71]])"
            ]
          },
          "metadata": {},
          "execution_count": 53
        }
      ]
    },
    {
      "cell_type": "code",
      "source": [
        "# scores which is not a zero\n",
        "scores[scores != 0]"
      ],
      "metadata": {
        "colab": {
          "base_uri": "https://localhost:8080/"
        },
        "id": "08KhRRBfpbNU",
        "outputId": "5af67a54-de4e-462c-c0d7-3fb252b7d69c"
      },
      "execution_count": null,
      "outputs": [
        {
          "output_type": "execute_result",
          "data": {
            "text/plain": [
              "array([72, 81, 56, 50, 61, 87, 91, 78, 65, 72, 71])"
            ]
          },
          "metadata": {},
          "execution_count": 54
        }
      ]
    },
    {
      "cell_type": "code",
      "source": [
        "# scores\n",
        "# Double the Tom and Bill scores and reduce other scores to half of it.\n",
        "scores[(friends == 'Tom') | (friends == 'Bill') ] *= 2\n",
        "scores[(friends != 'Tom') | (friends != 'Bill') ] //= 2\n",
        "scores"
      ],
      "metadata": {
        "colab": {
          "base_uri": "https://localhost:8080/"
        },
        "id": "dCxkyHfYp2j4",
        "outputId": "cf4330e0-9d4e-4d56-e13d-ff4ce5610fe6"
      },
      "execution_count": null,
      "outputs": [
        {
          "output_type": "execute_result",
          "data": {
            "text/plain": [
              "array([[136, 176,  40,  62],\n",
              "       [ 31,  49,  40,  27],\n",
              "       [108,  64, 156, 124],\n",
              "       [112,  40, 176,  50],\n",
              "       [ 43,  20,  39,  30],\n",
              "       [ 13,  27,  33,  40],\n",
              "       [ 48,  31,  49,  44]])"
            ]
          },
          "metadata": {},
          "execution_count": 59
        }
      ]
    },
    {
      "cell_type": "code",
      "source": [
        "# np.where(scores[scores != 0])\n",
        "scores"
      ],
      "metadata": {
        "colab": {
          "base_uri": "https://localhost:8080/"
        },
        "id": "6246JYg_p_7v",
        "outputId": "134795a5-db01-46fb-c910-cf7448e31856"
      },
      "execution_count": null,
      "outputs": [
        {
          "output_type": "execute_result",
          "data": {
            "text/plain": [
              "array([[136, 176,  40,  62],\n",
              "       [ 31,  49,  40,  27],\n",
              "       [108,  64, 156, 124],\n",
              "       [112,  40, 176,  50],\n",
              "       [ 43,  20,  39,  30],\n",
              "       [ 13,  27,  33,  40],\n",
              "       [ 48,  31,  49,  44]])"
            ]
          },
          "metadata": {},
          "execution_count": 61
        }
      ]
    },
    {
      "cell_type": "code",
      "source": [
        "a = np.arange(10)\n",
        "# a[a%2 == 0]\n",
        "np.where(a%2 == 0)\n",
        "# convert all odd to value 10\n",
        "np.where(a%2 == 0, a,10) # condition for false, input, value\n",
        "np.where(((a%2)!=0),10,a) # condition for true, value, input"
      ],
      "metadata": {
        "colab": {
          "base_uri": "https://localhost:8080/"
        },
        "id": "DfH-UU5ktvzS",
        "outputId": "4b9da7c5-b6d5-4432-b650-3e66d79d110e"
      },
      "execution_count": null,
      "outputs": [
        {
          "output_type": "execute_result",
          "data": {
            "text/plain": [
              "array([ 0, 10,  2, 10,  4, 10,  6, 10,  8, 10])"
            ]
          },
          "metadata": {},
          "execution_count": 67
        }
      ]
    },
    {
      "cell_type": "code",
      "source": [
        "b = 10\n",
        "np.where(a%2 == 0, b,a)"
      ],
      "metadata": {
        "id": "-p9ldZOXu0jZ"
      },
      "execution_count": null,
      "outputs": []
    },
    {
      "cell_type": "code",
      "source": [
        "#repeat\n",
        "a = np.array([[1,2,3]])\n",
        "b = np.array([[4,5,6]])\n",
        "np.repeat((a,b),3).reshape(6,3)"
      ],
      "metadata": {
        "colab": {
          "base_uri": "https://localhost:8080/"
        },
        "id": "7tHU11Xovm38",
        "outputId": "c73bbab3-25b9-4424-f167-0a8cb00d75c5"
      },
      "execution_count": null,
      "outputs": [
        {
          "output_type": "execute_result",
          "data": {
            "text/plain": [
              "array([[1, 1, 1],\n",
              "       [2, 2, 2],\n",
              "       [3, 3, 3],\n",
              "       [4, 4, 4],\n",
              "       [5, 5, 5],\n",
              "       [6, 6, 6]])"
            ]
          },
          "metadata": {},
          "execution_count": 75
        }
      ]
    },
    {
      "cell_type": "code",
      "source": [
        "np.tile(a,3).reshape(3,3)"
      ],
      "metadata": {
        "colab": {
          "base_uri": "https://localhost:8080/"
        },
        "id": "3ZK5vJ1bxV83",
        "outputId": "a68bb411-7587-45de-91fa-699a3978dbe9"
      },
      "execution_count": null,
      "outputs": [
        {
          "output_type": "execute_result",
          "data": {
            "text/plain": [
              "array([[1, 2, 3],\n",
              "       [1, 2, 3],\n",
              "       [1, 2, 3]])"
            ]
          },
          "metadata": {},
          "execution_count": 77
        }
      ]
    },
    {
      "cell_type": "code",
      "source": [
        "a = np.arange(9).reshape(3,3)\n",
        "a = a[:,[1,0,2]]\n",
        "a"
      ],
      "metadata": {
        "colab": {
          "base_uri": "https://localhost:8080/"
        },
        "id": "C_xBCXggyD2U",
        "outputId": "dffc2188-24df-40b7-b590-ebfbee988e40"
      },
      "execution_count": null,
      "outputs": [
        {
          "output_type": "execute_result",
          "data": {
            "text/plain": [
              "array([[1, 0, 2],\n",
              "       [4, 3, 5],\n",
              "       [7, 6, 8]])"
            ]
          },
          "metadata": {},
          "execution_count": 86
        }
      ]
    },
    {
      "cell_type": "code",
      "source": [
        "a = np.arange(9).reshape(3,3)\n",
        "print(a)\n",
        "a[[1,0,2],[2,1,0]]\n",
        "a[1,1]"
      ],
      "metadata": {
        "colab": {
          "base_uri": "https://localhost:8080/"
        },
        "id": "fc9qMtFMyu0C",
        "outputId": "f8862ba7-cb4d-4d00-f766-4d2a3fcc61a0"
      },
      "execution_count": null,
      "outputs": [
        {
          "output_type": "stream",
          "name": "stdout",
          "text": [
            "[[0 1 2]\n",
            " [3 4 5]\n",
            " [6 7 8]]\n"
          ]
        },
        {
          "output_type": "execute_result",
          "data": {
            "text/plain": [
              "4"
            ]
          },
          "metadata": {},
          "execution_count": 92
        }
      ]
    },
    {
      "cell_type": "code",
      "source": [
        "a = np.arange(9).reshape(3,3)\n",
        "print(a)\n",
        "# a[:,::-1]\n",
        "# a[::-1,:]\n",
        "a[::-1,::-1]"
      ],
      "metadata": {
        "colab": {
          "base_uri": "https://localhost:8080/"
        },
        "id": "YNKDCgUKzkER",
        "outputId": "15c49f8b-d6c2-4298-dc67-9357c68d53d6"
      },
      "execution_count": null,
      "outputs": [
        {
          "output_type": "stream",
          "name": "stdout",
          "text": [
            "[[0 1 2]\n",
            " [3 4 5]\n",
            " [6 7 8]]\n"
          ]
        },
        {
          "output_type": "execute_result",
          "data": {
            "text/plain": [
              "array([[8, 7, 6],\n",
              "       [5, 4, 3],\n",
              "       [2, 1, 0]])"
            ]
          },
          "metadata": {},
          "execution_count": 97
        }
      ]
    },
    {
      "cell_type": "code",
      "source": [
        "c = np.array([1,2,3,4,5,7])\n",
        "d = np.array([8,7,3,4,1,0])\n",
        "# np.vectorize(function)(array1,array2)\n",
        "def greater(c,d):\n",
        "    if c>d:\n",
        "        return c\n",
        "    else:\n",
        "        return d\n",
        "\n",
        "np.vectorize(greater)(c,d)\n"
      ],
      "metadata": {
        "colab": {
          "base_uri": "https://localhost:8080/"
        },
        "id": "_JaGs_kc0t32",
        "outputId": "80b85833-f452-4cac-8061-9c1708463f33"
      },
      "execution_count": null,
      "outputs": [
        {
          "output_type": "execute_result",
          "data": {
            "text/plain": [
              "array([8, 7, 3, 4, 5, 7])"
            ]
          },
          "metadata": {},
          "execution_count": 99
        }
      ]
    },
    {
      "cell_type": "code",
      "source": [
        "c = np.array([1,12,3,14,5,17])\n",
        "d = np.array([8,7,3,4,1,0])\n",
        "e = np.array([18,7,13,4,11,10])\n",
        "def greater1(num1,num2,num3):\n",
        "    if (num1 >= num2) and (num1 >= num3):\n",
        "        largest = num1\n",
        "    elif (num2 >= num1) and (num2 >= num3):\n",
        "        largest = num2\n",
        "    else:\n",
        "        largest = num3\n",
        "    return largest\n",
        "np.vectorize(greater1)(c,d,e)"
      ],
      "metadata": {
        "colab": {
          "base_uri": "https://localhost:8080/"
        },
        "id": "LG-mBtDQ2B0b",
        "outputId": "7b027b83-3536-4e9e-9f74-5f2ddff61865"
      },
      "execution_count": null,
      "outputs": [
        {
          "output_type": "execute_result",
          "data": {
            "text/plain": [
              "array([18, 12, 13, 14, 11, 17])"
            ]
          },
          "metadata": {},
          "execution_count": 103
        }
      ]
    }
  ]
}