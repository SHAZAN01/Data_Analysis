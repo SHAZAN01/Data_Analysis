{
  "nbformat": 4,
  "nbformat_minor": 0,
  "metadata": {
    "colab": {
      "provenance": [],
      "include_colab_link": true
    },
    "kernelspec": {
      "name": "python3",
      "display_name": "Python 3"
    },
    "language_info": {
      "name": "python"
    }
  },
  "cells": [
    {
      "cell_type": "markdown",
      "metadata": {
        "id": "view-in-github",
        "colab_type": "text"
      },
      "source": [
        "<a href=\"https://colab.research.google.com/github/SHAZAN01/Data_Analysis/blob/main/13_Numpy_100_exercise_assignment.ipynb\" target=\"_parent\"><img src=\"https://colab.research.google.com/assets/colab-badge.svg\" alt=\"Open In Colab\"/></a>"
      ]
    },
    {
      "cell_type": "markdown",
      "source": [
        "# **Numpy exercise top 100 problems**"
      ],
      "metadata": {
        "id": "WohLT7Z8U94j"
      }
    },
    {
      "cell_type": "code",
      "execution_count": null,
      "metadata": {
        "id": "WA5QwW8iUUfl"
      },
      "outputs": [],
      "source": [
        "# 1. Import the numpy package under the name np\n",
        "import numpy as np"
      ]
    },
    {
      "cell_type": "code",
      "source": [
        "# 2. Print the numpy version and the configuration\n",
        "print(np.__version__)\n",
        "np.show_config()"
      ],
      "metadata": {
        "colab": {
          "base_uri": "https://localhost:8080/"
        },
        "id": "q-_Fp2TLWpr8",
        "outputId": "2475af18-8972-4a54-a460-c9176c1e2bf6"
      },
      "execution_count": null,
      "outputs": [
        {
          "output_type": "stream",
          "name": "stdout",
          "text": [
            "1.22.4\n",
            "openblas64__info:\n",
            "    libraries = ['openblas64_', 'openblas64_']\n",
            "    library_dirs = ['/usr/local/lib']\n",
            "    language = c\n",
            "    define_macros = [('HAVE_CBLAS', None), ('BLAS_SYMBOL_SUFFIX', '64_'), ('HAVE_BLAS_ILP64', None)]\n",
            "    runtime_library_dirs = ['/usr/local/lib']\n",
            "blas_ilp64_opt_info:\n",
            "    libraries = ['openblas64_', 'openblas64_']\n",
            "    library_dirs = ['/usr/local/lib']\n",
            "    language = c\n",
            "    define_macros = [('HAVE_CBLAS', None), ('BLAS_SYMBOL_SUFFIX', '64_'), ('HAVE_BLAS_ILP64', None)]\n",
            "    runtime_library_dirs = ['/usr/local/lib']\n",
            "openblas64__lapack_info:\n",
            "    libraries = ['openblas64_', 'openblas64_']\n",
            "    library_dirs = ['/usr/local/lib']\n",
            "    language = c\n",
            "    define_macros = [('HAVE_CBLAS', None), ('BLAS_SYMBOL_SUFFIX', '64_'), ('HAVE_BLAS_ILP64', None), ('HAVE_LAPACKE', None)]\n",
            "    runtime_library_dirs = ['/usr/local/lib']\n",
            "lapack_ilp64_opt_info:\n",
            "    libraries = ['openblas64_', 'openblas64_']\n",
            "    library_dirs = ['/usr/local/lib']\n",
            "    language = c\n",
            "    define_macros = [('HAVE_CBLAS', None), ('BLAS_SYMBOL_SUFFIX', '64_'), ('HAVE_BLAS_ILP64', None), ('HAVE_LAPACKE', None)]\n",
            "    runtime_library_dirs = ['/usr/local/lib']\n",
            "Supported SIMD extensions in this NumPy install:\n",
            "    baseline = SSE,SSE2,SSE3\n",
            "    found = SSSE3,SSE41,POPCNT,SSE42,AVX,F16C,FMA3,AVX2\n",
            "    not found = AVX512F,AVX512CD,AVX512_KNL,AVX512_KNM,AVX512_SKX,AVX512_CLX,AVX512_CNL,AVX512_ICL\n"
          ]
        }
      ]
    },
    {
      "cell_type": "code",
      "source": [
        "# 3. Create a null vector of size 10\n",
        "Z = np.zeros(10)\n",
        "print(Z)"
      ],
      "metadata": {
        "colab": {
          "base_uri": "https://localhost:8080/"
        },
        "id": "IVfqcpTJWppf",
        "outputId": "df459d7e-010a-4a33-9204-d4341383b936"
      },
      "execution_count": null,
      "outputs": [
        {
          "output_type": "stream",
          "name": "stdout",
          "text": [
            "[0. 0. 0. 0. 0. 0. 0. 0. 0. 0.]\n"
          ]
        }
      ]
    },
    {
      "cell_type": "code",
      "source": [
        "# 4. How to find the memory size of any array\n",
        "Z = np.zeros((10,10))\n",
        "print(\"%d bytes\" % (Z.size * Z.itemsize))"
      ],
      "metadata": {
        "colab": {
          "base_uri": "https://localhost:8080/"
        },
        "id": "mz9tlD4tWpng",
        "outputId": "b7179ecd-6af5-4915-920b-93ca9f349f7a"
      },
      "execution_count": null,
      "outputs": [
        {
          "output_type": "stream",
          "name": "stdout",
          "text": [
            "800 bytes\n"
          ]
        }
      ]
    },
    {
      "cell_type": "code",
      "source": [
        "# 5. How to get the documentation of the numpy add function from the command line? (★☆☆)\n",
        "%run `python -c \"import numpy; numpy.info(numpy.add)\"`"
      ],
      "metadata": {
        "colab": {
          "base_uri": "https://localhost:8080/"
        },
        "id": "TP0AMiv_WplK",
        "outputId": "6eea4aab-0103-43ca-b604-ed0637f7c5fb"
      },
      "execution_count": null,
      "outputs": [
        {
          "output_type": "stream",
          "name": "stderr",
          "text": [
            "ERROR:root:File `'`python.py'` not found.\n"
          ]
        }
      ]
    },
    {
      "cell_type": "code",
      "source": [
        "# 6. Create a null vector of size 10 but the fifth value which is 1 (★☆☆)\n",
        "Z = np.zeros(10)\n",
        "Z[4] = 1\n",
        "print(Z)"
      ],
      "metadata": {
        "colab": {
          "base_uri": "https://localhost:8080/"
        },
        "id": "vH0bFiHMWpir",
        "outputId": "019fcc06-5d0f-4539-905f-b4a92277b93d"
      },
      "execution_count": null,
      "outputs": [
        {
          "output_type": "stream",
          "name": "stdout",
          "text": [
            "[0. 0. 0. 0. 1. 0. 0. 0. 0. 0.]\n"
          ]
        }
      ]
    },
    {
      "cell_type": "code",
      "source": [
        "# 7. Create a vector with values ranging from 10 to 49 (★☆☆)\n",
        "Z = np.arange(10,50)\n",
        "print(Z)"
      ],
      "metadata": {
        "colab": {
          "base_uri": "https://localhost:8080/"
        },
        "id": "n9Is55dIWpgB",
        "outputId": "a8ddaf05-a524-409f-e849-d2822aefd420"
      },
      "execution_count": null,
      "outputs": [
        {
          "output_type": "stream",
          "name": "stdout",
          "text": [
            "[10 11 12 13 14 15 16 17 18 19 20 21 22 23 24 25 26 27 28 29 30 31 32 33\n",
            " 34 35 36 37 38 39 40 41 42 43 44 45 46 47 48 49]\n"
          ]
        }
      ]
    },
    {
      "cell_type": "code",
      "source": [
        "# 8. Reverse a vector (first element becomes last) (★☆☆)\n",
        "Z = np.arange(50)\n",
        "Z = Z[::-1]\n",
        "print(Z)"
      ],
      "metadata": {
        "colab": {
          "base_uri": "https://localhost:8080/"
        },
        "id": "-mhRhdhRWpde",
        "outputId": "04aec3f7-1709-4075-b549-8df7f66dddb9"
      },
      "execution_count": null,
      "outputs": [
        {
          "output_type": "stream",
          "name": "stdout",
          "text": [
            "[49 48 47 46 45 44 43 42 41 40 39 38 37 36 35 34 33 32 31 30 29 28 27 26\n",
            " 25 24 23 22 21 20 19 18 17 16 15 14 13 12 11 10  9  8  7  6  5  4  3  2\n",
            "  1  0]\n"
          ]
        }
      ]
    },
    {
      "cell_type": "code",
      "source": [
        "# 9. Create a 3x3 matrix with values ranging from 0 to 8 (★☆☆)\n",
        "Z = np.arange(9).reshape(3,3)\n",
        "print(Z)"
      ],
      "metadata": {
        "colab": {
          "base_uri": "https://localhost:8080/"
        },
        "id": "1WGgarM_WpbA",
        "outputId": "79766126-5f35-4d7f-d4cc-17927d122238"
      },
      "execution_count": null,
      "outputs": [
        {
          "output_type": "stream",
          "name": "stdout",
          "text": [
            "[[0 1 2]\n",
            " [3 4 5]\n",
            " [6 7 8]]\n"
          ]
        }
      ]
    },
    {
      "cell_type": "code",
      "source": [
        "# 10. Find indices of non-zero elements from [1,2,0,0,4,0] (★☆☆)\n",
        "nz = np.nonzero([1,2,0,0,4,0])\n",
        "print(nz)"
      ],
      "metadata": {
        "colab": {
          "base_uri": "https://localhost:8080/"
        },
        "id": "S8I4PkC4WpYa",
        "outputId": "5d432d6c-3337-48c5-91b2-f4f2ad0587e6"
      },
      "execution_count": null,
      "outputs": [
        {
          "output_type": "stream",
          "name": "stdout",
          "text": [
            "(array([0, 1, 4]),)\n"
          ]
        }
      ]
    },
    {
      "cell_type": "code",
      "source": [
        "# 11. Create a 3x3 identity matrix (★☆☆)\n",
        "Z = np.eye(3)\n",
        "print(Z)"
      ],
      "metadata": {
        "colab": {
          "base_uri": "https://localhost:8080/"
        },
        "id": "91BcJIj1WpWD",
        "outputId": "974a8673-8442-42b9-9d82-ab5436ffafa5"
      },
      "execution_count": null,
      "outputs": [
        {
          "output_type": "stream",
          "name": "stdout",
          "text": [
            "[[1. 0. 0.]\n",
            " [0. 1. 0.]\n",
            " [0. 0. 1.]]\n"
          ]
        }
      ]
    },
    {
      "cell_type": "code",
      "source": [
        "# 12. Create a 3x3x3 array with random values (★☆☆)\n",
        "Z = np.random.random((3,3,3))\n",
        "print(Z)"
      ],
      "metadata": {
        "colab": {
          "base_uri": "https://localhost:8080/"
        },
        "id": "AM2r80CeWpTY",
        "outputId": "2150bf7c-5932-45d7-b1d6-c6f036b2e625"
      },
      "execution_count": null,
      "outputs": [
        {
          "output_type": "stream",
          "name": "stdout",
          "text": [
            "[[[0.88596332 0.57334356 0.90518532]\n",
            "  [0.50282516 0.22204796 0.99666145]\n",
            "  [0.31753265 0.67871078 0.74641835]]\n",
            "\n",
            " [[0.78228224 0.30815878 0.36152246]\n",
            "  [0.74619508 0.72420905 0.67781207]\n",
            "  [0.64045874 0.1671289  0.31655642]]\n",
            "\n",
            " [[0.20033102 0.88852566 0.81002203]\n",
            "  [0.10461689 0.52539303 0.91890431]\n",
            "  [0.55887453 0.56595471 0.45163884]]]\n"
          ]
        }
      ]
    },
    {
      "cell_type": "code",
      "source": [
        "# 13. Create a 10x10 array with random values and find the minimum and maximum values (★☆☆)\n",
        "Z = np.random.random((10,10))\n",
        "Zmin, Zmax = Z.min(), Z.max()\n",
        "print(Zmin, Zmax)"
      ],
      "metadata": {
        "colab": {
          "base_uri": "https://localhost:8080/"
        },
        "id": "y_r2s9woWpQx",
        "outputId": "b0dfd506-ff19-4940-881d-895950537936"
      },
      "execution_count": null,
      "outputs": [
        {
          "output_type": "stream",
          "name": "stdout",
          "text": [
            "0.008039152455521004 0.9882165662204092\n"
          ]
        }
      ]
    },
    {
      "cell_type": "code",
      "source": [
        "# 14. Create a random vector of size 30 and find the mean value (★☆☆)\n",
        "Z = np.random.random(30)\n",
        "m = Z.mean()\n",
        "print(m)"
      ],
      "metadata": {
        "colab": {
          "base_uri": "https://localhost:8080/"
        },
        "id": "OETz5n1mWpOh",
        "outputId": "c27151b9-a7cf-4bc8-9e0d-0a9399edad3a"
      },
      "execution_count": null,
      "outputs": [
        {
          "output_type": "stream",
          "name": "stdout",
          "text": [
            "0.35481772648493703\n"
          ]
        }
      ]
    },
    {
      "cell_type": "code",
      "source": [
        "# 15. Create a 2d array with 1 on the border and 0 inside (★☆☆)\n",
        "Z = np.ones((10,10))\n",
        "Z[1:-1,1:-1] = 0\n",
        "print(Z)"
      ],
      "metadata": {
        "colab": {
          "base_uri": "https://localhost:8080/"
        },
        "id": "8jqDIhiAWpMD",
        "outputId": "23b7d29e-e4a0-4160-d91d-de663eb1874f"
      },
      "execution_count": null,
      "outputs": [
        {
          "output_type": "stream",
          "name": "stdout",
          "text": [
            "[[1. 1. 1. 1. 1. 1. 1. 1. 1. 1.]\n",
            " [1. 0. 0. 0. 0. 0. 0. 0. 0. 1.]\n",
            " [1. 0. 0. 0. 0. 0. 0. 0. 0. 1.]\n",
            " [1. 0. 0. 0. 0. 0. 0. 0. 0. 1.]\n",
            " [1. 0. 0. 0. 0. 0. 0. 0. 0. 1.]\n",
            " [1. 0. 0. 0. 0. 0. 0. 0. 0. 1.]\n",
            " [1. 0. 0. 0. 0. 0. 0. 0. 0. 1.]\n",
            " [1. 0. 0. 0. 0. 0. 0. 0. 0. 1.]\n",
            " [1. 0. 0. 0. 0. 0. 0. 0. 0. 1.]\n",
            " [1. 1. 1. 1. 1. 1. 1. 1. 1. 1.]]\n"
          ]
        }
      ]
    },
    {
      "cell_type": "code",
      "source": [
        "# 16. How to add a border (filled with 0's) around an existing array? (★☆☆)\n",
        "Z = np.ones((5,5))\n",
        "Z = np.pad(Z, pad_width=1, mode='constant', constant_values=0)\n",
        "print(Z)"
      ],
      "metadata": {
        "colab": {
          "base_uri": "https://localhost:8080/"
        },
        "id": "VSOstcEOWpJe",
        "outputId": "b89dc477-2627-4f0b-bdb8-d746415b445f"
      },
      "execution_count": null,
      "outputs": [
        {
          "output_type": "stream",
          "name": "stdout",
          "text": [
            "[[0. 0. 0. 0. 0. 0. 0.]\n",
            " [0. 1. 1. 1. 1. 1. 0.]\n",
            " [0. 1. 1. 1. 1. 1. 0.]\n",
            " [0. 1. 1. 1. 1. 1. 0.]\n",
            " [0. 1. 1. 1. 1. 1. 0.]\n",
            " [0. 1. 1. 1. 1. 1. 0.]\n",
            " [0. 0. 0. 0. 0. 0. 0.]]\n"
          ]
        }
      ]
    },
    {
      "cell_type": "code",
      "source": [
        "# 17. What is the result of the following expression? (★☆☆)\n",
        "print(0 * np.nan)\n",
        "print(np.nan == np.nan)\n",
        "print(np.inf > np.nan)\n",
        "print(np.nan - np.nan)\n",
        "print(np.nan in set([np.nan]))\n",
        "print(0.3 == 3 * 0.1)"
      ],
      "metadata": {
        "colab": {
          "base_uri": "https://localhost:8080/"
        },
        "id": "_lxoPPONWpHP",
        "outputId": "33d771c8-6be8-481f-e0bc-5fb2bc49ffba"
      },
      "execution_count": null,
      "outputs": [
        {
          "output_type": "stream",
          "name": "stdout",
          "text": [
            "nan\n",
            "False\n",
            "False\n",
            "nan\n",
            "True\n",
            "False\n"
          ]
        }
      ]
    },
    {
      "cell_type": "code",
      "source": [
        "# 18. Create a 5x5 matrix with values 1,2,3,4 just below the diagonal (★☆☆)\n",
        "Z = np.diag(1+np.arange(4),k=-1)\n",
        "print(Z)"
      ],
      "metadata": {
        "colab": {
          "base_uri": "https://localhost:8080/"
        },
        "id": "VD2uaeZhWpEx",
        "outputId": "830a944d-3ec9-416c-9bec-49b60841a724"
      },
      "execution_count": null,
      "outputs": [
        {
          "output_type": "stream",
          "name": "stdout",
          "text": [
            "[[0 0 0 0 0]\n",
            " [1 0 0 0 0]\n",
            " [0 2 0 0 0]\n",
            " [0 0 3 0 0]\n",
            " [0 0 0 4 0]]\n"
          ]
        }
      ]
    },
    {
      "cell_type": "code",
      "source": [
        "# 19. Create a 8x8 matrix and fill it with a checkerboard pattern (★☆☆)\n",
        "Z = np.zeros((8,8),dtype=int)\n",
        "Z[1::2,::2] = 1\n",
        "Z[::2,1::2] = 1\n",
        "print(Z)"
      ],
      "metadata": {
        "colab": {
          "base_uri": "https://localhost:8080/"
        },
        "id": "TZbXpeZxWpCM",
        "outputId": "855293ca-af53-439b-f9ea-144cdfa340ff"
      },
      "execution_count": null,
      "outputs": [
        {
          "output_type": "stream",
          "name": "stdout",
          "text": [
            "[[0 1 0 1 0 1 0 1]\n",
            " [1 0 1 0 1 0 1 0]\n",
            " [0 1 0 1 0 1 0 1]\n",
            " [1 0 1 0 1 0 1 0]\n",
            " [0 1 0 1 0 1 0 1]\n",
            " [1 0 1 0 1 0 1 0]\n",
            " [0 1 0 1 0 1 0 1]\n",
            " [1 0 1 0 1 0 1 0]]\n"
          ]
        }
      ]
    },
    {
      "cell_type": "code",
      "source": [
        "# 20. Consider a (6,7,8) shape array, what is the index (x,y,z) of the 100th element?\n",
        "print(np.unravel_index(100,(6,7,8)))"
      ],
      "metadata": {
        "colab": {
          "base_uri": "https://localhost:8080/"
        },
        "id": "gMNUH83fWo_2",
        "outputId": "e23f295c-5f65-4fd8-d736-50006ba5a14f"
      },
      "execution_count": null,
      "outputs": [
        {
          "output_type": "stream",
          "name": "stdout",
          "text": [
            "(1, 5, 4)\n"
          ]
        }
      ]
    },
    {
      "cell_type": "code",
      "source": [
        "# 21. Create a checkerboard 8x8 matrix using the tile function (★☆☆)\n",
        "Z = np.tile( np.array([[0,1],[1,0]]), (4,4))\n",
        "print(Z)"
      ],
      "metadata": {
        "colab": {
          "base_uri": "https://localhost:8080/"
        },
        "id": "UzIHnKgjWo9R",
        "outputId": "10587364-487b-4904-f03e-01e0d4ec7f4e"
      },
      "execution_count": null,
      "outputs": [
        {
          "output_type": "stream",
          "name": "stdout",
          "text": [
            "[[0 1 0 1 0 1 0 1]\n",
            " [1 0 1 0 1 0 1 0]\n",
            " [0 1 0 1 0 1 0 1]\n",
            " [1 0 1 0 1 0 1 0]\n",
            " [0 1 0 1 0 1 0 1]\n",
            " [1 0 1 0 1 0 1 0]\n",
            " [0 1 0 1 0 1 0 1]\n",
            " [1 0 1 0 1 0 1 0]]\n"
          ]
        }
      ]
    },
    {
      "cell_type": "code",
      "source": [
        "# 22. Normalize a 5x5 random matrix (★☆☆)\n",
        "Z = np.random.random((5,5))\n",
        "Z = (Z - np.mean (Z)) / (np.std (Z))\n",
        "print(Z)"
      ],
      "metadata": {
        "colab": {
          "base_uri": "https://localhost:8080/"
        },
        "id": "y1Q-3haPWo6o",
        "outputId": "456af41f-edc4-4b7b-8562-bf9c05adb7c9"
      },
      "execution_count": null,
      "outputs": [
        {
          "output_type": "stream",
          "name": "stdout",
          "text": [
            "[[-0.8720347  -0.3274759   1.50468504  0.51778311 -0.85120414]\n",
            " [-1.01286769  1.40572229 -0.68389573  1.49931582 -0.65323631]\n",
            " [-1.06820499 -0.06346668 -1.17504261 -0.40747119  1.33159019]\n",
            " [-0.85790978  0.95900506 -0.8388317  -0.08066555  1.51531613]\n",
            " [-1.23612239  1.47144186  1.03594297 -0.88727705 -0.22509606]]\n"
          ]
        }
      ]
    },
    {
      "cell_type": "code",
      "source": [
        "# 23. Create a custom dtype that describes a color as four unsigned bytes (RGBA) (★☆☆)\n",
        "color = np.dtype([(\"r\", np.ubyte, 1),\n",
        "                  (\"g\", np.ubyte, 1),\n",
        "                  (\"b\", np.ubyte, 1),\n",
        "                  (\"a\", np.ubyte, 1)])"
      ],
      "metadata": {
        "colab": {
          "base_uri": "https://localhost:8080/"
        },
        "id": "ECk-5o_8Wo4X",
        "outputId": "7c58138f-dc38-4250-b912-53da0edb9061"
      },
      "execution_count": null,
      "outputs": [
        {
          "output_type": "stream",
          "name": "stderr",
          "text": [
            "<ipython-input-23-196913c491d4>:2: FutureWarning: Passing (type, 1) or '1type' as a synonym of type is deprecated; in a future version of numpy, it will be understood as (type, (1,)) / '(1,)type'.\n",
            "  color = np.dtype([(\"r\", np.ubyte, 1),\n"
          ]
        }
      ]
    },
    {
      "cell_type": "code",
      "source": [
        "# 24. Multiply a 5x3 matrix by a 3x2 matrix (real matrix product) (★☆☆)\n",
        "Z = np.dot(np.ones((5,3)), np.ones((3,2)))\n",
        "print(Z)\n",
        "\n",
        "# Alternative solution, in Python 3.5 and above\n",
        "Z = np.ones((5,3)) @ np.ones((3,2))"
      ],
      "metadata": {
        "colab": {
          "base_uri": "https://localhost:8080/"
        },
        "id": "SY97qlnSWo1s",
        "outputId": "031d5493-1996-4ca5-b9f2-6b732712117b"
      },
      "execution_count": null,
      "outputs": [
        {
          "output_type": "stream",
          "name": "stdout",
          "text": [
            "[[3. 3.]\n",
            " [3. 3.]\n",
            " [3. 3.]\n",
            " [3. 3.]\n",
            " [3. 3.]]\n"
          ]
        }
      ]
    },
    {
      "cell_type": "code",
      "source": [
        "# 25. Given a 1D array, negate all elements which are between 3 and 8, in place. (★☆☆)\n",
        "### Author: Evgeni Burovski####\n",
        "\n",
        "Z = np.arange(11)\n",
        "Z[(3 < Z) & (Z <= 8)] *= -1\n",
        "print(Z)"
      ],
      "metadata": {
        "colab": {
          "base_uri": "https://localhost:8080/"
        },
        "id": "WcqVjFlhWozI",
        "outputId": "e8d1be96-9cd6-4456-91c6-83e026c48794"
      },
      "execution_count": null,
      "outputs": [
        {
          "output_type": "stream",
          "name": "stdout",
          "text": [
            "[ 0  1  2  3 -4 -5 -6 -7 -8  9 10]\n"
          ]
        }
      ]
    },
    {
      "cell_type": "code",
      "source": [
        "# 26. What is the output of the following script? (★☆☆)\n",
        "#### Author: Jake VanderPlas#####\n",
        "\n",
        "print(sum(range(5),-1))\n",
        "from numpy import *\n",
        "print(sum(range(5),-1))"
      ],
      "metadata": {
        "colab": {
          "base_uri": "https://localhost:8080/"
        },
        "id": "UOkOHCCLWowk",
        "outputId": "8725da30-fb09-4a78-8f20-de43774ff577"
      },
      "execution_count": null,
      "outputs": [
        {
          "output_type": "stream",
          "name": "stdout",
          "text": [
            "9\n",
            "10\n"
          ]
        }
      ]
    },
    {
      "cell_type": "code",
      "source": [
        "# # 27. Consider an integer vector Z, which of these expressions are legal? (★☆☆)\n",
        "# # Z**Z\n",
        "# 2 << Z >> 2\n",
        "# Z <- Z\n",
        "# 1j*Z\n",
        "# Z/1/1\n",
        "# Z<Z>Z"
      ],
      "metadata": {
        "id": "dU7OI_NzWouO"
      },
      "execution_count": null,
      "outputs": []
    },
    {
      "cell_type": "code",
      "source": [
        "# 28. What are the result of the following expressions?\n",
        "print(np.array(0) / np.array(0))\n",
        "print(np.array(0) // np.array(0))\n",
        "print(np.array([np.nan]).astype(int).astype(float))"
      ],
      "metadata": {
        "colab": {
          "base_uri": "https://localhost:8080/"
        },
        "id": "5qgw5nTPWors",
        "outputId": "9d02723c-76c5-4a80-fd17-ca029125f37a"
      },
      "execution_count": null,
      "outputs": [
        {
          "output_type": "stream",
          "name": "stdout",
          "text": [
            "nan\n",
            "0\n",
            "[-9.22337204e+18]\n"
          ]
        },
        {
          "output_type": "stream",
          "name": "stderr",
          "text": [
            "<ipython-input-31-4e159d6ee109>:2: RuntimeWarning: invalid value encountered in true_divide\n",
            "  print(np.array(0) / np.array(0))\n",
            "<ipython-input-31-4e159d6ee109>:3: RuntimeWarning: divide by zero encountered in floor_divide\n",
            "  print(np.array(0) // np.array(0))\n"
          ]
        }
      ]
    },
    {
      "cell_type": "code",
      "source": [
        "# 29. How to round away from zero a float array ? (★☆☆)\n",
        "##### Author: Charles R Harris######\n",
        "\n",
        "Z = np.random.uniform(-10,+10,10)\n",
        "print (np.copysign(np.ceil(np.abs(Z)), Z))"
      ],
      "metadata": {
        "colab": {
          "base_uri": "https://localhost:8080/"
        },
        "id": "rhgrQ6RHWopN",
        "outputId": "4e1d7831-0a1d-4f71-a5de-97021e46d576"
      },
      "execution_count": null,
      "outputs": [
        {
          "output_type": "stream",
          "name": "stdout",
          "text": [
            "[-9. -7. -6. -8.  2.  2. -7. -2.  3. -8.]\n"
          ]
        }
      ]
    },
    {
      "cell_type": "code",
      "source": [
        "# 30. How to find common values between two arrays? (★☆☆)\n",
        "Z1 = np.random.randint(0,10,10)\n",
        "Z2 = np.random.randint(0,10,10)\n",
        "print(np.intersect1d(Z1,Z2))"
      ],
      "metadata": {
        "colab": {
          "base_uri": "https://localhost:8080/"
        },
        "id": "R2hGWQiLWom3",
        "outputId": "398278e3-2546-4abd-decf-97862738af30"
      },
      "execution_count": null,
      "outputs": [
        {
          "output_type": "stream",
          "name": "stdout",
          "text": [
            "[1 2 3 6 7 9]\n"
          ]
        }
      ]
    },
    {
      "cell_type": "code",
      "source": [
        "# 31. How to ignore all numpy warnings (not recommended)? (★☆☆)[not understand]\n",
        "# Suicide mode on\n",
        "# defaults = np.seterr(all=\"ignore\")\n",
        "# Z = np.ones(1) / 0\n",
        "\n",
        "# # Back to sanity\n",
        "# _ = np.seterr(**defaults)\n",
        "\n",
        "# An equivalent way, with a context manager:\n",
        "\n",
        "# with np.errstate(divide='ignore'):\n",
        "#     Z = np.ones(1) / 0"
      ],
      "metadata": {
        "id": "xW9o_CHoWokL"
      },
      "execution_count": null,
      "outputs": []
    },
    {
      "cell_type": "code",
      "source": [
        "# 32. Is the following expressions true? (★☆☆)\n",
        "np.sqrt(-1) == np.emath.sqrt(-1)"
      ],
      "metadata": {
        "colab": {
          "base_uri": "https://localhost:8080/"
        },
        "id": "6zf5a4LZWoho",
        "outputId": "b6e2c66f-a0db-41ef-d254-645fa7bc41d2"
      },
      "execution_count": null,
      "outputs": [
        {
          "output_type": "stream",
          "name": "stderr",
          "text": [
            "<ipython-input-49-52f0ace13fa8>:2: RuntimeWarning: invalid value encountered in sqrt\n",
            "  np.sqrt(-1) == np.emath.sqrt(-1)\n"
          ]
        },
        {
          "output_type": "execute_result",
          "data": {
            "text/plain": [
              "False"
            ]
          },
          "metadata": {},
          "execution_count": 49
        }
      ]
    },
    {
      "cell_type": "code",
      "source": [
        "# 33. How to get the dates of yesterday, today and tomorrow? (★☆☆)\n",
        "yesterday = np.datetime64('today', 'D') - np.timedelta64(1, 'D')\n",
        "today     = np.datetime64('today', 'D')\n",
        "tomorrow  = np.datetime64('today', 'D') + np.timedelta64(1, 'D')\n"
      ],
      "metadata": {
        "id": "J_g_AKvaWofE"
      },
      "execution_count": null,
      "outputs": []
    },
    {
      "cell_type": "code",
      "source": [
        "# 34. How to get all the dates corresponding to the month of July 2016? (★★☆)\n",
        "Z = np.arange('2016-07', '2016-08', dtype='datetime64[D]')\n",
        "print(Z)"
      ],
      "metadata": {
        "colab": {
          "base_uri": "https://localhost:8080/"
        },
        "id": "LB4QrIBsWocO",
        "outputId": "deafa380-4802-4235-cc3a-c8f1b9c24094"
      },
      "execution_count": null,
      "outputs": [
        {
          "output_type": "stream",
          "name": "stdout",
          "text": [
            "['2016-07-01' '2016-07-02' '2016-07-03' '2016-07-04' '2016-07-05'\n",
            " '2016-07-06' '2016-07-07' '2016-07-08' '2016-07-09' '2016-07-10'\n",
            " '2016-07-11' '2016-07-12' '2016-07-13' '2016-07-14' '2016-07-15'\n",
            " '2016-07-16' '2016-07-17' '2016-07-18' '2016-07-19' '2016-07-20'\n",
            " '2016-07-21' '2016-07-22' '2016-07-23' '2016-07-24' '2016-07-25'\n",
            " '2016-07-26' '2016-07-27' '2016-07-28' '2016-07-29' '2016-07-30'\n",
            " '2016-07-31']\n"
          ]
        }
      ]
    },
    {
      "cell_type": "code",
      "source": [
        "# 35. How to compute ((A+B)*(-A/2)) in place (without copy)? (★★☆)\n",
        "A = np.ones(3)*1\n",
        "B = np.ones(3)*2\n",
        "C = np.ones(3)*3\n",
        "np.add(A,B,out=B)\n",
        "np.divide(A,2,out=A)\n",
        "np.negative(A,out=A)\n",
        "np.multiply(A,B,out=A)"
      ],
      "metadata": {
        "colab": {
          "base_uri": "https://localhost:8080/"
        },
        "id": "5SFinzhuWoZZ",
        "outputId": "cf17ea16-8a5b-4cc2-b3a2-5b6ac1f106ce"
      },
      "execution_count": null,
      "outputs": [
        {
          "output_type": "execute_result",
          "data": {
            "text/plain": [
              "array([-1.5, -1.5, -1.5])"
            ]
          },
          "metadata": {},
          "execution_count": 52
        }
      ]
    },
    {
      "cell_type": "code",
      "source": [
        "# 36. Extract the integer part of a random array using 5 different methods (★★☆)\n",
        "Z = np.random.uniform(0,10,10)\n",
        "\n",
        "print (Z - Z%1)\n",
        "print (np.floor(Z))\n",
        "print (np.ceil(Z)-1)\n",
        "print (Z.astype(int))\n",
        "print (np.trunc(Z))"
      ],
      "metadata": {
        "colab": {
          "base_uri": "https://localhost:8080/"
        },
        "id": "ubLyX9b_WoWa",
        "outputId": "b6b5becd-172b-4370-8fca-95a496d4511a"
      },
      "execution_count": null,
      "outputs": [
        {
          "output_type": "stream",
          "name": "stdout",
          "text": [
            "[0. 0. 0. 4. 4. 5. 7. 6. 8. 2.]\n",
            "[0. 0. 0. 4. 4. 5. 7. 6. 8. 2.]\n",
            "[0. 0. 0. 4. 4. 5. 7. 6. 8. 2.]\n",
            "[0 0 0 4 4 5 7 6 8 2]\n",
            "[0. 0. 0. 4. 4. 5. 7. 6. 8. 2.]\n"
          ]
        }
      ]
    },
    {
      "cell_type": "code",
      "source": [
        "# 37. Create a 5x5 matrix with row values ranging from 0 to 4 (★★☆)\n",
        "Z = np.zeros((5,5))\n",
        "Z += np.arange(5)\n",
        "print(Z)"
      ],
      "metadata": {
        "colab": {
          "base_uri": "https://localhost:8080/"
        },
        "id": "lTKsB4eEWoTo",
        "outputId": "2ab67bc8-b168-4245-cbac-fc6591ff72eb"
      },
      "execution_count": null,
      "outputs": [
        {
          "output_type": "stream",
          "name": "stdout",
          "text": [
            "[[0. 1. 2. 3. 4.]\n",
            " [0. 1. 2. 3. 4.]\n",
            " [0. 1. 2. 3. 4.]\n",
            " [0. 1. 2. 3. 4.]\n",
            " [0. 1. 2. 3. 4.]]\n"
          ]
        }
      ]
    },
    {
      "cell_type": "code",
      "source": [
        "# 38. Consider a generator function that generates 10 integers and use it to build an array (★☆☆)\n",
        "def generate():\n",
        "    for x in range(10):\n",
        "        yield x\n",
        "Z = np.fromiter(generate(),dtype=float,count=-1)\n",
        "print(Z)"
      ],
      "metadata": {
        "colab": {
          "base_uri": "https://localhost:8080/"
        },
        "id": "dKcod37QWoRE",
        "outputId": "8bf1f757-489a-4cea-d9fa-bbb1e0c66633"
      },
      "execution_count": null,
      "outputs": [
        {
          "output_type": "stream",
          "name": "stdout",
          "text": [
            "[0. 1. 2. 3. 4. 5. 6. 7. 8. 9.]\n"
          ]
        }
      ]
    },
    {
      "cell_type": "code",
      "source": [
        "# 39. Create a vector of size 10 with values ranging from 0 to 1, both excluded (★★☆)\n",
        "Z = np.linspace(0,1,11,endpoint=False)[1:]\n",
        "print(Z)"
      ],
      "metadata": {
        "colab": {
          "base_uri": "https://localhost:8080/"
        },
        "id": "K9ynt0SGWoOg",
        "outputId": "0198712e-e446-4eca-c643-88e031231a76"
      },
      "execution_count": null,
      "outputs": [
        {
          "output_type": "stream",
          "name": "stdout",
          "text": [
            "[0.09090909 0.18181818 0.27272727 0.36363636 0.45454545 0.54545455\n",
            " 0.63636364 0.72727273 0.81818182 0.90909091]\n"
          ]
        }
      ]
    },
    {
      "cell_type": "code",
      "source": [
        "# 40. Create a random vector of size 10 and sort it (★★☆)\n",
        "Z = np.random.random(10)\n",
        "Z.sort()\n",
        "print(Z)"
      ],
      "metadata": {
        "colab": {
          "base_uri": "https://localhost:8080/"
        },
        "id": "zq8yv24zWoL-",
        "outputId": "caa6a421-82f4-4306-b351-1ac187d92c40"
      },
      "execution_count": null,
      "outputs": [
        {
          "output_type": "stream",
          "name": "stdout",
          "text": [
            "[0.07442639 0.36263291 0.412612   0.42386778 0.62349607 0.66249358\n",
            " 0.73074897 0.78524207 0.8178192  0.86505957]\n"
          ]
        }
      ]
    },
    {
      "cell_type": "code",
      "source": [
        "# 41. How to sum a small array faster than np.sum? (★★☆)\n",
        "##### Author: Evgeni Burovski####\n",
        "\n",
        "Z = np.arange(10)\n",
        "np.add.reduce(Z)"
      ],
      "metadata": {
        "colab": {
          "base_uri": "https://localhost:8080/"
        },
        "id": "jv7nuzS1WoJY",
        "outputId": "b556838c-7dc4-4e4a-ee17-5ef15c794974"
      },
      "execution_count": null,
      "outputs": [
        {
          "output_type": "execute_result",
          "data": {
            "text/plain": [
              "45"
            ]
          },
          "metadata": {},
          "execution_count": 58
        }
      ]
    },
    {
      "cell_type": "code",
      "source": [
        "# 42. Consider two random array A and B, check if they are equal (★★☆)\n",
        "A = np.random.randint(0,2,5)\n",
        "B = np.random.randint(0,2,5)\n",
        "\n",
        "# Assuming identical shape of the arrays and a tolerance for the comparison of values\n",
        "equal = np.allclose(A,B)\n",
        "print(equal)\n",
        "\n",
        "# Checking both the shape and the element values, no tolerance (values have to be exactly equal)\n",
        "equal = np.array_equal(A,B)\n",
        "print(equal)"
      ],
      "metadata": {
        "colab": {
          "base_uri": "https://localhost:8080/"
        },
        "id": "Q9BqE_G_WoGt",
        "outputId": "398e78d7-c1a4-42b8-a501-6577d2905212"
      },
      "execution_count": null,
      "outputs": [
        {
          "output_type": "stream",
          "name": "stdout",
          "text": [
            "False\n",
            "False\n"
          ]
        }
      ]
    },
    {
      "cell_type": "code",
      "source": [
        "# 43. Make an array immutable (read-only) (★★☆)\n",
        "# Z = np.zeros(10)\n",
        "# Z.flags.writeable = False\n",
        "# Z[0] = 1"
      ],
      "metadata": {
        "id": "Bve_JispWoEK"
      },
      "execution_count": null,
      "outputs": []
    },
    {
      "cell_type": "code",
      "source": [
        "# 44. Consider a random 10x2 matrix representing cartesian coordinates, convert them to polar coordinates (★★☆)\n",
        "Z = np.random.random((10,2))\n",
        "X,Y = Z[:,0], Z[:,1]\n",
        "R = np.sqrt(X**2+Y**2)\n",
        "T = np.arctan2(Y,X)\n",
        "print(R)\n",
        "print(T)"
      ],
      "metadata": {
        "colab": {
          "base_uri": "https://localhost:8080/"
        },
        "id": "_Q67s44WWoBs",
        "outputId": "3721685d-940e-4964-ed59-d34222ec6b3f"
      },
      "execution_count": null,
      "outputs": [
        {
          "output_type": "stream",
          "name": "stdout",
          "text": [
            "[0.99126585 0.79537259 0.5197261  0.91231054 1.07631751 0.88688984\n",
            " 1.04063477 1.08008195 0.94110793 1.08906852]\n",
            "[0.15501181 1.41915204 1.00975298 0.77060248 0.53595652 0.79415131\n",
            " 0.32446166 0.45438165 0.12011371 0.84688468]\n"
          ]
        }
      ]
    },
    {
      "cell_type": "code",
      "source": [
        "# 45. Create random vector of size 10 and replace the maximum value by 0 (★★☆)\n",
        "Z = np.random.random(10)\n",
        "Z[Z.argmax()] = 0\n",
        "print(Z)"
      ],
      "metadata": {
        "colab": {
          "base_uri": "https://localhost:8080/"
        },
        "id": "zopAznk0Wn_B",
        "outputId": "e4aa6a18-cf5e-48ab-e652-afaecefdef37"
      },
      "execution_count": null,
      "outputs": [
        {
          "output_type": "stream",
          "name": "stdout",
          "text": [
            "[0.00159222 0.20454517 0.57477097 0.74445652 0.58297825 0.44788661\n",
            " 0.42741933 0.05610169 0.         0.86467571]\n"
          ]
        }
      ]
    },
    {
      "cell_type": "code",
      "source": [
        "# 46. Create a structured array with x and y coordinates covering the [0,1]x[0,1] area (★★☆)\n",
        "Z = np.zeros((5,5), [('x',float),('y',float)])\n",
        "Z['x'], Z['y'] = np.meshgrid(np.linspace(0,1,5),\n",
        "                             np.linspace(0,1,5))\n",
        "print(Z)"
      ],
      "metadata": {
        "colab": {
          "base_uri": "https://localhost:8080/"
        },
        "id": "8VCs4QnkWn8X",
        "outputId": "8f6bb1f0-9279-493d-9815-8912166d011a"
      },
      "execution_count": null,
      "outputs": [
        {
          "output_type": "stream",
          "name": "stdout",
          "text": [
            "[[(0.  , 0.  ) (0.25, 0.  ) (0.5 , 0.  ) (0.75, 0.  ) (1.  , 0.  )]\n",
            " [(0.  , 0.25) (0.25, 0.25) (0.5 , 0.25) (0.75, 0.25) (1.  , 0.25)]\n",
            " [(0.  , 0.5 ) (0.25, 0.5 ) (0.5 , 0.5 ) (0.75, 0.5 ) (1.  , 0.5 )]\n",
            " [(0.  , 0.75) (0.25, 0.75) (0.5 , 0.75) (0.75, 0.75) (1.  , 0.75)]\n",
            " [(0.  , 1.  ) (0.25, 1.  ) (0.5 , 1.  ) (0.75, 1.  ) (1.  , 1.  )]]\n"
          ]
        }
      ]
    },
    {
      "cell_type": "code",
      "source": [
        "# 47. Given two arrays, X and Y, construct the Cauchy matrix C (Cij =1/(xi - yj))\n",
        "##### Author: Evgeni Burovski#####\n",
        "\n",
        "X = np.arange(8)\n",
        "Y = X + 0.5\n",
        "C = 1.0 / np.subtract.outer(X, Y)\n",
        "print(np.linalg.det(C))"
      ],
      "metadata": {
        "colab": {
          "base_uri": "https://localhost:8080/"
        },
        "id": "LQ-UL39lWn5s",
        "outputId": "839f6467-8280-4e8f-ce3a-dcd2668781b0"
      },
      "execution_count": null,
      "outputs": [
        {
          "output_type": "stream",
          "name": "stdout",
          "text": [
            "3638.163637117973\n"
          ]
        }
      ]
    },
    {
      "cell_type": "code",
      "source": [
        "# 48. Print the minimum and maximum representable value for each numpy scalar type (★★☆)\n",
        "for dtype in [np.int8, np.int32, np.int64]:\n",
        "   print(np.iinfo(dtype).min)\n",
        "   print(np.iinfo(dtype).max)\n",
        "for dtype in [np.float32, np.float64]:\n",
        "   print(np.finfo(dtype).min)\n",
        "   print(np.finfo(dtype).max)\n",
        "   print(np.finfo(dtype).eps)"
      ],
      "metadata": {
        "colab": {
          "base_uri": "https://localhost:8080/"
        },
        "id": "-ZPGUjDOWn3c",
        "outputId": "f3f48abe-f183-40a5-811f-6ee02e271ac6"
      },
      "execution_count": null,
      "outputs": [
        {
          "output_type": "stream",
          "name": "stdout",
          "text": [
            "-128\n",
            "127\n",
            "-2147483648\n",
            "2147483647\n",
            "-9223372036854775808\n",
            "9223372036854775807\n",
            "-3.4028235e+38\n",
            "3.4028235e+38\n",
            "1.1920929e-07\n",
            "-1.7976931348623157e+308\n",
            "1.7976931348623157e+308\n",
            "2.220446049250313e-16\n"
          ]
        }
      ]
    },
    {
      "cell_type": "code",
      "source": [
        "# 49. How to print all the values of an array? (★★☆)[doubt??????????]\n",
        "# np.set_printoptions(threshold=np.nan)\n",
        "Z = np.zeros((16,16))\n",
        "print(Z)"
      ],
      "metadata": {
        "colab": {
          "base_uri": "https://localhost:8080/"
        },
        "id": "jItWwTPZWn0y",
        "outputId": "8b8396d3-2e2d-4c7a-e817-6085a36f6015"
      },
      "execution_count": null,
      "outputs": [
        {
          "output_type": "stream",
          "name": "stdout",
          "text": [
            "[[0. 0. 0. 0. 0. 0. 0. 0. 0. 0. 0. 0. 0. 0. 0. 0.]\n",
            " [0. 0. 0. 0. 0. 0. 0. 0. 0. 0. 0. 0. 0. 0. 0. 0.]\n",
            " [0. 0. 0. 0. 0. 0. 0. 0. 0. 0. 0. 0. 0. 0. 0. 0.]\n",
            " [0. 0. 0. 0. 0. 0. 0. 0. 0. 0. 0. 0. 0. 0. 0. 0.]\n",
            " [0. 0. 0. 0. 0. 0. 0. 0. 0. 0. 0. 0. 0. 0. 0. 0.]\n",
            " [0. 0. 0. 0. 0. 0. 0. 0. 0. 0. 0. 0. 0. 0. 0. 0.]\n",
            " [0. 0. 0. 0. 0. 0. 0. 0. 0. 0. 0. 0. 0. 0. 0. 0.]\n",
            " [0. 0. 0. 0. 0. 0. 0. 0. 0. 0. 0. 0. 0. 0. 0. 0.]\n",
            " [0. 0. 0. 0. 0. 0. 0. 0. 0. 0. 0. 0. 0. 0. 0. 0.]\n",
            " [0. 0. 0. 0. 0. 0. 0. 0. 0. 0. 0. 0. 0. 0. 0. 0.]\n",
            " [0. 0. 0. 0. 0. 0. 0. 0. 0. 0. 0. 0. 0. 0. 0. 0.]\n",
            " [0. 0. 0. 0. 0. 0. 0. 0. 0. 0. 0. 0. 0. 0. 0. 0.]\n",
            " [0. 0. 0. 0. 0. 0. 0. 0. 0. 0. 0. 0. 0. 0. 0. 0.]\n",
            " [0. 0. 0. 0. 0. 0. 0. 0. 0. 0. 0. 0. 0. 0. 0. 0.]\n",
            " [0. 0. 0. 0. 0. 0. 0. 0. 0. 0. 0. 0. 0. 0. 0. 0.]\n",
            " [0. 0. 0. 0. 0. 0. 0. 0. 0. 0. 0. 0. 0. 0. 0. 0.]]\n"
          ]
        }
      ]
    },
    {
      "cell_type": "code",
      "source": [
        "# 50. How to find the closest value (to a given scalar) in a vector? (★★☆)\n",
        "Z = np.arange(100)\n",
        "v = np.random.uniform(0,100)\n",
        "index = (np.abs(Z-v)).argmin()\n",
        "print(Z[index])"
      ],
      "metadata": {
        "colab": {
          "base_uri": "https://localhost:8080/"
        },
        "id": "iTEYHfFgWnyG",
        "outputId": "1fdbf847-f800-4c17-d218-6e47fc02fed0"
      },
      "execution_count": null,
      "outputs": [
        {
          "output_type": "stream",
          "name": "stdout",
          "text": [
            "16\n"
          ]
        }
      ]
    },
    {
      "cell_type": "code",
      "source": [
        "# 51. Create a structured array representing a position (x,y) and a color (r,g,b) (★★☆)\n",
        "Z = np.zeros(10, [ ('position', [ ('x', float, 1),\n",
        "                                  ('y', float, 1)]),\n",
        "                   ('color',    [ ('r', float, 1),\n",
        "                                  ('g', float, 1),\n",
        "                                  ('b', float, 1)])])\n",
        "print(Z)"
      ],
      "metadata": {
        "colab": {
          "base_uri": "https://localhost:8080/"
        },
        "id": "oCE0hXKcWnvf",
        "outputId": "482e882b-bd74-4408-8827-753c31d1843b"
      },
      "execution_count": null,
      "outputs": [
        {
          "output_type": "stream",
          "name": "stdout",
          "text": [
            "[((0., 0.), (0., 0., 0.)) ((0., 0.), (0., 0., 0.))\n",
            " ((0., 0.), (0., 0., 0.)) ((0., 0.), (0., 0., 0.))\n",
            " ((0., 0.), (0., 0., 0.)) ((0., 0.), (0., 0., 0.))\n",
            " ((0., 0.), (0., 0., 0.)) ((0., 0.), (0., 0., 0.))\n",
            " ((0., 0.), (0., 0., 0.)) ((0., 0.), (0., 0., 0.))]\n"
          ]
        },
        {
          "output_type": "stream",
          "name": "stderr",
          "text": [
            "<ipython-input-70-dc9a822256a9>:2: FutureWarning: Passing (type, 1) or '1type' as a synonym of type is deprecated; in a future version of numpy, it will be understood as (type, (1,)) / '(1,)type'.\n",
            "  Z = np.zeros(10, [ ('position', [ ('x', float, 1),\n"
          ]
        }
      ]
    },
    {
      "cell_type": "code",
      "source": [
        "# 52. Consider a random vector with shape (100,2) representing coordinates, find point by point distances (★★☆)\n",
        "Z = np.random.random((10,2))\n",
        "X,Y = np.atleast_2d(Z[:,0], Z[:,1])\n",
        "D = np.sqrt( (X-X.T)**2 + (Y-Y.T)**2)\n",
        "print(D)\n",
        "\n",
        "# Much faster with scipy\n",
        "import scipy\n",
        "# Thanks Gavin Heverly-Coulson (#issue 1)\n",
        "import scipy.spatial\n",
        "\n",
        "Z = np.random.random((10,2))\n",
        "D = scipy.spatial.distance.cdist(Z,Z)\n",
        "print(D)"
      ],
      "metadata": {
        "colab": {
          "base_uri": "https://localhost:8080/"
        },
        "id": "NFrznsx_WntD",
        "outputId": "c0b45190-6dd5-4857-ba25-76232132d87b"
      },
      "execution_count": null,
      "outputs": [
        {
          "output_type": "stream",
          "name": "stdout",
          "text": [
            "[[0.         0.37641196 0.46396194 0.73771266 0.87870081 0.66114067\n",
            "  0.45556465 0.21971657 0.69814157 0.14342622]\n",
            " [0.37641196 0.         0.32778985 0.48749061 0.59007521 0.48257043\n",
            "  0.82783396 0.59125485 0.33038727 0.29799004]\n",
            " [0.46396194 0.32778985 0.         0.804746   0.88615433 0.81023842\n",
            "  0.8818463  0.60553081 0.55780802 0.32076919]\n",
            " [0.73771266 0.48749061 0.804746   0.         0.1571812  0.14166131\n",
            "  1.09742485 0.94613703 0.34678716 0.73494823]\n",
            " [0.87870081 0.59007521 0.88615433 0.1571812  0.         0.29249003\n",
            "  1.252103   1.09155678 0.35878017 0.86131202]\n",
            " [0.66114067 0.48257043 0.81023842 0.14166131 0.29249003 0.\n",
            "  0.98418374 0.85732499 0.43907762 0.68406358]\n",
            " [0.45556465 0.82783396 0.8818463  1.09742485 1.252103   0.98418374\n",
            "  0.         0.27741534 1.13712912 0.57820067]\n",
            " [0.21971657 0.59125485 0.60553081 0.94613703 1.09155678 0.85732499\n",
            "  0.27741534 0.         0.91668356 0.31323126]\n",
            " [0.69814157 0.33038727 0.55780802 0.34678716 0.35878017 0.43907762\n",
            "  1.13712912 0.91668356 0.         0.62820806]\n",
            " [0.14342622 0.29799004 0.32076919 0.73494823 0.86131202 0.68406358\n",
            "  0.57820067 0.31323126 0.62820806 0.        ]]\n",
            "[[0.         0.36342236 0.61439791 0.159019   0.21091553 0.83515238\n",
            "  0.53726642 0.45080952 0.34275229 0.29751015]\n",
            " [0.36342236 0.         0.74845913 0.46301287 0.15358894 0.8618119\n",
            "  0.85213423 0.10180223 0.02566402 0.65655304]\n",
            " [0.61439791 0.74845913 0.         0.748811   0.65906946 0.28719302\n",
            "  1.00815823 0.84490116 0.74880013 0.58507227]\n",
            " [0.159019   0.46301287 0.748811   0.         0.32653549 0.98497501\n",
            "  0.39419778 0.53160035 0.4386405  0.29538733]\n",
            " [0.21091553 0.15358894 0.65906946 0.32653549 0.         0.81778365\n",
            "  0.72061077 0.24728108 0.13504311 0.50298324]\n",
            " [0.83515238 0.8618119  0.28719302 0.98497501 0.81778365 0.\n",
            "  1.28064057 0.9433134  0.87037538 0.86158419]\n",
            " [0.53726642 0.85213423 1.00815823 0.39419778 0.72061077 1.28064057\n",
            "  0.         0.91033013 0.82704792 0.42372308]\n",
            " [0.45080952 0.10180223 0.84490116 0.53160035 0.24728108 0.9433134\n",
            "  0.91033013 0.         0.1132193  0.74737993]\n",
            " [0.34275229 0.02566402 0.74880013 0.4386405  0.13504311 0.87037538\n",
            "  0.82704792 0.1132193  0.         0.63743737]\n",
            " [0.29751015 0.65655304 0.58507227 0.29538733 0.50298324 0.86158419\n",
            "  0.42372308 0.74737993 0.63743737 0.        ]]\n"
          ]
        }
      ]
    },
    {
      "cell_type": "code",
      "source": [
        "# 53. How to convert a float (32 bits) array into an integer (32 bits) in place?\n",
        "Z = np.arange(10, dtype=np.float32)\n",
        "Z = Z.astype(np.int32, copy=False)\n",
        "print(Z)"
      ],
      "metadata": {
        "colab": {
          "base_uri": "https://localhost:8080/"
        },
        "id": "tSv-D5gmWnqf",
        "outputId": "56e5a4a8-2f06-496a-d7ae-92371f98c713"
      },
      "execution_count": null,
      "outputs": [
        {
          "output_type": "stream",
          "name": "stdout",
          "text": [
            "[0 1 2 3 4 5 6 7 8 9]\n"
          ]
        }
      ]
    },
    {
      "cell_type": "code",
      "source": [
        "# 54. How to read the following file? (★★☆)\n",
        "from io import StringIO\n",
        "\n",
        "# Fake file\n",
        "s = StringIO(\"\"\"1, 2, 3, 4, 5\\n\n",
        "                6,  ,  , 7, 8\\n\n",
        "                 ,  , 9,10,11\\n\"\"\")\n",
        "Z = np.genfromtxt(s, delimiter=\",\", dtype=np.int)\n",
        "print(Z)"
      ],
      "metadata": {
        "colab": {
          "base_uri": "https://localhost:8080/"
        },
        "id": "CPQTQO3OWnoK",
        "outputId": "499aa13a-e4c0-4040-aa1a-ffd704b8fa03"
      },
      "execution_count": null,
      "outputs": [
        {
          "output_type": "stream",
          "name": "stdout",
          "text": [
            "[[ 1  2  3  4  5]\n",
            " [ 6 -1 -1  7  8]\n",
            " [-1 -1  9 10 11]]\n"
          ]
        },
        {
          "output_type": "stream",
          "name": "stderr",
          "text": [
            "<ipython-input-73-0af6546de3a6>:8: DeprecationWarning: `np.int` is a deprecated alias for the builtin `int`. To silence this warning, use `int` by itself. Doing this will not modify any behavior and is safe. When replacing `np.int`, you may wish to use e.g. `np.int64` or `np.int32` to specify the precision. If you wish to review your current use, check the release note link for additional information.\n",
            "Deprecated in NumPy 1.20; for more details and guidance: https://numpy.org/devdocs/release/1.20.0-notes.html#deprecations\n",
            "  Z = np.genfromtxt(s, delimiter=\",\", dtype=np.int)\n"
          ]
        }
      ]
    },
    {
      "cell_type": "code",
      "source": [
        "# 55. What is the equivalent of enumerate for numpy arrays? (★★☆)\n",
        "Z = np.arange(9).reshape(3,3)\n",
        "for index, value in np.ndenumerate(Z):\n",
        "    print(index, value)\n",
        "for index in np.ndindex(Z.shape):\n",
        "    print(index, Z[index])"
      ],
      "metadata": {
        "colab": {
          "base_uri": "https://localhost:8080/"
        },
        "id": "DnuHXyEsdKyn",
        "outputId": "a128fc00-1023-4495-84ec-44be8f0eeb4b"
      },
      "execution_count": null,
      "outputs": [
        {
          "output_type": "stream",
          "name": "stdout",
          "text": [
            "(0, 0) 0\n",
            "(0, 1) 1\n",
            "(0, 2) 2\n",
            "(1, 0) 3\n",
            "(1, 1) 4\n",
            "(1, 2) 5\n",
            "(2, 0) 6\n",
            "(2, 1) 7\n",
            "(2, 2) 8\n",
            "(0, 0) 0\n",
            "(0, 1) 1\n",
            "(0, 2) 2\n",
            "(1, 0) 3\n",
            "(1, 1) 4\n",
            "(1, 2) 5\n",
            "(2, 0) 6\n",
            "(2, 1) 7\n",
            "(2, 2) 8\n"
          ]
        }
      ]
    },
    {
      "cell_type": "code",
      "source": [
        "# 56. Generate a generic 2D Gaussian-like array (★★☆)\n",
        "X, Y = np.meshgrid(np.linspace(-1,1,10), np.linspace(-1,1,10))\n",
        "D = np.sqrt(X*X+Y*Y)\n",
        "sigma, mu = 1.0, 0.0\n",
        "G = np.exp(-( (D-mu)**2 / ( 2.0 * sigma**2 ) ) )\n",
        "print(G)"
      ],
      "metadata": {
        "colab": {
          "base_uri": "https://localhost:8080/"
        },
        "id": "9QcYjpxKdKvE",
        "outputId": "b2dd5203-b751-4769-962e-36deb2a56b09"
      },
      "execution_count": null,
      "outputs": [
        {
          "output_type": "stream",
          "name": "stdout",
          "text": [
            "[[0.36787944 0.44822088 0.51979489 0.57375342 0.60279818 0.60279818\n",
            "  0.57375342 0.51979489 0.44822088 0.36787944]\n",
            " [0.44822088 0.54610814 0.63331324 0.69905581 0.73444367 0.73444367\n",
            "  0.69905581 0.63331324 0.54610814 0.44822088]\n",
            " [0.51979489 0.63331324 0.73444367 0.81068432 0.85172308 0.85172308\n",
            "  0.81068432 0.73444367 0.63331324 0.51979489]\n",
            " [0.57375342 0.69905581 0.81068432 0.89483932 0.9401382  0.9401382\n",
            "  0.89483932 0.81068432 0.69905581 0.57375342]\n",
            " [0.60279818 0.73444367 0.85172308 0.9401382  0.98773022 0.98773022\n",
            "  0.9401382  0.85172308 0.73444367 0.60279818]\n",
            " [0.60279818 0.73444367 0.85172308 0.9401382  0.98773022 0.98773022\n",
            "  0.9401382  0.85172308 0.73444367 0.60279818]\n",
            " [0.57375342 0.69905581 0.81068432 0.89483932 0.9401382  0.9401382\n",
            "  0.89483932 0.81068432 0.69905581 0.57375342]\n",
            " [0.51979489 0.63331324 0.73444367 0.81068432 0.85172308 0.85172308\n",
            "  0.81068432 0.73444367 0.63331324 0.51979489]\n",
            " [0.44822088 0.54610814 0.63331324 0.69905581 0.73444367 0.73444367\n",
            "  0.69905581 0.63331324 0.54610814 0.44822088]\n",
            " [0.36787944 0.44822088 0.51979489 0.57375342 0.60279818 0.60279818\n",
            "  0.57375342 0.51979489 0.44822088 0.36787944]]\n"
          ]
        }
      ]
    },
    {
      "cell_type": "code",
      "source": [
        "# 57. How to randomly place p elements in a 2D array? (★★☆)\n",
        "# Author: Divakar\n",
        "\n",
        "n = 10\n",
        "p = 3\n",
        "Z = np.zeros((n,n))\n",
        "np.put(Z, np.random.choice(range(n*n), p, replace=False),1)\n",
        "print(Z)"
      ],
      "metadata": {
        "colab": {
          "base_uri": "https://localhost:8080/"
        },
        "id": "Xbvz_T20dKtU",
        "outputId": "23b6ab56-5759-4529-bfb0-2e55f7c08d27"
      },
      "execution_count": null,
      "outputs": [
        {
          "output_type": "stream",
          "name": "stdout",
          "text": [
            "[[0. 0. 0. 0. 0. 0. 0. 0. 0. 1.]\n",
            " [0. 0. 0. 0. 0. 0. 0. 0. 0. 0.]\n",
            " [0. 0. 0. 0. 0. 0. 0. 0. 0. 0.]\n",
            " [0. 0. 0. 0. 0. 0. 0. 0. 0. 0.]\n",
            " [0. 0. 0. 0. 0. 0. 0. 0. 0. 0.]\n",
            " [0. 0. 1. 0. 0. 0. 0. 0. 0. 0.]\n",
            " [0. 0. 0. 0. 0. 0. 0. 0. 0. 0.]\n",
            " [0. 0. 0. 0. 0. 0. 0. 0. 0. 0.]\n",
            " [0. 1. 0. 0. 0. 0. 0. 0. 0. 0.]\n",
            " [0. 0. 0. 0. 0. 0. 0. 0. 0. 0.]]\n"
          ]
        }
      ]
    },
    {
      "cell_type": "code",
      "source": [
        "# 58. Subtract the mean of each row of a matrix (★★☆)\n",
        "# Author: Warren Weckesser\n",
        "\n",
        "X = np.random.rand(5, 10)\n",
        "\n",
        "# Recent versions of numpy\n",
        "Y = X - X.mean(axis=1, keepdims=True)\n",
        "\n",
        "# Older versions of numpy\n",
        "Y = X - X.mean(axis=1).reshape(-1, 1)\n",
        "\n",
        "print(Y)"
      ],
      "metadata": {
        "colab": {
          "base_uri": "https://localhost:8080/"
        },
        "id": "EaR_BL9edKoa",
        "outputId": "ca314dc3-5cad-4344-ec25-9c76e6f61af8"
      },
      "execution_count": null,
      "outputs": [
        {
          "output_type": "stream",
          "name": "stdout",
          "text": [
            "[[ 0.16798689  0.36058454  0.11034301  0.26604236 -0.09307916 -0.08723618\n",
            "  -0.33154265  0.2432798  -0.44621919 -0.19015942]\n",
            " [-0.05535157 -0.48985493  0.17658895  0.36507916  0.26702573 -0.28633817\n",
            "   0.1241594   0.21651851 -0.41720521  0.09937811]\n",
            " [ 0.16434788  0.19610215 -0.00878496  0.13256636  0.00741354  0.37459374\n",
            "   0.01899797 -0.36243304 -0.36299912 -0.15980451]\n",
            " [-0.33249878  0.33022987 -0.49750474  0.16306822  0.09878218  0.26842899\n",
            "   0.1153934   0.19275534 -0.58380696  0.24515247]\n",
            " [-0.28517226 -0.3271002   0.04852732  0.33116714 -0.21745679  0.15005502\n",
            "  -0.04702926  0.21453801  0.28855124 -0.15608022]]\n"
          ]
        }
      ]
    },
    {
      "cell_type": "code",
      "source": [
        "# 59. How to sort an array by the nth column? (★★☆)\n",
        "######## Author: Steve Tjoa########\n",
        "\n",
        "Z = np.random.randint(0,10,(3,3))\n",
        "print(Z)\n",
        "print(Z[Z[:,1].argsort()])"
      ],
      "metadata": {
        "colab": {
          "base_uri": "https://localhost:8080/"
        },
        "id": "NU-BmUw6dKjs",
        "outputId": "1f63b948-bd4e-4db8-f5c4-744e2fdca8f8"
      },
      "execution_count": null,
      "outputs": [
        {
          "output_type": "stream",
          "name": "stdout",
          "text": [
            "[[8 8 3]\n",
            " [6 1 0]\n",
            " [0 1 2]]\n",
            "[[6 1 0]\n",
            " [0 1 2]\n",
            " [8 8 3]]\n"
          ]
        }
      ]
    },
    {
      "cell_type": "code",
      "source": [
        "# 60. How to tell if a given 2D array has null columns? (★★☆)\n",
        "######## Author: Warren Weckesser#####\n",
        "\n",
        "Z = np.random.randint(0,3,(3,10))\n",
        "print((~Z.any(axis=0)).any())"
      ],
      "metadata": {
        "colab": {
          "base_uri": "https://localhost:8080/"
        },
        "id": "-_uGJW2HdKhX",
        "outputId": "bb964d3b-63ad-45e3-c241-c8cbfd101b4d"
      },
      "execution_count": null,
      "outputs": [
        {
          "output_type": "stream",
          "name": "stdout",
          "text": [
            "True\n"
          ]
        }
      ]
    },
    {
      "cell_type": "code",
      "source": [
        "# 61. Find the nearest value from a given value in an array (★★☆)\n",
        "Z = np.random.uniform(0,1,10)\n",
        "z = 0.5\n",
        "m = Z.flat[np.abs(Z - z).argmin()]\n",
        "print(m)"
      ],
      "metadata": {
        "colab": {
          "base_uri": "https://localhost:8080/"
        },
        "id": "6Bc3Zd0gdKex",
        "outputId": "1ae9e8d1-5c82-43bf-dfdf-2e3fd03d633a"
      },
      "execution_count": null,
      "outputs": [
        {
          "output_type": "stream",
          "name": "stdout",
          "text": [
            "0.5016509805754985\n"
          ]
        }
      ]
    },
    {
      "cell_type": "code",
      "source": [
        "# 62. Considering two arrays with shape (1,3) and (3,1), how to compute their sum using an iterator? (★★☆)\n",
        "A = np.arange(3).reshape(3,1)\n",
        "B = np.arange(3).reshape(1,3)\n",
        "it = np.nditer([A,B,None])\n",
        "for x,y,z in it: z[...] = x + y\n",
        "print(it.operands[2])"
      ],
      "metadata": {
        "colab": {
          "base_uri": "https://localhost:8080/"
        },
        "id": "QRx6o--VdKcI",
        "outputId": "2edca773-d6d7-42b2-dce0-692f480b1b63"
      },
      "execution_count": null,
      "outputs": [
        {
          "output_type": "stream",
          "name": "stdout",
          "text": [
            "[[0 1 2]\n",
            " [1 2 3]\n",
            " [2 3 4]]\n"
          ]
        }
      ]
    },
    {
      "cell_type": "code",
      "source": [
        "# 63. Create an array class that has a name attribute (★★☆)\n",
        "class NamedArray(np.ndarray):\n",
        "    def __new__(cls, array, name=\"no name\"):\n",
        "        obj = np.asarray(array).view(cls)\n",
        "        obj.name = name\n",
        "        return obj\n",
        "    def __array_finalize__(self, obj):\n",
        "        if obj is None: return\n",
        "        self.info = getattr(obj, 'name', \"no name\")\n",
        "\n",
        "Z = NamedArray(np.arange(10), \"range_10\")\n",
        "print (Z.name)"
      ],
      "metadata": {
        "colab": {
          "base_uri": "https://localhost:8080/"
        },
        "id": "jW9X5epjdKZ7",
        "outputId": "b5321077-a44e-4837-b832-c7c5e8ff9801"
      },
      "execution_count": null,
      "outputs": [
        {
          "output_type": "stream",
          "name": "stdout",
          "text": [
            "range_10\n"
          ]
        }
      ]
    },
    {
      "cell_type": "code",
      "source": [
        "# 64. Consider a given vector, how to add 1 to each element indexed by a second vector (be careful with repeated indices)? (★★★)\n",
        "########## Author: Brett Olsen#########\n",
        "\n",
        "Z = np.ones(10)\n",
        "I = np.random.randint(0,len(Z),20)\n",
        "Z += np.bincount(I, minlength=len(Z))\n",
        "print(Z)\n",
        "\n",
        "# Another solution\n",
        "# Author: Bartosz Telenczuk\n",
        "np.add.at(Z, I, 1)\n",
        "print(Z)"
      ],
      "metadata": {
        "colab": {
          "base_uri": "https://localhost:8080/"
        },
        "id": "4LgBSGTldKX1",
        "outputId": "3c794dac-4124-4808-eee3-fe4fc838678b"
      },
      "execution_count": null,
      "outputs": [
        {
          "output_type": "stream",
          "name": "stdout",
          "text": [
            "[1. 2. 2. 7. 2. 4. 2. 4. 4. 2.]\n",
            "[ 1.  3.  3. 13.  3.  7.  3.  7.  7.  3.]\n"
          ]
        }
      ]
    },
    {
      "cell_type": "code",
      "source": [
        "# 65. How to accumulate elements of a vector (X) to an array (F) based on an index list (I)? (★★★)\n",
        "########### Author: Alan G Isaac###########\n",
        "\n",
        "X = [1,2,3,4,5,6]\n",
        "I = [1,3,9,3,4,1]\n",
        "F = np.bincount(I,X)\n",
        "print(F)"
      ],
      "metadata": {
        "colab": {
          "base_uri": "https://localhost:8080/"
        },
        "id": "aMWjo4a0dKVJ",
        "outputId": "b4dafcb2-57a6-4abf-cbf8-403f7e6a174d"
      },
      "execution_count": null,
      "outputs": [
        {
          "output_type": "stream",
          "name": "stdout",
          "text": [
            "[0. 7. 0. 6. 5. 0. 0. 0. 0. 3.]\n"
          ]
        }
      ]
    },
    {
      "cell_type": "code",
      "source": [
        "# 66. Considering a (w,h,3) image of (dtype=ubyte), compute the number of unique colors (★★★)\n",
        "######### Author: Nadav Horesh##########\n",
        "\n",
        "w,h = 16,16\n",
        "I = np.random.randint(0,2,(h,w,3)).astype(np.ubyte)\n",
        "#Note that we should compute 256*256 first.\n",
        "#Otherwise numpy will only promote F.dtype to 'uint16' and overfolw will occur\n",
        "F = I[...,0]*(256*256) + I[...,1]*256 +I[...,2]\n",
        "n = len(np.unique(F))\n",
        "print(n)"
      ],
      "metadata": {
        "colab": {
          "base_uri": "https://localhost:8080/"
        },
        "id": "2rq72dkqdKSJ",
        "outputId": "539eec7b-c553-45b2-ef27-867d4662d921"
      },
      "execution_count": null,
      "outputs": [
        {
          "output_type": "stream",
          "name": "stdout",
          "text": [
            "8\n"
          ]
        }
      ]
    },
    {
      "cell_type": "code",
      "source": [
        "# 67. Considering a four dimensions array, how to get sum over the last two axis at once? (★★★)\n",
        "A = np.random.randint(0,10,(3,4,3,4))\n",
        "# solution by passing a tuple of axes (introduced in numpy 1.7.0)\n",
        "sum = A.sum(axis=(-2,-1))\n",
        "print(sum)\n",
        "# solution by flattening the last two dimensions into one\n",
        "# (useful for functions that don't accept tuples for axis argument)\n",
        "sum = A.reshape(A.shape[:-2] + (-1,)).sum(axis=-1)\n",
        "print(sum)"
      ],
      "metadata": {
        "colab": {
          "base_uri": "https://localhost:8080/"
        },
        "id": "hkqeMvEPdKP6",
        "outputId": "80207bf6-b282-43ec-c1ee-b8e49d6e284a"
      },
      "execution_count": null,
      "outputs": [
        {
          "output_type": "stream",
          "name": "stdout",
          "text": [
            "[[71 37 54 63]\n",
            " [43 66 54 45]\n",
            " [57 57 67 47]]\n",
            "[[71 37 54 63]\n",
            " [43 66 54 45]\n",
            " [57 57 67 47]]\n"
          ]
        }
      ]
    },
    {
      "cell_type": "code",
      "source": [
        "# 68. Considering a one-dimensional vector D, how to compute means of subsets of D using a vector S of same size describing subset indices? (★★★)\n",
        "########### Author: Jaime Fernández del Río#######\n",
        "\n",
        "D = np.random.uniform(0,1,100)\n",
        "S = np.random.randint(0,10,100)\n",
        "D_sums = np.bincount(S, weights=D)\n",
        "D_counts = np.bincount(S)\n",
        "D_means = D_sums / D_counts\n",
        "print(D_means)\n",
        "\n",
        "# Pandas solution as a reference due to more intuitive code\n",
        "import pandas as pd\n",
        "print(pd.Series(D).groupby(S).mean())"
      ],
      "metadata": {
        "colab": {
          "base_uri": "https://localhost:8080/"
        },
        "id": "0y2CeiCadKND",
        "outputId": "0992b0c1-e3ae-469a-ee34-005948646d0a"
      },
      "execution_count": null,
      "outputs": [
        {
          "output_type": "stream",
          "name": "stdout",
          "text": [
            "[0.50326023 0.43154472 0.51639062 0.4457534  0.71331821 0.6160355\n",
            " 0.3567616  0.62488307 0.48283218 0.59941019]\n",
            "0    0.503260\n",
            "1    0.431545\n",
            "2    0.516391\n",
            "3    0.445753\n",
            "4    0.713318\n",
            "5    0.616036\n",
            "6    0.356762\n",
            "7    0.624883\n",
            "8    0.482832\n",
            "9    0.599410\n",
            "dtype: float64\n"
          ]
        }
      ]
    },
    {
      "cell_type": "code",
      "source": [
        "# 69. How to get the diagonal of a dot product? (★★★)\n",
        "########### Author: Mathieu Blondel#########\n",
        "\n",
        "A = np.random.uniform(0,1,(5,5))\n",
        "B = np.random.uniform(0,1,(5,5))\n",
        "\n",
        "# Slow version\n",
        "np.diag(np.dot(A, B))\n",
        "\n",
        "# Fast version\n",
        "np.sum(A * B.T, axis=1)\n",
        "\n",
        "# Faster version\n",
        "np.einsum(\"ij,ji->i\", A, B)"
      ],
      "metadata": {
        "colab": {
          "base_uri": "https://localhost:8080/"
        },
        "id": "DDDnTLgjdKKl",
        "outputId": "0c8852d5-3758-46d8-f244-34ef23a9fbd2"
      },
      "execution_count": null,
      "outputs": [
        {
          "output_type": "execute_result",
          "data": {
            "text/plain": [
              "array([1.59929712, 0.73813303, 0.49901796, 1.11330244, 0.92173596])"
            ]
          },
          "metadata": {},
          "execution_count": 88
        }
      ]
    },
    {
      "cell_type": "code",
      "source": [
        "# 70. Consider the vector [1, 2, 3, 4, 5], how to build a new vector with 3 consecutive zeros interleaved between each value? (★★★)\n",
        "########### Author: Warren Weckesser#########\n",
        "\n",
        "Z = np.array([1,2,3,4,5])\n",
        "nz = 3\n",
        "Z0 = np.zeros(len(Z) + (len(Z)-1)*(nz))\n",
        "Z0[::nz+1] = Z\n",
        "print(Z0)"
      ],
      "metadata": {
        "colab": {
          "base_uri": "https://localhost:8080/"
        },
        "id": "S3VjrdfzdKHv",
        "outputId": "550ac322-a72f-408b-db4a-5dddfed3b2f5"
      },
      "execution_count": null,
      "outputs": [
        {
          "output_type": "stream",
          "name": "stdout",
          "text": [
            "[1. 0. 0. 0. 2. 0. 0. 0. 3. 0. 0. 0. 4. 0. 0. 0. 5.]\n"
          ]
        }
      ]
    },
    {
      "cell_type": "code",
      "source": [
        "# 71. Consider an array of dimension (5,5,3), how to mulitply it by an array with dimensions (5,5)? (★★★)\n",
        "A = np.ones((5,5,3))\n",
        "B = 2*np.ones((5,5))\n",
        "print(A * B[:,:,None])"
      ],
      "metadata": {
        "colab": {
          "base_uri": "https://localhost:8080/"
        },
        "id": "mKKH1m7GdKFb",
        "outputId": "2720021d-61cd-4ae5-aefb-0704559e6027"
      },
      "execution_count": null,
      "outputs": [
        {
          "output_type": "stream",
          "name": "stdout",
          "text": [
            "[[[2. 2. 2.]\n",
            "  [2. 2. 2.]\n",
            "  [2. 2. 2.]\n",
            "  [2. 2. 2.]\n",
            "  [2. 2. 2.]]\n",
            "\n",
            " [[2. 2. 2.]\n",
            "  [2. 2. 2.]\n",
            "  [2. 2. 2.]\n",
            "  [2. 2. 2.]\n",
            "  [2. 2. 2.]]\n",
            "\n",
            " [[2. 2. 2.]\n",
            "  [2. 2. 2.]\n",
            "  [2. 2. 2.]\n",
            "  [2. 2. 2.]\n",
            "  [2. 2. 2.]]\n",
            "\n",
            " [[2. 2. 2.]\n",
            "  [2. 2. 2.]\n",
            "  [2. 2. 2.]\n",
            "  [2. 2. 2.]\n",
            "  [2. 2. 2.]]\n",
            "\n",
            " [[2. 2. 2.]\n",
            "  [2. 2. 2.]\n",
            "  [2. 2. 2.]\n",
            "  [2. 2. 2.]\n",
            "  [2. 2. 2.]]]\n"
          ]
        }
      ]
    },
    {
      "cell_type": "code",
      "source": [
        "# 72. How to swap two rows of an array? (★★★)\n",
        "########### Author: Eelco Hoogendoorn###########\n",
        "\n",
        "A = np.arange(25).reshape(5,5)\n",
        "A[[0,1]] = A[[1,0]]\n",
        "print(A)"
      ],
      "metadata": {
        "colab": {
          "base_uri": "https://localhost:8080/"
        },
        "id": "4lnddFuedKC-",
        "outputId": "4da547ab-0b0a-4e20-88c0-375463fd443b"
      },
      "execution_count": null,
      "outputs": [
        {
          "output_type": "stream",
          "name": "stdout",
          "text": [
            "[[ 5  6  7  8  9]\n",
            " [ 0  1  2  3  4]\n",
            " [10 11 12 13 14]\n",
            " [15 16 17 18 19]\n",
            " [20 21 22 23 24]]\n"
          ]
        }
      ]
    },
    {
      "cell_type": "code",
      "source": [
        "# 73. Consider a set of 10 triplets describing 10 triangles (with shared vertices), find the set of unique line segments composing all the triangles (★★★)\n",
        "############# Author: Nicolas P. Rougier#############\n",
        "\n",
        "faces = np.random.randint(0,100,(10,3))\n",
        "F = np.roll(faces.repeat(2,axis=1),-1,axis=1)\n",
        "F = F.reshape(len(F)*3,2)\n",
        "F = np.sort(F,axis=1)\n",
        "G = F.view( dtype=[('p0',F.dtype),('p1',F.dtype)] )\n",
        "G = np.unique(G)\n",
        "print(G)"
      ],
      "metadata": {
        "colab": {
          "base_uri": "https://localhost:8080/"
        },
        "id": "tFEJUlR0dKAb",
        "outputId": "b1c1e666-4cb9-473f-ab00-8c43170f99a4"
      },
      "execution_count": null,
      "outputs": [
        {
          "output_type": "stream",
          "name": "stdout",
          "text": [
            "[( 4, 39) ( 4, 65) (22, 24) (22, 39) (23, 32) (23, 47) (24, 39) (25, 52)\n",
            " (25, 85) (32, 47) (36, 43) (36, 58) (39, 65) (40, 78) (40, 83) (43, 58)\n",
            " (46, 68) (46, 94) (47, 57) (47, 58) (50, 52) (50, 88) (52, 85) (52, 88)\n",
            " (57, 58) (59, 67) (59, 83) (67, 83) (68, 94) (78, 83)]\n"
          ]
        }
      ]
    },
    {
      "cell_type": "code",
      "source": [
        "# 74. Given an array C that is a bincount, how to produce an array A such that np.bincount(A) == C? (★★★)\n",
        "############ Author: Jaime Fernández del Río##############\n",
        "\n",
        "C = np.bincount([1,1,2,3,4,4,6])\n",
        "A = np.repeat(np.arange(len(C)), C)\n",
        "print(A)"
      ],
      "metadata": {
        "colab": {
          "base_uri": "https://localhost:8080/"
        },
        "id": "I6COJakOdJ91",
        "outputId": "4f0e334d-2114-439a-b21e-4ed43d866e94"
      },
      "execution_count": null,
      "outputs": [
        {
          "output_type": "stream",
          "name": "stdout",
          "text": [
            "[1 1 2 3 4 4 6]\n"
          ]
        }
      ]
    },
    {
      "cell_type": "code",
      "source": [
        "# 75. How to compute averages using a sliding window over an array? (★★★)\n",
        "############ Author: Jaime Fernández del Río#########\n",
        "\n",
        "def moving_average(a, n=3) :\n",
        "    ret = np.cumsum(a, dtype=float)\n",
        "    ret[n:] = ret[n:] - ret[:-n]\n",
        "    return ret[n - 1:] / n\n",
        "Z = np.arange(20)\n",
        "print(moving_average(Z, n=3))"
      ],
      "metadata": {
        "colab": {
          "base_uri": "https://localhost:8080/"
        },
        "id": "QS2cT8W0dJ7e",
        "outputId": "4af4ffcf-706c-424b-bba5-3ca2dc383032"
      },
      "execution_count": null,
      "outputs": [
        {
          "output_type": "stream",
          "name": "stdout",
          "text": [
            "[ 1.  2.  3.  4.  5.  6.  7.  8.  9. 10. 11. 12. 13. 14. 15. 16. 17. 18.]\n"
          ]
        }
      ]
    },
    {
      "cell_type": "code",
      "source": [
        "# 76. Consider a one-dimensional array Z, build a two-dimensional array whose first row is (Z[0],Z[1],Z[2]) and each subsequent row is shifted by 1 (last row should be (Z[-3],Z[-2],Z[-1]) (★★★)\n",
        "############# Author: Joe Kington / Erik Rigtorp#############\n",
        "from numpy.lib import stride_tricks\n",
        "\n",
        "def rolling(a, window):\n",
        "    shape = (a.size - window + 1, window)\n",
        "    strides = (a.itemsize, a.itemsize)\n",
        "    return stride_tricks.as_strided(a, shape=shape, strides=strides)\n",
        "Z = rolling(np.arange(10), 3)\n",
        "print(Z)"
      ],
      "metadata": {
        "colab": {
          "base_uri": "https://localhost:8080/"
        },
        "id": "g8l2gvysdJ46",
        "outputId": "f13c0aab-c0b8-480a-f9b8-df42344d5b25"
      },
      "execution_count": null,
      "outputs": [
        {
          "output_type": "stream",
          "name": "stdout",
          "text": [
            "[[0 1 2]\n",
            " [1 2 3]\n",
            " [2 3 4]\n",
            " [3 4 5]\n",
            " [4 5 6]\n",
            " [5 6 7]\n",
            " [6 7 8]\n",
            " [7 8 9]]\n"
          ]
        }
      ]
    },
    {
      "cell_type": "code",
      "source": [
        "# 77. How to negate a boolean, or to change the sign of a float inplace? (★★★)\n",
        "########## Author: Nathaniel J. Smith############\n",
        "\n",
        "Z = np.random.randint(0,2,100)\n",
        "np.logical_not(Z, out=Z)\n",
        "\n",
        "Z = np.random.uniform(-1.0,1.0,100)\n",
        "np.negative(Z, out=Z)"
      ],
      "metadata": {
        "colab": {
          "base_uri": "https://localhost:8080/"
        },
        "id": "N9fm7fZlfJ-X",
        "outputId": "d69833e4-abc5-4063-9339-f7e99a16555c"
      },
      "execution_count": null,
      "outputs": [
        {
          "output_type": "execute_result",
          "data": {
            "text/plain": [
              "array([ 0.80363273,  0.05821874, -0.86419953,  0.04387577, -0.09270808,\n",
              "       -0.90177768,  0.77873267, -0.27167856, -0.80108934,  0.3724225 ,\n",
              "       -0.37226921, -0.39223987, -0.95288197,  0.78674498, -0.41022315,\n",
              "       -0.91593463,  0.73334166, -0.11318327, -0.324554  , -0.20498589,\n",
              "        0.43753166, -0.05303384,  0.4578309 ,  0.62774944,  0.2629218 ,\n",
              "        0.38941443,  0.19049222, -0.19347286,  0.37831572, -0.92586906,\n",
              "        0.74789832, -0.37196887, -0.48528359,  0.82086944,  0.27848923,\n",
              "        0.59858296, -0.31607589,  0.46389865,  0.10244956, -0.09246261,\n",
              "       -0.89248937, -0.24190024,  0.11160152, -0.99016923, -0.95458327,\n",
              "       -0.65851574,  0.6805621 , -0.10599406,  0.30661022, -0.70101919,\n",
              "        0.42409423, -0.23707917,  0.51082146, -0.60305011,  0.38806009,\n",
              "        0.29969212,  0.86588023, -0.46505756, -0.16525476, -0.4081627 ,\n",
              "       -0.27619492, -0.15121711,  0.10200659,  0.44550522, -0.04289244,\n",
              "        0.9877303 ,  0.95782333,  0.11667971,  0.98216532, -0.71361058,\n",
              "       -0.52497772,  0.54852607,  0.88113606,  0.97729303, -0.93437664,\n",
              "       -0.28572789,  0.4730865 ,  0.03914578, -0.41468204,  0.45761632,\n",
              "        0.48876272, -0.27205009,  0.38856583, -0.1045898 ,  0.42832436,\n",
              "        0.11288994,  0.97260653, -0.33918593,  0.00999645,  0.35692348,\n",
              "       -0.63845461, -0.18197502,  0.87894035, -0.31350897, -0.7519552 ,\n",
              "        0.4212546 , -0.98842133,  0.82278845,  0.0986927 ,  0.92049137])"
            ]
          },
          "metadata": {},
          "execution_count": 96
        }
      ]
    },
    {
      "cell_type": "code",
      "source": [
        "# 78. Consider 2 sets of points P0,P1 describing lines (2d) and a point p, how to compute distance from p to each line i (P0[i],P1[i])? (★★★)\n",
        "def distance(P0, P1, p):\n",
        "    T = P1 - P0\n",
        "    L = (T**2).sum(axis=1)\n",
        "    U = -((P0[:,0]-p[...,0])*T[:,0] + (P0[:,1]-p[...,1])*T[:,1]) / L\n",
        "    U = U.reshape(len(U),1)\n",
        "    D = P0 + U*T - p\n",
        "    return np.sqrt((D**2).sum(axis=1))\n",
        "\n",
        "P0 = np.random.uniform(-10,10,(10,2))\n",
        "P1 = np.random.uniform(-10,10,(10,2))\n",
        "p  = np.random.uniform(-10,10,( 1,2))\n",
        "print(distance(P0, P1, p))"
      ],
      "metadata": {
        "colab": {
          "base_uri": "https://localhost:8080/"
        },
        "id": "07dM4IbEfJ62",
        "outputId": "549a77f0-5953-424b-ada1-64635241c507"
      },
      "execution_count": null,
      "outputs": [
        {
          "output_type": "stream",
          "name": "stdout",
          "text": [
            "[ 1.22346659  5.0804199   6.00326734  1.48548689  4.12547875  0.71971672\n",
            "  4.46558085  7.96687012 10.90518408 10.09449384]\n"
          ]
        }
      ]
    },
    {
      "cell_type": "code",
      "source": [
        "# 79. Consider 2 sets of points P0,P1 describing lines (2d) and a set of points P, how to compute distance from each point j (P[j]) to each line i (P0[i],P1[i])? (★★★)\n",
        "############## Author: Italmassov Kuanysh##################\n",
        "\n",
        "# based on distance function from previous question\n",
        "P0 = np.random.uniform(-10, 10, (10,2))\n",
        "P1 = np.random.uniform(-10,10,(10,2))\n",
        "p = np.random.uniform(-10, 10, (10,2))\n",
        "print(np.array([distance(P0,P1,p_i) for p_i in p]))"
      ],
      "metadata": {
        "colab": {
          "base_uri": "https://localhost:8080/"
        },
        "id": "fZ2eTTwnfJ4c",
        "outputId": "3dc1625e-96b6-44d9-e682-9924da20a713"
      },
      "execution_count": null,
      "outputs": [
        {
          "output_type": "stream",
          "name": "stdout",
          "text": [
            "[[15.09962215  8.07288551  6.16180475 11.42607594  2.12632468 17.09522361\n",
            "   7.19814058 12.49223536  6.40330852 15.06203086]\n",
            " [ 9.36455569  5.85221499  1.06753522  5.82195955  2.2183648  11.63302691\n",
            "   4.62723937  6.71630958  0.66226963 11.2254389 ]\n",
            " [ 2.94843637  9.45004005  8.63697912  0.42436553  9.26963791  6.9897526\n",
            "   7.59085849  0.66745895  5.82337562 11.56428879]\n",
            " [ 0.97484672  9.78519256 11.11399999  1.34654427 10.55720108  5.37532485\n",
            "   7.76167681  2.82174749  7.81037949 11.08106587]\n",
            " [ 7.81319848  5.04281861  0.17305193  4.27610336  2.00484731 10.10512575\n",
            "   3.73142111  5.1855339   0.88854679 10.02872276]\n",
            " [ 3.19180453  0.79327132  8.91135147  6.70341125  0.38235473  0.7562631\n",
            "   2.71396544  5.65915872 11.88873818  1.467591  ]\n",
            " [10.65310899  1.51355923  5.39779495  6.38751001  3.32877699 11.69301172\n",
            "   0.5600584   8.7473235   2.00214915  8.40405446]\n",
            " [ 0.68895182  7.36969484 11.42547729  3.22630388  8.56041834  3.36330243\n",
            "   5.31516098  4.22891305  9.4576092   8.61938014]\n",
            " [ 3.08342788 11.13389671  9.59151227  0.79020038 11.13139383  7.51200579\n",
            "   9.2179378   0.77882081  5.70510186 12.89689905]\n",
            " [ 1.18296816 10.93591707 11.63384588  0.98974593 11.77638513  5.83175692\n",
            "   8.88246443  2.77435429  7.61309849 12.03510577]]\n"
          ]
        }
      ]
    },
    {
      "cell_type": "code",
      "source": [
        "# 80. Consider an arbitrary array, write a function that extract a subpart with a fixed shape and centered on a given element (pad with a fill value when necessary) (★★★)\n",
        "############# Author: Nicolas Rougier################\n",
        "\n",
        "Z = np.random.randint(0,10,(10,10))\n",
        "shape = (5,5)\n",
        "fill  = 0\n",
        "position = (1,1)\n",
        "\n",
        "R = np.ones(shape, dtype=Z.dtype)*fill\n",
        "P  = np.array(list(position)).astype(int)\n",
        "Rs = np.array(list(R.shape)).astype(int)\n",
        "Zs = np.array(list(Z.shape)).astype(int)\n",
        "\n",
        "R_start = np.zeros((len(shape),)).astype(int)\n",
        "R_stop  = np.array(list(shape)).astype(int)\n",
        "Z_start = (P-Rs//2)\n",
        "Z_stop  = (P+Rs//2)+Rs%2\n",
        "\n",
        "R_start = (R_start - np.minimum(Z_start,0)).tolist()\n",
        "Z_start = (np.maximum(Z_start,0)).tolist()\n",
        "R_stop = np.maximum(R_start, (R_stop - np.maximum(Z_stop-Zs,0))).tolist()\n",
        "Z_stop = (np.minimum(Z_stop,Zs)).tolist()\n",
        "\n",
        "r = [slice(start,stop) for start,stop in zip(R_start,R_stop)]\n",
        "z = [slice(start,stop) for start,stop in zip(Z_start,Z_stop)]\n",
        "R[r] = Z[z]\n",
        "print(Z)\n",
        "print(R)"
      ],
      "metadata": {
        "colab": {
          "base_uri": "https://localhost:8080/"
        },
        "id": "5LtoOkMufJ2W",
        "outputId": "2fa195ff-5a2a-446f-ee91-be65d0d4e731"
      },
      "execution_count": null,
      "outputs": [
        {
          "output_type": "stream",
          "name": "stdout",
          "text": [
            "[[7 2 2 5 4 2 4 6 8 2]\n",
            " [9 8 4 5 5 8 6 1 6 9]\n",
            " [8 5 5 7 1 2 8 5 2 4]\n",
            " [7 3 2 7 5 2 1 3 7 3]\n",
            " [5 4 7 6 3 8 0 0 1 8]\n",
            " [0 3 4 4 8 8 2 0 9 5]\n",
            " [6 9 6 7 3 7 5 1 7 2]\n",
            " [5 3 9 8 5 4 6 2 5 8]\n",
            " [0 5 5 6 2 7 9 6 2 8]\n",
            " [6 0 9 8 1 5 7 7 0 7]]\n",
            "[[0 0 0 0 0]\n",
            " [0 7 2 2 5]\n",
            " [0 9 8 4 5]\n",
            " [0 8 5 5 7]\n",
            " [0 7 3 2 7]]\n"
          ]
        },
        {
          "output_type": "stream",
          "name": "stderr",
          "text": [
            "<ipython-input-99-1139094783f6>:26: FutureWarning: Using a non-tuple sequence for multidimensional indexing is deprecated; use `arr[tuple(seq)]` instead of `arr[seq]`. In the future this will be interpreted as an array index, `arr[np.array(seq)]`, which will result either in an error or a different result.\n",
            "  R[r] = Z[z]\n"
          ]
        }
      ]
    },
    {
      "cell_type": "code",
      "source": [
        "# 81. Consider an array Z = [1,2,3,4,5,6,7,8,9,10,11,12,13,14], how to generate an array R = [[1,2,3,4], [2,3,4,5], [3,4,5,6], ..., [11,12,13,14]]? (★★★)\n",
        "#################### Author: Stefan van der Walt#################\n",
        "\n",
        "Z = np.arange(1,15,dtype=np.uint32)\n",
        "R = stride_tricks.as_strided(Z,(11,4),(4,4))\n",
        "print(R)"
      ],
      "metadata": {
        "colab": {
          "base_uri": "https://localhost:8080/"
        },
        "id": "h-_JPS_1fJz1",
        "outputId": "9db9c940-658b-4fc1-cebd-bb59cc279aff"
      },
      "execution_count": null,
      "outputs": [
        {
          "output_type": "stream",
          "name": "stdout",
          "text": [
            "[[ 1  2  3  4]\n",
            " [ 2  3  4  5]\n",
            " [ 3  4  5  6]\n",
            " [ 4  5  6  7]\n",
            " [ 5  6  7  8]\n",
            " [ 6  7  8  9]\n",
            " [ 7  8  9 10]\n",
            " [ 8  9 10 11]\n",
            " [ 9 10 11 12]\n",
            " [10 11 12 13]\n",
            " [11 12 13 14]]\n"
          ]
        }
      ]
    },
    {
      "cell_type": "code",
      "source": [
        "# 82. Compute a matrix rank (★★★)\n",
        "############## Author: Stefan van der Walt###########\n",
        "\n",
        "Z = np.random.uniform(0,1,(10,10))\n",
        "U, S, V = np.linalg.svd(Z) # Singular Value Decomposition\n",
        "rank = np.sum(S > 1e-10)\n",
        "print(rank)"
      ],
      "metadata": {
        "colab": {
          "base_uri": "https://localhost:8080/"
        },
        "id": "P_5JL_PFfJw2",
        "outputId": "07ba2486-f26c-4c78-b8aa-60cdce6c7022"
      },
      "execution_count": null,
      "outputs": [
        {
          "output_type": "stream",
          "name": "stdout",
          "text": [
            "10\n"
          ]
        }
      ]
    },
    {
      "cell_type": "code",
      "source": [
        "# 83. How to find the most frequent value in an array?\n",
        "Z = np.random.randint(0,10,50)\n",
        "print(np.bincount(Z).argmax())"
      ],
      "metadata": {
        "colab": {
          "base_uri": "https://localhost:8080/"
        },
        "id": "t4RJWJXFfJuY",
        "outputId": "ea644034-6d77-407c-acb7-c66a0e8078f3"
      },
      "execution_count": null,
      "outputs": [
        {
          "output_type": "stream",
          "name": "stdout",
          "text": [
            "3\n"
          ]
        }
      ]
    },
    {
      "cell_type": "code",
      "source": [
        "# 84. Extract all the contiguous 3x3 blocks from a random 10x10 matrix (★★★)\n",
        "############## Author: Chris Barker################\n",
        "\n",
        "Z = np.random.randint(0,5,(10,10))\n",
        "n = 3\n",
        "i = 1 + (Z.shape[0]-3)\n",
        "j = 1 + (Z.shape[1]-3)\n",
        "C = stride_tricks.as_strided(Z, shape=(i, j, n, n), strides=Z.strides + Z.strides)\n",
        "print(C)"
      ],
      "metadata": {
        "colab": {
          "base_uri": "https://localhost:8080/"
        },
        "id": "tLJE3N8JfJrx",
        "outputId": "3ca81550-58f0-4ccd-8746-23b02890c58e"
      },
      "execution_count": null,
      "outputs": [
        {
          "output_type": "stream",
          "name": "stdout",
          "text": [
            "[[[[1 0 1]\n",
            "   [3 1 3]\n",
            "   [0 3 4]]\n",
            "\n",
            "  [[0 1 1]\n",
            "   [1 3 4]\n",
            "   [3 4 0]]\n",
            "\n",
            "  [[1 1 3]\n",
            "   [3 4 2]\n",
            "   [4 0 1]]\n",
            "\n",
            "  [[1 3 2]\n",
            "   [4 2 4]\n",
            "   [0 1 1]]\n",
            "\n",
            "  [[3 2 0]\n",
            "   [2 4 4]\n",
            "   [1 1 3]]\n",
            "\n",
            "  [[2 0 1]\n",
            "   [4 4 2]\n",
            "   [1 3 4]]\n",
            "\n",
            "  [[0 1 4]\n",
            "   [4 2 1]\n",
            "   [3 4 4]]\n",
            "\n",
            "  [[1 4 4]\n",
            "   [2 1 4]\n",
            "   [4 4 1]]]\n",
            "\n",
            "\n",
            " [[[3 1 3]\n",
            "   [0 3 4]\n",
            "   [4 4 0]]\n",
            "\n",
            "  [[1 3 4]\n",
            "   [3 4 0]\n",
            "   [4 0 4]]\n",
            "\n",
            "  [[3 4 2]\n",
            "   [4 0 1]\n",
            "   [0 4 1]]\n",
            "\n",
            "  [[4 2 4]\n",
            "   [0 1 1]\n",
            "   [4 1 1]]\n",
            "\n",
            "  [[2 4 4]\n",
            "   [1 1 3]\n",
            "   [1 1 1]]\n",
            "\n",
            "  [[4 4 2]\n",
            "   [1 3 4]\n",
            "   [1 1 1]]\n",
            "\n",
            "  [[4 2 1]\n",
            "   [3 4 4]\n",
            "   [1 1 1]]\n",
            "\n",
            "  [[2 1 4]\n",
            "   [4 4 1]\n",
            "   [1 1 0]]]\n",
            "\n",
            "\n",
            " [[[0 3 4]\n",
            "   [4 4 0]\n",
            "   [1 2 1]]\n",
            "\n",
            "  [[3 4 0]\n",
            "   [4 0 4]\n",
            "   [2 1 1]]\n",
            "\n",
            "  [[4 0 1]\n",
            "   [0 4 1]\n",
            "   [1 1 1]]\n",
            "\n",
            "  [[0 1 1]\n",
            "   [4 1 1]\n",
            "   [1 1 1]]\n",
            "\n",
            "  [[1 1 3]\n",
            "   [1 1 1]\n",
            "   [1 1 3]]\n",
            "\n",
            "  [[1 3 4]\n",
            "   [1 1 1]\n",
            "   [1 3 1]]\n",
            "\n",
            "  [[3 4 4]\n",
            "   [1 1 1]\n",
            "   [3 1 2]]\n",
            "\n",
            "  [[4 4 1]\n",
            "   [1 1 0]\n",
            "   [1 2 2]]]\n",
            "\n",
            "\n",
            " [[[4 4 0]\n",
            "   [1 2 1]\n",
            "   [3 4 0]]\n",
            "\n",
            "  [[4 0 4]\n",
            "   [2 1 1]\n",
            "   [4 0 2]]\n",
            "\n",
            "  [[0 4 1]\n",
            "   [1 1 1]\n",
            "   [0 2 0]]\n",
            "\n",
            "  [[4 1 1]\n",
            "   [1 1 1]\n",
            "   [2 0 3]]\n",
            "\n",
            "  [[1 1 1]\n",
            "   [1 1 3]\n",
            "   [0 3 3]]\n",
            "\n",
            "  [[1 1 1]\n",
            "   [1 3 1]\n",
            "   [3 3 4]]\n",
            "\n",
            "  [[1 1 1]\n",
            "   [3 1 2]\n",
            "   [3 4 3]]\n",
            "\n",
            "  [[1 1 0]\n",
            "   [1 2 2]\n",
            "   [4 3 1]]]\n",
            "\n",
            "\n",
            " [[[1 2 1]\n",
            "   [3 4 0]\n",
            "   [0 2 2]]\n",
            "\n",
            "  [[2 1 1]\n",
            "   [4 0 2]\n",
            "   [2 2 0]]\n",
            "\n",
            "  [[1 1 1]\n",
            "   [0 2 0]\n",
            "   [2 0 2]]\n",
            "\n",
            "  [[1 1 1]\n",
            "   [2 0 3]\n",
            "   [0 2 2]]\n",
            "\n",
            "  [[1 1 3]\n",
            "   [0 3 3]\n",
            "   [2 2 0]]\n",
            "\n",
            "  [[1 3 1]\n",
            "   [3 3 4]\n",
            "   [2 0 1]]\n",
            "\n",
            "  [[3 1 2]\n",
            "   [3 4 3]\n",
            "   [0 1 0]]\n",
            "\n",
            "  [[1 2 2]\n",
            "   [4 3 1]\n",
            "   [1 0 2]]]\n",
            "\n",
            "\n",
            " [[[3 4 0]\n",
            "   [0 2 2]\n",
            "   [0 3 3]]\n",
            "\n",
            "  [[4 0 2]\n",
            "   [2 2 0]\n",
            "   [3 3 3]]\n",
            "\n",
            "  [[0 2 0]\n",
            "   [2 0 2]\n",
            "   [3 3 2]]\n",
            "\n",
            "  [[2 0 3]\n",
            "   [0 2 2]\n",
            "   [3 2 3]]\n",
            "\n",
            "  [[0 3 3]\n",
            "   [2 2 0]\n",
            "   [2 3 3]]\n",
            "\n",
            "  [[3 3 4]\n",
            "   [2 0 1]\n",
            "   [3 3 0]]\n",
            "\n",
            "  [[3 4 3]\n",
            "   [0 1 0]\n",
            "   [3 0 4]]\n",
            "\n",
            "  [[4 3 1]\n",
            "   [1 0 2]\n",
            "   [0 4 3]]]\n",
            "\n",
            "\n",
            " [[[0 2 2]\n",
            "   [0 3 3]\n",
            "   [1 1 2]]\n",
            "\n",
            "  [[2 2 0]\n",
            "   [3 3 3]\n",
            "   [1 2 0]]\n",
            "\n",
            "  [[2 0 2]\n",
            "   [3 3 2]\n",
            "   [2 0 3]]\n",
            "\n",
            "  [[0 2 2]\n",
            "   [3 2 3]\n",
            "   [0 3 2]]\n",
            "\n",
            "  [[2 2 0]\n",
            "   [2 3 3]\n",
            "   [3 2 2]]\n",
            "\n",
            "  [[2 0 1]\n",
            "   [3 3 0]\n",
            "   [2 2 3]]\n",
            "\n",
            "  [[0 1 0]\n",
            "   [3 0 4]\n",
            "   [2 3 3]]\n",
            "\n",
            "  [[1 0 2]\n",
            "   [0 4 3]\n",
            "   [3 3 2]]]\n",
            "\n",
            "\n",
            " [[[0 3 3]\n",
            "   [1 1 2]\n",
            "   [3 1 2]]\n",
            "\n",
            "  [[3 3 3]\n",
            "   [1 2 0]\n",
            "   [1 2 4]]\n",
            "\n",
            "  [[3 3 2]\n",
            "   [2 0 3]\n",
            "   [2 4 0]]\n",
            "\n",
            "  [[3 2 3]\n",
            "   [0 3 2]\n",
            "   [4 0 3]]\n",
            "\n",
            "  [[2 3 3]\n",
            "   [3 2 2]\n",
            "   [0 3 2]]\n",
            "\n",
            "  [[3 3 0]\n",
            "   [2 2 3]\n",
            "   [3 2 2]]\n",
            "\n",
            "  [[3 0 4]\n",
            "   [2 3 3]\n",
            "   [2 2 3]]\n",
            "\n",
            "  [[0 4 3]\n",
            "   [3 3 2]\n",
            "   [2 3 2]]]]\n"
          ]
        }
      ]
    },
    {
      "cell_type": "code",
      "source": [
        "# 85. Create a 2D array subclass such that Z[i,j] == Z[j,i] (★★★)\n",
        "################## Author: Eric O. Lebigot#################\n",
        "# Note: only works for 2d array and value setting using indices\n",
        "\n",
        "class Symetric(np.ndarray):\n",
        "    def __setitem__(self, index, value):\n",
        "        i,j = index\n",
        "        super(Symetric, self).__setitem__((i,j), value)\n",
        "        super(Symetric, self).__setitem__((j,i), value)\n",
        "\n",
        "def symetric(Z):\n",
        "    return np.asarray(Z + Z.T - np.diag(Z.diagonal())).view(Symetric)\n",
        "\n",
        "S = symetric(np.random.randint(0,10,(5,5)))\n",
        "S[2,3] = 42\n",
        "print(S)"
      ],
      "metadata": {
        "colab": {
          "base_uri": "https://localhost:8080/"
        },
        "id": "_-T-VFfvfJpk",
        "outputId": "386fc0fc-5ea1-4248-e5ef-211b5228e147"
      },
      "execution_count": null,
      "outputs": [
        {
          "output_type": "stream",
          "name": "stdout",
          "text": [
            "[[ 1  8  9  4 11]\n",
            " [ 8  2  7  4 15]\n",
            " [ 9  7  3 42 11]\n",
            " [ 4  4 42  4  9]\n",
            " [11 15 11  9  5]]\n"
          ]
        }
      ]
    },
    {
      "cell_type": "code",
      "source": [
        "# 86. Consider a set of p matrices wich shape (n,n) and a set of p vectors with shape (n,1). How to compute the sum of of the p matrix products at once? (result has shape (n,1)) (★★★)\n",
        "# Author: Stefan van der Walt\n",
        "\n",
        "p, n = 10, 20\n",
        "M = np.ones((p,n,n))\n",
        "V = np.ones((p,n,1))\n",
        "S = np.tensordot(M, V, axes=[[0, 2], [0, 1]])\n",
        "print(S)\n",
        "\n",
        "# It works, because:\n",
        "# M is (p,n,n)\n",
        "# V is (p,n,1)\n",
        "# Thus, summing over the paired axes 0 and 0 (of M and V independently),\n",
        "# and 2 and 1, to remain with a (n,1) vector."
      ],
      "metadata": {
        "colab": {
          "base_uri": "https://localhost:8080/"
        },
        "id": "cH9pcOROfJoD",
        "outputId": "a6b66e44-97e7-4fec-8858-a4ab164e7006"
      },
      "execution_count": null,
      "outputs": [
        {
          "output_type": "stream",
          "name": "stdout",
          "text": [
            "[[200.]\n",
            " [200.]\n",
            " [200.]\n",
            " [200.]\n",
            " [200.]\n",
            " [200.]\n",
            " [200.]\n",
            " [200.]\n",
            " [200.]\n",
            " [200.]\n",
            " [200.]\n",
            " [200.]\n",
            " [200.]\n",
            " [200.]\n",
            " [200.]\n",
            " [200.]\n",
            " [200.]\n",
            " [200.]\n",
            " [200.]\n",
            " [200.]]\n"
          ]
        }
      ]
    },
    {
      "cell_type": "code",
      "source": [
        "# 87. Consider a 16x16 array, how to get the block-sum (block size is 4x4)? (★★★)\n",
        "############# Author: Robert Kern##############\n",
        "\n",
        "Z = np.ones((16,16))\n",
        "k = 4\n",
        "S = np.add.reduceat(np.add.reduceat(Z, np.arange(0, Z.shape[0], k), axis=0),\n",
        "                                       np.arange(0, Z.shape[1], k), axis=1)\n",
        "print(S)"
      ],
      "metadata": {
        "colab": {
          "base_uri": "https://localhost:8080/"
        },
        "id": "BncHsnhafJmF",
        "outputId": "e373a314-5d6a-491c-d892-925076c3ddae"
      },
      "execution_count": null,
      "outputs": [
        {
          "output_type": "stream",
          "name": "stdout",
          "text": [
            "[[16. 16. 16. 16.]\n",
            " [16. 16. 16. 16.]\n",
            " [16. 16. 16. 16.]\n",
            " [16. 16. 16. 16.]]\n"
          ]
        }
      ]
    },
    {
      "cell_type": "code",
      "source": [
        "# 88. How to implement the Game of Life using numpy arrays? (★★★)\n",
        "################ Author: Nicolas Rougier##########################\n",
        "\n",
        "def iterate(Z):\n",
        "    # Count neighbours\n",
        "    N = (Z[0:-2,0:-2] + Z[0:-2,1:-1] + Z[0:-2,2:] +\n",
        "         Z[1:-1,0:-2]                + Z[1:-1,2:] +\n",
        "         Z[2:  ,0:-2] + Z[2:  ,1:-1] + Z[2:  ,2:])\n",
        "\n",
        "    # Apply rules\n",
        "    birth = (N==3) & (Z[1:-1,1:-1]==0)\n",
        "    survive = ((N==2) | (N==3)) & (Z[1:-1,1:-1]==1)\n",
        "    Z[...] = 0\n",
        "    Z[1:-1,1:-1][birth | survive] = 1\n",
        "    return Z\n",
        "\n",
        "Z = np.random.randint(0,2,(50,50))\n",
        "for i in range(100): Z = iterate(Z)\n",
        "print(Z)"
      ],
      "metadata": {
        "colab": {
          "base_uri": "https://localhost:8080/"
        },
        "id": "tHt_kel3fJj1",
        "outputId": "461fecb9-eb14-492d-e70c-135185503b52"
      },
      "execution_count": null,
      "outputs": [
        {
          "output_type": "stream",
          "name": "stdout",
          "text": [
            "[[0 0 0 ... 0 0 0]\n",
            " [0 0 0 ... 0 0 0]\n",
            " [0 0 0 ... 1 0 0]\n",
            " ...\n",
            " [0 0 1 ... 1 1 0]\n",
            " [0 0 1 ... 0 0 0]\n",
            " [0 0 0 ... 0 0 0]]\n"
          ]
        }
      ]
    },
    {
      "cell_type": "code",
      "source": [
        "# 89. How to get the n largest values of an array (★★★)\n",
        "Z = np.arange(10000)\n",
        "np.random.shuffle(Z)\n",
        "n = 5\n",
        "\n",
        "# Slow\n",
        "print (Z[np.argsort(Z)[-n:]])\n",
        "\n",
        "# Fast\n",
        "print (Z[np.argpartition(-Z,n)[:n]])"
      ],
      "metadata": {
        "colab": {
          "base_uri": "https://localhost:8080/"
        },
        "id": "ST5crqYMfJhX",
        "outputId": "8cde6817-9cf9-4411-90d0-1f170ad42f33"
      },
      "execution_count": null,
      "outputs": [
        {
          "output_type": "stream",
          "name": "stdout",
          "text": [
            "[9995 9996 9997 9998 9999]\n",
            "[9996 9998 9999 9997 9995]\n"
          ]
        }
      ]
    },
    {
      "cell_type": "code",
      "source": [
        "# 90. Given an arbitrary number of vectors, build the cartesian product (every combinations of every item) (★★★)\n",
        "############## Author: Stefan Van der Walt###################\n",
        "\n",
        "def cartesian(arrays):\n",
        "    arrays = [np.asarray(a) for a in arrays]\n",
        "    shape = (len(x) for x in arrays)\n",
        "\n",
        "    ix = np.indices(shape, dtype=int)\n",
        "    ix = ix.reshape(len(arrays), -1).T\n",
        "\n",
        "    for n, arr in enumerate(arrays):\n",
        "        ix[:, n] = arrays[n][ix[:, n]]\n",
        "\n",
        "    return ix\n",
        "\n",
        "print (cartesian(([1, 2, 3], [4, 5], [6, 7])))"
      ],
      "metadata": {
        "colab": {
          "base_uri": "https://localhost:8080/"
        },
        "id": "DWJcqZoufJe4",
        "outputId": "bbcdfa7b-2cda-4b16-d1c9-046b2cc13067"
      },
      "execution_count": null,
      "outputs": [
        {
          "output_type": "stream",
          "name": "stdout",
          "text": [
            "[[1 4 6]\n",
            " [1 4 7]\n",
            " [1 5 6]\n",
            " [1 5 7]\n",
            " [2 4 6]\n",
            " [2 4 7]\n",
            " [2 5 6]\n",
            " [2 5 7]\n",
            " [3 4 6]\n",
            " [3 4 7]\n",
            " [3 5 6]\n",
            " [3 5 7]]\n"
          ]
        }
      ]
    },
    {
      "cell_type": "code",
      "source": [
        "# 91. How to create a record array from a regular array? (★★★)\n",
        "Z = np.array([(\"Hello\", 2.5, 3),\n",
        "              (\"World\", 3.6, 2)])\n",
        "R = np.core.records.fromarrays(Z.T,\n",
        "                               names='col1, col2, col3',\n",
        "                               formats = 'S8, f8, i8')\n",
        "print(R)"
      ],
      "metadata": {
        "colab": {
          "base_uri": "https://localhost:8080/"
        },
        "id": "X-63pQ2mfJb7",
        "outputId": "604a2de9-9fba-4386-9149-3707565a7cc6"
      },
      "execution_count": null,
      "outputs": [
        {
          "output_type": "stream",
          "name": "stdout",
          "text": [
            "[(b'Hello', 2.5, 3) (b'World', 3.6, 2)]\n"
          ]
        }
      ]
    },
    {
      "cell_type": "code",
      "source": [
        "# 92. Consider a large vector Z, compute Z to the power of 3 using 3 different methods (★★★)\n",
        "# Author: Ryan G.\n",
        "\n",
        "x = np.random.rand(57)\n",
        "\n",
        "%timeit np.power(x,3)\n",
        "%timeit x*x*x\n",
        "%timeit np.einsum('i,i,i->i',x,x,x)"
      ],
      "metadata": {
        "id": "HB_CDxEefJZl",
        "colab": {
          "base_uri": "https://localhost:8080/"
        },
        "outputId": "2aee0112-de3d-419d-c8e2-b20be92ee03d"
      },
      "execution_count": null,
      "outputs": [
        {
          "output_type": "stream",
          "name": "stdout",
          "text": [
            "3.36 µs ± 42.7 ns per loop (mean ± std. dev. of 7 runs, 100000 loops each)\n",
            "1.37 µs ± 502 ns per loop (mean ± std. dev. of 7 runs, 1000000 loops each)\n",
            "3.23 µs ± 80.9 ns per loop (mean ± std. dev. of 7 runs, 100000 loops each)\n"
          ]
        }
      ]
    },
    {
      "cell_type": "code",
      "source": [
        "# 93. Consider two arrays A and B of shape (8,3) and (2,2). How to find rows of A that contain elements of each row of B regardless of the order of the elements in B? (★★★)\n",
        "# Author: Gabe Schwartz\n",
        "\n",
        "A = np.random.randint(0,5,(8,3))\n",
        "B = np.random.randint(0,5,(2,2))\n",
        "\n",
        "C = (A[..., np.newaxis, np.newaxis] == B)\n",
        "rows = np.where(C.any((3,1)).all(1))[0]\n",
        "print(rows)"
      ],
      "metadata": {
        "colab": {
          "base_uri": "https://localhost:8080/"
        },
        "id": "hP6aUlW0fJXG",
        "outputId": "3249ec97-f0f5-4c9f-ecce-7f68ea0a0f73"
      },
      "execution_count": null,
      "outputs": [
        {
          "output_type": "stream",
          "name": "stdout",
          "text": [
            "[]\n"
          ]
        }
      ]
    },
    {
      "cell_type": "code",
      "source": [
        "# 94. Considering a 10x3 matrix, extract rows with unequal values (e.g. [2,2,3]) (★★★)\n",
        "# Author: Robert Kern\n",
        "\n",
        "Z = np.random.randint(0,5,(10,3))\n",
        "print(Z)\n",
        "# solution for arrays of all dtypes (including string arrays and record arrays)\n",
        "E = np.all(Z[:,1:] == Z[:,:-1], axis=1)\n",
        "U = Z[~E]\n",
        "print(U)\n",
        "# soluiton for numerical arrays only, will work for any number of columns in Z\n",
        "U = Z[Z.max(axis=1) != Z.min(axis=1),:]\n",
        "print(U)"
      ],
      "metadata": {
        "colab": {
          "base_uri": "https://localhost:8080/"
        },
        "id": "5YJFPeEGfJUo",
        "outputId": "e6945da0-5e00-475e-a08c-4f0021034b3e"
      },
      "execution_count": null,
      "outputs": [
        {
          "output_type": "stream",
          "name": "stdout",
          "text": [
            "[[1 1 0]\n",
            " [2 3 0]\n",
            " [1 0 2]\n",
            " [2 2 3]\n",
            " [1 0 0]\n",
            " [4 1 4]\n",
            " [0 1 3]\n",
            " [3 2 3]\n",
            " [0 2 1]\n",
            " [0 3 3]]\n",
            "[[1 1 0]\n",
            " [2 3 0]\n",
            " [1 0 2]\n",
            " [2 2 3]\n",
            " [1 0 0]\n",
            " [4 1 4]\n",
            " [0 1 3]\n",
            " [3 2 3]\n",
            " [0 2 1]\n",
            " [0 3 3]]\n",
            "[[1 1 0]\n",
            " [2 3 0]\n",
            " [1 0 2]\n",
            " [2 2 3]\n",
            " [1 0 0]\n",
            " [4 1 4]\n",
            " [0 1 3]\n",
            " [3 2 3]\n",
            " [0 2 1]\n",
            " [0 3 3]]\n"
          ]
        }
      ]
    },
    {
      "cell_type": "code",
      "source": [
        "# 95. Convert a vector of ints into a matrix binary representation (★★★)\n",
        "# Author: Warren Weckesser\n",
        "\n",
        "I = np.array([0, 1, 2, 3, 15, 16, 32, 64, 128])\n",
        "B = ((I.reshape(-1,1) & (2**np.arange(8))) != 0).astype(int)\n",
        "print(B[:,::-1])\n",
        "\n",
        "# Author: Daniel T. McDonald\n",
        "\n",
        "I = np.array([0, 1, 2, 3, 15, 16, 32, 64, 128], dtype=np.uint8)\n",
        "print(np.unpackbits(I[:, np.newaxis], axis=1))"
      ],
      "metadata": {
        "colab": {
          "base_uri": "https://localhost:8080/"
        },
        "id": "jbgh2AjWfJSJ",
        "outputId": "1da6d768-f1c0-4397-aad6-53c7e2ef6aae"
      },
      "execution_count": null,
      "outputs": [
        {
          "output_type": "stream",
          "name": "stdout",
          "text": [
            "[[0 0 0 0 0 0 0 0]\n",
            " [0 0 0 0 0 0 0 1]\n",
            " [0 0 0 0 0 0 1 0]\n",
            " [0 0 0 0 0 0 1 1]\n",
            " [0 0 0 0 1 1 1 1]\n",
            " [0 0 0 1 0 0 0 0]\n",
            " [0 0 1 0 0 0 0 0]\n",
            " [0 1 0 0 0 0 0 0]\n",
            " [1 0 0 0 0 0 0 0]]\n",
            "[[0 0 0 0 0 0 0 0]\n",
            " [0 0 0 0 0 0 0 1]\n",
            " [0 0 0 0 0 0 1 0]\n",
            " [0 0 0 0 0 0 1 1]\n",
            " [0 0 0 0 1 1 1 1]\n",
            " [0 0 0 1 0 0 0 0]\n",
            " [0 0 1 0 0 0 0 0]\n",
            " [0 1 0 0 0 0 0 0]\n",
            " [1 0 0 0 0 0 0 0]]\n"
          ]
        }
      ]
    },
    {
      "cell_type": "code",
      "source": [
        "# 96. Given a two dimensional array, how to extract unique rows? (★★★)\n",
        "# Author: Jaime Fernández del Río\n",
        "\n",
        "Z = np.random.randint(0,2,(6,3))\n",
        "T = np.ascontiguousarray(Z).view(np.dtype((np.void, Z.dtype.itemsize * Z.shape[1])))\n",
        "_, idx = np.unique(T, return_index=True)\n",
        "uZ = Z[idx]\n",
        "print(uZ)\n",
        "\n",
        "# Author: Andreas Kouzelis\n",
        "# NumPy >= 1.13\n",
        "uZ = np.unique(Z, axis=0)\n",
        "print(uZ)"
      ],
      "metadata": {
        "colab": {
          "base_uri": "https://localhost:8080/"
        },
        "id": "VceY_rFJfJPj",
        "outputId": "bf4f9854-8cde-4fea-c094-a8a52756bc73"
      },
      "execution_count": null,
      "outputs": [
        {
          "output_type": "stream",
          "name": "stdout",
          "text": [
            "[[0 0 1]\n",
            " [1 0 0]\n",
            " [1 1 1]]\n",
            "[[0 0 1]\n",
            " [1 0 0]\n",
            " [1 1 1]]\n"
          ]
        }
      ]
    },
    {
      "cell_type": "code",
      "source": [
        "# 97. Considering 2 vectors A & B, write the einsum equivalent of inner, outer, sum, and mul function (★★★)\n",
        "# Author: Alex Riley\n",
        "# Make sure to read: http://ajcr.net/Basic-guide-to-einsum/\n",
        "\n",
        "A = np.random.uniform(0,1,10)\n",
        "B = np.random.uniform(0,1,10)\n",
        "\n",
        "np.einsum('i->', A)       # np.sum(A)\n",
        "np.einsum('i,i->i', A, B) # A * B\n",
        "np.einsum('i,i', A, B)    # np.inner(A, B)\n",
        "np.einsum('i,j->ij', A, B)    # np.outer(A, B)"
      ],
      "metadata": {
        "colab": {
          "base_uri": "https://localhost:8080/"
        },
        "id": "eT6m0aEwfJNA",
        "outputId": "a2ea9bee-edc8-4f9c-ecc7-eb4bb76d0257"
      },
      "execution_count": null,
      "outputs": [
        {
          "output_type": "execute_result",
          "data": {
            "text/plain": [
              "array([[0.01401394, 0.09810113, 0.10136273, 0.20380575, 0.11550287,\n",
              "        0.10624863, 0.34019654, 0.14040671, 0.10986794, 0.08820531],\n",
              "       [0.00495189, 0.03466445, 0.03581695, 0.07201563, 0.04081343,\n",
              "        0.03754341, 0.1202099 , 0.04961331, 0.03882231, 0.03116772],\n",
              "       [0.01949994, 0.13650452, 0.14104292, 0.28358904, 0.16071847,\n",
              "        0.1478415 , 0.47337236, 0.19537135, 0.15287765, 0.12273481],\n",
              "       [0.02288648, 0.16021113, 0.16553772, 0.33283969, 0.1886303 ,\n",
              "        0.17351701, 0.55558252, 0.22930132, 0.17942778, 0.14405005],\n",
              "       [0.0291672 , 0.20417778, 0.21096614, 0.42418069, 0.240396  ,\n",
              "        0.22113517, 0.7080507 , 0.29222834, 0.22866804, 0.18358162],\n",
              "       [0.01705596, 0.11939604, 0.12336564, 0.24804607, 0.1405752 ,\n",
              "        0.12931214, 0.41404336, 0.17088494, 0.13371709, 0.10735213],\n",
              "       [0.0197407 , 0.13818988, 0.14278433, 0.2870904 , 0.1627028 ,\n",
              "        0.14966685, 0.47921691, 0.19778353, 0.15476518, 0.12425017],\n",
              "       [0.00952081, 0.06664809, 0.06886395, 0.13846184, 0.0784705 ,\n",
              "        0.07218335, 0.23112321, 0.09538971, 0.07464224, 0.05992505],\n",
              "       [0.0034894 , 0.02442671, 0.02523883, 0.05074665, 0.02875966,\n",
              "        0.0264554 , 0.08470729, 0.03496059, 0.02735659, 0.0219627 ],\n",
              "       [0.01151323, 0.0805955 , 0.08327508, 0.16743769, 0.09489199,\n",
              "        0.08728913, 0.27949026, 0.11535188, 0.09026259, 0.07246554]])"
            ]
          },
          "metadata": {},
          "execution_count": 118
        }
      ]
    },
    {
      "cell_type": "code",
      "source": [
        "# 98. Considering a path described by two vectors (X,Y), how to sample it using equidistant samples (★★★)?\n",
        "# Author: Bas Swinckels\n",
        "\n",
        "phi = np.arange(0, 10*np.pi, 0.1)\n",
        "a = 1\n",
        "x = a*phi*np.cos(phi)\n",
        "y = a*phi*np.sin(phi)\n",
        "\n",
        "dr = (np.diff(x)**2 + np.diff(y)**2)**.5 # segment lengths\n",
        "r = np.zeros_like(x)\n",
        "r[1:] = np.cumsum(dr)                # integrate path\n",
        "r_int = np.linspace(0, r.max(), 200) # regular spaced path\n",
        "x_int = np.interp(r_int, r, x)       # integrate path\n",
        "y_int = np.interp(r_int, r, y)"
      ],
      "metadata": {
        "id": "Rx5mbTisfJKp"
      },
      "execution_count": null,
      "outputs": []
    },
    {
      "cell_type": "code",
      "source": [
        "# 99. Given an integer n and a 2D array X, select from X the rows which can be interpreted as draws from a multinomial distribution with n degrees, i.e., the rows which only contain integers and which sum to n. (★★★)\n",
        "# Author: Evgeni Burovski\n",
        "\n",
        "X = np.asarray([[1.0, 0.0, 3.0, 8.0],\n",
        "                [2.0, 0.0, 1.0, 1.0],\n",
        "                [1.5, 2.5, 1.0, 0.0]])\n",
        "n = 4\n",
        "M = np.logical_and.reduce(np.mod(X, 1) == 0, axis=-1)\n",
        "M &= (X.sum(axis=-1) == n)\n",
        "print(X[M])"
      ],
      "metadata": {
        "colab": {
          "base_uri": "https://localhost:8080/"
        },
        "id": "d8gc6PHshYrc",
        "outputId": "b5b68fac-8ab6-4c55-99c0-15f1fe1256b0"
      },
      "execution_count": null,
      "outputs": [
        {
          "output_type": "stream",
          "name": "stdout",
          "text": [
            "[[2. 0. 1. 1.]]\n"
          ]
        }
      ]
    },
    {
      "cell_type": "code",
      "source": [
        "# 100. Compute bootstrapped 95% confidence intervals for the mean of a 1D array X (i.e., resample the elements of an array with replacement N times, compute the mean of each sample, and then compute percentiles over the means). (★★★)\n",
        "# Author: Jessica B. Hamrick\n",
        "\n",
        "X = np.random.randn(100) # random 1D array\n",
        "N = 1000 # number of bootstrap samples\n",
        "idx = np.random.randint(0, X.size, (N, X.size))\n",
        "means = X[idx].mean(axis=1)\n",
        "confint = np.percentile(means, [2.5, 97.5])\n",
        "print(confint)"
      ],
      "metadata": {
        "colab": {
          "base_uri": "https://localhost:8080/"
        },
        "id": "W2F4QC3ghYhF",
        "outputId": "dec0c801-8555-4320-89e1-7abe02757a34"
      },
      "execution_count": null,
      "outputs": [
        {
          "output_type": "stream",
          "name": "stdout",
          "text": [
            "[-0.39489185  0.00930222]\n"
          ]
        }
      ]
    }
  ]
}