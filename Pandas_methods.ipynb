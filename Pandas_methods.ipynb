{
  "nbformat": 4,
  "nbformat_minor": 0,
  "metadata": {
    "colab": {
      "provenance": [],
      "include_colab_link": true
    },
    "kernelspec": {
      "name": "python3",
      "display_name": "Python 3"
    },
    "language_info": {
      "name": "python"
    }
  },
  "cells": [
    {
      "cell_type": "markdown",
      "metadata": {
        "id": "view-in-github",
        "colab_type": "text"
      },
      "source": [
        "<a href=\"https://colab.research.google.com/github/SHAZAN01/Data_Analysis/blob/main/Pandas_methods.ipynb\" target=\"_parent\"><img src=\"https://colab.research.google.com/assets/colab-badge.svg\" alt=\"Open In Colab\"/></a>"
      ]
    },
    {
      "cell_type": "markdown",
      "source": [
        "References:\n",
        "\n",
        "https://www.machinelearningplus.com/python/101-pandas-exercises-python/\n",
        "\n",
        "Groupby function Reference\n",
        "\n",
        "https://www.analyticsvidhya.com/blog/2020/03/groupby-pandas-aggregating-data-python/\n"
      ],
      "metadata": {
        "id": "PKeVYWlUiex1"
      }
    },
    {
      "cell_type": "markdown",
      "source": [
        "**Handling Missing Data**"
      ],
      "metadata": {
        "id": "l6zrbsGAjqJD"
      }
    },
    {
      "cell_type": "markdown",
      "source": [
        "Missing data is a common occurrence in many data analysis applications. One of the panda's objectives is to make working with missing data as easy as possible. For example, all descriptive statistics on pandas objects by default remove missing data.\n",
        "\n",
        "The way missing data is represented in pandas objects is slightly inefficient, yet it serves many users well. Pandas employs the floating-point value NaN (Not a Number) to indicate missing data in numeric data. This is referred to be an easily detectable **sentinel** value:"
      ],
      "metadata": {
        "id": "I-BC1j51joaO"
      }
    },
    {
      "cell_type": "code",
      "source": [
        "import pandas as pd\n",
        "import numpy as np"
      ],
      "metadata": {
        "id": "1M7VXoqHkUdD"
      },
      "execution_count": null,
      "outputs": []
    },
    {
      "cell_type": "code",
      "execution_count": null,
      "metadata": {
        "id": "jlA3VduqjXOl"
      },
      "outputs": [],
      "source": [
        "a = pd.Series(['Tesla', 'Tata', np.nan, 'audi'])\n",
        "a"
      ]
    },
    {
      "cell_type": "code",
      "source": [
        "# To check null value status\n",
        "a.isnull()"
      ],
      "metadata": {
        "id": "-17nv0jUkewH"
      },
      "execution_count": null,
      "outputs": []
    },
    {
      "cell_type": "code",
      "source": [
        "# The built-in Python None value is also treated as NA in object arrays:\n",
        "# a[1] = None\n",
        "a"
      ],
      "metadata": {
        "id": "yQ7_QiCwkk-2"
      },
      "execution_count": null,
      "outputs": []
    },
    {
      "cell_type": "code",
      "source": [
        "a.isnull()"
      ],
      "metadata": {
        "id": "1630MjsVk8ph"
      },
      "execution_count": null,
      "outputs": []
    },
    {
      "cell_type": "code",
      "source": [
        "from numpy import nan as NA\n",
        "data = pd.Series([10, NA, 30, NA, 40,50,NA])\n",
        "data"
      ],
      "metadata": {
        "id": "muVi3toClArI"
      },
      "execution_count": null,
      "outputs": []
    },
    {
      "cell_type": "code",
      "source": [
        "# Drop rows with minimum one NaN value\n",
        "data.dropna()"
      ],
      "metadata": {
        "id": "f3ohv7C9lToD"
      },
      "execution_count": null,
      "outputs": []
    },
    {
      "cell_type": "code",
      "source": [
        "# Alternative\n",
        "data[data.notnull()]"
      ],
      "metadata": {
        "id": "PSa5EDBdlbZM"
      },
      "execution_count": null,
      "outputs": []
    },
    {
      "cell_type": "markdown",
      "source": [
        "**DataFrame operation**"
      ],
      "metadata": {
        "id": "tLGLkg7jltev"
      }
    },
    {
      "cell_type": "code",
      "source": [
        "data = pd.DataFrame([[1., 2., 3.], [1., NA, NA], [NA, NA, NA], [NA, 6.5, 3.]])\n",
        "data"
      ],
      "metadata": {
        "id": "VBwtAFjRlpGT"
      },
      "execution_count": null,
      "outputs": []
    },
    {
      "cell_type": "code",
      "source": [
        "# Drops enitre row having minimum one NA value\n",
        "cleaned = data.dropna()\n",
        "cleaned"
      ],
      "metadata": {
        "id": "eb5_rm1Ml49j"
      },
      "execution_count": null,
      "outputs": []
    },
    {
      "cell_type": "code",
      "source": [
        "# Drop rows with all as NaN values\n",
        "data.dropna(how='all') #does not update data\n",
        "data"
      ],
      "metadata": {
        "id": "IUinRqwwmGAC"
      },
      "execution_count": null,
      "outputs": []
    },
    {
      "cell_type": "code",
      "source": [
        "data.dropna(how='all',inplace=True) #updates the data\n",
        "# data= data.dropna(how='all') #updates the data\n",
        "data"
      ],
      "metadata": {
        "id": "Aelg0CHknJ62"
      },
      "execution_count": null,
      "outputs": []
    },
    {
      "cell_type": "code",
      "source": [
        "# Create a column with NA as value\n",
        "data[3]=NA\n",
        "data"
      ],
      "metadata": {
        "id": "4sfw1ZWSnNj4"
      },
      "execution_count": null,
      "outputs": []
    },
    {
      "cell_type": "markdown",
      "source": [
        "So far, we dropped rows having NaN values.\n",
        "To drop columns in the same way, pass axis=1"
      ],
      "metadata": {
        "id": "NCJIq6MonjoT"
      }
    },
    {
      "cell_type": "code",
      "source": [
        "data.dropna(axis=1, how='all')"
      ],
      "metadata": {
        "id": "KSF_zdT1ndHZ"
      },
      "execution_count": null,
      "outputs": []
    },
    {
      "cell_type": "markdown",
      "source": [
        "**Another example**"
      ],
      "metadata": {
        "id": "cWzmo3HSoS7H"
      }
    },
    {
      "cell_type": "code",
      "source": [
        "df = pd.DataFrame(np.random.randn(7, 5))\n",
        "df"
      ],
      "metadata": {
        "id": "k8VVUw-lnrCc"
      },
      "execution_count": null,
      "outputs": []
    },
    {
      "cell_type": "markdown",
      "source": [
        "Only selected datapoints can be made as NA using below method"
      ],
      "metadata": {
        "id": "L-cUkQR2pFeQ"
      }
    },
    {
      "cell_type": "code",
      "source": [
        "# Make first four values of column1 as Nan\n",
        "df.iloc[:4,1] = NA\n",
        "df.iloc[:2, 2] = NA\n",
        "df"
      ],
      "metadata": {
        "id": "fS4cvq3do-oI"
      },
      "execution_count": null,
      "outputs": []
    },
    {
      "cell_type": "markdown",
      "source": [
        "**thresh** parameter value decides the minimum number of non-NAN values needed in a \"ROW\" not to drop."
      ],
      "metadata": {
        "id": "5muDzCfbudXi"
      }
    },
    {
      "cell_type": "code",
      "source": [
        "df.dropna(thresh=4)"
      ],
      "metadata": {
        "id": "o5fMcRXTpUvP"
      },
      "execution_count": null,
      "outputs": []
    },
    {
      "cell_type": "code",
      "source": [
        "df.dropna()\n",
        "df"
      ],
      "metadata": {
        "id": "o2eTxq_Vpcmm"
      },
      "execution_count": null,
      "outputs": []
    },
    {
      "cell_type": "markdown",
      "source": [
        "Its not encouraged to drop the data having NA all the time as we might lose major contributing data values in the same rows/columns. Hence, filling the NA with some constant metric is preferrable.\n",
        "\n",
        "Calling fillna with a constant replaces missing values with that value:"
      ],
      "metadata": {
        "id": "aAkRldw1xeYb"
      }
    },
    {
      "cell_type": "code",
      "source": [
        "df.fillna(0)"
      ],
      "metadata": {
        "id": "jF2vnHEGuoKw"
      },
      "execution_count": null,
      "outputs": []
    },
    {
      "cell_type": "markdown",
      "source": [
        "Calling fillna with a dict, you can use a different fill value for each column"
      ],
      "metadata": {
        "id": "_3Myrbl-yZTH"
      }
    },
    {
      "cell_type": "code",
      "source": [
        "df.fillna({1: 10, 2: 20})"
      ],
      "metadata": {
        "id": "VvVStPhGyWHH"
      },
      "execution_count": null,
      "outputs": []
    },
    {
      "cell_type": "code",
      "source": [
        "data.duplicated()"
      ],
      "metadata": {
        "id": "W_Wm7qk4zOw6"
      },
      "execution_count": null,
      "outputs": []
    },
    {
      "cell_type": "markdown",
      "source": [
        "**Transforming Data Using a Function or Mapping**"
      ],
      "metadata": {
        "id": "UYewFX3eyzA_"
      }
    },
    {
      "cell_type": "code",
      "source": [
        "import pandas as pd"
      ],
      "metadata": {
        "id": "fgt0U3X6bK0x"
      },
      "execution_count": null,
      "outputs": []
    },
    {
      "cell_type": "code",
      "source": [
        "data = pd.DataFrame({'birds': ['crow', 'owl', 'peacock','sparrow', 'pigeon', 'hawk',\n",
        "'vulture', 'ostritch', 'parrot'],'lifespan': [10, 9, 20, 3, 15, 20, 10, 50, 50]})\n",
        "\n",
        "data"
      ],
      "metadata": {
        "id": "ceBDeTNV0eCE",
        "colab": {
          "base_uri": "https://localhost:8080/",
          "height": 332
        },
        "outputId": "e5e759a0-31ff-405e-8174-1c2b0f728928"
      },
      "execution_count": null,
      "outputs": [
        {
          "output_type": "execute_result",
          "data": {
            "text/plain": [
              "      birds  lifespan\n",
              "0      crow        10\n",
              "1       owl         9\n",
              "2   peacock        20\n",
              "3   sparrow         3\n",
              "4    pigeon        15\n",
              "5      hawk        20\n",
              "6   vulture        10\n",
              "7  ostritch        50\n",
              "8    parrot        50"
            ],
            "text/html": [
              "\n",
              "  <div id=\"df-89255f04-24a1-4bb6-86ce-509af1c5ee3b\">\n",
              "    <div class=\"colab-df-container\">\n",
              "      <div>\n",
              "<style scoped>\n",
              "    .dataframe tbody tr th:only-of-type {\n",
              "        vertical-align: middle;\n",
              "    }\n",
              "\n",
              "    .dataframe tbody tr th {\n",
              "        vertical-align: top;\n",
              "    }\n",
              "\n",
              "    .dataframe thead th {\n",
              "        text-align: right;\n",
              "    }\n",
              "</style>\n",
              "<table border=\"1\" class=\"dataframe\">\n",
              "  <thead>\n",
              "    <tr style=\"text-align: right;\">\n",
              "      <th></th>\n",
              "      <th>birds</th>\n",
              "      <th>lifespan</th>\n",
              "    </tr>\n",
              "  </thead>\n",
              "  <tbody>\n",
              "    <tr>\n",
              "      <th>0</th>\n",
              "      <td>crow</td>\n",
              "      <td>10</td>\n",
              "    </tr>\n",
              "    <tr>\n",
              "      <th>1</th>\n",
              "      <td>owl</td>\n",
              "      <td>9</td>\n",
              "    </tr>\n",
              "    <tr>\n",
              "      <th>2</th>\n",
              "      <td>peacock</td>\n",
              "      <td>20</td>\n",
              "    </tr>\n",
              "    <tr>\n",
              "      <th>3</th>\n",
              "      <td>sparrow</td>\n",
              "      <td>3</td>\n",
              "    </tr>\n",
              "    <tr>\n",
              "      <th>4</th>\n",
              "      <td>pigeon</td>\n",
              "      <td>15</td>\n",
              "    </tr>\n",
              "    <tr>\n",
              "      <th>5</th>\n",
              "      <td>hawk</td>\n",
              "      <td>20</td>\n",
              "    </tr>\n",
              "    <tr>\n",
              "      <th>6</th>\n",
              "      <td>vulture</td>\n",
              "      <td>10</td>\n",
              "    </tr>\n",
              "    <tr>\n",
              "      <th>7</th>\n",
              "      <td>ostritch</td>\n",
              "      <td>50</td>\n",
              "    </tr>\n",
              "    <tr>\n",
              "      <th>8</th>\n",
              "      <td>parrot</td>\n",
              "      <td>50</td>\n",
              "    </tr>\n",
              "  </tbody>\n",
              "</table>\n",
              "</div>\n",
              "      <button class=\"colab-df-convert\" onclick=\"convertToInteractive('df-89255f04-24a1-4bb6-86ce-509af1c5ee3b')\"\n",
              "              title=\"Convert this dataframe to an interactive table.\"\n",
              "              style=\"display:none;\">\n",
              "        \n",
              "  <svg xmlns=\"http://www.w3.org/2000/svg\" height=\"24px\"viewBox=\"0 0 24 24\"\n",
              "       width=\"24px\">\n",
              "    <path d=\"M0 0h24v24H0V0z\" fill=\"none\"/>\n",
              "    <path d=\"M18.56 5.44l.94 2.06.94-2.06 2.06-.94-2.06-.94-.94-2.06-.94 2.06-2.06.94zm-11 1L8.5 8.5l.94-2.06 2.06-.94-2.06-.94L8.5 2.5l-.94 2.06-2.06.94zm10 10l.94 2.06.94-2.06 2.06-.94-2.06-.94-.94-2.06-.94 2.06-2.06.94z\"/><path d=\"M17.41 7.96l-1.37-1.37c-.4-.4-.92-.59-1.43-.59-.52 0-1.04.2-1.43.59L10.3 9.45l-7.72 7.72c-.78.78-.78 2.05 0 2.83L4 21.41c.39.39.9.59 1.41.59.51 0 1.02-.2 1.41-.59l7.78-7.78 2.81-2.81c.8-.78.8-2.07 0-2.86zM5.41 20L4 18.59l7.72-7.72 1.47 1.35L5.41 20z\"/>\n",
              "  </svg>\n",
              "      </button>\n",
              "      \n",
              "  <style>\n",
              "    .colab-df-container {\n",
              "      display:flex;\n",
              "      flex-wrap:wrap;\n",
              "      gap: 12px;\n",
              "    }\n",
              "\n",
              "    .colab-df-convert {\n",
              "      background-color: #E8F0FE;\n",
              "      border: none;\n",
              "      border-radius: 50%;\n",
              "      cursor: pointer;\n",
              "      display: none;\n",
              "      fill: #1967D2;\n",
              "      height: 32px;\n",
              "      padding: 0 0 0 0;\n",
              "      width: 32px;\n",
              "    }\n",
              "\n",
              "    .colab-df-convert:hover {\n",
              "      background-color: #E2EBFA;\n",
              "      box-shadow: 0px 1px 2px rgba(60, 64, 67, 0.3), 0px 1px 3px 1px rgba(60, 64, 67, 0.15);\n",
              "      fill: #174EA6;\n",
              "    }\n",
              "\n",
              "    [theme=dark] .colab-df-convert {\n",
              "      background-color: #3B4455;\n",
              "      fill: #D2E3FC;\n",
              "    }\n",
              "\n",
              "    [theme=dark] .colab-df-convert:hover {\n",
              "      background-color: #434B5C;\n",
              "      box-shadow: 0px 1px 3px 1px rgba(0, 0, 0, 0.15);\n",
              "      filter: drop-shadow(0px 1px 2px rgba(0, 0, 0, 0.3));\n",
              "      fill: #FFFFFF;\n",
              "    }\n",
              "  </style>\n",
              "\n",
              "      <script>\n",
              "        const buttonEl =\n",
              "          document.querySelector('#df-89255f04-24a1-4bb6-86ce-509af1c5ee3b button.colab-df-convert');\n",
              "        buttonEl.style.display =\n",
              "          google.colab.kernel.accessAllowed ? 'block' : 'none';\n",
              "\n",
              "        async function convertToInteractive(key) {\n",
              "          const element = document.querySelector('#df-89255f04-24a1-4bb6-86ce-509af1c5ee3b');\n",
              "          const dataTable =\n",
              "            await google.colab.kernel.invokeFunction('convertToInteractive',\n",
              "                                                     [key], {});\n",
              "          if (!dataTable) return;\n",
              "\n",
              "          const docLinkHtml = 'Like what you see? Visit the ' +\n",
              "            '<a target=\"_blank\" href=https://colab.research.google.com/notebooks/data_table.ipynb>data table notebook</a>'\n",
              "            + ' to learn more about interactive tables.';\n",
              "          element.innerHTML = '';\n",
              "          dataTable['output_type'] = 'display_data';\n",
              "          await google.colab.output.renderOutput(dataTable, element);\n",
              "          const docLink = document.createElement('div');\n",
              "          docLink.innerHTML = docLinkHtml;\n",
              "          element.appendChild(docLink);\n",
              "        }\n",
              "      </script>\n",
              "    </div>\n",
              "  </div>\n",
              "  "
            ]
          },
          "metadata": {},
          "execution_count": 4
        }
      ]
    },
    {
      "cell_type": "code",
      "source": [
        "company_to_ceo = {\n",
        "'google': 'sunder pichai',\n",
        "'apple': 'tim cook',\n",
        "'tesla': 'elon musk',\n",
        "'microsoft': 'satya nadella',\n",
        "'meta': 'mark zuckerberg',\n",
        "'amazon': 'andy jassy'\n",
        "}"
      ],
      "metadata": {
        "id": "xbxyxChh00Za"
      },
      "execution_count": null,
      "outputs": []
    },
    {
      "cell_type": "code",
      "source": [
        "lowercased = data['birds'].str.lower()\n",
        "lowercased"
      ],
      "metadata": {
        "id": "S3F07TY802ZJ",
        "colab": {
          "base_uri": "https://localhost:8080/"
        },
        "outputId": "067d2eff-3b58-407d-f811-3ba0f85d380a"
      },
      "execution_count": null,
      "outputs": [
        {
          "output_type": "execute_result",
          "data": {
            "text/plain": [
              "0        crow\n",
              "1         owl\n",
              "2     peacock\n",
              "3     sparrow\n",
              "4      pigeon\n",
              "5        hawk\n",
              "6     vulture\n",
              "7    ostritch\n",
              "8      parrot\n",
              "Name: birds, dtype: object"
            ]
          },
          "metadata": {},
          "execution_count": 5
        }
      ]
    },
    {
      "cell_type": "code",
      "source": [
        "data['ceo'] = lowercased.map(company_to_ceo)\n",
        "data"
      ],
      "metadata": {
        "id": "AORgzufX1AvL",
        "colab": {
          "base_uri": "https://localhost:8080/",
          "height": 332
        },
        "outputId": "1ed5f4b1-ac55-4ab6-9963-16a4c7a44dd3"
      },
      "execution_count": null,
      "outputs": [
        {
          "output_type": "execute_result",
          "data": {
            "text/plain": [
              "      birds  lifespan  ceo\n",
              "0      crow        10  NaN\n",
              "1       owl         9  NaN\n",
              "2   peacock        20  NaN\n",
              "3   sparrow         3  NaN\n",
              "4    pigeon        15  NaN\n",
              "5      hawk        20  NaN\n",
              "6   vulture        10  NaN\n",
              "7  ostritch        50  NaN\n",
              "8    parrot        50  NaN"
            ],
            "text/html": [
              "\n",
              "  <div id=\"df-bd3075ff-a1ce-4d8b-8874-2bd1e7ed25ef\">\n",
              "    <div class=\"colab-df-container\">\n",
              "      <div>\n",
              "<style scoped>\n",
              "    .dataframe tbody tr th:only-of-type {\n",
              "        vertical-align: middle;\n",
              "    }\n",
              "\n",
              "    .dataframe tbody tr th {\n",
              "        vertical-align: top;\n",
              "    }\n",
              "\n",
              "    .dataframe thead th {\n",
              "        text-align: right;\n",
              "    }\n",
              "</style>\n",
              "<table border=\"1\" class=\"dataframe\">\n",
              "  <thead>\n",
              "    <tr style=\"text-align: right;\">\n",
              "      <th></th>\n",
              "      <th>birds</th>\n",
              "      <th>lifespan</th>\n",
              "      <th>ceo</th>\n",
              "    </tr>\n",
              "  </thead>\n",
              "  <tbody>\n",
              "    <tr>\n",
              "      <th>0</th>\n",
              "      <td>crow</td>\n",
              "      <td>10</td>\n",
              "      <td>NaN</td>\n",
              "    </tr>\n",
              "    <tr>\n",
              "      <th>1</th>\n",
              "      <td>owl</td>\n",
              "      <td>9</td>\n",
              "      <td>NaN</td>\n",
              "    </tr>\n",
              "    <tr>\n",
              "      <th>2</th>\n",
              "      <td>peacock</td>\n",
              "      <td>20</td>\n",
              "      <td>NaN</td>\n",
              "    </tr>\n",
              "    <tr>\n",
              "      <th>3</th>\n",
              "      <td>sparrow</td>\n",
              "      <td>3</td>\n",
              "      <td>NaN</td>\n",
              "    </tr>\n",
              "    <tr>\n",
              "      <th>4</th>\n",
              "      <td>pigeon</td>\n",
              "      <td>15</td>\n",
              "      <td>NaN</td>\n",
              "    </tr>\n",
              "    <tr>\n",
              "      <th>5</th>\n",
              "      <td>hawk</td>\n",
              "      <td>20</td>\n",
              "      <td>NaN</td>\n",
              "    </tr>\n",
              "    <tr>\n",
              "      <th>6</th>\n",
              "      <td>vulture</td>\n",
              "      <td>10</td>\n",
              "      <td>NaN</td>\n",
              "    </tr>\n",
              "    <tr>\n",
              "      <th>7</th>\n",
              "      <td>ostritch</td>\n",
              "      <td>50</td>\n",
              "      <td>NaN</td>\n",
              "    </tr>\n",
              "    <tr>\n",
              "      <th>8</th>\n",
              "      <td>parrot</td>\n",
              "      <td>50</td>\n",
              "      <td>NaN</td>\n",
              "    </tr>\n",
              "  </tbody>\n",
              "</table>\n",
              "</div>\n",
              "      <button class=\"colab-df-convert\" onclick=\"convertToInteractive('df-bd3075ff-a1ce-4d8b-8874-2bd1e7ed25ef')\"\n",
              "              title=\"Convert this dataframe to an interactive table.\"\n",
              "              style=\"display:none;\">\n",
              "        \n",
              "  <svg xmlns=\"http://www.w3.org/2000/svg\" height=\"24px\"viewBox=\"0 0 24 24\"\n",
              "       width=\"24px\">\n",
              "    <path d=\"M0 0h24v24H0V0z\" fill=\"none\"/>\n",
              "    <path d=\"M18.56 5.44l.94 2.06.94-2.06 2.06-.94-2.06-.94-.94-2.06-.94 2.06-2.06.94zm-11 1L8.5 8.5l.94-2.06 2.06-.94-2.06-.94L8.5 2.5l-.94 2.06-2.06.94zm10 10l.94 2.06.94-2.06 2.06-.94-2.06-.94-.94-2.06-.94 2.06-2.06.94z\"/><path d=\"M17.41 7.96l-1.37-1.37c-.4-.4-.92-.59-1.43-.59-.52 0-1.04.2-1.43.59L10.3 9.45l-7.72 7.72c-.78.78-.78 2.05 0 2.83L4 21.41c.39.39.9.59 1.41.59.51 0 1.02-.2 1.41-.59l7.78-7.78 2.81-2.81c.8-.78.8-2.07 0-2.86zM5.41 20L4 18.59l7.72-7.72 1.47 1.35L5.41 20z\"/>\n",
              "  </svg>\n",
              "      </button>\n",
              "      \n",
              "  <style>\n",
              "    .colab-df-container {\n",
              "      display:flex;\n",
              "      flex-wrap:wrap;\n",
              "      gap: 12px;\n",
              "    }\n",
              "\n",
              "    .colab-df-convert {\n",
              "      background-color: #E8F0FE;\n",
              "      border: none;\n",
              "      border-radius: 50%;\n",
              "      cursor: pointer;\n",
              "      display: none;\n",
              "      fill: #1967D2;\n",
              "      height: 32px;\n",
              "      padding: 0 0 0 0;\n",
              "      width: 32px;\n",
              "    }\n",
              "\n",
              "    .colab-df-convert:hover {\n",
              "      background-color: #E2EBFA;\n",
              "      box-shadow: 0px 1px 2px rgba(60, 64, 67, 0.3), 0px 1px 3px 1px rgba(60, 64, 67, 0.15);\n",
              "      fill: #174EA6;\n",
              "    }\n",
              "\n",
              "    [theme=dark] .colab-df-convert {\n",
              "      background-color: #3B4455;\n",
              "      fill: #D2E3FC;\n",
              "    }\n",
              "\n",
              "    [theme=dark] .colab-df-convert:hover {\n",
              "      background-color: #434B5C;\n",
              "      box-shadow: 0px 1px 3px 1px rgba(0, 0, 0, 0.15);\n",
              "      filter: drop-shadow(0px 1px 2px rgba(0, 0, 0, 0.3));\n",
              "      fill: #FFFFFF;\n",
              "    }\n",
              "  </style>\n",
              "\n",
              "      <script>\n",
              "        const buttonEl =\n",
              "          document.querySelector('#df-bd3075ff-a1ce-4d8b-8874-2bd1e7ed25ef button.colab-df-convert');\n",
              "        buttonEl.style.display =\n",
              "          google.colab.kernel.accessAllowed ? 'block' : 'none';\n",
              "\n",
              "        async function convertToInteractive(key) {\n",
              "          const element = document.querySelector('#df-bd3075ff-a1ce-4d8b-8874-2bd1e7ed25ef');\n",
              "          const dataTable =\n",
              "            await google.colab.kernel.invokeFunction('convertToInteractive',\n",
              "                                                     [key], {});\n",
              "          if (!dataTable) return;\n",
              "\n",
              "          const docLinkHtml = 'Like what you see? Visit the ' +\n",
              "            '<a target=\"_blank\" href=https://colab.research.google.com/notebooks/data_table.ipynb>data table notebook</a>'\n",
              "            + ' to learn more about interactive tables.';\n",
              "          element.innerHTML = '';\n",
              "          dataTable['output_type'] = 'display_data';\n",
              "          await google.colab.output.renderOutput(dataTable, element);\n",
              "          const docLink = document.createElement('div');\n",
              "          docLink.innerHTML = docLinkHtml;\n",
              "          element.appendChild(docLink);\n",
              "        }\n",
              "      </script>\n",
              "    </div>\n",
              "  </div>\n",
              "  "
            ]
          },
          "metadata": {},
          "execution_count": 7
        }
      ]
    },
    {
      "cell_type": "code",
      "source": [
        "# Alternative\n",
        "data['birds'].map(lambda x: company_to_ceo[x.lower()])"
      ],
      "metadata": {
        "id": "142VaZ1g5_uO",
        "colab": {
          "base_uri": "https://localhost:8080/",
          "height": 277
        },
        "outputId": "490f3842-d82c-4a61-f781-3a5526874071"
      },
      "execution_count": null,
      "outputs": [
        {
          "output_type": "error",
          "ename": "KeyError",
          "evalue": "ignored",
          "traceback": [
            "\u001b[0;31m---------------------------------------------------------------------------\u001b[0m",
            "\u001b[0;31mKeyError\u001b[0m                                  Traceback (most recent call last)",
            "\u001b[0;32m<ipython-input-8-ede220426745>\u001b[0m in \u001b[0;36m<module>\u001b[0;34m\u001b[0m\n\u001b[1;32m      1\u001b[0m \u001b[0;31m# Alternative\u001b[0m\u001b[0;34m\u001b[0m\u001b[0;34m\u001b[0m\u001b[0;34m\u001b[0m\u001b[0m\n\u001b[0;32m----> 2\u001b[0;31m \u001b[0mdata\u001b[0m\u001b[0;34m[\u001b[0m\u001b[0;34m'birds'\u001b[0m\u001b[0;34m]\u001b[0m\u001b[0;34m.\u001b[0m\u001b[0mmap\u001b[0m\u001b[0;34m(\u001b[0m\u001b[0;32mlambda\u001b[0m \u001b[0mx\u001b[0m\u001b[0;34m:\u001b[0m \u001b[0mcompany_to_ceo\u001b[0m\u001b[0;34m[\u001b[0m\u001b[0mx\u001b[0m\u001b[0;34m.\u001b[0m\u001b[0mlower\u001b[0m\u001b[0;34m(\u001b[0m\u001b[0;34m)\u001b[0m\u001b[0;34m]\u001b[0m\u001b[0;34m)\u001b[0m\u001b[0;34m\u001b[0m\u001b[0;34m\u001b[0m\u001b[0m\n\u001b[0m",
            "\u001b[0;32m/usr/local/lib/python3.7/dist-packages/pandas/core/series.py\u001b[0m in \u001b[0;36mmap\u001b[0;34m(self, arg, na_action)\u001b[0m\n\u001b[1;32m   4159\u001b[0m         \u001b[0mdtype\u001b[0m\u001b[0;34m:\u001b[0m \u001b[0mobject\u001b[0m\u001b[0;34m\u001b[0m\u001b[0;34m\u001b[0m\u001b[0m\n\u001b[1;32m   4160\u001b[0m         \"\"\"\n\u001b[0;32m-> 4161\u001b[0;31m         \u001b[0mnew_values\u001b[0m \u001b[0;34m=\u001b[0m \u001b[0msuper\u001b[0m\u001b[0;34m(\u001b[0m\u001b[0;34m)\u001b[0m\u001b[0;34m.\u001b[0m\u001b[0m_map_values\u001b[0m\u001b[0;34m(\u001b[0m\u001b[0marg\u001b[0m\u001b[0;34m,\u001b[0m \u001b[0mna_action\u001b[0m\u001b[0;34m=\u001b[0m\u001b[0mna_action\u001b[0m\u001b[0;34m)\u001b[0m\u001b[0;34m\u001b[0m\u001b[0;34m\u001b[0m\u001b[0m\n\u001b[0m\u001b[1;32m   4162\u001b[0m         return self._constructor(new_values, index=self.index).__finalize__(\n\u001b[1;32m   4163\u001b[0m             \u001b[0mself\u001b[0m\u001b[0;34m,\u001b[0m \u001b[0mmethod\u001b[0m\u001b[0;34m=\u001b[0m\u001b[0;34m\"map\"\u001b[0m\u001b[0;34m\u001b[0m\u001b[0;34m\u001b[0m\u001b[0m\n",
            "\u001b[0;32m/usr/local/lib/python3.7/dist-packages/pandas/core/base.py\u001b[0m in \u001b[0;36m_map_values\u001b[0;34m(self, mapper, na_action)\u001b[0m\n\u001b[1;32m    868\u001b[0m \u001b[0;34m\u001b[0m\u001b[0m\n\u001b[1;32m    869\u001b[0m         \u001b[0;31m# mapper is a function\u001b[0m\u001b[0;34m\u001b[0m\u001b[0;34m\u001b[0m\u001b[0;34m\u001b[0m\u001b[0m\n\u001b[0;32m--> 870\u001b[0;31m         \u001b[0mnew_values\u001b[0m \u001b[0;34m=\u001b[0m \u001b[0mmap_f\u001b[0m\u001b[0;34m(\u001b[0m\u001b[0mvalues\u001b[0m\u001b[0;34m,\u001b[0m \u001b[0mmapper\u001b[0m\u001b[0;34m)\u001b[0m\u001b[0;34m\u001b[0m\u001b[0;34m\u001b[0m\u001b[0m\n\u001b[0m\u001b[1;32m    871\u001b[0m \u001b[0;34m\u001b[0m\u001b[0m\n\u001b[1;32m    872\u001b[0m         \u001b[0;32mreturn\u001b[0m \u001b[0mnew_values\u001b[0m\u001b[0;34m\u001b[0m\u001b[0;34m\u001b[0m\u001b[0m\n",
            "\u001b[0;32m/usr/local/lib/python3.7/dist-packages/pandas/_libs/lib.pyx\u001b[0m in \u001b[0;36mpandas._libs.lib.map_infer\u001b[0;34m()\u001b[0m\n",
            "\u001b[0;32m<ipython-input-8-ede220426745>\u001b[0m in \u001b[0;36m<lambda>\u001b[0;34m(x)\u001b[0m\n\u001b[1;32m      1\u001b[0m \u001b[0;31m# Alternative\u001b[0m\u001b[0;34m\u001b[0m\u001b[0;34m\u001b[0m\u001b[0;34m\u001b[0m\u001b[0m\n\u001b[0;32m----> 2\u001b[0;31m \u001b[0mdata\u001b[0m\u001b[0;34m[\u001b[0m\u001b[0;34m'birds'\u001b[0m\u001b[0;34m]\u001b[0m\u001b[0;34m.\u001b[0m\u001b[0mmap\u001b[0m\u001b[0;34m(\u001b[0m\u001b[0;32mlambda\u001b[0m \u001b[0mx\u001b[0m\u001b[0;34m:\u001b[0m \u001b[0mcompany_to_ceo\u001b[0m\u001b[0;34m[\u001b[0m\u001b[0mx\u001b[0m\u001b[0;34m.\u001b[0m\u001b[0mlower\u001b[0m\u001b[0;34m(\u001b[0m\u001b[0;34m)\u001b[0m\u001b[0;34m]\u001b[0m\u001b[0;34m)\u001b[0m\u001b[0;34m\u001b[0m\u001b[0;34m\u001b[0m\u001b[0m\n\u001b[0m",
            "\u001b[0;31mKeyError\u001b[0m: 'crow'"
          ]
        }
      ]
    },
    {
      "cell_type": "code",
      "source": [
        "# To make operations like rename on columns\n",
        "data.rename( columns=str.upper)"
      ],
      "metadata": {
        "id": "ks7ibm5GG8_K",
        "colab": {
          "base_uri": "https://localhost:8080/",
          "height": 332
        },
        "outputId": "af695d87-2de6-4a31-802e-382dee5bcdbb"
      },
      "execution_count": null,
      "outputs": [
        {
          "output_type": "execute_result",
          "data": {
            "text/plain": [
              "      BIRDS  LIFESPAN  CEO\n",
              "0      crow        10  NaN\n",
              "1       owl         9  NaN\n",
              "2   peacock        20  NaN\n",
              "3   sparrow         3  NaN\n",
              "4    pigeon        15  NaN\n",
              "5      hawk        20  NaN\n",
              "6   vulture        10  NaN\n",
              "7  ostritch        50  NaN\n",
              "8    parrot        50  NaN"
            ],
            "text/html": [
              "\n",
              "  <div id=\"df-81ce2cc6-103f-49b2-ae8d-bfcedb9e3185\">\n",
              "    <div class=\"colab-df-container\">\n",
              "      <div>\n",
              "<style scoped>\n",
              "    .dataframe tbody tr th:only-of-type {\n",
              "        vertical-align: middle;\n",
              "    }\n",
              "\n",
              "    .dataframe tbody tr th {\n",
              "        vertical-align: top;\n",
              "    }\n",
              "\n",
              "    .dataframe thead th {\n",
              "        text-align: right;\n",
              "    }\n",
              "</style>\n",
              "<table border=\"1\" class=\"dataframe\">\n",
              "  <thead>\n",
              "    <tr style=\"text-align: right;\">\n",
              "      <th></th>\n",
              "      <th>BIRDS</th>\n",
              "      <th>LIFESPAN</th>\n",
              "      <th>CEO</th>\n",
              "    </tr>\n",
              "  </thead>\n",
              "  <tbody>\n",
              "    <tr>\n",
              "      <th>0</th>\n",
              "      <td>crow</td>\n",
              "      <td>10</td>\n",
              "      <td>NaN</td>\n",
              "    </tr>\n",
              "    <tr>\n",
              "      <th>1</th>\n",
              "      <td>owl</td>\n",
              "      <td>9</td>\n",
              "      <td>NaN</td>\n",
              "    </tr>\n",
              "    <tr>\n",
              "      <th>2</th>\n",
              "      <td>peacock</td>\n",
              "      <td>20</td>\n",
              "      <td>NaN</td>\n",
              "    </tr>\n",
              "    <tr>\n",
              "      <th>3</th>\n",
              "      <td>sparrow</td>\n",
              "      <td>3</td>\n",
              "      <td>NaN</td>\n",
              "    </tr>\n",
              "    <tr>\n",
              "      <th>4</th>\n",
              "      <td>pigeon</td>\n",
              "      <td>15</td>\n",
              "      <td>NaN</td>\n",
              "    </tr>\n",
              "    <tr>\n",
              "      <th>5</th>\n",
              "      <td>hawk</td>\n",
              "      <td>20</td>\n",
              "      <td>NaN</td>\n",
              "    </tr>\n",
              "    <tr>\n",
              "      <th>6</th>\n",
              "      <td>vulture</td>\n",
              "      <td>10</td>\n",
              "      <td>NaN</td>\n",
              "    </tr>\n",
              "    <tr>\n",
              "      <th>7</th>\n",
              "      <td>ostritch</td>\n",
              "      <td>50</td>\n",
              "      <td>NaN</td>\n",
              "    </tr>\n",
              "    <tr>\n",
              "      <th>8</th>\n",
              "      <td>parrot</td>\n",
              "      <td>50</td>\n",
              "      <td>NaN</td>\n",
              "    </tr>\n",
              "  </tbody>\n",
              "</table>\n",
              "</div>\n",
              "      <button class=\"colab-df-convert\" onclick=\"convertToInteractive('df-81ce2cc6-103f-49b2-ae8d-bfcedb9e3185')\"\n",
              "              title=\"Convert this dataframe to an interactive table.\"\n",
              "              style=\"display:none;\">\n",
              "        \n",
              "  <svg xmlns=\"http://www.w3.org/2000/svg\" height=\"24px\"viewBox=\"0 0 24 24\"\n",
              "       width=\"24px\">\n",
              "    <path d=\"M0 0h24v24H0V0z\" fill=\"none\"/>\n",
              "    <path d=\"M18.56 5.44l.94 2.06.94-2.06 2.06-.94-2.06-.94-.94-2.06-.94 2.06-2.06.94zm-11 1L8.5 8.5l.94-2.06 2.06-.94-2.06-.94L8.5 2.5l-.94 2.06-2.06.94zm10 10l.94 2.06.94-2.06 2.06-.94-2.06-.94-.94-2.06-.94 2.06-2.06.94z\"/><path d=\"M17.41 7.96l-1.37-1.37c-.4-.4-.92-.59-1.43-.59-.52 0-1.04.2-1.43.59L10.3 9.45l-7.72 7.72c-.78.78-.78 2.05 0 2.83L4 21.41c.39.39.9.59 1.41.59.51 0 1.02-.2 1.41-.59l7.78-7.78 2.81-2.81c.8-.78.8-2.07 0-2.86zM5.41 20L4 18.59l7.72-7.72 1.47 1.35L5.41 20z\"/>\n",
              "  </svg>\n",
              "      </button>\n",
              "      \n",
              "  <style>\n",
              "    .colab-df-container {\n",
              "      display:flex;\n",
              "      flex-wrap:wrap;\n",
              "      gap: 12px;\n",
              "    }\n",
              "\n",
              "    .colab-df-convert {\n",
              "      background-color: #E8F0FE;\n",
              "      border: none;\n",
              "      border-radius: 50%;\n",
              "      cursor: pointer;\n",
              "      display: none;\n",
              "      fill: #1967D2;\n",
              "      height: 32px;\n",
              "      padding: 0 0 0 0;\n",
              "      width: 32px;\n",
              "    }\n",
              "\n",
              "    .colab-df-convert:hover {\n",
              "      background-color: #E2EBFA;\n",
              "      box-shadow: 0px 1px 2px rgba(60, 64, 67, 0.3), 0px 1px 3px 1px rgba(60, 64, 67, 0.15);\n",
              "      fill: #174EA6;\n",
              "    }\n",
              "\n",
              "    [theme=dark] .colab-df-convert {\n",
              "      background-color: #3B4455;\n",
              "      fill: #D2E3FC;\n",
              "    }\n",
              "\n",
              "    [theme=dark] .colab-df-convert:hover {\n",
              "      background-color: #434B5C;\n",
              "      box-shadow: 0px 1px 3px 1px rgba(0, 0, 0, 0.15);\n",
              "      filter: drop-shadow(0px 1px 2px rgba(0, 0, 0, 0.3));\n",
              "      fill: #FFFFFF;\n",
              "    }\n",
              "  </style>\n",
              "\n",
              "      <script>\n",
              "        const buttonEl =\n",
              "          document.querySelector('#df-81ce2cc6-103f-49b2-ae8d-bfcedb9e3185 button.colab-df-convert');\n",
              "        buttonEl.style.display =\n",
              "          google.colab.kernel.accessAllowed ? 'block' : 'none';\n",
              "\n",
              "        async function convertToInteractive(key) {\n",
              "          const element = document.querySelector('#df-81ce2cc6-103f-49b2-ae8d-bfcedb9e3185');\n",
              "          const dataTable =\n",
              "            await google.colab.kernel.invokeFunction('convertToInteractive',\n",
              "                                                     [key], {});\n",
              "          if (!dataTable) return;\n",
              "\n",
              "          const docLinkHtml = 'Like what you see? Visit the ' +\n",
              "            '<a target=\"_blank\" href=https://colab.research.google.com/notebooks/data_table.ipynb>data table notebook</a>'\n",
              "            + ' to learn more about interactive tables.';\n",
              "          element.innerHTML = '';\n",
              "          dataTable['output_type'] = 'display_data';\n",
              "          await google.colab.output.renderOutput(dataTable, element);\n",
              "          const docLink = document.createElement('div');\n",
              "          docLink.innerHTML = docLinkHtml;\n",
              "          element.appendChild(docLink);\n",
              "        }\n",
              "      </script>\n",
              "    </div>\n",
              "  </div>\n",
              "  "
            ]
          },
          "metadata": {},
          "execution_count": 9
        }
      ]
    },
    {
      "cell_type": "markdown",
      "source": [
        "**Data Replacing**\n",
        "\n",
        "Filling in missing data with the fillna method is a special case of more general value\n",
        "replacement. As you’ve already seen, map can be used to modify a subset of values in\n",
        "an object but replace provides a simpler and more flexible way to do so"
      ],
      "metadata": {
        "id": "mkHYSNpnFb_b"
      }
    },
    {
      "cell_type": "code",
      "source": [
        "data = pd.DataFrame([[1., 2., 3.], [1., 'NA', 'NA'], ['NA', 'NA', 'NA'], ['NA', 6.5, 3.]])\n",
        "data"
      ],
      "metadata": {
        "colab": {
          "base_uri": "https://localhost:8080/",
          "height": 175
        },
        "id": "iSbp9EWpFeVZ",
        "outputId": "8eb5d3d0-0adf-41ca-eb57-591f027f60a0"
      },
      "execution_count": null,
      "outputs": [
        {
          "output_type": "execute_result",
          "data": {
            "text/plain": [
              "     0    1    2\n",
              "0  1.0  2.0  3.0\n",
              "1  1.0   NA   NA\n",
              "2   NA   NA   NA\n",
              "3   NA  6.5  3.0"
            ],
            "text/html": [
              "\n",
              "  <div id=\"df-4a546d0f-ae88-4a47-a246-d159e7d64e7b\">\n",
              "    <div class=\"colab-df-container\">\n",
              "      <div>\n",
              "<style scoped>\n",
              "    .dataframe tbody tr th:only-of-type {\n",
              "        vertical-align: middle;\n",
              "    }\n",
              "\n",
              "    .dataframe tbody tr th {\n",
              "        vertical-align: top;\n",
              "    }\n",
              "\n",
              "    .dataframe thead th {\n",
              "        text-align: right;\n",
              "    }\n",
              "</style>\n",
              "<table border=\"1\" class=\"dataframe\">\n",
              "  <thead>\n",
              "    <tr style=\"text-align: right;\">\n",
              "      <th></th>\n",
              "      <th>0</th>\n",
              "      <th>1</th>\n",
              "      <th>2</th>\n",
              "    </tr>\n",
              "  </thead>\n",
              "  <tbody>\n",
              "    <tr>\n",
              "      <th>0</th>\n",
              "      <td>1.0</td>\n",
              "      <td>2.0</td>\n",
              "      <td>3.0</td>\n",
              "    </tr>\n",
              "    <tr>\n",
              "      <th>1</th>\n",
              "      <td>1.0</td>\n",
              "      <td>NA</td>\n",
              "      <td>NA</td>\n",
              "    </tr>\n",
              "    <tr>\n",
              "      <th>2</th>\n",
              "      <td>NA</td>\n",
              "      <td>NA</td>\n",
              "      <td>NA</td>\n",
              "    </tr>\n",
              "    <tr>\n",
              "      <th>3</th>\n",
              "      <td>NA</td>\n",
              "      <td>6.5</td>\n",
              "      <td>3.0</td>\n",
              "    </tr>\n",
              "  </tbody>\n",
              "</table>\n",
              "</div>\n",
              "      <button class=\"colab-df-convert\" onclick=\"convertToInteractive('df-4a546d0f-ae88-4a47-a246-d159e7d64e7b')\"\n",
              "              title=\"Convert this dataframe to an interactive table.\"\n",
              "              style=\"display:none;\">\n",
              "        \n",
              "  <svg xmlns=\"http://www.w3.org/2000/svg\" height=\"24px\"viewBox=\"0 0 24 24\"\n",
              "       width=\"24px\">\n",
              "    <path d=\"M0 0h24v24H0V0z\" fill=\"none\"/>\n",
              "    <path d=\"M18.56 5.44l.94 2.06.94-2.06 2.06-.94-2.06-.94-.94-2.06-.94 2.06-2.06.94zm-11 1L8.5 8.5l.94-2.06 2.06-.94-2.06-.94L8.5 2.5l-.94 2.06-2.06.94zm10 10l.94 2.06.94-2.06 2.06-.94-2.06-.94-.94-2.06-.94 2.06-2.06.94z\"/><path d=\"M17.41 7.96l-1.37-1.37c-.4-.4-.92-.59-1.43-.59-.52 0-1.04.2-1.43.59L10.3 9.45l-7.72 7.72c-.78.78-.78 2.05 0 2.83L4 21.41c.39.39.9.59 1.41.59.51 0 1.02-.2 1.41-.59l7.78-7.78 2.81-2.81c.8-.78.8-2.07 0-2.86zM5.41 20L4 18.59l7.72-7.72 1.47 1.35L5.41 20z\"/>\n",
              "  </svg>\n",
              "      </button>\n",
              "      \n",
              "  <style>\n",
              "    .colab-df-container {\n",
              "      display:flex;\n",
              "      flex-wrap:wrap;\n",
              "      gap: 12px;\n",
              "    }\n",
              "\n",
              "    .colab-df-convert {\n",
              "      background-color: #E8F0FE;\n",
              "      border: none;\n",
              "      border-radius: 50%;\n",
              "      cursor: pointer;\n",
              "      display: none;\n",
              "      fill: #1967D2;\n",
              "      height: 32px;\n",
              "      padding: 0 0 0 0;\n",
              "      width: 32px;\n",
              "    }\n",
              "\n",
              "    .colab-df-convert:hover {\n",
              "      background-color: #E2EBFA;\n",
              "      box-shadow: 0px 1px 2px rgba(60, 64, 67, 0.3), 0px 1px 3px 1px rgba(60, 64, 67, 0.15);\n",
              "      fill: #174EA6;\n",
              "    }\n",
              "\n",
              "    [theme=dark] .colab-df-convert {\n",
              "      background-color: #3B4455;\n",
              "      fill: #D2E3FC;\n",
              "    }\n",
              "\n",
              "    [theme=dark] .colab-df-convert:hover {\n",
              "      background-color: #434B5C;\n",
              "      box-shadow: 0px 1px 3px 1px rgba(0, 0, 0, 0.15);\n",
              "      filter: drop-shadow(0px 1px 2px rgba(0, 0, 0, 0.3));\n",
              "      fill: #FFFFFF;\n",
              "    }\n",
              "  </style>\n",
              "\n",
              "      <script>\n",
              "        const buttonEl =\n",
              "          document.querySelector('#df-4a546d0f-ae88-4a47-a246-d159e7d64e7b button.colab-df-convert');\n",
              "        buttonEl.style.display =\n",
              "          google.colab.kernel.accessAllowed ? 'block' : 'none';\n",
              "\n",
              "        async function convertToInteractive(key) {\n",
              "          const element = document.querySelector('#df-4a546d0f-ae88-4a47-a246-d159e7d64e7b');\n",
              "          const dataTable =\n",
              "            await google.colab.kernel.invokeFunction('convertToInteractive',\n",
              "                                                     [key], {});\n",
              "          if (!dataTable) return;\n",
              "\n",
              "          const docLinkHtml = 'Like what you see? Visit the ' +\n",
              "            '<a target=\"_blank\" href=https://colab.research.google.com/notebooks/data_table.ipynb>data table notebook</a>'\n",
              "            + ' to learn more about interactive tables.';\n",
              "          element.innerHTML = '';\n",
              "          dataTable['output_type'] = 'display_data';\n",
              "          await google.colab.output.renderOutput(dataTable, element);\n",
              "          const docLink = document.createElement('div');\n",
              "          docLink.innerHTML = docLinkHtml;\n",
              "          element.appendChild(docLink);\n",
              "        }\n",
              "      </script>\n",
              "    </div>\n",
              "  </div>\n",
              "  "
            ]
          },
          "metadata": {},
          "execution_count": 12
        }
      ]
    },
    {
      "cell_type": "code",
      "source": [
        "data.replace('NA', 0)"
      ],
      "metadata": {
        "colab": {
          "base_uri": "https://localhost:8080/",
          "height": 175
        },
        "id": "L7KCBkdOGYrq",
        "outputId": "bc6a9557-099f-4a78-ce66-dd5c553218f0"
      },
      "execution_count": null,
      "outputs": [
        {
          "output_type": "execute_result",
          "data": {
            "text/plain": [
              "     0    1    2\n",
              "0  1.0  2.0  3.0\n",
              "1  1.0  0.0  0.0\n",
              "2  0.0  0.0  0.0\n",
              "3  0.0  6.5  3.0"
            ],
            "text/html": [
              "\n",
              "  <div id=\"df-259b38dd-3c0f-45c8-8b5f-420431c542c4\">\n",
              "    <div class=\"colab-df-container\">\n",
              "      <div>\n",
              "<style scoped>\n",
              "    .dataframe tbody tr th:only-of-type {\n",
              "        vertical-align: middle;\n",
              "    }\n",
              "\n",
              "    .dataframe tbody tr th {\n",
              "        vertical-align: top;\n",
              "    }\n",
              "\n",
              "    .dataframe thead th {\n",
              "        text-align: right;\n",
              "    }\n",
              "</style>\n",
              "<table border=\"1\" class=\"dataframe\">\n",
              "  <thead>\n",
              "    <tr style=\"text-align: right;\">\n",
              "      <th></th>\n",
              "      <th>0</th>\n",
              "      <th>1</th>\n",
              "      <th>2</th>\n",
              "    </tr>\n",
              "  </thead>\n",
              "  <tbody>\n",
              "    <tr>\n",
              "      <th>0</th>\n",
              "      <td>1.0</td>\n",
              "      <td>2.0</td>\n",
              "      <td>3.0</td>\n",
              "    </tr>\n",
              "    <tr>\n",
              "      <th>1</th>\n",
              "      <td>1.0</td>\n",
              "      <td>0.0</td>\n",
              "      <td>0.0</td>\n",
              "    </tr>\n",
              "    <tr>\n",
              "      <th>2</th>\n",
              "      <td>0.0</td>\n",
              "      <td>0.0</td>\n",
              "      <td>0.0</td>\n",
              "    </tr>\n",
              "    <tr>\n",
              "      <th>3</th>\n",
              "      <td>0.0</td>\n",
              "      <td>6.5</td>\n",
              "      <td>3.0</td>\n",
              "    </tr>\n",
              "  </tbody>\n",
              "</table>\n",
              "</div>\n",
              "      <button class=\"colab-df-convert\" onclick=\"convertToInteractive('df-259b38dd-3c0f-45c8-8b5f-420431c542c4')\"\n",
              "              title=\"Convert this dataframe to an interactive table.\"\n",
              "              style=\"display:none;\">\n",
              "        \n",
              "  <svg xmlns=\"http://www.w3.org/2000/svg\" height=\"24px\"viewBox=\"0 0 24 24\"\n",
              "       width=\"24px\">\n",
              "    <path d=\"M0 0h24v24H0V0z\" fill=\"none\"/>\n",
              "    <path d=\"M18.56 5.44l.94 2.06.94-2.06 2.06-.94-2.06-.94-.94-2.06-.94 2.06-2.06.94zm-11 1L8.5 8.5l.94-2.06 2.06-.94-2.06-.94L8.5 2.5l-.94 2.06-2.06.94zm10 10l.94 2.06.94-2.06 2.06-.94-2.06-.94-.94-2.06-.94 2.06-2.06.94z\"/><path d=\"M17.41 7.96l-1.37-1.37c-.4-.4-.92-.59-1.43-.59-.52 0-1.04.2-1.43.59L10.3 9.45l-7.72 7.72c-.78.78-.78 2.05 0 2.83L4 21.41c.39.39.9.59 1.41.59.51 0 1.02-.2 1.41-.59l7.78-7.78 2.81-2.81c.8-.78.8-2.07 0-2.86zM5.41 20L4 18.59l7.72-7.72 1.47 1.35L5.41 20z\"/>\n",
              "  </svg>\n",
              "      </button>\n",
              "      \n",
              "  <style>\n",
              "    .colab-df-container {\n",
              "      display:flex;\n",
              "      flex-wrap:wrap;\n",
              "      gap: 12px;\n",
              "    }\n",
              "\n",
              "    .colab-df-convert {\n",
              "      background-color: #E8F0FE;\n",
              "      border: none;\n",
              "      border-radius: 50%;\n",
              "      cursor: pointer;\n",
              "      display: none;\n",
              "      fill: #1967D2;\n",
              "      height: 32px;\n",
              "      padding: 0 0 0 0;\n",
              "      width: 32px;\n",
              "    }\n",
              "\n",
              "    .colab-df-convert:hover {\n",
              "      background-color: #E2EBFA;\n",
              "      box-shadow: 0px 1px 2px rgba(60, 64, 67, 0.3), 0px 1px 3px 1px rgba(60, 64, 67, 0.15);\n",
              "      fill: #174EA6;\n",
              "    }\n",
              "\n",
              "    [theme=dark] .colab-df-convert {\n",
              "      background-color: #3B4455;\n",
              "      fill: #D2E3FC;\n",
              "    }\n",
              "\n",
              "    [theme=dark] .colab-df-convert:hover {\n",
              "      background-color: #434B5C;\n",
              "      box-shadow: 0px 1px 3px 1px rgba(0, 0, 0, 0.15);\n",
              "      filter: drop-shadow(0px 1px 2px rgba(0, 0, 0, 0.3));\n",
              "      fill: #FFFFFF;\n",
              "    }\n",
              "  </style>\n",
              "\n",
              "      <script>\n",
              "        const buttonEl =\n",
              "          document.querySelector('#df-259b38dd-3c0f-45c8-8b5f-420431c542c4 button.colab-df-convert');\n",
              "        buttonEl.style.display =\n",
              "          google.colab.kernel.accessAllowed ? 'block' : 'none';\n",
              "\n",
              "        async function convertToInteractive(key) {\n",
              "          const element = document.querySelector('#df-259b38dd-3c0f-45c8-8b5f-420431c542c4');\n",
              "          const dataTable =\n",
              "            await google.colab.kernel.invokeFunction('convertToInteractive',\n",
              "                                                     [key], {});\n",
              "          if (!dataTable) return;\n",
              "\n",
              "          const docLinkHtml = 'Like what you see? Visit the ' +\n",
              "            '<a target=\"_blank\" href=https://colab.research.google.com/notebooks/data_table.ipynb>data table notebook</a>'\n",
              "            + ' to learn more about interactive tables.';\n",
              "          element.innerHTML = '';\n",
              "          dataTable['output_type'] = 'display_data';\n",
              "          await google.colab.output.renderOutput(dataTable, element);\n",
              "          const docLink = document.createElement('div');\n",
              "          docLink.innerHTML = docLinkHtml;\n",
              "          element.appendChild(docLink);\n",
              "        }\n",
              "      </script>\n",
              "    </div>\n",
              "  </div>\n",
              "  "
            ]
          },
          "metadata": {},
          "execution_count": 14
        }
      ]
    },
    {
      "cell_type": "code",
      "source": [
        "data.replace(['NA', 1], [0, 10])"
      ],
      "metadata": {
        "colab": {
          "base_uri": "https://localhost:8080/",
          "height": 175
        },
        "id": "cOLE6eCiGq6t",
        "outputId": "0a0c065c-ee7f-4ebc-b291-62abf83e1118"
      },
      "execution_count": null,
      "outputs": [
        {
          "output_type": "execute_result",
          "data": {
            "text/plain": [
              "    0    1    2\n",
              "0  10  2.0  3.0\n",
              "1  10  0.0  0.0\n",
              "2   0  0.0  0.0\n",
              "3   0  6.5  3.0"
            ],
            "text/html": [
              "\n",
              "  <div id=\"df-2844d71a-58c8-4ce9-8f6f-537f083358ce\">\n",
              "    <div class=\"colab-df-container\">\n",
              "      <div>\n",
              "<style scoped>\n",
              "    .dataframe tbody tr th:only-of-type {\n",
              "        vertical-align: middle;\n",
              "    }\n",
              "\n",
              "    .dataframe tbody tr th {\n",
              "        vertical-align: top;\n",
              "    }\n",
              "\n",
              "    .dataframe thead th {\n",
              "        text-align: right;\n",
              "    }\n",
              "</style>\n",
              "<table border=\"1\" class=\"dataframe\">\n",
              "  <thead>\n",
              "    <tr style=\"text-align: right;\">\n",
              "      <th></th>\n",
              "      <th>0</th>\n",
              "      <th>1</th>\n",
              "      <th>2</th>\n",
              "    </tr>\n",
              "  </thead>\n",
              "  <tbody>\n",
              "    <tr>\n",
              "      <th>0</th>\n",
              "      <td>10</td>\n",
              "      <td>2.0</td>\n",
              "      <td>3.0</td>\n",
              "    </tr>\n",
              "    <tr>\n",
              "      <th>1</th>\n",
              "      <td>10</td>\n",
              "      <td>0.0</td>\n",
              "      <td>0.0</td>\n",
              "    </tr>\n",
              "    <tr>\n",
              "      <th>2</th>\n",
              "      <td>0</td>\n",
              "      <td>0.0</td>\n",
              "      <td>0.0</td>\n",
              "    </tr>\n",
              "    <tr>\n",
              "      <th>3</th>\n",
              "      <td>0</td>\n",
              "      <td>6.5</td>\n",
              "      <td>3.0</td>\n",
              "    </tr>\n",
              "  </tbody>\n",
              "</table>\n",
              "</div>\n",
              "      <button class=\"colab-df-convert\" onclick=\"convertToInteractive('df-2844d71a-58c8-4ce9-8f6f-537f083358ce')\"\n",
              "              title=\"Convert this dataframe to an interactive table.\"\n",
              "              style=\"display:none;\">\n",
              "        \n",
              "  <svg xmlns=\"http://www.w3.org/2000/svg\" height=\"24px\"viewBox=\"0 0 24 24\"\n",
              "       width=\"24px\">\n",
              "    <path d=\"M0 0h24v24H0V0z\" fill=\"none\"/>\n",
              "    <path d=\"M18.56 5.44l.94 2.06.94-2.06 2.06-.94-2.06-.94-.94-2.06-.94 2.06-2.06.94zm-11 1L8.5 8.5l.94-2.06 2.06-.94-2.06-.94L8.5 2.5l-.94 2.06-2.06.94zm10 10l.94 2.06.94-2.06 2.06-.94-2.06-.94-.94-2.06-.94 2.06-2.06.94z\"/><path d=\"M17.41 7.96l-1.37-1.37c-.4-.4-.92-.59-1.43-.59-.52 0-1.04.2-1.43.59L10.3 9.45l-7.72 7.72c-.78.78-.78 2.05 0 2.83L4 21.41c.39.39.9.59 1.41.59.51 0 1.02-.2 1.41-.59l7.78-7.78 2.81-2.81c.8-.78.8-2.07 0-2.86zM5.41 20L4 18.59l7.72-7.72 1.47 1.35L5.41 20z\"/>\n",
              "  </svg>\n",
              "      </button>\n",
              "      \n",
              "  <style>\n",
              "    .colab-df-container {\n",
              "      display:flex;\n",
              "      flex-wrap:wrap;\n",
              "      gap: 12px;\n",
              "    }\n",
              "\n",
              "    .colab-df-convert {\n",
              "      background-color: #E8F0FE;\n",
              "      border: none;\n",
              "      border-radius: 50%;\n",
              "      cursor: pointer;\n",
              "      display: none;\n",
              "      fill: #1967D2;\n",
              "      height: 32px;\n",
              "      padding: 0 0 0 0;\n",
              "      width: 32px;\n",
              "    }\n",
              "\n",
              "    .colab-df-convert:hover {\n",
              "      background-color: #E2EBFA;\n",
              "      box-shadow: 0px 1px 2px rgba(60, 64, 67, 0.3), 0px 1px 3px 1px rgba(60, 64, 67, 0.15);\n",
              "      fill: #174EA6;\n",
              "    }\n",
              "\n",
              "    [theme=dark] .colab-df-convert {\n",
              "      background-color: #3B4455;\n",
              "      fill: #D2E3FC;\n",
              "    }\n",
              "\n",
              "    [theme=dark] .colab-df-convert:hover {\n",
              "      background-color: #434B5C;\n",
              "      box-shadow: 0px 1px 3px 1px rgba(0, 0, 0, 0.15);\n",
              "      filter: drop-shadow(0px 1px 2px rgba(0, 0, 0, 0.3));\n",
              "      fill: #FFFFFF;\n",
              "    }\n",
              "  </style>\n",
              "\n",
              "      <script>\n",
              "        const buttonEl =\n",
              "          document.querySelector('#df-2844d71a-58c8-4ce9-8f6f-537f083358ce button.colab-df-convert');\n",
              "        buttonEl.style.display =\n",
              "          google.colab.kernel.accessAllowed ? 'block' : 'none';\n",
              "\n",
              "        async function convertToInteractive(key) {\n",
              "          const element = document.querySelector('#df-2844d71a-58c8-4ce9-8f6f-537f083358ce');\n",
              "          const dataTable =\n",
              "            await google.colab.kernel.invokeFunction('convertToInteractive',\n",
              "                                                     [key], {});\n",
              "          if (!dataTable) return;\n",
              "\n",
              "          const docLinkHtml = 'Like what you see? Visit the ' +\n",
              "            '<a target=\"_blank\" href=https://colab.research.google.com/notebooks/data_table.ipynb>data table notebook</a>'\n",
              "            + ' to learn more about interactive tables.';\n",
              "          element.innerHTML = '';\n",
              "          dataTable['output_type'] = 'display_data';\n",
              "          await google.colab.output.renderOutput(dataTable, element);\n",
              "          const docLink = document.createElement('div');\n",
              "          docLink.innerHTML = docLinkHtml;\n",
              "          element.appendChild(docLink);\n",
              "        }\n",
              "      </script>\n",
              "    </div>\n",
              "  </div>\n",
              "  "
            ]
          },
          "metadata": {},
          "execution_count": 18
        }
      ]
    },
    {
      "cell_type": "markdown",
      "source": [
        "**Categorical Data**\n",
        "\n",
        "Converting a categorical variable into a \"dummy\" or \"indicator\" matrix is another sort of transformation for statistical modelling or machine learning applications.\n"
      ],
      "metadata": {
        "id": "9W209MFvHoks"
      }
    },
    {
      "cell_type": "markdown",
      "source": [
        "\n",
        "**Approach 1:**\n",
        "\n",
        "**Dummy Variables-**\n",
        "\n",
        "If a DataFrame column had k distinct values, you'd get a matrix or DataFrame with k columns containing only 1s and 0s. Pandas includes a get dummies method for this, but creating your own is not difficult."
      ],
      "metadata": {
        "id": "TK4hOuExvuGN"
      }
    },
    {
      "cell_type": "code",
      "source": [
        "df = pd.DataFrame({'Bikes': ['Bike1', 'Bike2', 'Bike3', 'Bike4', 'Bike5', 'Bike6'],'gears': range(6)})\n",
        "df"
      ],
      "metadata": {
        "colab": {
          "base_uri": "https://localhost:8080/",
          "height": 238
        },
        "id": "C3jkyQewHpwg",
        "outputId": "d2188ffe-7c04-4270-e4b7-2ef68da086f0"
      },
      "execution_count": null,
      "outputs": [
        {
          "output_type": "execute_result",
          "data": {
            "text/html": [
              "\n",
              "  <div id=\"df-cd9bf725-3814-4b80-876b-41c0498e3520\">\n",
              "    <div class=\"colab-df-container\">\n",
              "      <div>\n",
              "<style scoped>\n",
              "    .dataframe tbody tr th:only-of-type {\n",
              "        vertical-align: middle;\n",
              "    }\n",
              "\n",
              "    .dataframe tbody tr th {\n",
              "        vertical-align: top;\n",
              "    }\n",
              "\n",
              "    .dataframe thead th {\n",
              "        text-align: right;\n",
              "    }\n",
              "</style>\n",
              "<table border=\"1\" class=\"dataframe\">\n",
              "  <thead>\n",
              "    <tr style=\"text-align: right;\">\n",
              "      <th></th>\n",
              "      <th>Bikes</th>\n",
              "      <th>gears</th>\n",
              "    </tr>\n",
              "  </thead>\n",
              "  <tbody>\n",
              "    <tr>\n",
              "      <th>0</th>\n",
              "      <td>Bike1</td>\n",
              "      <td>0</td>\n",
              "    </tr>\n",
              "    <tr>\n",
              "      <th>1</th>\n",
              "      <td>Bike2</td>\n",
              "      <td>1</td>\n",
              "    </tr>\n",
              "    <tr>\n",
              "      <th>2</th>\n",
              "      <td>Bike3</td>\n",
              "      <td>2</td>\n",
              "    </tr>\n",
              "    <tr>\n",
              "      <th>3</th>\n",
              "      <td>Bike4</td>\n",
              "      <td>3</td>\n",
              "    </tr>\n",
              "    <tr>\n",
              "      <th>4</th>\n",
              "      <td>Bike5</td>\n",
              "      <td>4</td>\n",
              "    </tr>\n",
              "    <tr>\n",
              "      <th>5</th>\n",
              "      <td>Bike6</td>\n",
              "      <td>5</td>\n",
              "    </tr>\n",
              "  </tbody>\n",
              "</table>\n",
              "</div>\n",
              "      <button class=\"colab-df-convert\" onclick=\"convertToInteractive('df-cd9bf725-3814-4b80-876b-41c0498e3520')\"\n",
              "              title=\"Convert this dataframe to an interactive table.\"\n",
              "              style=\"display:none;\">\n",
              "        \n",
              "  <svg xmlns=\"http://www.w3.org/2000/svg\" height=\"24px\"viewBox=\"0 0 24 24\"\n",
              "       width=\"24px\">\n",
              "    <path d=\"M0 0h24v24H0V0z\" fill=\"none\"/>\n",
              "    <path d=\"M18.56 5.44l.94 2.06.94-2.06 2.06-.94-2.06-.94-.94-2.06-.94 2.06-2.06.94zm-11 1L8.5 8.5l.94-2.06 2.06-.94-2.06-.94L8.5 2.5l-.94 2.06-2.06.94zm10 10l.94 2.06.94-2.06 2.06-.94-2.06-.94-.94-2.06-.94 2.06-2.06.94z\"/><path d=\"M17.41 7.96l-1.37-1.37c-.4-.4-.92-.59-1.43-.59-.52 0-1.04.2-1.43.59L10.3 9.45l-7.72 7.72c-.78.78-.78 2.05 0 2.83L4 21.41c.39.39.9.59 1.41.59.51 0 1.02-.2 1.41-.59l7.78-7.78 2.81-2.81c.8-.78.8-2.07 0-2.86zM5.41 20L4 18.59l7.72-7.72 1.47 1.35L5.41 20z\"/>\n",
              "  </svg>\n",
              "      </button>\n",
              "      \n",
              "  <style>\n",
              "    .colab-df-container {\n",
              "      display:flex;\n",
              "      flex-wrap:wrap;\n",
              "      gap: 12px;\n",
              "    }\n",
              "\n",
              "    .colab-df-convert {\n",
              "      background-color: #E8F0FE;\n",
              "      border: none;\n",
              "      border-radius: 50%;\n",
              "      cursor: pointer;\n",
              "      display: none;\n",
              "      fill: #1967D2;\n",
              "      height: 32px;\n",
              "      padding: 0 0 0 0;\n",
              "      width: 32px;\n",
              "    }\n",
              "\n",
              "    .colab-df-convert:hover {\n",
              "      background-color: #E2EBFA;\n",
              "      box-shadow: 0px 1px 2px rgba(60, 64, 67, 0.3), 0px 1px 3px 1px rgba(60, 64, 67, 0.15);\n",
              "      fill: #174EA6;\n",
              "    }\n",
              "\n",
              "    [theme=dark] .colab-df-convert {\n",
              "      background-color: #3B4455;\n",
              "      fill: #D2E3FC;\n",
              "    }\n",
              "\n",
              "    [theme=dark] .colab-df-convert:hover {\n",
              "      background-color: #434B5C;\n",
              "      box-shadow: 0px 1px 3px 1px rgba(0, 0, 0, 0.15);\n",
              "      filter: drop-shadow(0px 1px 2px rgba(0, 0, 0, 0.3));\n",
              "      fill: #FFFFFF;\n",
              "    }\n",
              "  </style>\n",
              "\n",
              "      <script>\n",
              "        const buttonEl =\n",
              "          document.querySelector('#df-cd9bf725-3814-4b80-876b-41c0498e3520 button.colab-df-convert');\n",
              "        buttonEl.style.display =\n",
              "          google.colab.kernel.accessAllowed ? 'block' : 'none';\n",
              "\n",
              "        async function convertToInteractive(key) {\n",
              "          const element = document.querySelector('#df-cd9bf725-3814-4b80-876b-41c0498e3520');\n",
              "          const dataTable =\n",
              "            await google.colab.kernel.invokeFunction('convertToInteractive',\n",
              "                                                     [key], {});\n",
              "          if (!dataTable) return;\n",
              "\n",
              "          const docLinkHtml = 'Like what you see? Visit the ' +\n",
              "            '<a target=\"_blank\" href=https://colab.research.google.com/notebooks/data_table.ipynb>data table notebook</a>'\n",
              "            + ' to learn more about interactive tables.';\n",
              "          element.innerHTML = '';\n",
              "          dataTable['output_type'] = 'display_data';\n",
              "          await google.colab.output.renderOutput(dataTable, element);\n",
              "          const docLink = document.createElement('div');\n",
              "          docLink.innerHTML = docLinkHtml;\n",
              "          element.appendChild(docLink);\n",
              "        }\n",
              "      </script>\n",
              "    </div>\n",
              "  </div>\n",
              "  "
            ],
            "text/plain": [
              "   Bikes  gears\n",
              "0  Bike1      0\n",
              "1  Bike2      1\n",
              "2  Bike3      2\n",
              "3  Bike4      3\n",
              "4  Bike5      4\n",
              "5  Bike6      5"
            ]
          },
          "metadata": {},
          "execution_count": 119
        }
      ]
    },
    {
      "cell_type": "code",
      "source": [
        "pd.get_dummies(df['Bikes'])"
      ],
      "metadata": {
        "colab": {
          "base_uri": "https://localhost:8080/",
          "height": 238
        },
        "id": "MQMuoEc1IcYD",
        "outputId": "5b949485-4d3f-4fbe-89c4-781fa041492b"
      },
      "execution_count": null,
      "outputs": [
        {
          "output_type": "execute_result",
          "data": {
            "text/html": [
              "\n",
              "  <div id=\"df-802e3629-1b93-4b3e-b3c9-1b66463e9d73\">\n",
              "    <div class=\"colab-df-container\">\n",
              "      <div>\n",
              "<style scoped>\n",
              "    .dataframe tbody tr th:only-of-type {\n",
              "        vertical-align: middle;\n",
              "    }\n",
              "\n",
              "    .dataframe tbody tr th {\n",
              "        vertical-align: top;\n",
              "    }\n",
              "\n",
              "    .dataframe thead th {\n",
              "        text-align: right;\n",
              "    }\n",
              "</style>\n",
              "<table border=\"1\" class=\"dataframe\">\n",
              "  <thead>\n",
              "    <tr style=\"text-align: right;\">\n",
              "      <th></th>\n",
              "      <th>Bike1</th>\n",
              "      <th>Bike2</th>\n",
              "      <th>Bike3</th>\n",
              "      <th>Bike4</th>\n",
              "      <th>Bike5</th>\n",
              "      <th>Bike6</th>\n",
              "    </tr>\n",
              "  </thead>\n",
              "  <tbody>\n",
              "    <tr>\n",
              "      <th>0</th>\n",
              "      <td>1</td>\n",
              "      <td>0</td>\n",
              "      <td>0</td>\n",
              "      <td>0</td>\n",
              "      <td>0</td>\n",
              "      <td>0</td>\n",
              "    </tr>\n",
              "    <tr>\n",
              "      <th>1</th>\n",
              "      <td>0</td>\n",
              "      <td>1</td>\n",
              "      <td>0</td>\n",
              "      <td>0</td>\n",
              "      <td>0</td>\n",
              "      <td>0</td>\n",
              "    </tr>\n",
              "    <tr>\n",
              "      <th>2</th>\n",
              "      <td>0</td>\n",
              "      <td>0</td>\n",
              "      <td>1</td>\n",
              "      <td>0</td>\n",
              "      <td>0</td>\n",
              "      <td>0</td>\n",
              "    </tr>\n",
              "    <tr>\n",
              "      <th>3</th>\n",
              "      <td>0</td>\n",
              "      <td>0</td>\n",
              "      <td>0</td>\n",
              "      <td>1</td>\n",
              "      <td>0</td>\n",
              "      <td>0</td>\n",
              "    </tr>\n",
              "    <tr>\n",
              "      <th>4</th>\n",
              "      <td>0</td>\n",
              "      <td>0</td>\n",
              "      <td>0</td>\n",
              "      <td>0</td>\n",
              "      <td>1</td>\n",
              "      <td>0</td>\n",
              "    </tr>\n",
              "    <tr>\n",
              "      <th>5</th>\n",
              "      <td>0</td>\n",
              "      <td>0</td>\n",
              "      <td>0</td>\n",
              "      <td>0</td>\n",
              "      <td>0</td>\n",
              "      <td>1</td>\n",
              "    </tr>\n",
              "  </tbody>\n",
              "</table>\n",
              "</div>\n",
              "      <button class=\"colab-df-convert\" onclick=\"convertToInteractive('df-802e3629-1b93-4b3e-b3c9-1b66463e9d73')\"\n",
              "              title=\"Convert this dataframe to an interactive table.\"\n",
              "              style=\"display:none;\">\n",
              "        \n",
              "  <svg xmlns=\"http://www.w3.org/2000/svg\" height=\"24px\"viewBox=\"0 0 24 24\"\n",
              "       width=\"24px\">\n",
              "    <path d=\"M0 0h24v24H0V0z\" fill=\"none\"/>\n",
              "    <path d=\"M18.56 5.44l.94 2.06.94-2.06 2.06-.94-2.06-.94-.94-2.06-.94 2.06-2.06.94zm-11 1L8.5 8.5l.94-2.06 2.06-.94-2.06-.94L8.5 2.5l-.94 2.06-2.06.94zm10 10l.94 2.06.94-2.06 2.06-.94-2.06-.94-.94-2.06-.94 2.06-2.06.94z\"/><path d=\"M17.41 7.96l-1.37-1.37c-.4-.4-.92-.59-1.43-.59-.52 0-1.04.2-1.43.59L10.3 9.45l-7.72 7.72c-.78.78-.78 2.05 0 2.83L4 21.41c.39.39.9.59 1.41.59.51 0 1.02-.2 1.41-.59l7.78-7.78 2.81-2.81c.8-.78.8-2.07 0-2.86zM5.41 20L4 18.59l7.72-7.72 1.47 1.35L5.41 20z\"/>\n",
              "  </svg>\n",
              "      </button>\n",
              "      \n",
              "  <style>\n",
              "    .colab-df-container {\n",
              "      display:flex;\n",
              "      flex-wrap:wrap;\n",
              "      gap: 12px;\n",
              "    }\n",
              "\n",
              "    .colab-df-convert {\n",
              "      background-color: #E8F0FE;\n",
              "      border: none;\n",
              "      border-radius: 50%;\n",
              "      cursor: pointer;\n",
              "      display: none;\n",
              "      fill: #1967D2;\n",
              "      height: 32px;\n",
              "      padding: 0 0 0 0;\n",
              "      width: 32px;\n",
              "    }\n",
              "\n",
              "    .colab-df-convert:hover {\n",
              "      background-color: #E2EBFA;\n",
              "      box-shadow: 0px 1px 2px rgba(60, 64, 67, 0.3), 0px 1px 3px 1px rgba(60, 64, 67, 0.15);\n",
              "      fill: #174EA6;\n",
              "    }\n",
              "\n",
              "    [theme=dark] .colab-df-convert {\n",
              "      background-color: #3B4455;\n",
              "      fill: #D2E3FC;\n",
              "    }\n",
              "\n",
              "    [theme=dark] .colab-df-convert:hover {\n",
              "      background-color: #434B5C;\n",
              "      box-shadow: 0px 1px 3px 1px rgba(0, 0, 0, 0.15);\n",
              "      filter: drop-shadow(0px 1px 2px rgba(0, 0, 0, 0.3));\n",
              "      fill: #FFFFFF;\n",
              "    }\n",
              "  </style>\n",
              "\n",
              "      <script>\n",
              "        const buttonEl =\n",
              "          document.querySelector('#df-802e3629-1b93-4b3e-b3c9-1b66463e9d73 button.colab-df-convert');\n",
              "        buttonEl.style.display =\n",
              "          google.colab.kernel.accessAllowed ? 'block' : 'none';\n",
              "\n",
              "        async function convertToInteractive(key) {\n",
              "          const element = document.querySelector('#df-802e3629-1b93-4b3e-b3c9-1b66463e9d73');\n",
              "          const dataTable =\n",
              "            await google.colab.kernel.invokeFunction('convertToInteractive',\n",
              "                                                     [key], {});\n",
              "          if (!dataTable) return;\n",
              "\n",
              "          const docLinkHtml = 'Like what you see? Visit the ' +\n",
              "            '<a target=\"_blank\" href=https://colab.research.google.com/notebooks/data_table.ipynb>data table notebook</a>'\n",
              "            + ' to learn more about interactive tables.';\n",
              "          element.innerHTML = '';\n",
              "          dataTable['output_type'] = 'display_data';\n",
              "          await google.colab.output.renderOutput(dataTable, element);\n",
              "          const docLink = document.createElement('div');\n",
              "          docLink.innerHTML = docLinkHtml;\n",
              "          element.appendChild(docLink);\n",
              "        }\n",
              "      </script>\n",
              "    </div>\n",
              "  </div>\n",
              "  "
            ],
            "text/plain": [
              "   Bike1  Bike2  Bike3  Bike4  Bike5  Bike6\n",
              "0      1      0      0      0      0      0\n",
              "1      0      1      0      0      0      0\n",
              "2      0      0      1      0      0      0\n",
              "3      0      0      0      1      0      0\n",
              "4      0      0      0      0      1      0\n",
              "5      0      0      0      0      0      1"
            ]
          },
          "metadata": {},
          "execution_count": 120
        }
      ]
    },
    {
      "cell_type": "code",
      "source": [
        "# \"prefix\" parameter string value gets joined to the column names\n",
        "dummies = pd.get_dummies(df['Bikes'], prefix='Bikes')\n",
        "dummies"
      ],
      "metadata": {
        "colab": {
          "base_uri": "https://localhost:8080/",
          "height": 238
        },
        "id": "qcP84_32IzbI",
        "outputId": "aeb2e071-dff2-45fd-a307-c81110f1cfe3"
      },
      "execution_count": null,
      "outputs": [
        {
          "output_type": "execute_result",
          "data": {
            "text/html": [
              "\n",
              "  <div id=\"df-f0f51b8c-70b1-4fc6-9e1b-ca069d5a02b9\">\n",
              "    <div class=\"colab-df-container\">\n",
              "      <div>\n",
              "<style scoped>\n",
              "    .dataframe tbody tr th:only-of-type {\n",
              "        vertical-align: middle;\n",
              "    }\n",
              "\n",
              "    .dataframe tbody tr th {\n",
              "        vertical-align: top;\n",
              "    }\n",
              "\n",
              "    .dataframe thead th {\n",
              "        text-align: right;\n",
              "    }\n",
              "</style>\n",
              "<table border=\"1\" class=\"dataframe\">\n",
              "  <thead>\n",
              "    <tr style=\"text-align: right;\">\n",
              "      <th></th>\n",
              "      <th>Bikes_Bike1</th>\n",
              "      <th>Bikes_Bike2</th>\n",
              "      <th>Bikes_Bike3</th>\n",
              "      <th>Bikes_Bike4</th>\n",
              "      <th>Bikes_Bike5</th>\n",
              "      <th>Bikes_Bike6</th>\n",
              "    </tr>\n",
              "  </thead>\n",
              "  <tbody>\n",
              "    <tr>\n",
              "      <th>0</th>\n",
              "      <td>1</td>\n",
              "      <td>0</td>\n",
              "      <td>0</td>\n",
              "      <td>0</td>\n",
              "      <td>0</td>\n",
              "      <td>0</td>\n",
              "    </tr>\n",
              "    <tr>\n",
              "      <th>1</th>\n",
              "      <td>0</td>\n",
              "      <td>1</td>\n",
              "      <td>0</td>\n",
              "      <td>0</td>\n",
              "      <td>0</td>\n",
              "      <td>0</td>\n",
              "    </tr>\n",
              "    <tr>\n",
              "      <th>2</th>\n",
              "      <td>0</td>\n",
              "      <td>0</td>\n",
              "      <td>1</td>\n",
              "      <td>0</td>\n",
              "      <td>0</td>\n",
              "      <td>0</td>\n",
              "    </tr>\n",
              "    <tr>\n",
              "      <th>3</th>\n",
              "      <td>0</td>\n",
              "      <td>0</td>\n",
              "      <td>0</td>\n",
              "      <td>1</td>\n",
              "      <td>0</td>\n",
              "      <td>0</td>\n",
              "    </tr>\n",
              "    <tr>\n",
              "      <th>4</th>\n",
              "      <td>0</td>\n",
              "      <td>0</td>\n",
              "      <td>0</td>\n",
              "      <td>0</td>\n",
              "      <td>1</td>\n",
              "      <td>0</td>\n",
              "    </tr>\n",
              "    <tr>\n",
              "      <th>5</th>\n",
              "      <td>0</td>\n",
              "      <td>0</td>\n",
              "      <td>0</td>\n",
              "      <td>0</td>\n",
              "      <td>0</td>\n",
              "      <td>1</td>\n",
              "    </tr>\n",
              "  </tbody>\n",
              "</table>\n",
              "</div>\n",
              "      <button class=\"colab-df-convert\" onclick=\"convertToInteractive('df-f0f51b8c-70b1-4fc6-9e1b-ca069d5a02b9')\"\n",
              "              title=\"Convert this dataframe to an interactive table.\"\n",
              "              style=\"display:none;\">\n",
              "        \n",
              "  <svg xmlns=\"http://www.w3.org/2000/svg\" height=\"24px\"viewBox=\"0 0 24 24\"\n",
              "       width=\"24px\">\n",
              "    <path d=\"M0 0h24v24H0V0z\" fill=\"none\"/>\n",
              "    <path d=\"M18.56 5.44l.94 2.06.94-2.06 2.06-.94-2.06-.94-.94-2.06-.94 2.06-2.06.94zm-11 1L8.5 8.5l.94-2.06 2.06-.94-2.06-.94L8.5 2.5l-.94 2.06-2.06.94zm10 10l.94 2.06.94-2.06 2.06-.94-2.06-.94-.94-2.06-.94 2.06-2.06.94z\"/><path d=\"M17.41 7.96l-1.37-1.37c-.4-.4-.92-.59-1.43-.59-.52 0-1.04.2-1.43.59L10.3 9.45l-7.72 7.72c-.78.78-.78 2.05 0 2.83L4 21.41c.39.39.9.59 1.41.59.51 0 1.02-.2 1.41-.59l7.78-7.78 2.81-2.81c.8-.78.8-2.07 0-2.86zM5.41 20L4 18.59l7.72-7.72 1.47 1.35L5.41 20z\"/>\n",
              "  </svg>\n",
              "      </button>\n",
              "      \n",
              "  <style>\n",
              "    .colab-df-container {\n",
              "      display:flex;\n",
              "      flex-wrap:wrap;\n",
              "      gap: 12px;\n",
              "    }\n",
              "\n",
              "    .colab-df-convert {\n",
              "      background-color: #E8F0FE;\n",
              "      border: none;\n",
              "      border-radius: 50%;\n",
              "      cursor: pointer;\n",
              "      display: none;\n",
              "      fill: #1967D2;\n",
              "      height: 32px;\n",
              "      padding: 0 0 0 0;\n",
              "      width: 32px;\n",
              "    }\n",
              "\n",
              "    .colab-df-convert:hover {\n",
              "      background-color: #E2EBFA;\n",
              "      box-shadow: 0px 1px 2px rgba(60, 64, 67, 0.3), 0px 1px 3px 1px rgba(60, 64, 67, 0.15);\n",
              "      fill: #174EA6;\n",
              "    }\n",
              "\n",
              "    [theme=dark] .colab-df-convert {\n",
              "      background-color: #3B4455;\n",
              "      fill: #D2E3FC;\n",
              "    }\n",
              "\n",
              "    [theme=dark] .colab-df-convert:hover {\n",
              "      background-color: #434B5C;\n",
              "      box-shadow: 0px 1px 3px 1px rgba(0, 0, 0, 0.15);\n",
              "      filter: drop-shadow(0px 1px 2px rgba(0, 0, 0, 0.3));\n",
              "      fill: #FFFFFF;\n",
              "    }\n",
              "  </style>\n",
              "\n",
              "      <script>\n",
              "        const buttonEl =\n",
              "          document.querySelector('#df-f0f51b8c-70b1-4fc6-9e1b-ca069d5a02b9 button.colab-df-convert');\n",
              "        buttonEl.style.display =\n",
              "          google.colab.kernel.accessAllowed ? 'block' : 'none';\n",
              "\n",
              "        async function convertToInteractive(key) {\n",
              "          const element = document.querySelector('#df-f0f51b8c-70b1-4fc6-9e1b-ca069d5a02b9');\n",
              "          const dataTable =\n",
              "            await google.colab.kernel.invokeFunction('convertToInteractive',\n",
              "                                                     [key], {});\n",
              "          if (!dataTable) return;\n",
              "\n",
              "          const docLinkHtml = 'Like what you see? Visit the ' +\n",
              "            '<a target=\"_blank\" href=https://colab.research.google.com/notebooks/data_table.ipynb>data table notebook</a>'\n",
              "            + ' to learn more about interactive tables.';\n",
              "          element.innerHTML = '';\n",
              "          dataTable['output_type'] = 'display_data';\n",
              "          await google.colab.output.renderOutput(dataTable, element);\n",
              "          const docLink = document.createElement('div');\n",
              "          docLink.innerHTML = docLinkHtml;\n",
              "          element.appendChild(docLink);\n",
              "        }\n",
              "      </script>\n",
              "    </div>\n",
              "  </div>\n",
              "  "
            ],
            "text/plain": [
              "   Bikes_Bike1  Bikes_Bike2  Bikes_Bike3  Bikes_Bike4  Bikes_Bike5  Bikes_Bike6\n",
              "0            1            0            0            0            0            0\n",
              "1            0            1            0            0            0            0\n",
              "2            0            0            1            0            0            0\n",
              "3            0            0            0            1            0            0\n",
              "4            0            0            0            0            1            0\n",
              "5            0            0            0            0            0            1"
            ]
          },
          "metadata": {},
          "execution_count": 122
        }
      ]
    },
    {
      "cell_type": "code",
      "source": [
        "df_with_dummy = df[['gears']].join(dummies)\n",
        "df_with_dummy"
      ],
      "metadata": {
        "colab": {
          "base_uri": "https://localhost:8080/",
          "height": 238
        },
        "id": "Y69SwncBdY73",
        "outputId": "1621abae-290c-4db0-b9b0-7ff6ac49d3c5"
      },
      "execution_count": null,
      "outputs": [
        {
          "output_type": "execute_result",
          "data": {
            "text/html": [
              "\n",
              "  <div id=\"df-520a8428-518d-4910-8937-39cd7240fa72\">\n",
              "    <div class=\"colab-df-container\">\n",
              "      <div>\n",
              "<style scoped>\n",
              "    .dataframe tbody tr th:only-of-type {\n",
              "        vertical-align: middle;\n",
              "    }\n",
              "\n",
              "    .dataframe tbody tr th {\n",
              "        vertical-align: top;\n",
              "    }\n",
              "\n",
              "    .dataframe thead th {\n",
              "        text-align: right;\n",
              "    }\n",
              "</style>\n",
              "<table border=\"1\" class=\"dataframe\">\n",
              "  <thead>\n",
              "    <tr style=\"text-align: right;\">\n",
              "      <th></th>\n",
              "      <th>gears</th>\n",
              "      <th>Bikes_Bike1</th>\n",
              "      <th>Bikes_Bike2</th>\n",
              "      <th>Bikes_Bike3</th>\n",
              "      <th>Bikes_Bike4</th>\n",
              "      <th>Bikes_Bike5</th>\n",
              "      <th>Bikes_Bike6</th>\n",
              "    </tr>\n",
              "  </thead>\n",
              "  <tbody>\n",
              "    <tr>\n",
              "      <th>0</th>\n",
              "      <td>0</td>\n",
              "      <td>1</td>\n",
              "      <td>0</td>\n",
              "      <td>0</td>\n",
              "      <td>0</td>\n",
              "      <td>0</td>\n",
              "      <td>0</td>\n",
              "    </tr>\n",
              "    <tr>\n",
              "      <th>1</th>\n",
              "      <td>1</td>\n",
              "      <td>0</td>\n",
              "      <td>1</td>\n",
              "      <td>0</td>\n",
              "      <td>0</td>\n",
              "      <td>0</td>\n",
              "      <td>0</td>\n",
              "    </tr>\n",
              "    <tr>\n",
              "      <th>2</th>\n",
              "      <td>2</td>\n",
              "      <td>0</td>\n",
              "      <td>0</td>\n",
              "      <td>1</td>\n",
              "      <td>0</td>\n",
              "      <td>0</td>\n",
              "      <td>0</td>\n",
              "    </tr>\n",
              "    <tr>\n",
              "      <th>3</th>\n",
              "      <td>3</td>\n",
              "      <td>0</td>\n",
              "      <td>0</td>\n",
              "      <td>0</td>\n",
              "      <td>1</td>\n",
              "      <td>0</td>\n",
              "      <td>0</td>\n",
              "    </tr>\n",
              "    <tr>\n",
              "      <th>4</th>\n",
              "      <td>4</td>\n",
              "      <td>0</td>\n",
              "      <td>0</td>\n",
              "      <td>0</td>\n",
              "      <td>0</td>\n",
              "      <td>1</td>\n",
              "      <td>0</td>\n",
              "    </tr>\n",
              "    <tr>\n",
              "      <th>5</th>\n",
              "      <td>5</td>\n",
              "      <td>0</td>\n",
              "      <td>0</td>\n",
              "      <td>0</td>\n",
              "      <td>0</td>\n",
              "      <td>0</td>\n",
              "      <td>1</td>\n",
              "    </tr>\n",
              "  </tbody>\n",
              "</table>\n",
              "</div>\n",
              "      <button class=\"colab-df-convert\" onclick=\"convertToInteractive('df-520a8428-518d-4910-8937-39cd7240fa72')\"\n",
              "              title=\"Convert this dataframe to an interactive table.\"\n",
              "              style=\"display:none;\">\n",
              "        \n",
              "  <svg xmlns=\"http://www.w3.org/2000/svg\" height=\"24px\"viewBox=\"0 0 24 24\"\n",
              "       width=\"24px\">\n",
              "    <path d=\"M0 0h24v24H0V0z\" fill=\"none\"/>\n",
              "    <path d=\"M18.56 5.44l.94 2.06.94-2.06 2.06-.94-2.06-.94-.94-2.06-.94 2.06-2.06.94zm-11 1L8.5 8.5l.94-2.06 2.06-.94-2.06-.94L8.5 2.5l-.94 2.06-2.06.94zm10 10l.94 2.06.94-2.06 2.06-.94-2.06-.94-.94-2.06-.94 2.06-2.06.94z\"/><path d=\"M17.41 7.96l-1.37-1.37c-.4-.4-.92-.59-1.43-.59-.52 0-1.04.2-1.43.59L10.3 9.45l-7.72 7.72c-.78.78-.78 2.05 0 2.83L4 21.41c.39.39.9.59 1.41.59.51 0 1.02-.2 1.41-.59l7.78-7.78 2.81-2.81c.8-.78.8-2.07 0-2.86zM5.41 20L4 18.59l7.72-7.72 1.47 1.35L5.41 20z\"/>\n",
              "  </svg>\n",
              "      </button>\n",
              "      \n",
              "  <style>\n",
              "    .colab-df-container {\n",
              "      display:flex;\n",
              "      flex-wrap:wrap;\n",
              "      gap: 12px;\n",
              "    }\n",
              "\n",
              "    .colab-df-convert {\n",
              "      background-color: #E8F0FE;\n",
              "      border: none;\n",
              "      border-radius: 50%;\n",
              "      cursor: pointer;\n",
              "      display: none;\n",
              "      fill: #1967D2;\n",
              "      height: 32px;\n",
              "      padding: 0 0 0 0;\n",
              "      width: 32px;\n",
              "    }\n",
              "\n",
              "    .colab-df-convert:hover {\n",
              "      background-color: #E2EBFA;\n",
              "      box-shadow: 0px 1px 2px rgba(60, 64, 67, 0.3), 0px 1px 3px 1px rgba(60, 64, 67, 0.15);\n",
              "      fill: #174EA6;\n",
              "    }\n",
              "\n",
              "    [theme=dark] .colab-df-convert {\n",
              "      background-color: #3B4455;\n",
              "      fill: #D2E3FC;\n",
              "    }\n",
              "\n",
              "    [theme=dark] .colab-df-convert:hover {\n",
              "      background-color: #434B5C;\n",
              "      box-shadow: 0px 1px 3px 1px rgba(0, 0, 0, 0.15);\n",
              "      filter: drop-shadow(0px 1px 2px rgba(0, 0, 0, 0.3));\n",
              "      fill: #FFFFFF;\n",
              "    }\n",
              "  </style>\n",
              "\n",
              "      <script>\n",
              "        const buttonEl =\n",
              "          document.querySelector('#df-520a8428-518d-4910-8937-39cd7240fa72 button.colab-df-convert');\n",
              "        buttonEl.style.display =\n",
              "          google.colab.kernel.accessAllowed ? 'block' : 'none';\n",
              "\n",
              "        async function convertToInteractive(key) {\n",
              "          const element = document.querySelector('#df-520a8428-518d-4910-8937-39cd7240fa72');\n",
              "          const dataTable =\n",
              "            await google.colab.kernel.invokeFunction('convertToInteractive',\n",
              "                                                     [key], {});\n",
              "          if (!dataTable) return;\n",
              "\n",
              "          const docLinkHtml = 'Like what you see? Visit the ' +\n",
              "            '<a target=\"_blank\" href=https://colab.research.google.com/notebooks/data_table.ipynb>data table notebook</a>'\n",
              "            + ' to learn more about interactive tables.';\n",
              "          element.innerHTML = '';\n",
              "          dataTable['output_type'] = 'display_data';\n",
              "          await google.colab.output.renderOutput(dataTable, element);\n",
              "          const docLink = document.createElement('div');\n",
              "          docLink.innerHTML = docLinkHtml;\n",
              "          element.appendChild(docLink);\n",
              "        }\n",
              "      </script>\n",
              "    </div>\n",
              "  </div>\n",
              "  "
            ],
            "text/plain": [
              "   gears  Bikes_Bike1  Bikes_Bike2  ...  Bikes_Bike4  Bikes_Bike5  Bikes_Bike6\n",
              "0      0            1            0  ...            0            0            0\n",
              "1      1            0            1  ...            0            0            0\n",
              "2      2            0            0  ...            0            0            0\n",
              "3      3            0            0  ...            1            0            0\n",
              "4      4            0            0  ...            0            1            0\n",
              "5      5            0            0  ...            0            0            1\n",
              "\n",
              "[6 rows x 7 columns]"
            ]
          },
          "metadata": {},
          "execution_count": 123
        }
      ]
    },
    {
      "cell_type": "markdown",
      "source": [
        "**Example 2**"
      ],
      "metadata": {
        "id": "lh3NRQQlvwqM"
      }
    },
    {
      "cell_type": "code",
      "source": [
        "data = pd.read_csv(\"/content/employee_data.csv\")"
      ],
      "metadata": {
        "id": "UfZYA0a6vywC"
      },
      "execution_count": null,
      "outputs": []
    },
    {
      "cell_type": "code",
      "source": [
        "data.head(20)"
      ],
      "metadata": {
        "id": "DdQERd9bwDR0"
      },
      "execution_count": null,
      "outputs": []
    },
    {
      "cell_type": "markdown",
      "source": [
        "Checking the Labels in the column"
      ],
      "metadata": {
        "id": "r6-0Q-eYwTFL"
      }
    },
    {
      "cell_type": "code",
      "execution_count": null,
      "metadata": {
        "id": "oFuve_q4Oaxd",
        "outputId": "f3714069-fca4-498c-d27d-7ae1b5a016a1"
      },
      "outputs": [
        {
          "data": {
            "text/plain": [
              "array(['Male', 'Female'], dtype=object)"
            ]
          },
          "execution_count": 80,
          "metadata": {},
          "output_type": "execute_result"
        }
      ],
      "source": [
        "data['Gender'].unique()"
      ]
    },
    {
      "cell_type": "code",
      "execution_count": null,
      "metadata": {
        "id": "1R2sbk27Oaxf",
        "outputId": "8c63d640-90e1-4941-bdee-87f584bf6d69"
      },
      "outputs": [
        {
          "data": {
            "text/plain": [
              "array(['Nice', 'Good', 'Great'], dtype=object)"
            ]
          },
          "execution_count": 81,
          "metadata": {},
          "output_type": "execute_result"
        }
      ],
      "source": [
        "data['Remarks'].unique()"
      ]
    },
    {
      "cell_type": "markdown",
      "metadata": {
        "id": "9t4e-Z38Oaxg"
      },
      "source": [
        "Checking Count of each label"
      ]
    },
    {
      "cell_type": "code",
      "execution_count": null,
      "metadata": {
        "id": "T-9Lbvv8Oaxi",
        "outputId": "b0a7f5e1-f1ff-4c1a-dfaf-a8777be1b39a"
      },
      "outputs": [
        {
          "data": {
            "text/plain": [
              "Female    7\n",
              "Male      5\n",
              "Name: Gender, dtype: int64"
            ]
          },
          "execution_count": 82,
          "metadata": {},
          "output_type": "execute_result"
        }
      ],
      "source": [
        "data['Gender'].value_counts()"
      ]
    },
    {
      "cell_type": "code",
      "execution_count": null,
      "metadata": {
        "id": "gdEg0TBiOaxk",
        "outputId": "56f6b36c-faf9-4384-811d-0fe90d5ed265"
      },
      "outputs": [
        {
          "data": {
            "text/plain": [
              "Nice     5\n",
              "Great    4\n",
              "Good     3\n",
              "Name: Remarks, dtype: int64"
            ]
          },
          "execution_count": 83,
          "metadata": {},
          "output_type": "execute_result"
        }
      ],
      "source": [
        "data['Remarks'].value_counts()"
      ]
    },
    {
      "cell_type": "markdown",
      "metadata": {
        "id": "SPaIsuyqOaxs"
      },
      "source": [
        "Binary Labelling with **1** at position where the label is present else **0**"
      ]
    },
    {
      "cell_type": "code",
      "execution_count": null,
      "metadata": {
        "id": "YcF8yJXiOaxt"
      },
      "outputs": [],
      "source": [
        "onehot_encoded_data = pd.get_dummies(data, columns=['Remarks', 'Gender'])"
      ]
    },
    {
      "cell_type": "code",
      "execution_count": null,
      "metadata": {
        "id": "d_Hgr0JOOaxt",
        "outputId": "d326258b-5ac3-4d75-c3c6-b6aaee7f5f5f"
      },
      "outputs": [
        {
          "data": {
            "text/html": [
              "<div>\n",
              "<style scoped>\n",
              "    .dataframe tbody tr th:only-of-type {\n",
              "        vertical-align: middle;\n",
              "    }\n",
              "\n",
              "    .dataframe tbody tr th {\n",
              "        vertical-align: top;\n",
              "    }\n",
              "\n",
              "    .dataframe thead th {\n",
              "        text-align: right;\n",
              "    }\n",
              "</style>\n",
              "<table border=\"1\" class=\"dataframe\">\n",
              "  <thead>\n",
              "    <tr style=\"text-align: right;\">\n",
              "      <th></th>\n",
              "      <th>Emploee_ID</th>\n",
              "      <th>Remarks_Good</th>\n",
              "      <th>Remarks_Great</th>\n",
              "      <th>Remarks_Nice</th>\n",
              "      <th>Gender_Female</th>\n",
              "      <th>Gender_Male</th>\n",
              "    </tr>\n",
              "  </thead>\n",
              "  <tbody>\n",
              "    <tr>\n",
              "      <th>0</th>\n",
              "      <td>45</td>\n",
              "      <td>0</td>\n",
              "      <td>0</td>\n",
              "      <td>1</td>\n",
              "      <td>0</td>\n",
              "      <td>1</td>\n",
              "    </tr>\n",
              "    <tr>\n",
              "      <th>1</th>\n",
              "      <td>78</td>\n",
              "      <td>1</td>\n",
              "      <td>0</td>\n",
              "      <td>0</td>\n",
              "      <td>1</td>\n",
              "      <td>0</td>\n",
              "    </tr>\n",
              "    <tr>\n",
              "      <th>2</th>\n",
              "      <td>56</td>\n",
              "      <td>0</td>\n",
              "      <td>1</td>\n",
              "      <td>0</td>\n",
              "      <td>1</td>\n",
              "      <td>0</td>\n",
              "    </tr>\n",
              "    <tr>\n",
              "      <th>3</th>\n",
              "      <td>12</td>\n",
              "      <td>0</td>\n",
              "      <td>1</td>\n",
              "      <td>0</td>\n",
              "      <td>0</td>\n",
              "      <td>1</td>\n",
              "    </tr>\n",
              "    <tr>\n",
              "      <th>4</th>\n",
              "      <td>7</td>\n",
              "      <td>0</td>\n",
              "      <td>0</td>\n",
              "      <td>1</td>\n",
              "      <td>1</td>\n",
              "      <td>0</td>\n",
              "    </tr>\n",
              "    <tr>\n",
              "      <th>5</th>\n",
              "      <td>68</td>\n",
              "      <td>0</td>\n",
              "      <td>1</td>\n",
              "      <td>0</td>\n",
              "      <td>1</td>\n",
              "      <td>0</td>\n",
              "    </tr>\n",
              "    <tr>\n",
              "      <th>6</th>\n",
              "      <td>23</td>\n",
              "      <td>1</td>\n",
              "      <td>0</td>\n",
              "      <td>0</td>\n",
              "      <td>0</td>\n",
              "      <td>1</td>\n",
              "    </tr>\n",
              "    <tr>\n",
              "      <th>7</th>\n",
              "      <td>45</td>\n",
              "      <td>0</td>\n",
              "      <td>0</td>\n",
              "      <td>1</td>\n",
              "      <td>1</td>\n",
              "      <td>0</td>\n",
              "    </tr>\n",
              "    <tr>\n",
              "      <th>8</th>\n",
              "      <td>89</td>\n",
              "      <td>0</td>\n",
              "      <td>1</td>\n",
              "      <td>0</td>\n",
              "      <td>0</td>\n",
              "      <td>1</td>\n",
              "    </tr>\n",
              "    <tr>\n",
              "      <th>9</th>\n",
              "      <td>75</td>\n",
              "      <td>0</td>\n",
              "      <td>0</td>\n",
              "      <td>1</td>\n",
              "      <td>1</td>\n",
              "      <td>0</td>\n",
              "    </tr>\n",
              "    <tr>\n",
              "      <th>10</th>\n",
              "      <td>47</td>\n",
              "      <td>1</td>\n",
              "      <td>0</td>\n",
              "      <td>0</td>\n",
              "      <td>1</td>\n",
              "      <td>0</td>\n",
              "    </tr>\n",
              "    <tr>\n",
              "      <th>11</th>\n",
              "      <td>62</td>\n",
              "      <td>0</td>\n",
              "      <td>0</td>\n",
              "      <td>1</td>\n",
              "      <td>0</td>\n",
              "      <td>1</td>\n",
              "    </tr>\n",
              "  </tbody>\n",
              "</table>\n",
              "</div>"
            ],
            "text/plain": [
              "    Emploee_ID  Remarks_Good  Remarks_Great  Remarks_Nice  Gender_Female  \\\n",
              "0           45             0              0             1              0   \n",
              "1           78             1              0             0              1   \n",
              "2           56             0              1             0              1   \n",
              "3           12             0              1             0              0   \n",
              "4            7             0              0             1              1   \n",
              "5           68             0              1             0              1   \n",
              "6           23             1              0             0              0   \n",
              "7           45             0              0             1              1   \n",
              "8           89             0              1             0              0   \n",
              "9           75             0              0             1              1   \n",
              "10          47             1              0             0              1   \n",
              "11          62             0              0             1              0   \n",
              "\n",
              "    Gender_Male  \n",
              "0             1  \n",
              "1             0  \n",
              "2             0  \n",
              "3             1  \n",
              "4             0  \n",
              "5             0  \n",
              "6             1  \n",
              "7             0  \n",
              "8             1  \n",
              "9             0  \n",
              "10            0  \n",
              "11            1  "
            ]
          },
          "execution_count": 107,
          "metadata": {},
          "output_type": "execute_result"
        }
      ],
      "source": [
        "onehot_encoded_data"
      ]
    },
    {
      "cell_type": "markdown",
      "source": [
        "**Approach - 2**\n",
        "\n",
        "**Label Encoder**\n"
      ],
      "metadata": {
        "id": "z47UNIyGwtZZ"
      }
    },
    {
      "cell_type": "markdown",
      "metadata": {
        "id": "CmlYueMtOaxn"
      },
      "source": [
        "Label Encoder encodes labels with value between **0** and **number_of_class - 1**"
      ]
    },
    {
      "cell_type": "code",
      "execution_count": null,
      "metadata": {
        "id": "48WZTw7GOaxo"
      },
      "outputs": [],
      "source": [
        "from sklearn.preprocessing import LabelEncoder\n",
        "labelencoder_X = LabelEncoder()"
      ]
    },
    {
      "cell_type": "code",
      "execution_count": null,
      "metadata": {
        "id": "AZT02qRyOaxp"
      },
      "outputs": [],
      "source": [
        "label_encoded_data = labelencoder_X.fit_transform(data['Remarks'])"
      ]
    },
    {
      "cell_type": "code",
      "execution_count": null,
      "metadata": {
        "id": "iF08EIlmOaxp"
      },
      "outputs": [],
      "source": [
        "label_encoded_data = pd.DataFrame(data = label_encoded_data, columns = ['Remarks'])"
      ]
    },
    {
      "cell_type": "code",
      "execution_count": null,
      "metadata": {
        "id": "g0G0DwHYOaxq",
        "outputId": "a657643c-5849-4f6f-cb4f-7b2ecc895562"
      },
      "outputs": [
        {
          "data": {
            "text/plain": [
              "array([2, 0, 1], dtype=int64)"
            ]
          },
          "execution_count": 88,
          "metadata": {},
          "output_type": "execute_result"
        }
      ],
      "source": [
        "label_encoded_data['Remarks'].unique()"
      ]
    },
    {
      "cell_type": "code",
      "execution_count": null,
      "metadata": {
        "id": "JYurPoVPOaxr",
        "outputId": "7bc62b03-2c2a-408c-cdc4-e1afaf1b4bad"
      },
      "outputs": [
        {
          "data": {
            "text/html": [
              "<div>\n",
              "<style scoped>\n",
              "    .dataframe tbody tr th:only-of-type {\n",
              "        vertical-align: middle;\n",
              "    }\n",
              "\n",
              "    .dataframe tbody tr th {\n",
              "        vertical-align: top;\n",
              "    }\n",
              "\n",
              "    .dataframe thead th {\n",
              "        text-align: right;\n",
              "    }\n",
              "</style>\n",
              "<table border=\"1\" class=\"dataframe\">\n",
              "  <thead>\n",
              "    <tr style=\"text-align: right;\">\n",
              "      <th></th>\n",
              "      <th>Remarks</th>\n",
              "    </tr>\n",
              "  </thead>\n",
              "  <tbody>\n",
              "    <tr>\n",
              "      <th>0</th>\n",
              "      <td>2</td>\n",
              "    </tr>\n",
              "    <tr>\n",
              "      <th>1</th>\n",
              "      <td>0</td>\n",
              "    </tr>\n",
              "    <tr>\n",
              "      <th>2</th>\n",
              "      <td>1</td>\n",
              "    </tr>\n",
              "    <tr>\n",
              "      <th>3</th>\n",
              "      <td>1</td>\n",
              "    </tr>\n",
              "    <tr>\n",
              "      <th>4</th>\n",
              "      <td>2</td>\n",
              "    </tr>\n",
              "    <tr>\n",
              "      <th>5</th>\n",
              "      <td>1</td>\n",
              "    </tr>\n",
              "    <tr>\n",
              "      <th>6</th>\n",
              "      <td>0</td>\n",
              "    </tr>\n",
              "    <tr>\n",
              "      <th>7</th>\n",
              "      <td>2</td>\n",
              "    </tr>\n",
              "    <tr>\n",
              "      <th>8</th>\n",
              "      <td>1</td>\n",
              "    </tr>\n",
              "    <tr>\n",
              "      <th>9</th>\n",
              "      <td>2</td>\n",
              "    </tr>\n",
              "    <tr>\n",
              "      <th>10</th>\n",
              "      <td>0</td>\n",
              "    </tr>\n",
              "    <tr>\n",
              "      <th>11</th>\n",
              "      <td>2</td>\n",
              "    </tr>\n",
              "  </tbody>\n",
              "</table>\n",
              "</div>"
            ],
            "text/plain": [
              "    Remarks\n",
              "0         2\n",
              "1         0\n",
              "2         1\n",
              "3         1\n",
              "4         2\n",
              "5         1\n",
              "6         0\n",
              "7         2\n",
              "8         1\n",
              "9         2\n",
              "10        0\n",
              "11        2"
            ]
          },
          "execution_count": 89,
          "metadata": {},
          "output_type": "execute_result"
        }
      ],
      "source": [
        "label_encoded_data"
      ]
    },
    {
      "cell_type": "markdown",
      "source": [
        "Data contained in pandas objects can be combined together in a number of ways:\n",
        "\n",
        "\n",
        "*   **pandas.merge** connects rows in DataFrames based on one or more keys.\n",
        "*   **pandas.concat** concatenates or “stacks” together objects along an axis."
      ],
      "metadata": {
        "id": "80yvp2PLimZ3"
      }
    },
    {
      "cell_type": "code",
      "source": [
        "df1 = pd.DataFrame({'Bikes': ['Bike2', 'Bike2', 'Bike1', 'Bike3', 'Bike1', 'Bike1','Bike2'],'gears1': range(7)})\n",
        "df2 = pd.DataFrame({'Bikes': ['Bike1', 'Bike2', 'Bike4'],'gears2': range(3)})"
      ],
      "metadata": {
        "id": "EOdXymfgeBG9"
      },
      "execution_count": null,
      "outputs": []
    },
    {
      "cell_type": "code",
      "source": [
        "df2"
      ],
      "metadata": {
        "colab": {
          "base_uri": "https://localhost:8080/",
          "height": 143
        },
        "id": "ZnzL20fDjyFi",
        "outputId": "d63bc6d7-e185-4680-d5e2-6f72780125a3"
      },
      "execution_count": null,
      "outputs": [
        {
          "output_type": "execute_result",
          "data": {
            "text/html": [
              "\n",
              "  <div id=\"df-2e3d2a5a-2f41-45a4-b4dc-321ba4eb994c\">\n",
              "    <div class=\"colab-df-container\">\n",
              "      <div>\n",
              "<style scoped>\n",
              "    .dataframe tbody tr th:only-of-type {\n",
              "        vertical-align: middle;\n",
              "    }\n",
              "\n",
              "    .dataframe tbody tr th {\n",
              "        vertical-align: top;\n",
              "    }\n",
              "\n",
              "    .dataframe thead th {\n",
              "        text-align: right;\n",
              "    }\n",
              "</style>\n",
              "<table border=\"1\" class=\"dataframe\">\n",
              "  <thead>\n",
              "    <tr style=\"text-align: right;\">\n",
              "      <th></th>\n",
              "      <th>Bikes</th>\n",
              "      <th>gears</th>\n",
              "    </tr>\n",
              "  </thead>\n",
              "  <tbody>\n",
              "    <tr>\n",
              "      <th>0</th>\n",
              "      <td>Bike1</td>\n",
              "      <td>0</td>\n",
              "    </tr>\n",
              "    <tr>\n",
              "      <th>1</th>\n",
              "      <td>Bike2</td>\n",
              "      <td>1</td>\n",
              "    </tr>\n",
              "    <tr>\n",
              "      <th>2</th>\n",
              "      <td>Bike3</td>\n",
              "      <td>2</td>\n",
              "    </tr>\n",
              "  </tbody>\n",
              "</table>\n",
              "</div>\n",
              "      <button class=\"colab-df-convert\" onclick=\"convertToInteractive('df-2e3d2a5a-2f41-45a4-b4dc-321ba4eb994c')\"\n",
              "              title=\"Convert this dataframe to an interactive table.\"\n",
              "              style=\"display:none;\">\n",
              "        \n",
              "  <svg xmlns=\"http://www.w3.org/2000/svg\" height=\"24px\"viewBox=\"0 0 24 24\"\n",
              "       width=\"24px\">\n",
              "    <path d=\"M0 0h24v24H0V0z\" fill=\"none\"/>\n",
              "    <path d=\"M18.56 5.44l.94 2.06.94-2.06 2.06-.94-2.06-.94-.94-2.06-.94 2.06-2.06.94zm-11 1L8.5 8.5l.94-2.06 2.06-.94-2.06-.94L8.5 2.5l-.94 2.06-2.06.94zm10 10l.94 2.06.94-2.06 2.06-.94-2.06-.94-.94-2.06-.94 2.06-2.06.94z\"/><path d=\"M17.41 7.96l-1.37-1.37c-.4-.4-.92-.59-1.43-.59-.52 0-1.04.2-1.43.59L10.3 9.45l-7.72 7.72c-.78.78-.78 2.05 0 2.83L4 21.41c.39.39.9.59 1.41.59.51 0 1.02-.2 1.41-.59l7.78-7.78 2.81-2.81c.8-.78.8-2.07 0-2.86zM5.41 20L4 18.59l7.72-7.72 1.47 1.35L5.41 20z\"/>\n",
              "  </svg>\n",
              "      </button>\n",
              "      \n",
              "  <style>\n",
              "    .colab-df-container {\n",
              "      display:flex;\n",
              "      flex-wrap:wrap;\n",
              "      gap: 12px;\n",
              "    }\n",
              "\n",
              "    .colab-df-convert {\n",
              "      background-color: #E8F0FE;\n",
              "      border: none;\n",
              "      border-radius: 50%;\n",
              "      cursor: pointer;\n",
              "      display: none;\n",
              "      fill: #1967D2;\n",
              "      height: 32px;\n",
              "      padding: 0 0 0 0;\n",
              "      width: 32px;\n",
              "    }\n",
              "\n",
              "    .colab-df-convert:hover {\n",
              "      background-color: #E2EBFA;\n",
              "      box-shadow: 0px 1px 2px rgba(60, 64, 67, 0.3), 0px 1px 3px 1px rgba(60, 64, 67, 0.15);\n",
              "      fill: #174EA6;\n",
              "    }\n",
              "\n",
              "    [theme=dark] .colab-df-convert {\n",
              "      background-color: #3B4455;\n",
              "      fill: #D2E3FC;\n",
              "    }\n",
              "\n",
              "    [theme=dark] .colab-df-convert:hover {\n",
              "      background-color: #434B5C;\n",
              "      box-shadow: 0px 1px 3px 1px rgba(0, 0, 0, 0.15);\n",
              "      filter: drop-shadow(0px 1px 2px rgba(0, 0, 0, 0.3));\n",
              "      fill: #FFFFFF;\n",
              "    }\n",
              "  </style>\n",
              "\n",
              "      <script>\n",
              "        const buttonEl =\n",
              "          document.querySelector('#df-2e3d2a5a-2f41-45a4-b4dc-321ba4eb994c button.colab-df-convert');\n",
              "        buttonEl.style.display =\n",
              "          google.colab.kernel.accessAllowed ? 'block' : 'none';\n",
              "\n",
              "        async function convertToInteractive(key) {\n",
              "          const element = document.querySelector('#df-2e3d2a5a-2f41-45a4-b4dc-321ba4eb994c');\n",
              "          const dataTable =\n",
              "            await google.colab.kernel.invokeFunction('convertToInteractive',\n",
              "                                                     [key], {});\n",
              "          if (!dataTable) return;\n",
              "\n",
              "          const docLinkHtml = 'Like what you see? Visit the ' +\n",
              "            '<a target=\"_blank\" href=https://colab.research.google.com/notebooks/data_table.ipynb>data table notebook</a>'\n",
              "            + ' to learn more about interactive tables.';\n",
              "          element.innerHTML = '';\n",
              "          dataTable['output_type'] = 'display_data';\n",
              "          await google.colab.output.renderOutput(dataTable, element);\n",
              "          const docLink = document.createElement('div');\n",
              "          docLink.innerHTML = docLinkHtml;\n",
              "          element.appendChild(docLink);\n",
              "        }\n",
              "      </script>\n",
              "    </div>\n",
              "  </div>\n",
              "  "
            ],
            "text/plain": [
              "   Bikes  gears\n",
              "0  Bike1      0\n",
              "1  Bike2      1\n",
              "2  Bike3      2"
            ]
          },
          "metadata": {},
          "execution_count": 133
        }
      ]
    },
    {
      "cell_type": "code",
      "source": [
        "pd.merge(df1, df2)"
      ],
      "metadata": {
        "colab": {
          "base_uri": "https://localhost:8080/",
          "height": 238
        },
        "id": "FNSYWk45mYJb",
        "outputId": "e522de38-e333-4c59-b601-835d4363762f"
      },
      "execution_count": null,
      "outputs": [
        {
          "output_type": "execute_result",
          "data": {
            "text/html": [
              "\n",
              "  <div id=\"df-5d00329d-5d65-4dd9-922c-9ee44d631bf0\">\n",
              "    <div class=\"colab-df-container\">\n",
              "      <div>\n",
              "<style scoped>\n",
              "    .dataframe tbody tr th:only-of-type {\n",
              "        vertical-align: middle;\n",
              "    }\n",
              "\n",
              "    .dataframe tbody tr th {\n",
              "        vertical-align: top;\n",
              "    }\n",
              "\n",
              "    .dataframe thead th {\n",
              "        text-align: right;\n",
              "    }\n",
              "</style>\n",
              "<table border=\"1\" class=\"dataframe\">\n",
              "  <thead>\n",
              "    <tr style=\"text-align: right;\">\n",
              "      <th></th>\n",
              "      <th>Bikes</th>\n",
              "      <th>gears1</th>\n",
              "      <th>gears2</th>\n",
              "    </tr>\n",
              "  </thead>\n",
              "  <tbody>\n",
              "    <tr>\n",
              "      <th>0</th>\n",
              "      <td>Bike2</td>\n",
              "      <td>0</td>\n",
              "      <td>1</td>\n",
              "    </tr>\n",
              "    <tr>\n",
              "      <th>1</th>\n",
              "      <td>Bike2</td>\n",
              "      <td>1</td>\n",
              "      <td>1</td>\n",
              "    </tr>\n",
              "    <tr>\n",
              "      <th>2</th>\n",
              "      <td>Bike2</td>\n",
              "      <td>6</td>\n",
              "      <td>1</td>\n",
              "    </tr>\n",
              "    <tr>\n",
              "      <th>3</th>\n",
              "      <td>Bike1</td>\n",
              "      <td>2</td>\n",
              "      <td>0</td>\n",
              "    </tr>\n",
              "    <tr>\n",
              "      <th>4</th>\n",
              "      <td>Bike1</td>\n",
              "      <td>4</td>\n",
              "      <td>0</td>\n",
              "    </tr>\n",
              "    <tr>\n",
              "      <th>5</th>\n",
              "      <td>Bike1</td>\n",
              "      <td>5</td>\n",
              "      <td>0</td>\n",
              "    </tr>\n",
              "  </tbody>\n",
              "</table>\n",
              "</div>\n",
              "      <button class=\"colab-df-convert\" onclick=\"convertToInteractive('df-5d00329d-5d65-4dd9-922c-9ee44d631bf0')\"\n",
              "              title=\"Convert this dataframe to an interactive table.\"\n",
              "              style=\"display:none;\">\n",
              "        \n",
              "  <svg xmlns=\"http://www.w3.org/2000/svg\" height=\"24px\"viewBox=\"0 0 24 24\"\n",
              "       width=\"24px\">\n",
              "    <path d=\"M0 0h24v24H0V0z\" fill=\"none\"/>\n",
              "    <path d=\"M18.56 5.44l.94 2.06.94-2.06 2.06-.94-2.06-.94-.94-2.06-.94 2.06-2.06.94zm-11 1L8.5 8.5l.94-2.06 2.06-.94-2.06-.94L8.5 2.5l-.94 2.06-2.06.94zm10 10l.94 2.06.94-2.06 2.06-.94-2.06-.94-.94-2.06-.94 2.06-2.06.94z\"/><path d=\"M17.41 7.96l-1.37-1.37c-.4-.4-.92-.59-1.43-.59-.52 0-1.04.2-1.43.59L10.3 9.45l-7.72 7.72c-.78.78-.78 2.05 0 2.83L4 21.41c.39.39.9.59 1.41.59.51 0 1.02-.2 1.41-.59l7.78-7.78 2.81-2.81c.8-.78.8-2.07 0-2.86zM5.41 20L4 18.59l7.72-7.72 1.47 1.35L5.41 20z\"/>\n",
              "  </svg>\n",
              "      </button>\n",
              "      \n",
              "  <style>\n",
              "    .colab-df-container {\n",
              "      display:flex;\n",
              "      flex-wrap:wrap;\n",
              "      gap: 12px;\n",
              "    }\n",
              "\n",
              "    .colab-df-convert {\n",
              "      background-color: #E8F0FE;\n",
              "      border: none;\n",
              "      border-radius: 50%;\n",
              "      cursor: pointer;\n",
              "      display: none;\n",
              "      fill: #1967D2;\n",
              "      height: 32px;\n",
              "      padding: 0 0 0 0;\n",
              "      width: 32px;\n",
              "    }\n",
              "\n",
              "    .colab-df-convert:hover {\n",
              "      background-color: #E2EBFA;\n",
              "      box-shadow: 0px 1px 2px rgba(60, 64, 67, 0.3), 0px 1px 3px 1px rgba(60, 64, 67, 0.15);\n",
              "      fill: #174EA6;\n",
              "    }\n",
              "\n",
              "    [theme=dark] .colab-df-convert {\n",
              "      background-color: #3B4455;\n",
              "      fill: #D2E3FC;\n",
              "    }\n",
              "\n",
              "    [theme=dark] .colab-df-convert:hover {\n",
              "      background-color: #434B5C;\n",
              "      box-shadow: 0px 1px 3px 1px rgba(0, 0, 0, 0.15);\n",
              "      filter: drop-shadow(0px 1px 2px rgba(0, 0, 0, 0.3));\n",
              "      fill: #FFFFFF;\n",
              "    }\n",
              "  </style>\n",
              "\n",
              "      <script>\n",
              "        const buttonEl =\n",
              "          document.querySelector('#df-5d00329d-5d65-4dd9-922c-9ee44d631bf0 button.colab-df-convert');\n",
              "        buttonEl.style.display =\n",
              "          google.colab.kernel.accessAllowed ? 'block' : 'none';\n",
              "\n",
              "        async function convertToInteractive(key) {\n",
              "          const element = document.querySelector('#df-5d00329d-5d65-4dd9-922c-9ee44d631bf0');\n",
              "          const dataTable =\n",
              "            await google.colab.kernel.invokeFunction('convertToInteractive',\n",
              "                                                     [key], {});\n",
              "          if (!dataTable) return;\n",
              "\n",
              "          const docLinkHtml = 'Like what you see? Visit the ' +\n",
              "            '<a target=\"_blank\" href=https://colab.research.google.com/notebooks/data_table.ipynb>data table notebook</a>'\n",
              "            + ' to learn more about interactive tables.';\n",
              "          element.innerHTML = '';\n",
              "          dataTable['output_type'] = 'display_data';\n",
              "          await google.colab.output.renderOutput(dataTable, element);\n",
              "          const docLink = document.createElement('div');\n",
              "          docLink.innerHTML = docLinkHtml;\n",
              "          element.appendChild(docLink);\n",
              "        }\n",
              "      </script>\n",
              "    </div>\n",
              "  </div>\n",
              "  "
            ],
            "text/plain": [
              "   Bikes  gears1  gears2\n",
              "0  Bike2       0       1\n",
              "1  Bike2       1       1\n",
              "2  Bike2       6       1\n",
              "3  Bike1       2       0\n",
              "4  Bike1       4       0\n",
              "5  Bike1       5       0"
            ]
          },
          "metadata": {},
          "execution_count": 168
        }
      ]
    },
    {
      "cell_type": "markdown",
      "source": [
        "![image.png](data:image/png;base64,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)"
      ],
      "metadata": {
        "id": "gwO-bB8ZseUo"
      }
    },
    {
      "cell_type": "markdown",
      "source": [
        "**concat**"
      ],
      "metadata": {
        "id": "14v-56VZriuE"
      }
    },
    {
      "cell_type": "code",
      "source": [
        "s1 = pd.Series([0, 1], index=['a', 'b'])\n",
        "s2 = pd.Series([2, 3, 4], index=['c', 'd', 'e'])\n",
        "s3 = pd.Series([5, 6], index=['f', 'g'])"
      ],
      "metadata": {
        "id": "p5FnAzrWrkBa"
      },
      "execution_count": null,
      "outputs": []
    },
    {
      "cell_type": "code",
      "source": [
        "pd.concat([s1, s2, s3])"
      ],
      "metadata": {
        "colab": {
          "base_uri": "https://localhost:8080/"
        },
        "id": "ZFOF00D1ro8T",
        "outputId": "c4b48e83-4c74-467a-b4ac-3b5f920c9f46"
      },
      "execution_count": null,
      "outputs": [
        {
          "output_type": "execute_result",
          "data": {
            "text/plain": [
              "a    0\n",
              "b    1\n",
              "c    2\n",
              "d    3\n",
              "e    4\n",
              "f    5\n",
              "g    6\n",
              "dtype: int64"
            ]
          },
          "metadata": {},
          "execution_count": 170
        }
      ]
    },
    {
      "cell_type": "markdown",
      "source": [
        "By default concat works along axis=0 , producing another Series. If you pass axis=1 ,\n",
        "the result will instead be a DataFrame ( axis=1 is the columns):"
      ],
      "metadata": {
        "id": "SqACsi4trutl"
      }
    },
    {
      "cell_type": "code",
      "source": [
        "pd.concat([s1, s2, s3], axis=1)"
      ],
      "metadata": {
        "colab": {
          "base_uri": "https://localhost:8080/",
          "height": 269
        },
        "id": "-V8yn3yarvVi",
        "outputId": "fd1d5578-5be1-4826-a241-9ac84a827287"
      },
      "execution_count": null,
      "outputs": [
        {
          "output_type": "execute_result",
          "data": {
            "text/html": [
              "\n",
              "  <div id=\"df-d24463d4-220a-4b67-a7b8-bc00d227d01d\">\n",
              "    <div class=\"colab-df-container\">\n",
              "      <div>\n",
              "<style scoped>\n",
              "    .dataframe tbody tr th:only-of-type {\n",
              "        vertical-align: middle;\n",
              "    }\n",
              "\n",
              "    .dataframe tbody tr th {\n",
              "        vertical-align: top;\n",
              "    }\n",
              "\n",
              "    .dataframe thead th {\n",
              "        text-align: right;\n",
              "    }\n",
              "</style>\n",
              "<table border=\"1\" class=\"dataframe\">\n",
              "  <thead>\n",
              "    <tr style=\"text-align: right;\">\n",
              "      <th></th>\n",
              "      <th>0</th>\n",
              "      <th>1</th>\n",
              "      <th>2</th>\n",
              "    </tr>\n",
              "  </thead>\n",
              "  <tbody>\n",
              "    <tr>\n",
              "      <th>a</th>\n",
              "      <td>0.0</td>\n",
              "      <td>NaN</td>\n",
              "      <td>NaN</td>\n",
              "    </tr>\n",
              "    <tr>\n",
              "      <th>b</th>\n",
              "      <td>1.0</td>\n",
              "      <td>NaN</td>\n",
              "      <td>NaN</td>\n",
              "    </tr>\n",
              "    <tr>\n",
              "      <th>c</th>\n",
              "      <td>NaN</td>\n",
              "      <td>2.0</td>\n",
              "      <td>NaN</td>\n",
              "    </tr>\n",
              "    <tr>\n",
              "      <th>d</th>\n",
              "      <td>NaN</td>\n",
              "      <td>3.0</td>\n",
              "      <td>NaN</td>\n",
              "    </tr>\n",
              "    <tr>\n",
              "      <th>e</th>\n",
              "      <td>NaN</td>\n",
              "      <td>4.0</td>\n",
              "      <td>NaN</td>\n",
              "    </tr>\n",
              "    <tr>\n",
              "      <th>f</th>\n",
              "      <td>NaN</td>\n",
              "      <td>NaN</td>\n",
              "      <td>5.0</td>\n",
              "    </tr>\n",
              "    <tr>\n",
              "      <th>g</th>\n",
              "      <td>NaN</td>\n",
              "      <td>NaN</td>\n",
              "      <td>6.0</td>\n",
              "    </tr>\n",
              "  </tbody>\n",
              "</table>\n",
              "</div>\n",
              "      <button class=\"colab-df-convert\" onclick=\"convertToInteractive('df-d24463d4-220a-4b67-a7b8-bc00d227d01d')\"\n",
              "              title=\"Convert this dataframe to an interactive table.\"\n",
              "              style=\"display:none;\">\n",
              "        \n",
              "  <svg xmlns=\"http://www.w3.org/2000/svg\" height=\"24px\"viewBox=\"0 0 24 24\"\n",
              "       width=\"24px\">\n",
              "    <path d=\"M0 0h24v24H0V0z\" fill=\"none\"/>\n",
              "    <path d=\"M18.56 5.44l.94 2.06.94-2.06 2.06-.94-2.06-.94-.94-2.06-.94 2.06-2.06.94zm-11 1L8.5 8.5l.94-2.06 2.06-.94-2.06-.94L8.5 2.5l-.94 2.06-2.06.94zm10 10l.94 2.06.94-2.06 2.06-.94-2.06-.94-.94-2.06-.94 2.06-2.06.94z\"/><path d=\"M17.41 7.96l-1.37-1.37c-.4-.4-.92-.59-1.43-.59-.52 0-1.04.2-1.43.59L10.3 9.45l-7.72 7.72c-.78.78-.78 2.05 0 2.83L4 21.41c.39.39.9.59 1.41.59.51 0 1.02-.2 1.41-.59l7.78-7.78 2.81-2.81c.8-.78.8-2.07 0-2.86zM5.41 20L4 18.59l7.72-7.72 1.47 1.35L5.41 20z\"/>\n",
              "  </svg>\n",
              "      </button>\n",
              "      \n",
              "  <style>\n",
              "    .colab-df-container {\n",
              "      display:flex;\n",
              "      flex-wrap:wrap;\n",
              "      gap: 12px;\n",
              "    }\n",
              "\n",
              "    .colab-df-convert {\n",
              "      background-color: #E8F0FE;\n",
              "      border: none;\n",
              "      border-radius: 50%;\n",
              "      cursor: pointer;\n",
              "      display: none;\n",
              "      fill: #1967D2;\n",
              "      height: 32px;\n",
              "      padding: 0 0 0 0;\n",
              "      width: 32px;\n",
              "    }\n",
              "\n",
              "    .colab-df-convert:hover {\n",
              "      background-color: #E2EBFA;\n",
              "      box-shadow: 0px 1px 2px rgba(60, 64, 67, 0.3), 0px 1px 3px 1px rgba(60, 64, 67, 0.15);\n",
              "      fill: #174EA6;\n",
              "    }\n",
              "\n",
              "    [theme=dark] .colab-df-convert {\n",
              "      background-color: #3B4455;\n",
              "      fill: #D2E3FC;\n",
              "    }\n",
              "\n",
              "    [theme=dark] .colab-df-convert:hover {\n",
              "      background-color: #434B5C;\n",
              "      box-shadow: 0px 1px 3px 1px rgba(0, 0, 0, 0.15);\n",
              "      filter: drop-shadow(0px 1px 2px rgba(0, 0, 0, 0.3));\n",
              "      fill: #FFFFFF;\n",
              "    }\n",
              "  </style>\n",
              "\n",
              "      <script>\n",
              "        const buttonEl =\n",
              "          document.querySelector('#df-d24463d4-220a-4b67-a7b8-bc00d227d01d button.colab-df-convert');\n",
              "        buttonEl.style.display =\n",
              "          google.colab.kernel.accessAllowed ? 'block' : 'none';\n",
              "\n",
              "        async function convertToInteractive(key) {\n",
              "          const element = document.querySelector('#df-d24463d4-220a-4b67-a7b8-bc00d227d01d');\n",
              "          const dataTable =\n",
              "            await google.colab.kernel.invokeFunction('convertToInteractive',\n",
              "                                                     [key], {});\n",
              "          if (!dataTable) return;\n",
              "\n",
              "          const docLinkHtml = 'Like what you see? Visit the ' +\n",
              "            '<a target=\"_blank\" href=https://colab.research.google.com/notebooks/data_table.ipynb>data table notebook</a>'\n",
              "            + ' to learn more about interactive tables.';\n",
              "          element.innerHTML = '';\n",
              "          dataTable['output_type'] = 'display_data';\n",
              "          await google.colab.output.renderOutput(dataTable, element);\n",
              "          const docLink = document.createElement('div');\n",
              "          docLink.innerHTML = docLinkHtml;\n",
              "          element.appendChild(docLink);\n",
              "        }\n",
              "      </script>\n",
              "    </div>\n",
              "  </div>\n",
              "  "
            ],
            "text/plain": [
              "     0    1    2\n",
              "a  0.0  NaN  NaN\n",
              "b  1.0  NaN  NaN\n",
              "c  NaN  2.0  NaN\n",
              "d  NaN  3.0  NaN\n",
              "e  NaN  4.0  NaN\n",
              "f  NaN  NaN  5.0\n",
              "g  NaN  NaN  6.0"
            ]
          },
          "metadata": {},
          "execution_count": 171
        }
      ]
    },
    {
      "cell_type": "code",
      "source": [
        "s4 = pd.concat([s1, s3])\n",
        "s4"
      ],
      "metadata": {
        "colab": {
          "base_uri": "https://localhost:8080/"
        },
        "id": "ARQ-EXwGr0GP",
        "outputId": "6655c4ec-8ac7-4c4c-be6f-b86224e19e39"
      },
      "execution_count": null,
      "outputs": [
        {
          "output_type": "execute_result",
          "data": {
            "text/plain": [
              "a    0\n",
              "b    1\n",
              "f    5\n",
              "g    6\n",
              "dtype: int64"
            ]
          },
          "metadata": {},
          "execution_count": 173
        }
      ]
    },
    {
      "cell_type": "code",
      "source": [
        "left_alignment = \"Left Text\"\n",
        "center_alignment = \"Centered Text\"\n",
        "right_alignment = \"Right Text\"\n",
        "\n",
        "# printing out aligned text\n",
        "# print(f\"{left_alignment : <20}{center_alignment : ^15}{right_alignment : >20}\")\n",
        "# print(f\"{:*<20}\")"
      ],
      "metadata": {
        "id": "jjUBb8ljdB8y"
      },
      "execution_count": null,
      "outputs": []
    },
    {
      "cell_type": "code",
      "source": [
        "myString = \"Scaler\"\n",
        "myStr = f\"Padded String with string on left and length 20 is: {'Scaler':*<20}\"\n",
        "myStr = f\"Padded String with string on left and length 20 is: {'Scaler':*>20}\"\n",
        "myStr = f\"Padded String with string on left and length 20 is: {'Scaler':*^20}\"\n",
        "\n",
        "myStr = f\"Padded String with string on left and length 20 is: {'Scaler':0^20}\"\n",
        "print(myStr)\n"
      ],
      "metadata": {
        "colab": {
          "base_uri": "https://localhost:8080/"
        },
        "id": "Pgv3-6vldvfe",
        "outputId": "650c9414-944c-4fe3-d5bd-50534dafe00d"
      },
      "execution_count": null,
      "outputs": [
        {
          "output_type": "stream",
          "name": "stdout",
          "text": [
            "Padded String with string on left and length 20 is: 0000000Scaler0000000\n"
          ]
        }
      ]
    },
    {
      "cell_type": "code",
      "source": [],
      "metadata": {
        "id": "xDeY-jEAhlx-"
      },
      "execution_count": null,
      "outputs": []
    }
  ]
}