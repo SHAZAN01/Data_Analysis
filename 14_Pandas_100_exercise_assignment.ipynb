{
  "nbformat": 4,
  "nbformat_minor": 0,
  "metadata": {
    "colab": {
      "provenance": [],
      "include_colab_link": true
    },
    "kernelspec": {
      "name": "python3",
      "display_name": "Python 3"
    },
    "language_info": {
      "name": "python"
    }
  },
  "cells": [
    {
      "cell_type": "markdown",
      "metadata": {
        "id": "view-in-github",
        "colab_type": "text"
      },
      "source": [
        "<a href=\"https://colab.research.google.com/github/SHAZAN01/Data_Analysis/blob/main/14_Pandas_100_exercise_assignment.ipynb\" target=\"_parent\"><img src=\"https://colab.research.google.com/assets/colab-badge.svg\" alt=\"Open In Colab\"/></a>"
      ]
    },
    {
      "cell_type": "markdown",
      "source": [
        "# **pandas top most problems practice**"
      ],
      "metadata": {
        "id": "eNY2KZ0ij4vq"
      }
    },
    {
      "cell_type": "code",
      "execution_count": null,
      "metadata": {
        "id": "ICm-iI0Ojz1Z",
        "colab": {
          "base_uri": "https://localhost:8080/"
        },
        "outputId": "30c9bcb1-7bcb-4870-bc53-4adfbb848b0c"
      },
      "outputs": [
        {
          "output_type": "stream",
          "name": "stdout",
          "text": [
            "1.3.5\n",
            "{\n",
            "  \"system\": {\n",
            "    \"commit\": \"66e3805b8cabe977f40c05259cc3fcf7ead5687d\",\n",
            "    \"python\": \"3.8.10.final.0\",\n",
            "    \"python-bits\": 64,\n",
            "    \"OS\": \"Linux\",\n",
            "    \"OS-release\": \"5.10.147+\",\n",
            "    \"Version\": \"#1 SMP Sat Dec 10 16:00:40 UTC 2022\",\n",
            "    \"machine\": \"x86_64\",\n",
            "    \"processor\": \"x86_64\",\n",
            "    \"byteorder\": \"little\",\n",
            "    \"LC_ALL\": null,\n",
            "    \"LANG\": \"en_US.UTF-8\",\n",
            "    \"LOCALE\": {\n",
            "      \"language-code\": \"en_US\",\n",
            "      \"encoding\": \"UTF-8\"\n",
            "    }\n",
            "  },\n",
            "  \"dependencies\": {\n",
            "    \"pandas\": \"1.3.5\",\n",
            "    \"numpy\": \"1.22.4\",\n",
            "    \"pytz\": \"2022.7.1\",\n",
            "    \"dateutil\": \"2.8.2\",\n",
            "    \"pip\": \"22.0.4\",\n",
            "    \"setuptools\": \"57.4.0\",\n",
            "    \"Cython\": \"0.29.33\",\n",
            "    \"pytest\": \"3.6.4\",\n",
            "    \"hypothesis\": null,\n",
            "    \"sphinx\": \"3.5.4\",\n",
            "    \"blosc\": null,\n",
            "    \"feather\": \"0.4.1\",\n",
            "    \"xlsxwriter\": null,\n",
            "    \"lxml.etree\": \"4.9.2\",\n",
            "    \"html5lib\": \"1.0.1\",\n",
            "    \"pymysql\": null,\n",
            "    \"psycopg2\": \"2.9.5 (dt dec pq3 ext lo64)\",\n",
            "    \"jinja2\": \"2.11.3\",\n",
            "    \"IPython\": \"7.9.0\",\n",
            "    \"pandas_datareader\": \"0.9.0\",\n",
            "    \"bs4\": \"4.6.3\",\n",
            "    \"bottleneck\": null,\n",
            "    \"fsspec\": \"2023.1.0\",\n",
            "    \"fastparquet\": null,\n",
            "    \"gcsfs\": null,\n",
            "    \"matplotlib\": \"3.5.3\",\n",
            "    \"numexpr\": \"2.8.4\",\n",
            "    \"odfpy\": null,\n",
            "    \"openpyxl\": \"3.0.10\",\n",
            "    \"pandas_gbq\": \"0.17.9\",\n",
            "    \"pyarrow\": \"9.0.0\",\n",
            "    \"pyxlsb\": null,\n",
            "    \"s3fs\": null,\n",
            "    \"scipy\": \"1.7.3\",\n",
            "    \"sqlalchemy\": \"1.4.46\",\n",
            "    \"tables\": \"3.7.0\",\n",
            "    \"tabulate\": \"0.8.10\",\n",
            "    \"xarray\": \"2022.12.0\",\n",
            "    \"xlrd\": \"1.2.0\",\n",
            "    \"xlwt\": \"1.3.0\",\n",
            "    \"numba\": \"0.56.4\"\n",
            "  }\n",
            "}None\n"
          ]
        }
      ],
      "source": [
        "# 1. How to import pandas and check the version?\n",
        "import numpy as np  # optional\n",
        "import pandas as pd\n",
        "print(pd.__version__)\n",
        "print(pd.show_versions(as_json=True))"
      ]
    },
    {
      "cell_type": "code",
      "source": [
        "# 2. How to create a series from a list, numpy array and dict?\n",
        "# Create a pandas series from each of the items below: a list, numpy and a dictionary\n",
        "\n",
        "import numpy as np\n",
        "mylist = list('abcedfghijklmnopqrstuvwxyz')\n",
        "myarr = np.arange(26)\n",
        "mydict = dict(zip(mylist, myarr))\n",
        "\n",
        "ser1 = pd.Series(mylist)\n",
        "ser2 = pd.Series(myarr)\n",
        "ser3 = pd.Series(mydict)\n",
        "print(ser3.head())"
      ],
      "metadata": {
        "colab": {
          "base_uri": "https://localhost:8080/"
        },
        "id": "YyYSfdTlltu_",
        "outputId": "ecbf3e28-2676-40ad-d710-06acf7739880"
      },
      "execution_count": null,
      "outputs": [
        {
          "output_type": "stream",
          "name": "stdout",
          "text": [
            "a    0\n",
            "b    1\n",
            "c    2\n",
            "e    3\n",
            "d    4\n",
            "dtype: int64\n"
          ]
        }
      ]
    },
    {
      "cell_type": "code",
      "source": [
        "# 3. How to convert the index of a series into a column of a dataframe?\n",
        "# Convert the series ser into a dataframe with its index as another column on the dataframe.\n",
        "\n",
        "# Input\n",
        "mylist = list('abcedfghijklmnopqrstuvwxyz')\n",
        "myarr = np.arange(26)\n",
        "mydict = dict(zip(mylist, myarr))\n",
        "ser = pd.Series(mydict)\n",
        "\n",
        "# Solution\n",
        "df = ser.to_frame().reset_index()\n",
        "print(df.head())"
      ],
      "metadata": {
        "colab": {
          "base_uri": "https://localhost:8080/"
        },
        "id": "lOPNFNyAmQF6",
        "outputId": "d4a9b9bb-32e2-4cdd-8bbd-a13fc27f2595"
      },
      "execution_count": null,
      "outputs": [
        {
          "output_type": "stream",
          "name": "stdout",
          "text": [
            "  index  0\n",
            "0     a  0\n",
            "1     b  1\n",
            "2     c  2\n",
            "3     e  3\n",
            "4     d  4\n"
          ]
        }
      ]
    },
    {
      "cell_type": "code",
      "source": [
        "# 4. How to combine many series to form a dataframe?\n",
        "# Combine ser1 and ser2 to form a dataframe.\n",
        "\n",
        "# Input\n",
        "import numpy as np\n",
        "ser1 = pd.Series(list('abcedfghijklmnopqrstuvwxyz'))\n",
        "ser2 = pd.Series(np.arange(26))\n",
        "\n",
        "# Solution 1\n",
        "df = pd.concat([ser1, ser2], axis=1)\n",
        "\n",
        "# Solution 2\n",
        "df = pd.DataFrame({'col1': ser1, 'col2': ser2})\n",
        "print(df.head())"
      ],
      "metadata": {
        "colab": {
          "base_uri": "https://localhost:8080/"
        },
        "id": "jiRwLvJhmPmr",
        "outputId": "67df2678-a9fb-4443-bd5e-b98a57b57ef9"
      },
      "execution_count": null,
      "outputs": [
        {
          "output_type": "stream",
          "name": "stdout",
          "text": [
            "  col1  col2\n",
            "0    a     0\n",
            "1    b     1\n",
            "2    c     2\n",
            "3    e     3\n",
            "4    d     4\n"
          ]
        }
      ]
    },
    {
      "cell_type": "code",
      "source": [
        "# 5. How to assign name to the series’ index?\n",
        "# Give a name to the series ser calling it ‘alphabets’.\n",
        "\n",
        "# Input\n",
        "ser = pd.Series(list('abcedfghijklmnopqrstuvwxyz'))\n",
        "\n",
        "# Solution\n",
        "ser.name = 'alphabets'\n",
        "ser.head()"
      ],
      "metadata": {
        "colab": {
          "base_uri": "https://localhost:8080/"
        },
        "id": "6x4umhrOmPjM",
        "outputId": "83f4011d-c6fa-49f5-d1fc-a8a590fe2780"
      },
      "execution_count": null,
      "outputs": [
        {
          "output_type": "execute_result",
          "data": {
            "text/plain": [
              "0    a\n",
              "1    b\n",
              "2    c\n",
              "3    e\n",
              "4    d\n",
              "Name: alphabets, dtype: object"
            ]
          },
          "metadata": {},
          "execution_count": 5
        }
      ]
    },
    {
      "cell_type": "code",
      "source": [
        "# 6. How to get the items of series A not present in series B?\n",
        "# From ser1 remove items present in ser2.\n",
        "\n",
        "# Input\n",
        "ser1 = pd.Series([1, 2, 3, 4, 5])\n",
        "ser2 = pd.Series([4, 5, 6, 7, 8])\n",
        "\n",
        "# Solution\n",
        "ser1[~ser1.isin(ser2)]"
      ],
      "metadata": {
        "colab": {
          "base_uri": "https://localhost:8080/"
        },
        "id": "wjL-H5oQmPg1",
        "outputId": "e698f790-bf6b-49cc-efd7-2507a2110f34"
      },
      "execution_count": null,
      "outputs": [
        {
          "output_type": "execute_result",
          "data": {
            "text/plain": [
              "0    1\n",
              "1    2\n",
              "2    3\n",
              "dtype: int64"
            ]
          },
          "metadata": {},
          "execution_count": 6
        }
      ]
    },
    {
      "cell_type": "code",
      "source": [
        "# 7. How to get the items not common to both series A and series B?\n",
        "# Get all items of ser1 and ser2 not common to both.\n",
        "\n",
        "\n",
        "# Input\n",
        "ser1 = pd.Series([1, 2, 3, 4, 5])\n",
        "ser2 = pd.Series([4, 5, 6, 7, 8])\n",
        "\n",
        "# Solution\n",
        "ser_u = pd.Series(np.union1d(ser1, ser2))  # union\n",
        "ser_i = pd.Series(np.intersect1d(ser1, ser2))  # intersect\n",
        "ser_u[~ser_u.isin(ser_i)]"
      ],
      "metadata": {
        "colab": {
          "base_uri": "https://localhost:8080/"
        },
        "id": "j20Y13l0mPaN",
        "outputId": "4730d42a-62d0-41a1-a6f6-3ee48891f293"
      },
      "execution_count": null,
      "outputs": [
        {
          "output_type": "execute_result",
          "data": {
            "text/plain": [
              "0    1\n",
              "1    2\n",
              "2    3\n",
              "5    6\n",
              "6    7\n",
              "7    8\n",
              "dtype: int64"
            ]
          },
          "metadata": {},
          "execution_count": 7
        }
      ]
    },
    {
      "cell_type": "code",
      "source": [
        "# 8. How to get the minimum, 25th percentile, median, 75th, and max of a numeric series?\n",
        "# Compute the minimum, 25th percentile, median, 75th, and maximum of ser.\n",
        "\n",
        "# Input\n",
        "state = np.random.RandomState(100)\n",
        "ser = pd.Series(state.normal(10, 5, 25))\n",
        "\n",
        "# Solution\n",
        "np.percentile(ser, q=[0, 25, 50, 75, 100])"
      ],
      "metadata": {
        "colab": {
          "base_uri": "https://localhost:8080/"
        },
        "id": "DdIGTUeBmPMT",
        "outputId": "680f57c7-89cb-4daf-d7fe-dd9b0be8d25a"
      },
      "execution_count": null,
      "outputs": [
        {
          "output_type": "execute_result",
          "data": {
            "text/plain": [
              "array([ 1.25117263,  7.70986507, 10.92259345, 13.36360403, 18.0949083 ])"
            ]
          },
          "metadata": {},
          "execution_count": 8
        }
      ]
    },
    {
      "cell_type": "code",
      "source": [
        "# 9. How to get frequency counts of unique items of a series?\n",
        "# Calculte the frequency counts of each unique value ser.\n",
        "\n",
        "\n",
        "ser = pd.Series(np.take(list('abcdefgh'), np.random.randint(8, size=30)))\n",
        "\n",
        "# Solution\n",
        "ser.value_counts()"
      ],
      "metadata": {
        "colab": {
          "base_uri": "https://localhost:8080/"
        },
        "id": "ahdoXF2_mPJo",
        "outputId": "febe5980-e950-4ae9-e2d4-8caff029573d"
      },
      "execution_count": null,
      "outputs": [
        {
          "output_type": "execute_result",
          "data": {
            "text/plain": [
              "e    6\n",
              "h    6\n",
              "d    6\n",
              "f    5\n",
              "a    2\n",
              "g    2\n",
              "c    2\n",
              "b    1\n",
              "dtype: int64"
            ]
          },
          "metadata": {},
          "execution_count": 9
        }
      ]
    },
    {
      "cell_type": "code",
      "source": [
        "# 10. How to keep only top 2 most frequent values as it is and replace everything else as ‘Other’?\n",
        "# From ser, keep the top 2 most frequent items as it is and replace everything else as ‘Other’.\n",
        "\n",
        "# Input\n",
        "np.random.RandomState(100)\n",
        "ser = pd.Series(np.random.randint(1, 5, [12]))\n",
        "\n",
        "# Solution\n",
        "print(\"Top 2 Freq:\", ser.value_counts())\n",
        "ser[~ser.isin(ser.value_counts().index[:2])] = 'Other'\n",
        "ser"
      ],
      "metadata": {
        "colab": {
          "base_uri": "https://localhost:8080/"
        },
        "id": "R8DpV940mPFx",
        "outputId": "22d30121-413a-4daa-9e46-78ff84805b1c"
      },
      "execution_count": null,
      "outputs": [
        {
          "output_type": "stream",
          "name": "stdout",
          "text": [
            "Top 2 Freq: 4    4\n",
            "2    3\n",
            "1    3\n",
            "3    2\n",
            "dtype: int64\n"
          ]
        },
        {
          "output_type": "execute_result",
          "data": {
            "text/plain": [
              "0     Other\n",
              "1         2\n",
              "2         2\n",
              "3         4\n",
              "4         4\n",
              "5     Other\n",
              "6         4\n",
              "7     Other\n",
              "8         2\n",
              "9     Other\n",
              "10    Other\n",
              "11        4\n",
              "dtype: object"
            ]
          },
          "metadata": {},
          "execution_count": 10
        }
      ]
    },
    {
      "cell_type": "code",
      "source": [
        "# 11. How to bin a numeric series to 10 groups of equal size?\n",
        "# Bin the series ser into 10 equal deciles and replace the values with the bin name.\n",
        "\n",
        "# Input\n",
        "ser = pd.Series(np.random.random(20))\n",
        "print(ser.head())\n",
        "\n",
        "# Solution\n",
        "pd.qcut(ser, q=[0, .10, .20, .3, .4, .5, .6, .7, .8, .9, 1],\n",
        "        labels=['1st', '2nd', '3rd', '4th', '5th', '6th', '7th', '8th', '9th', '10th']).head()"
      ],
      "metadata": {
        "colab": {
          "base_uri": "https://localhost:8080/"
        },
        "id": "eGyDshHMmPD9",
        "outputId": "f533f9c7-5e33-4768-b11d-1520e1335abe"
      },
      "execution_count": null,
      "outputs": [
        {
          "output_type": "stream",
          "name": "stdout",
          "text": [
            "0    0.172053\n",
            "1    0.766247\n",
            "2    0.439175\n",
            "3    0.003393\n",
            "4    0.582851\n",
            "dtype: float64\n"
          ]
        },
        {
          "output_type": "execute_result",
          "data": {
            "text/plain": [
              "0    3rd\n",
              "1    9th\n",
              "2    5th\n",
              "3    1st\n",
              "4    6th\n",
              "dtype: category\n",
              "Categories (10, object): ['1st' < '2nd' < '3rd' < '4th' ... '7th' < '8th' < '9th' < '10th']"
            ]
          },
          "metadata": {},
          "execution_count": 11
        }
      ]
    },
    {
      "cell_type": "code",
      "source": [
        "# 12. How to convert a numpy array to a dataframe of given shape? (L1)\n",
        "# Reshape the series ser into a dataframe with 7 rows and 5 columns\n",
        "\n",
        "# Input\n",
        "ser = pd.Series(np.random.randint(1, 10, 35))\n",
        "\n",
        "# Solution\n",
        "df = pd.DataFrame(ser.values.reshape(7,5))\n",
        "print(df)"
      ],
      "metadata": {
        "colab": {
          "base_uri": "https://localhost:8080/"
        },
        "id": "Iw0jLslMmO63",
        "outputId": "3bbbe586-ff03-4091-9e9a-da78ab0f35c3"
      },
      "execution_count": null,
      "outputs": [
        {
          "output_type": "stream",
          "name": "stdout",
          "text": [
            "   0  1  2  3  4\n",
            "0  3  1  9  5  2\n",
            "1  7  9  1  5  4\n",
            "2  9  2  1  6  1\n",
            "3  1  4  8  8  4\n",
            "4  1  2  7  6  5\n",
            "5  5  8  9  8  8\n",
            "6  4  3  8  9  8\n"
          ]
        }
      ]
    },
    {
      "cell_type": "code",
      "source": [
        "# 13. How to find the positions of numbers that are multiples of 3 from a series?\n",
        "# Find the positions of numbers that are multiples of 3 from ser.\n",
        "\n",
        "# # Input\n",
        "# ser = pd.Series(np.random.randint(1, 10, 7))\n",
        "# # ser\n",
        "\n",
        "# # Solution\n",
        "# print(ser)\n",
        "# np.argwhere(ser % 3==0)"
      ],
      "metadata": {
        "id": "7aXSR4OrmOXq"
      },
      "execution_count": null,
      "outputs": []
    },
    {
      "cell_type": "code",
      "source": [
        "# 14. How to extract items at given positions from a series\n",
        "# From ser, extract the items at positions in list pos.\n",
        "\n",
        "\n",
        "# Input\n",
        "ser = pd.Series(list('abcdefghijklmnopqrstuvwxyz'))\n",
        "pos = [0, 4, 8, 14, 20]\n",
        "\n",
        "# Solution\n",
        "ser.take(pos)\n"
      ],
      "metadata": {
        "colab": {
          "base_uri": "https://localhost:8080/"
        },
        "id": "3DTUNGcKmOU6",
        "outputId": "f0e17990-32b8-4ce1-d866-49d3700112c6"
      },
      "execution_count": null,
      "outputs": [
        {
          "output_type": "execute_result",
          "data": {
            "text/plain": [
              "0     a\n",
              "4     e\n",
              "8     i\n",
              "14    o\n",
              "20    u\n",
              "dtype: object"
            ]
          },
          "metadata": {},
          "execution_count": 16
        }
      ]
    },
    {
      "cell_type": "code",
      "source": [
        "# 15. How to stack two series vertically and horizontally ?\n",
        "# Stack ser1 and ser2 vertically and horizontally (to form a dataframe).\n",
        "\n",
        "# Input\n",
        "ser1 = pd.Series(range(5))\n",
        "ser2 = pd.Series(list('abcde'))\n",
        "\n",
        "# Output\n",
        "# Vertical\n",
        "ser1.append(ser2)\n",
        "\n",
        "# Horizontal\n",
        "df = pd.concat([ser1, ser2], axis=1)\n",
        "print(df)"
      ],
      "metadata": {
        "colab": {
          "base_uri": "https://localhost:8080/"
        },
        "id": "WmqysrXNmOR_",
        "outputId": "6e175dde-e50f-45f9-908c-cee19764f9cc"
      },
      "execution_count": null,
      "outputs": [
        {
          "output_type": "stream",
          "name": "stdout",
          "text": [
            "   0  1\n",
            "0  0  a\n",
            "1  1  b\n",
            "2  2  c\n",
            "3  3  d\n",
            "4  4  e\n"
          ]
        }
      ]
    },
    {
      "cell_type": "code",
      "source": [
        "# 16. How to get the positions of items of series A in another series B?\n",
        "# Get the positions of items of ser2 in ser1 as a list.\n",
        "\n",
        "# Input\n",
        "ser1 = pd.Series([10, 9, 6, 5, 3, 1, 12, 8, 13])\n",
        "ser2 = pd.Series([1, 3, 10, 13])\n",
        "\n",
        "# Solution 1\n",
        "[np.where(i == ser1)[0].tolist()[0] for i in ser2]\n",
        "\n",
        "# Solution 2\n",
        "[pd.Index(ser1).get_loc(i) for i in ser2]"
      ],
      "metadata": {
        "colab": {
          "base_uri": "https://localhost:8080/"
        },
        "id": "ZJk4q8NxmOPU",
        "outputId": "a9732bfa-f2b7-442d-a7c8-c0e07a8f44ef"
      },
      "execution_count": null,
      "outputs": [
        {
          "output_type": "execute_result",
          "data": {
            "text/plain": [
              "[5, 4, 0, 8]"
            ]
          },
          "metadata": {},
          "execution_count": 18
        }
      ]
    },
    {
      "cell_type": "code",
      "source": [
        "# 17. How to compute the mean squared error on a truth and predicted series?\n",
        "# Compute the mean squared error of truth and pred series.\n",
        "\n",
        "\n",
        "# Input\n",
        "truth = pd.Series(range(10))\n",
        "pred = pd.Series(range(10)) + np.random.random(10)\n",
        "\n",
        "# Solution\n",
        "np.mean((truth-pred)**2)"
      ],
      "metadata": {
        "colab": {
          "base_uri": "https://localhost:8080/"
        },
        "id": "QxMF2JIumOM2",
        "outputId": "4362947a-2fda-4d33-ee1c-9e53d319a845"
      },
      "execution_count": null,
      "outputs": [
        {
          "output_type": "execute_result",
          "data": {
            "text/plain": [
              "0.3446785910140731"
            ]
          },
          "metadata": {},
          "execution_count": 19
        }
      ]
    },
    {
      "cell_type": "code",
      "source": [
        "# 18. How to convert the first character of each element in a series to uppercase?\n",
        "# Change the first character of each word to upper case in each word of ser.\n",
        "\n",
        "# Input\n",
        "ser = pd.Series(['how', 'to', 'kick', 'ass?'])\n",
        "\n",
        "# Solution 1\n",
        "ser.map(lambda x: x.title())\n",
        "\n",
        "# Solution 2\n",
        "ser.map(lambda x: x[0].upper() + x[1:])\n",
        "\n",
        "# Solution 3\n",
        "pd.Series([i.title() for i in ser])"
      ],
      "metadata": {
        "colab": {
          "base_uri": "https://localhost:8080/"
        },
        "id": "j-6vtgDMmOKg",
        "outputId": "5fc2c436-5eb7-4f93-8277-64c5d8423ac3"
      },
      "execution_count": null,
      "outputs": [
        {
          "output_type": "execute_result",
          "data": {
            "text/plain": [
              "0     How\n",
              "1      To\n",
              "2    Kick\n",
              "3    Ass?\n",
              "dtype: object"
            ]
          },
          "metadata": {},
          "execution_count": 20
        }
      ]
    },
    {
      "cell_type": "code",
      "source": [
        "# 19. How to calculate the number of characters in each word in a series?\n",
        "\n",
        "# Input\n",
        "ser = pd.Series(['how', 'to', 'kick', 'ass?'])\n",
        "\n",
        "# Solution\n",
        "ser.map(lambda x: len(x))"
      ],
      "metadata": {
        "colab": {
          "base_uri": "https://localhost:8080/"
        },
        "id": "Ukrd7OJomOH4",
        "outputId": "7f7b2fd0-fda2-4a14-95a4-23d8b42e1343"
      },
      "execution_count": null,
      "outputs": [
        {
          "output_type": "execute_result",
          "data": {
            "text/plain": [
              "0    3\n",
              "1    2\n",
              "2    4\n",
              "3    4\n",
              "dtype: int64"
            ]
          },
          "metadata": {},
          "execution_count": 21
        }
      ]
    },
    {
      "cell_type": "code",
      "source": [
        "# 20. How to compute difference of differences between consequtive numbers of a series?\n",
        "# Difference of differences between the consequtive numbers of ser.\n",
        "\n",
        "# Input\n",
        "ser = pd.Series([1, 3, 6, 10, 15, 21, 27, 35])\n",
        "\n",
        "# Solution\n",
        "print(ser.diff().tolist())\n",
        "print(ser.diff().diff().tolist())"
      ],
      "metadata": {
        "colab": {
          "base_uri": "https://localhost:8080/"
        },
        "id": "c0Qe30W4mOFX",
        "outputId": "37bcc085-a893-4851-eb89-5178000a3b84"
      },
      "execution_count": null,
      "outputs": [
        {
          "output_type": "stream",
          "name": "stdout",
          "text": [
            "[nan, 2.0, 3.0, 4.0, 5.0, 6.0, 6.0, 8.0]\n",
            "[nan, nan, 1.0, 1.0, 1.0, 1.0, 0.0, 2.0]\n"
          ]
        }
      ]
    },
    {
      "cell_type": "code",
      "source": [
        "# 21. How to convert a series of date-strings to a timeseries?\n",
        "\n",
        "# Input\n",
        "ser = pd.Series(['01 Jan 2010', '02-02-2011', '20120303', '2013/04/04', '2014-05-05', '2015-06-06T12:20'])\n",
        "\n",
        "# Solution 1\n",
        "from dateutil.parser import parse\n",
        "ser.map(lambda x: parse(x))\n",
        "\n",
        "# Solution 2\n",
        "pd.to_datetime(ser)"
      ],
      "metadata": {
        "colab": {
          "base_uri": "https://localhost:8080/"
        },
        "id": "XV0T4a-8mOCu",
        "outputId": "b8a4b6d4-a79e-4d5f-f089-95cfc3fbd159"
      },
      "execution_count": null,
      "outputs": [
        {
          "output_type": "execute_result",
          "data": {
            "text/plain": [
              "0   2010-01-01 00:00:00\n",
              "1   2011-02-02 00:00:00\n",
              "2   2012-03-03 00:00:00\n",
              "3   2013-04-04 00:00:00\n",
              "4   2014-05-05 00:00:00\n",
              "5   2015-06-06 12:20:00\n",
              "dtype: datetime64[ns]"
            ]
          },
          "metadata": {},
          "execution_count": 23
        }
      ]
    },
    {
      "cell_type": "code",
      "source": [
        "# 22. How to get the day of month, week number, day of year and day of week from a series of date strings?\n",
        "# Get the day of month, week number, day of year and day of week from ser.\n",
        "\n",
        "# Input\n",
        "ser = pd.Series(['01 Jan 2010', '02-02-2011', '20120303', '2013/04/04', '2014-05-05', '2015-06-06T12:20'])\n",
        "\n",
        "# Solution\n",
        "from dateutil.parser import parse\n",
        "ser_ts = ser.map(lambda x: parse(x))\n",
        "\n",
        "# day of month\n",
        "print(\"Date: \", ser_ts.dt.day.tolist())\n",
        "\n",
        "# week number\n",
        "print(\"Week number: \", ser_ts.dt.weekofyear.tolist())\n",
        "\n",
        "# day of year\n",
        "print(\"Day number of year: \", ser_ts.dt.dayofyear.tolist())\n",
        "\n",
        "# day of week\n",
        "# print(\"Day of week: \", ser_ts.dt.weekday_name.tolist())"
      ],
      "metadata": {
        "colab": {
          "base_uri": "https://localhost:8080/"
        },
        "id": "CuLD7guTmOAI",
        "outputId": "0742879d-1807-49e1-8008-9b35d42b1d8b"
      },
      "execution_count": null,
      "outputs": [
        {
          "output_type": "stream",
          "name": "stdout",
          "text": [
            "Date:  [1, 2, 3, 4, 5, 6]\n",
            "Week number:  [53, 5, 9, 14, 19, 23]\n",
            "Day number of year:  [1, 33, 63, 94, 125, 157]\n"
          ]
        },
        {
          "output_type": "stream",
          "name": "stderr",
          "text": [
            "<ipython-input-26-0b16c00d1c9f>:15: FutureWarning: Series.dt.weekofyear and Series.dt.week have been deprecated.  Please use Series.dt.isocalendar().week instead.\n",
            "  print(\"Week number: \", ser_ts.dt.weekofyear.tolist())\n"
          ]
        }
      ]
    },
    {
      "cell_type": "code",
      "source": [
        "# 23. How to convert year-month string to dates corresponding to the 4th day of the month?\n",
        "# Change ser to dates that start with 4th of the respective months.\n",
        "import pandas as pd\n",
        "# Input\n",
        "ser = pd.Series(['Jan 2010', 'Feb 2011', 'Mar 2012'])\n",
        "\n",
        "# Solution 1\n",
        "from dateutil.parser import parse\n",
        "# Parse the date\n",
        "ser_ts = ser.map(lambda x: parse(x))\n",
        "\n",
        "# Construct date string with date as 4\n",
        "ser_datestr = ser_ts.dt.year.astype('str') + '-' + ser_ts.dt.month.astype('str') + '-' + '04'\n",
        "\n",
        "# Format it.\n",
        "[parse(i).strftime('%Y-%m-%d') for i in ser_datestr]\n",
        "\n",
        "# Solution 2\n",
        "ser.map(lambda x: parse('04 ' + x))"
      ],
      "metadata": {
        "colab": {
          "base_uri": "https://localhost:8080/"
        },
        "id": "5WncoReQmN9q",
        "outputId": "c1f2659f-f88a-444e-b091-32417759bb2f"
      },
      "execution_count": null,
      "outputs": [
        {
          "output_type": "execute_result",
          "data": {
            "text/plain": [
              "0   2010-01-04\n",
              "1   2011-02-04\n",
              "2   2012-03-04\n",
              "dtype: datetime64[ns]"
            ]
          },
          "metadata": {},
          "execution_count": 27
        }
      ]
    },
    {
      "cell_type": "code",
      "source": [
        "# 24. How to filter words that contain atleast 2 vowels from a series?\n",
        "# From ser, extract words that contain atleast 2 vowels.\n",
        "\n",
        "# Input\n",
        "ser = pd.Series(['Apple', 'Orange', 'Plan', 'Python', 'Money'])\n",
        "\n",
        "# Solution\n",
        "from collections import Counter\n",
        "mask = ser.map(lambda x: sum([Counter(x.lower()).get(i, 0) for i in list('aeiou')]) >= 2)\n",
        "ser[mask]"
      ],
      "metadata": {
        "colab": {
          "base_uri": "https://localhost:8080/"
        },
        "id": "Y8ViNkBhmN6_",
        "outputId": "0217c554-6bc6-4059-a660-8912c44a1104"
      },
      "execution_count": null,
      "outputs": [
        {
          "output_type": "execute_result",
          "data": {
            "text/plain": [
              "0     Apple\n",
              "1    Orange\n",
              "4     Money\n",
              "dtype: object"
            ]
          },
          "metadata": {},
          "execution_count": 28
        }
      ]
    },
    {
      "cell_type": "code",
      "source": [
        "# 25. How to filter valid emails from a series?\n",
        "# Extract the valid emails from the series emails. The regex pattern for valid emails is provided as reference.\n",
        "\n",
        "# Input\n",
        "emails = pd.Series(['buying books at amazom.com', 'rameses@egypt.com', 'matt@t.co', 'narendra@modi.com'])\n",
        "\n",
        "# Solution 1 (as series of strings)\n",
        "import re\n",
        "pattern ='[A-Za-z0-9._%+-]+@[A-Za-z0-9.-]+\\\\.[A-Za-z]{2,4}'\n",
        "mask = emails.map(lambda x: bool(re.match(pattern, x)))\n",
        "emails[mask]\n",
        "\n",
        "# Solution 2 (as series of list)\n",
        "emails.str.findall(pattern, flags=re.IGNORECASE)\n",
        "\n",
        "# Solution 3 (as list)\n",
        "[x[0] for x in [re.findall(pattern, email) for email in emails] if len(x) > 0]"
      ],
      "metadata": {
        "colab": {
          "base_uri": "https://localhost:8080/"
        },
        "id": "AiZ5Hd3BmN3_",
        "outputId": "8bd3dbd2-94fc-41bd-8e48-c638938ebc8a"
      },
      "execution_count": null,
      "outputs": [
        {
          "output_type": "execute_result",
          "data": {
            "text/plain": [
              "['rameses@egypt.com', 'matt@t.co', 'narendra@modi.com']"
            ]
          },
          "metadata": {},
          "execution_count": 29
        }
      ]
    },
    {
      "cell_type": "code",
      "source": [
        "# 26. How to get the mean of a series grouped by another series?\n",
        "# Compute the mean of weights of each fruit.\n",
        "# Input\n",
        "fruit = pd.Series(np.random.choice(['apple', 'banana', 'carrot'], 10))\n",
        "weights = pd.Series(np.linspace(1, 10, 10))\n",
        "\n",
        "# Solution\n",
        "weights.groupby(fruit).mean()"
      ],
      "metadata": {
        "colab": {
          "base_uri": "https://localhost:8080/"
        },
        "id": "6hsNKxaWmN1G",
        "outputId": "a8768bfe-6cc7-4f44-f58d-a508441fb271"
      },
      "execution_count": null,
      "outputs": [
        {
          "output_type": "execute_result",
          "data": {
            "text/plain": [
              "apple     7.000000\n",
              "banana    5.333333\n",
              "carrot    4.500000\n",
              "dtype: float64"
            ]
          },
          "metadata": {},
          "execution_count": 30
        }
      ]
    },
    {
      "cell_type": "code",
      "source": [
        "# 27. How to compute the euclidean distance between two series?\n",
        "# Compute the euclidean distance between series (points) p and q, without using a packaged formula.\n",
        "# Input\n",
        "p = pd.Series([1, 2, 3, 4, 5, 6, 7, 8, 9, 10])\n",
        "q = pd.Series([10, 9, 8, 7, 6, 5, 4, 3, 2, 1])\n",
        "\n",
        "# Solution\n",
        "sum((p - q)**2)**.5\n",
        "\n",
        "# Solution (using func)\n",
        "np.linalg.norm(p-q)"
      ],
      "metadata": {
        "colab": {
          "base_uri": "https://localhost:8080/"
        },
        "id": "l2Sf_2jOmNy2",
        "outputId": "f289a59c-e0f2-4e73-91da-fca8a50b3806"
      },
      "execution_count": null,
      "outputs": [
        {
          "output_type": "execute_result",
          "data": {
            "text/plain": [
              "18.16590212458495"
            ]
          },
          "metadata": {},
          "execution_count": 31
        }
      ]
    },
    {
      "cell_type": "code",
      "source": [
        "# 28. How to find all the local maxima (or peaks) in a numeric series?\n",
        "# Input\n",
        "ser = pd.Series([2, 10, 3, 4, 9, 10, 2, 7, 3])\n",
        "\n",
        "# Solution\n",
        "dd = np.diff(np.sign(np.diff(ser)))\n",
        "peak_locs = np.where(dd == -2)[0] + 1\n",
        "peak_locs"
      ],
      "metadata": {
        "colab": {
          "base_uri": "https://localhost:8080/"
        },
        "id": "g6o8GC86mNwg",
        "outputId": "dfc0ed5f-48f4-4fa8-f1c6-b5b867011e2e"
      },
      "execution_count": null,
      "outputs": [
        {
          "output_type": "execute_result",
          "data": {
            "text/plain": [
              "array([1, 5, 7])"
            ]
          },
          "metadata": {},
          "execution_count": 32
        }
      ]
    },
    {
      "cell_type": "code",
      "source": [
        "# 29. How to replace missing spaces in a string with the least frequent character?\n",
        "# Replace the spaces in my_str with the least frequent character.\n",
        "# Input\n",
        "my_str = 'dbc deb abed gade'\n",
        "\n",
        "# Solution\n",
        "ser = pd.Series(list('dbc deb abed gade'))\n",
        "freq = ser.value_counts()\n",
        "print(freq)\n",
        "least_freq = freq.dropna().index[-1]\n",
        "\"\".join(ser.replace(' ', least_freq))"
      ],
      "metadata": {
        "colab": {
          "base_uri": "https://localhost:8080/",
          "height": 174
        },
        "id": "pCxro6BnmNtu",
        "outputId": "a36f2e82-137e-453b-f557-9036c988a1f3"
      },
      "execution_count": null,
      "outputs": [
        {
          "output_type": "stream",
          "name": "stdout",
          "text": [
            "d    4\n",
            "b    3\n",
            "     3\n",
            "e    3\n",
            "a    2\n",
            "c    1\n",
            "g    1\n",
            "dtype: int64\n"
          ]
        },
        {
          "output_type": "execute_result",
          "data": {
            "text/plain": [
              "'dbcgdebgabedggade'"
            ],
            "application/vnd.google.colaboratory.intrinsic+json": {
              "type": "string"
            }
          },
          "metadata": {},
          "execution_count": 33
        }
      ]
    },
    {
      "cell_type": "code",
      "source": [
        "# 30. How to create a TimeSeries starting ‘2000-01-01’ and 10 weekends (saturdays) after that having random numbers as values?\n",
        "ser = pd.Series(np.random.randint(1,10,10), pd.date_range('2000-01-01', periods=10, freq='W-SAT'))\n",
        "ser"
      ],
      "metadata": {
        "colab": {
          "base_uri": "https://localhost:8080/"
        },
        "id": "DVdOZRqPmNrQ",
        "outputId": "565c1990-d473-4414-e742-ec77bad87684"
      },
      "execution_count": null,
      "outputs": [
        {
          "output_type": "execute_result",
          "data": {
            "text/plain": [
              "2000-01-01    8\n",
              "2000-01-08    1\n",
              "2000-01-15    1\n",
              "2000-01-22    5\n",
              "2000-01-29    3\n",
              "2000-02-05    5\n",
              "2000-02-12    9\n",
              "2000-02-19    3\n",
              "2000-02-26    4\n",
              "2000-03-04    9\n",
              "Freq: W-SAT, dtype: int64"
            ]
          },
          "metadata": {},
          "execution_count": 34
        }
      ]
    },
    {
      "cell_type": "code",
      "source": [
        "# 31. How to fill an intermittent time series so all missing dates show up with values of previous non-missing date?\n",
        "ser = pd.Series([1,10,3, np.nan], index=pd.to_datetime(['2000-01-01', '2000-01-03', '2000-01-06', '2000-01-08']))\n",
        "\n",
        "# Solution\n",
        "ser.resample('D').ffill()  # fill with previous value\n",
        "\n",
        "# Alternatives\n",
        "ser.resample('D').bfill()  # fill with next value\n",
        "ser.resample('D').bfill().ffill()  # fill next else prev value"
      ],
      "metadata": {
        "colab": {
          "base_uri": "https://localhost:8080/"
        },
        "id": "JZiQ_KCJmNot",
        "outputId": "bb77063f-2554-4aab-df73-e24902b52131"
      },
      "execution_count": null,
      "outputs": [
        {
          "output_type": "execute_result",
          "data": {
            "text/plain": [
              "2000-01-01     1.0\n",
              "2000-01-02    10.0\n",
              "2000-01-03    10.0\n",
              "2000-01-04     3.0\n",
              "2000-01-05     3.0\n",
              "2000-01-06     3.0\n",
              "2000-01-07     3.0\n",
              "2000-01-08     3.0\n",
              "Freq: D, dtype: float64"
            ]
          },
          "metadata": {},
          "execution_count": 35
        }
      ]
    },
    {
      "cell_type": "code",
      "source": [
        "# 32. How to compute the autocorrelations of a numeric series?\n",
        "# Compute autocorrelations for the first 10 lags of ser. Find out which lag has the largest correlation.\n",
        "# Input\n",
        "ser = pd.Series(np.arange(20) + np.random.normal(1, 10, 20))\n",
        "\n",
        "# Solution\n",
        "autocorrelations = [ser.autocorr(i).round(2) for i in range(11)]\n",
        "print(autocorrelations[1:])\n",
        "print('Lag having highest correlation: ', np.argmax(np.abs(autocorrelations[1:]))+1)"
      ],
      "metadata": {
        "colab": {
          "base_uri": "https://localhost:8080/"
        },
        "id": "qlkzNZk9mNmH",
        "outputId": "d624ab6e-b66a-48e5-d12e-77ada2752efa"
      },
      "execution_count": null,
      "outputs": [
        {
          "output_type": "stream",
          "name": "stdout",
          "text": [
            "[0.43, 0.15, 0.18, 0.03, 0.33, 0.49, 0.11, 0.24, -0.41, -0.65]\n",
            "Lag having highest correlation:  10\n"
          ]
        }
      ]
    },
    {
      "cell_type": "code",
      "source": [
        "# 33. How to import only every nth row from a csv file to create a dataframe?\n",
        "# Import every 50th row of BostonHousing dataset as a dataframe.\n",
        "# Solution 1: Use chunks and for-loop\n",
        "df = pd.read_csv('https://raw.githubusercontent.com/selva86/datasets/master/BostonHousing.csv', chunksize=50)\n",
        "df2 = pd.DataFrame()\n",
        "for chunk in df:\n",
        "    df2 = df2.append(chunk.iloc[0,:])\n",
        "\n",
        "\n",
        "# Solution 2: Use chunks and list comprehension\n",
        "df = pd.read_csv('https://raw.githubusercontent.com/selva86/datasets/master/BostonHousing.csv', chunksize=50)\n",
        "df2 = pd.concat([chunk.iloc[0] for chunk in df], axis=1)\n",
        "df2 = df2.transpose()\n",
        "\n",
        "# Solution 3: Use csv reader\n",
        "import csv\n",
        "with open('BostonHousing.csv', 'r') as f:\n",
        "    reader = csv.reader(f)\n",
        "    out = []\n",
        "    for i, row in enumerate(reader):\n",
        "        if i%50 == 0:\n",
        "            out.append(row)\n",
        "\n",
        "df2 = pd.DataFrame(out[1:], columns=out[0])\n",
        "print(df2.head())"
      ],
      "metadata": {
        "id": "oG46LIZ9mNh2",
        "colab": {
          "base_uri": "https://localhost:8080/",
          "height": 235
        },
        "outputId": "24859b00-6b6c-4835-a711-51f5c7a29259"
      },
      "execution_count": null,
      "outputs": [
        {
          "output_type": "error",
          "ename": "FileNotFoundError",
          "evalue": "ignored",
          "traceback": [
            "\u001b[0;31m---------------------------------------------------------------------------\u001b[0m",
            "\u001b[0;31mFileNotFoundError\u001b[0m                         Traceback (most recent call last)",
            "\u001b[0;32m<ipython-input-37-580cdc682b6f>\u001b[0m in \u001b[0;36m<module>\u001b[0;34m\u001b[0m\n\u001b[1;32m     15\u001b[0m \u001b[0;31m# Solution 3: Use csv reader\u001b[0m\u001b[0;34m\u001b[0m\u001b[0;34m\u001b[0m\u001b[0;34m\u001b[0m\u001b[0m\n\u001b[1;32m     16\u001b[0m \u001b[0;32mimport\u001b[0m \u001b[0mcsv\u001b[0m\u001b[0;34m\u001b[0m\u001b[0;34m\u001b[0m\u001b[0m\n\u001b[0;32m---> 17\u001b[0;31m \u001b[0;32mwith\u001b[0m \u001b[0mopen\u001b[0m\u001b[0;34m(\u001b[0m\u001b[0;34m'BostonHousing.csv'\u001b[0m\u001b[0;34m,\u001b[0m \u001b[0;34m'r'\u001b[0m\u001b[0;34m)\u001b[0m \u001b[0;32mas\u001b[0m \u001b[0mf\u001b[0m\u001b[0;34m:\u001b[0m\u001b[0;34m\u001b[0m\u001b[0;34m\u001b[0m\u001b[0m\n\u001b[0m\u001b[1;32m     18\u001b[0m     \u001b[0mreader\u001b[0m \u001b[0;34m=\u001b[0m \u001b[0mcsv\u001b[0m\u001b[0;34m.\u001b[0m\u001b[0mreader\u001b[0m\u001b[0;34m(\u001b[0m\u001b[0mf\u001b[0m\u001b[0;34m)\u001b[0m\u001b[0;34m\u001b[0m\u001b[0;34m\u001b[0m\u001b[0m\n\u001b[1;32m     19\u001b[0m     \u001b[0mout\u001b[0m \u001b[0;34m=\u001b[0m \u001b[0;34m[\u001b[0m\u001b[0;34m]\u001b[0m\u001b[0;34m\u001b[0m\u001b[0;34m\u001b[0m\u001b[0m\n",
            "\u001b[0;31mFileNotFoundError\u001b[0m: [Errno 2] No such file or directory: 'BostonHousing.csv'"
          ]
        }
      ]
    },
    {
      "cell_type": "code",
      "source": [
        "# 34. How to change column values when importing csv to a dataframe?\n",
        "# Solution 1: Using converter parameter\n",
        "df = pd.read_csv('https://raw.githubusercontent.com/selva86/datasets/master/BostonHousing.csv',\n",
        "                 converters={'medv': lambda x: 'High' if float(x) > 25 else 'Low'})\n",
        "\n",
        "\n",
        "# Solution 2: Using csv reader\n",
        "import csv\n",
        "with open('BostonHousing.csv', 'r') as f:\n",
        "    reader = csv.reader(f)\n",
        "    out = []\n",
        "    for i, row in enumerate(reader):\n",
        "        if i > 0:\n",
        "            row[13] = 'High' if float(row[13]) > 25 else 'Low'\n",
        "        out.append(row)\n",
        "\n",
        "df = pd.DataFrame(out[1:], columns=out[0])\n",
        "print(df.head())"
      ],
      "metadata": {
        "colab": {
          "base_uri": "https://localhost:8080/",
          "height": 235
        },
        "id": "6cx9hkdsmNeb",
        "outputId": "eb4b9d2c-c2fd-454a-d893-4bd6b1601f52"
      },
      "execution_count": null,
      "outputs": [
        {
          "output_type": "error",
          "ename": "FileNotFoundError",
          "evalue": "ignored",
          "traceback": [
            "\u001b[0;31m---------------------------------------------------------------------------\u001b[0m",
            "\u001b[0;31mFileNotFoundError\u001b[0m                         Traceback (most recent call last)",
            "\u001b[0;32m<ipython-input-39-77060cb1b107>\u001b[0m in \u001b[0;36m<module>\u001b[0;34m\u001b[0m\n\u001b[1;32m      7\u001b[0m \u001b[0;31m# Solution 2: Using csv reader\u001b[0m\u001b[0;34m\u001b[0m\u001b[0;34m\u001b[0m\u001b[0;34m\u001b[0m\u001b[0m\n\u001b[1;32m      8\u001b[0m \u001b[0;32mimport\u001b[0m \u001b[0mcsv\u001b[0m\u001b[0;34m\u001b[0m\u001b[0;34m\u001b[0m\u001b[0m\n\u001b[0;32m----> 9\u001b[0;31m \u001b[0;32mwith\u001b[0m \u001b[0mopen\u001b[0m\u001b[0;34m(\u001b[0m\u001b[0;34m'BostonHousing.csv'\u001b[0m\u001b[0;34m,\u001b[0m \u001b[0;34m'r'\u001b[0m\u001b[0;34m)\u001b[0m \u001b[0;32mas\u001b[0m \u001b[0mf\u001b[0m\u001b[0;34m:\u001b[0m\u001b[0;34m\u001b[0m\u001b[0;34m\u001b[0m\u001b[0m\n\u001b[0m\u001b[1;32m     10\u001b[0m     \u001b[0mreader\u001b[0m \u001b[0;34m=\u001b[0m \u001b[0mcsv\u001b[0m\u001b[0;34m.\u001b[0m\u001b[0mreader\u001b[0m\u001b[0;34m(\u001b[0m\u001b[0mf\u001b[0m\u001b[0;34m)\u001b[0m\u001b[0;34m\u001b[0m\u001b[0;34m\u001b[0m\u001b[0m\n\u001b[1;32m     11\u001b[0m     \u001b[0mout\u001b[0m \u001b[0;34m=\u001b[0m \u001b[0;34m[\u001b[0m\u001b[0;34m]\u001b[0m\u001b[0;34m\u001b[0m\u001b[0;34m\u001b[0m\u001b[0m\n",
            "\u001b[0;31mFileNotFoundError\u001b[0m: [Errno 2] No such file or directory: 'BostonHousing.csv'"
          ]
        }
      ]
    },
    {
      "cell_type": "code",
      "source": [
        "# 35. How to create a dataframe with rows as strides from a given series?\n",
        "L = pd.Series(range(15))\n",
        "\n",
        "def gen_strides(a, stride_len=5, window_len=5):\n",
        "    n_strides = ((a.size-window_len)//stride_len) + 1\n",
        "    return np.array([a[s:(s+window_len)] for s in np.arange(0, a.size, stride_len)[:n_strides]])\n",
        "\n",
        "gen_strides(L, stride_len=2, window_len=4)"
      ],
      "metadata": {
        "colab": {
          "base_uri": "https://localhost:8080/"
        },
        "id": "IC9JvQatmNcB",
        "outputId": "1b2c561c-b03a-4f34-9a1f-97c60b4caf40"
      },
      "execution_count": null,
      "outputs": [
        {
          "output_type": "execute_result",
          "data": {
            "text/plain": [
              "array([[ 0,  1,  2,  3],\n",
              "       [ 2,  3,  4,  5],\n",
              "       [ 4,  5,  6,  7],\n",
              "       [ 6,  7,  8,  9],\n",
              "       [ 8,  9, 10, 11],\n",
              "       [10, 11, 12, 13]])"
            ]
          },
          "metadata": {},
          "execution_count": 41
        }
      ]
    },
    {
      "cell_type": "code",
      "source": [
        "# 36. How to import only specified columns from a csv file?\n",
        "# Import ‘crim’ and ‘medv’ columns of the BostonHousing dataset as a dataframe.\n",
        "\n",
        "df = pd.read_csv('https://raw.githubusercontent.com/selva86/datasets/master/BostonHousing.csv', usecols=['crim', 'medv'])\n",
        "print(df.head())"
      ],
      "metadata": {
        "colab": {
          "base_uri": "https://localhost:8080/"
        },
        "id": "GZKrwSkfmNZg",
        "outputId": "2c3d77af-c766-4b8d-9256-846d558b9413"
      },
      "execution_count": null,
      "outputs": [
        {
          "output_type": "stream",
          "name": "stdout",
          "text": [
            "      crim  medv\n",
            "0  0.00632  24.0\n",
            "1  0.02731  21.6\n",
            "2  0.02729  34.7\n",
            "3  0.03237  33.4\n",
            "4  0.06905  36.2\n"
          ]
        }
      ]
    },
    {
      "cell_type": "code",
      "source": [
        "# 37. How to get the nrows, ncolumns, datatype, summary stats of each column of a dataframe? Also get the array and list equivalent.\n",
        "# Get the number of rows, columns, datatype and summary statistics of each column of the Cars93 dataset. Also get the numpy array and list equivalent of the dataframe.\n",
        "\n",
        "df = pd.read_csv('https://raw.githubusercontent.com/selva86/datasets/master/Cars93_miss.csv')\n",
        "\n",
        "#  number of rows and columns\n",
        "print(df.shape)\n",
        "\n",
        "# datatypes\n",
        "print(df.dtypes)\n",
        "\n",
        "# how many columns under each dtype\n",
        "# print(df.get_dtype_counts())\n",
        "print(df.dtypes.value_counts())\n",
        "\n",
        "# summary statistics\n",
        "df_stats = df.describe()\n",
        "\n",
        "# numpy array\n",
        "df_arr = df.values\n",
        "\n",
        "# list\n",
        "df_list = df.values.tolist()"
      ],
      "metadata": {
        "colab": {
          "base_uri": "https://localhost:8080/"
        },
        "id": "vTkXiEYJmNXC",
        "outputId": "dcaa8b74-6976-4723-ac05-49999f2cc6e2"
      },
      "execution_count": null,
      "outputs": [
        {
          "output_type": "stream",
          "name": "stdout",
          "text": [
            "(93, 27)\n",
            "Manufacturer           object\n",
            "Model                  object\n",
            "Type                   object\n",
            "Min.Price             float64\n",
            "Price                 float64\n",
            "Max.Price             float64\n",
            "MPG.city              float64\n",
            "MPG.highway           float64\n",
            "AirBags                object\n",
            "DriveTrain             object\n",
            "Cylinders              object\n",
            "EngineSize            float64\n",
            "Horsepower            float64\n",
            "RPM                   float64\n",
            "Rev.per.mile          float64\n",
            "Man.trans.avail        object\n",
            "Fuel.tank.capacity    float64\n",
            "Passengers            float64\n",
            "Length                float64\n",
            "Wheelbase             float64\n",
            "Width                 float64\n",
            "Turn.circle           float64\n",
            "Rear.seat.room        float64\n",
            "Luggage.room          float64\n",
            "Weight                float64\n",
            "Origin                 object\n",
            "Make                   object\n",
            "dtype: object\n",
            "float64    18\n",
            "object      9\n",
            "dtype: int64\n"
          ]
        }
      ]
    },
    {
      "cell_type": "code",
      "source": [
        "# 38. How to extract the row and column number of a particular cell with given criterion?\n",
        "# Which manufacturer, model and type has the highest Price? What is the row and column number of the cell with the highest Price value?\n",
        "# Input\n",
        "df = pd.read_csv('https://raw.githubusercontent.com/selva86/datasets/master/Cars93_miss.csv')\n",
        "\n",
        "# Solution\n",
        "# Get Manufacturer with highest price\n",
        "df.loc[df.Price == np.max(df.Price), ['Manufacturer', 'Model', 'Type']]\n",
        "\n",
        "# Get Row and Column number\n",
        "row, col = np.where(df.values == np.max(df.Price))\n",
        "\n",
        "# Get the value\n",
        "df.iat[row[0], col[0]]\n",
        "df.iloc[row[0], col[0]]\n",
        "\n",
        "# Alternates\n",
        "df.at[row[0], 'Price']\n",
        "# df.get_value(row[0], 'Price')\n",
        "# The difference between `iat` - `iloc` vs `at` - `loc` is:\n",
        "# `iat` snd `iloc` accepts row and column numbers.\n",
        "# Whereas `at` and `loc` accepts index and column names."
      ],
      "metadata": {
        "colab": {
          "base_uri": "https://localhost:8080/"
        },
        "id": "F-vL0cZnmNUX",
        "outputId": "59562686-3a22-4342-891f-f459e0c79613"
      },
      "execution_count": null,
      "outputs": [
        {
          "output_type": "execute_result",
          "data": {
            "text/plain": [
              "61.9"
            ]
          },
          "metadata": {},
          "execution_count": 47
        }
      ]
    },
    {
      "cell_type": "code",
      "source": [
        "# 39. How to rename a specific columns in a dataframe?\n",
        "# Rename the column Type as CarType in df and replace the ‘.’ in column names with ‘_’.\n",
        "# Input\n",
        "df = pd.read_csv('https://raw.githubusercontent.com/selva86/datasets/master/Cars93_miss.csv')\n",
        "\n",
        "# Solution\n",
        "# Step 1:\n",
        "df=df.rename(columns = {'Type':'CarType'})\n",
        "# or\n",
        "df.columns.values[2] = \"CarType\"\n",
        "\n",
        "# Step 2:\n",
        "df.columns = df.columns.map(lambda x: x.replace('.', '_'))\n",
        "print(df.columns)"
      ],
      "metadata": {
        "colab": {
          "base_uri": "https://localhost:8080/"
        },
        "id": "n-5LpiolmNRt",
        "outputId": "6172b3cd-a419-4c93-8eb5-b13196c2d38d"
      },
      "execution_count": null,
      "outputs": [
        {
          "output_type": "stream",
          "name": "stdout",
          "text": [
            "Index(['Manufacturer', 'Model', 'CarType', 'Min_Price', 'Price', 'Max_Price',\n",
            "       'MPG_city', 'MPG_highway', 'AirBags', 'DriveTrain', 'Cylinders',\n",
            "       'EngineSize', 'Horsepower', 'RPM', 'Rev_per_mile', 'Man_trans_avail',\n",
            "       'Fuel_tank_capacity', 'Passengers', 'Length', 'Wheelbase', 'Width',\n",
            "       'Turn_circle', 'Rear_seat_room', 'Luggage_room', 'Weight', 'Origin',\n",
            "       'Make'],\n",
            "      dtype='object')\n"
          ]
        }
      ]
    },
    {
      "cell_type": "code",
      "source": [
        "# 40. How to check if a dataframe has any missing values?\n",
        "# Check if df has any missing values.\n",
        "# Input\n",
        "df = pd.read_csv('https://raw.githubusercontent.com/selva86/datasets/master/Cars93_miss.csv')\n",
        "\n",
        "# Solution\n",
        "df.isnull().values.any()"
      ],
      "metadata": {
        "colab": {
          "base_uri": "https://localhost:8080/"
        },
        "id": "zpRfEvAjmNPC",
        "outputId": "7ea9a77c-b16b-4e5c-c054-8456998aeb0f"
      },
      "execution_count": null,
      "outputs": [
        {
          "output_type": "execute_result",
          "data": {
            "text/plain": [
              "True"
            ]
          },
          "metadata": {},
          "execution_count": 49
        }
      ]
    },
    {
      "cell_type": "code",
      "source": [
        "# 41. How to count the number of missing values in each column?\n",
        "# Count the number of missing values in each column of df. Which column has the maximum number of missing values?\n",
        "# Input\n",
        "df = pd.read_csv('https://raw.githubusercontent.com/selva86/datasets/master/Cars93_miss.csv')\n",
        "\n",
        "# Solution\n",
        "n_missings_each_col = df.apply(lambda x: x.isnull().sum())\n",
        "n_missings_each_col.argmax()"
      ],
      "metadata": {
        "colab": {
          "base_uri": "https://localhost:8080/"
        },
        "id": "rt1l2tpHmNMo",
        "outputId": "558993a3-6651-40b6-ff54-b56eb68e233a"
      },
      "execution_count": null,
      "outputs": [
        {
          "output_type": "execute_result",
          "data": {
            "text/plain": [
              "23"
            ]
          },
          "metadata": {},
          "execution_count": 50
        }
      ]
    },
    {
      "cell_type": "code",
      "source": [
        "# 42. How to replace missing values of multiple numeric columns with the mean?\n",
        "# Replace missing values in Min.Price and Max.Price columns with their respective mean.\n",
        "# Input\n",
        "df = pd.read_csv('https://raw.githubusercontent.com/selva86/datasets/master/Cars93_miss.csv')\n",
        "\n",
        "# Solution\n",
        "df_out = df[['Min.Price', 'Max.Price']] = df[['Min.Price', 'Max.Price']].apply(lambda x: x.fillna(x.mean()))\n",
        "print(df_out.head())"
      ],
      "metadata": {
        "id": "WSP1uEfzmNKY",
        "colab": {
          "base_uri": "https://localhost:8080/"
        },
        "outputId": "a2120bfa-4cb3-4e3a-9caf-cdcc95bd113e"
      },
      "execution_count": null,
      "outputs": [
        {
          "output_type": "stream",
          "name": "stdout",
          "text": [
            "   Min.Price  Max.Price\n",
            "0  12.900000  18.800000\n",
            "1  29.200000  38.700000\n",
            "2  25.900000  32.300000\n",
            "3  17.118605  44.600000\n",
            "4  17.118605  21.459091\n"
          ]
        }
      ]
    },
    {
      "cell_type": "code",
      "source": [
        "# 43. How to use apply function on existing columns with global variables as additional arguments?\n",
        "# In df, use apply method to replace the missing values in Min.Price with the column’s mean and those in Max.Price with the column’s median.\n",
        "# Input\n",
        "df = pd.read_csv('https://raw.githubusercontent.com/selva86/datasets/master/Cars93_miss.csv')\n",
        "\n",
        "# Solution\n",
        "d = {'Min.Price': np.nanmean, 'Max.Price': np.nanmedian}\n",
        "df[['Min.Price', 'Max.Price']] = df[['Min.Price', 'Max.Price']].apply(lambda x, d: x.fillna(d[x.name](x)), args=(d, ))"
      ],
      "metadata": {
        "id": "1yezb2J-mNH0"
      },
      "execution_count": null,
      "outputs": []
    },
    {
      "cell_type": "code",
      "source": [
        "# 44. How to select a specific column from a dataframe as a dataframe instead of a series?\n",
        "# Get the first column (a) in df as a dataframe (rather than as a Series).\n",
        "# Input\n",
        "df = pd.DataFrame(np.arange(20).reshape(-1, 5), columns=list('abcde'))\n",
        "\n",
        "# Solution\n",
        "type(df[['a']])\n",
        "type(df.loc[:, ['a']])\n",
        "type(df.iloc[:, [0]])\n",
        "\n",
        "# Alternately the following returns a Series\n",
        "type(df.a)\n",
        "type(df['a'])\n",
        "type(df.loc[:, 'a'])\n",
        "type(df.iloc[:, 1])"
      ],
      "metadata": {
        "id": "r_8qkCZNmNFC",
        "colab": {
          "base_uri": "https://localhost:8080/"
        },
        "outputId": "0de63a81-5da3-4cf8-bc97-8f8efb0e43c8"
      },
      "execution_count": null,
      "outputs": [
        {
          "output_type": "execute_result",
          "data": {
            "text/plain": [
              "pandas.core.series.Series"
            ]
          },
          "metadata": {},
          "execution_count": 53
        }
      ]
    },
    {
      "cell_type": "code",
      "source": [
        "# 45. How to change the order of columns of a dataframe?\n",
        "# Actually 3 questions.\n",
        "\n",
        "# In df, interchange columns 'a' and 'c'.\n",
        "# Create a generic function to interchange two columns, without hardcoding column names.\n",
        "\n",
        "# Sort the columns in reverse alphabetical order, that is colume 'e' first through column 'a' last.\n",
        "\n",
        "# Input\n",
        "df = pd.DataFrame(np.arange(20).reshape(-1, 5), columns=list('abcde'))\n",
        "\n",
        "# Solution Q1\n",
        "df[list('cbade')]\n",
        "\n",
        "# Solution Q2 - No hard coding\n",
        "def switch_columns(df, col1=None, col2=None):\n",
        "    colnames = df.columns.tolist()\n",
        "    i1, i2 = colnames.index(col1), colnames.index(col2)\n",
        "    colnames[i2], colnames[i1] = colnames[i1], colnames[i2]\n",
        "    return df[colnames]\n",
        "\n",
        "df1 = switch_columns(df, 'a', 'c')\n",
        "\n",
        "# Solution Q3\n",
        "df[sorted(df.columns)]\n",
        "# or\n",
        "df.sort_index(axis=1, ascending=False, inplace=True)"
      ],
      "metadata": {
        "id": "3JU-EHkHmNCe"
      },
      "execution_count": null,
      "outputs": []
    },
    {
      "cell_type": "code",
      "source": [
        "# 46. How to set the number of rows and columns displayed in the output?\n",
        "# Change the pamdas display settings on printing the dataframe df it shows a maximum of 10 rows and 10 columns.\n",
        "\n",
        "# Input\n",
        "df = pd.read_csv('https://raw.githubusercontent.com/selva86/datasets/master/Cars93_miss.csv')\n",
        "\n",
        "# Solution\n",
        "pd.set_option('display.max_columns', 10)\n",
        "pd.set_option('display.max_rows', 10)\n",
        "# df\n",
        "\n",
        "# Show all available options\n",
        "# pd.describe_option()"
      ],
      "metadata": {
        "id": "xIH4Qu0O9sLb"
      },
      "execution_count": null,
      "outputs": []
    },
    {
      "cell_type": "code",
      "source": [
        "# 47. How to format or suppress scientific notations in a pandas dataframe?\n",
        "# Suppress scientific notations like ‘e-03’ in df and print upto 4 numbers after decimal.\n",
        "# Input\n",
        "df = pd.DataFrame(np.random.random(4)**10, columns=['random'])\n",
        "\n",
        "# Solution 1: Rounding\n",
        "df.round(4)\n",
        "\n",
        "# Solution 2: Use apply to change format\n",
        "df.apply(lambda x: '%.4f' % x, axis=1)\n",
        "# or\n",
        "df.applymap(lambda x: '%.4f' % x)\n",
        "\n",
        "# Solution 3: Use set_option\n",
        "pd.set_option('display.float_format', lambda x: '%.4f' % x)\n",
        "\n",
        "# Solution 4: Assign display.float_format\n",
        "pd.options.display.float_format = '{:.4f}'.format\n",
        "print(df)\n",
        "\n",
        "# Reset/undo float formatting\n",
        "pd.options.display.float_format = None"
      ],
      "metadata": {
        "colab": {
          "base_uri": "https://localhost:8080/"
        },
        "id": "HFQKrNqi9sH7",
        "outputId": "b3ff3e82-ed94-4dc5-cffc-4225a5990cd5"
      },
      "execution_count": null,
      "outputs": [
        {
          "output_type": "stream",
          "name": "stdout",
          "text": [
            "   random\n",
            "0  0.0296\n",
            "1  0.0624\n",
            "2  0.0000\n",
            "3  0.6120\n"
          ]
        }
      ]
    },
    {
      "cell_type": "code",
      "source": [
        "# 48. How to format all the values in a dataframe as percentages?\n",
        "# Format the values in column 'random' of df as percentages.\n",
        "# Input\n",
        "df = pd.DataFrame(np.random.random(4), columns=['random'])\n",
        "\n",
        "# Solution\n",
        "out = df.style.format({\n",
        "    'random': '{0:.2%}'.format,\n",
        "})"
      ],
      "metadata": {
        "id": "YuAQbKdm9sFe"
      },
      "execution_count": null,
      "outputs": []
    },
    {
      "cell_type": "code",
      "source": [
        "# 49. How to filter every nth row in a dataframe?\n",
        "# From df, filter the 'Manufacturer', 'Model' and 'Type' for every 20th row starting from 1st (row 0).\n",
        "# Input\n",
        "df = pd.read_csv('https://raw.githubusercontent.com/selva86/datasets/master/Cars93_miss.csv')\n",
        "\n",
        "# Solution\n",
        "print(df.iloc[::20, :][['Manufacturer', 'Model', 'Type']])"
      ],
      "metadata": {
        "colab": {
          "base_uri": "https://localhost:8080/"
        },
        "id": "DxzgXNL39sDP",
        "outputId": "51b1c14c-c208-4af7-fe95-5b5c3d0f1148"
      },
      "execution_count": null,
      "outputs": [
        {
          "output_type": "stream",
          "name": "stdout",
          "text": [
            "   Manufacturer    Model     Type\n",
            "0         Acura  Integra    Small\n",
            "20     Chrysler  LeBaron  Compact\n",
            "40        Honda  Prelude   Sporty\n",
            "60      Mercury   Cougar  Midsize\n",
            "80       Subaru   Loyale    Small\n"
          ]
        }
      ]
    },
    {
      "cell_type": "code",
      "source": [
        "# 50. How to create a primary key index by combining relevant columns?\n",
        "# In df, Replace NaNs with ‘missing’ in columns 'Manufacturer', 'Model' and 'Type' and create a index as a combination of these three columns and check if the index is a primary key.\n",
        "# Input\n",
        "df = pd.read_csv('https://raw.githubusercontent.com/selva86/datasets/master/Cars93_miss.csv', usecols=[0,1,2,3,5])\n",
        "\n",
        "# Solution\n",
        "df[['Manufacturer', 'Model', 'Type']] = df[['Manufacturer', 'Model', 'Type']].fillna('missing')\n",
        "df.index = df.Manufacturer + '_' + df.Model + '_' + df.Type\n",
        "print(df.index.is_unique)"
      ],
      "metadata": {
        "colab": {
          "base_uri": "https://localhost:8080/"
        },
        "id": "BDVpXBU49sAi",
        "outputId": "0e109d52-2951-4275-9b83-42cffd427f19"
      },
      "execution_count": null,
      "outputs": [
        {
          "output_type": "stream",
          "name": "stdout",
          "text": [
            "True\n"
          ]
        }
      ]
    },
    {
      "cell_type": "code",
      "source": [
        "# 51. How to get the row number of the nth largest value in a column?\n",
        "# Find the row position of the 5th largest value of column 'a' in df.\n",
        "# Input\n",
        "df = pd.DataFrame(np.random.randint(1, 30, 30).reshape(10,-1), columns=list('abc'))\n",
        "\n",
        "# Solution\n",
        "n = 5\n",
        "df['a'].argsort()[::-1][n]"
      ],
      "metadata": {
        "colab": {
          "base_uri": "https://localhost:8080/"
        },
        "id": "__7ijERT9r-L",
        "outputId": "ef453bf3-fafd-41c2-8974-ff57eccd22fb"
      },
      "execution_count": null,
      "outputs": [
        {
          "output_type": "execute_result",
          "data": {
            "text/plain": [
              "7"
            ]
          },
          "metadata": {},
          "execution_count": 60
        }
      ]
    },
    {
      "cell_type": "code",
      "source": [
        "# 52. How to find the position of the nth largest value greater than a given value?\n",
        "# In ser, find the position of the 2nd largest value greater than the mean.\n",
        "\n",
        "# Input\n",
        "ser = pd.Series(np.random.randint(1, 100, 15))\n",
        "\n",
        "# Solution\n",
        "print('ser: ', ser.tolist(), 'mean: ', round(ser.mean()))\n",
        "# np.argwhere(ser > ser.mean())[1]"
      ],
      "metadata": {
        "colab": {
          "base_uri": "https://localhost:8080/"
        },
        "id": "lGefkas29r7u",
        "outputId": "a1091508-cc60-45e9-c13b-6cbb09fc83e4"
      },
      "execution_count": null,
      "outputs": [
        {
          "output_type": "stream",
          "name": "stdout",
          "text": [
            "ser:  [85, 48, 81, 8, 60, 55, 39, 96, 35, 39, 88, 53, 57, 53, 53] mean:  57\n"
          ]
        }
      ]
    },
    {
      "cell_type": "code",
      "source": [
        "# 53. How to get the last n rows of a dataframe with row sum > 100?\n",
        "# Get the last two rows of df whose row sum is greater than 100.\n",
        "# Input\n",
        "df = pd.DataFrame(np.random.randint(10, 40, 60).reshape(-1, 4))\n",
        "\n",
        "# Solution\n",
        "# print row sums\n",
        "rowsums = df.apply(np.sum, axis=1)\n",
        "\n",
        "# last two rows with row sum greater than 100\n",
        "last_two_rows = df.iloc[np.where(rowsums > 100)[0][-2:], :]"
      ],
      "metadata": {
        "id": "YlFOS5tu9r5T"
      },
      "execution_count": null,
      "outputs": []
    },
    {
      "cell_type": "code",
      "source": [
        "# 54. How to find and cap outliers from a series or dataframe column?\n",
        "# Replace all values of ser in the lower 5%ile and greater than 95%ile with respective 5th and 95th %ile value.\n",
        "# Input\n",
        "ser = pd.Series(np.logspace(-2, 2, 30))\n",
        "\n",
        "# Solution\n",
        "def cap_outliers(ser, low_perc, high_perc):\n",
        "    low, high = ser.quantile([low_perc, high_perc])\n",
        "    print(low_perc, '%ile: ', low, '|', high_perc, '%ile: ', high)\n",
        "    ser[ser < low] = low\n",
        "    ser[ser > high] = high\n",
        "    return(ser)\n",
        "\n",
        "capped_ser = cap_outliers(ser, .05, .95)"
      ],
      "metadata": {
        "colab": {
          "base_uri": "https://localhost:8080/"
        },
        "id": "0CdeUS_w9r2y",
        "outputId": "3184dd04-1314-4c74-d6a9-92ac6a8d345c"
      },
      "execution_count": null,
      "outputs": [
        {
          "output_type": "stream",
          "name": "stdout",
          "text": [
            "0.05 %ile:  0.016049294076965887 | 0.95 %ile:  63.87667222018393\n"
          ]
        }
      ]
    },
    {
      "cell_type": "code",
      "source": [
        "# 55. How to reshape a dataframe to the largest possible square after removing the negative values?\n",
        "# Reshape df to the largest possible square with negative values removed. Drop the smallest values if need be. The order of the positive numbers in the result should remain the same as the original.\n",
        "# Input\n",
        "df = pd.DataFrame(np.random.randint(-20, 50, 100).reshape(10,-1))\n",
        "print(df)\n",
        "\n",
        "# Solution\n",
        "# Step 1: remove negative values from arr\n",
        "arr = df[df > 0].values.flatten()\n",
        "arr_qualified = arr[~np.isnan(arr)]\n",
        "\n",
        "# Step 2: find side-length of largest possible square\n",
        "n = int(np.floor(arr_qualified.shape[0]**.5))\n",
        "\n",
        "# Step 3: Take top n^2 items without changing positions\n",
        "top_indexes = np.argsort(arr_qualified)[::-1]\n",
        "output = np.take(arr_qualified, sorted(top_indexes[:n**2])).reshape(n, -1)\n",
        "print(output)"
      ],
      "metadata": {
        "colab": {
          "base_uri": "https://localhost:8080/"
        },
        "id": "XR6Zcf7v9r0C",
        "outputId": "70d89c82-17e5-41ed-af32-2c4dc521cd74"
      },
      "execution_count": null,
      "outputs": [
        {
          "output_type": "stream",
          "name": "stdout",
          "text": [
            "    0   1   2   3   4   5   6   7   8   9\n",
            "0  42  39  38  32  34   3  47  17   4  32\n",
            "1 -15  35  -8  17  -5  43  16  18   7  18\n",
            "2   8  28   1  46 -10  22  41  44 -13  45\n",
            "3  25  16  13  30  17 -13   8 -17  -9  20\n",
            "4 -13  -7  18  31   1  -6  -4   8 -18  16\n",
            "5  33 -17  22  26 -11   6   7  -9  36  47\n",
            "6  41 -18 -10  -4   9  24   2  26   9  35\n",
            "7  40   8  46  14  31 -14  29 -14   9  38\n",
            "8  29  26  13  12  37  40  40 -19   0  25\n",
            "9  23  27  18  16  25  47  43  10  11  26\n",
            "[[42. 39. 38. 32. 34. 47. 17. 32.]\n",
            " [35. 17. 43. 16. 18. 18. 28. 46.]\n",
            " [22. 41. 44. 45. 25. 16. 13. 30.]\n",
            " [17. 20. 18. 31. 16. 33. 22. 26.]\n",
            " [36. 47. 41. 24. 26.  9. 35. 40.]\n",
            " [46. 14. 31. 29.  9. 38. 29. 26.]\n",
            " [13. 12. 37. 40. 40. 25. 23. 27.]\n",
            " [18. 16. 25. 47. 43. 10. 11. 26.]]\n"
          ]
        }
      ]
    },
    {
      "cell_type": "code",
      "source": [
        "# 56. How to swap two rows of a dataframe?\n",
        "# Swap rows 1 and 2 in df.\n",
        "# Input\n",
        "df = pd.DataFrame(np.arange(25).reshape(5, -1))\n",
        "\n",
        "# Solution\n",
        "def swap_rows(df, i1, i2):\n",
        "    a, b = df.iloc[i1, :].copy(), df.iloc[i2, :].copy()\n",
        "    df.iloc[i1, :], df.iloc[i2, :] = b, a\n",
        "    return df\n",
        "\n",
        "print(swap_rows(df, 1, 2))"
      ],
      "metadata": {
        "colab": {
          "base_uri": "https://localhost:8080/"
        },
        "id": "PxZJhxj79rx0",
        "outputId": "b0fd92c5-569a-49e5-d695-cd72fa435437"
      },
      "execution_count": null,
      "outputs": [
        {
          "output_type": "stream",
          "name": "stdout",
          "text": [
            "    0   1   2   3   4\n",
            "0   0   1   2   3   4\n",
            "1  10  11  12  13  14\n",
            "2   5   6   7   8   9\n",
            "3  15  16  17  18  19\n",
            "4  20  21  22  23  24\n"
          ]
        }
      ]
    },
    {
      "cell_type": "code",
      "source": [
        "# 57. How to reverse the rows of a dataframe?\n",
        "# Reverse all the rows of dataframe df.\n",
        "# Input\n",
        "df = pd.DataFrame(np.arange(25).reshape(5, -1))\n",
        "\n",
        "# Solution 1\n",
        "df.iloc[::-1, :]\n",
        "\n",
        "# Solution 2\n",
        "print(df.loc[df.index[::-1], :])"
      ],
      "metadata": {
        "colab": {
          "base_uri": "https://localhost:8080/"
        },
        "id": "2XT6cPsX9rvO",
        "outputId": "38ed384e-3cf2-4308-f415-c2ccd0fef4ba"
      },
      "execution_count": null,
      "outputs": [
        {
          "output_type": "stream",
          "name": "stdout",
          "text": [
            "    0   1   2   3   4\n",
            "4  20  21  22  23  24\n",
            "3  15  16  17  18  19\n",
            "2  10  11  12  13  14\n",
            "1   5   6   7   8   9\n",
            "0   0   1   2   3   4\n"
          ]
        }
      ]
    },
    {
      "cell_type": "code",
      "source": [
        "# 58. How to create one-hot encodings of a categorical variable (dummy variables)?\n",
        "# Get one-hot encodings for column 'a' in the dataframe df and append it as columns.\n",
        "# Input\n",
        "df = pd.DataFrame(np.arange(25).reshape(5,-1), columns=list('abcde'))\n",
        "\n",
        "# Solution\n",
        "df_onehot = pd.concat([pd.get_dummies(df['a']), df[list('bcde')]], axis=1)\n",
        "print(df_onehot)"
      ],
      "metadata": {
        "colab": {
          "base_uri": "https://localhost:8080/"
        },
        "id": "f6QsubOZ9rso",
        "outputId": "cdade0d6-be0c-4475-d323-80fad460fe45"
      },
      "execution_count": null,
      "outputs": [
        {
          "output_type": "stream",
          "name": "stdout",
          "text": [
            "   0  5  10  15  20   b   c   d   e\n",
            "0  1  0   0   0   0   1   2   3   4\n",
            "1  0  1   0   0   0   6   7   8   9\n",
            "2  0  0   1   0   0  11  12  13  14\n",
            "3  0  0   0   1   0  16  17  18  19\n",
            "4  0  0   0   0   1  21  22  23  24\n"
          ]
        }
      ]
    },
    {
      "cell_type": "code",
      "source": [
        "# 59. Which column contains the highest number of row-wise maximum values?\n",
        "# Obtain the column name with the highest number of row-wise maximum’s in df.\n",
        "# Input\n",
        "df = pd.DataFrame(np.random.randint(1,100, 40).reshape(10, -1))\n",
        "\n",
        "# Solution\n",
        "print('Column with highest row maxes: ', df.apply(np.argmax, axis=1).value_counts().index[0])"
      ],
      "metadata": {
        "colab": {
          "base_uri": "https://localhost:8080/"
        },
        "id": "Y0Kwfp8W9rqE",
        "outputId": "c3b2bec4-fbd5-459e-c79a-e4b9f786b7cf"
      },
      "execution_count": null,
      "outputs": [
        {
          "output_type": "stream",
          "name": "stdout",
          "text": [
            "Column with highest row maxes:  0\n"
          ]
        }
      ]
    },
    {
      "cell_type": "code",
      "source": [
        "# 60. How to create a new column that contains the row number of nearest column by euclidean distance?\n",
        "# Create a new column such that, each row contains the row number of nearest row-record by euclidean distance.\n",
        "df = pd.DataFrame(np.random.randint(1,100, 40).reshape(10, -1), columns=list('pqrs'), index=list('abcdefghij'))\n",
        "\n",
        "# Solution\n",
        "import numpy as np\n",
        "\n",
        "# init outputs\n",
        "nearest_rows = []\n",
        "nearest_distance = []\n",
        "\n",
        "# iterate rows.\n",
        "for i, row in df.iterrows():\n",
        "    curr = row\n",
        "    rest = df.drop(i)\n",
        "    e_dists = {}  # init dict to store euclidean dists for current row.\n",
        "    # iterate rest of rows for current row\n",
        "    for j, contestant in rest.iterrows():\n",
        "        # compute euclidean dist and update e_dists\n",
        "        e_dists.update({j: round(np.linalg.norm(curr.values - contestant.values))})\n",
        "    # update nearest row to current row and the distance value\n",
        "    nearest_rows.append(max(e_dists, key=e_dists.get))\n",
        "    nearest_distance.append(max(e_dists.values()))\n",
        "\n",
        "df['nearest_row'] = nearest_rows\n",
        "df['dist'] = nearest_distance"
      ],
      "metadata": {
        "id": "iVor-Jv69rnb"
      },
      "execution_count": null,
      "outputs": []
    },
    {
      "cell_type": "code",
      "source": [
        "# 61. How to know the maximum possible correlation value of each column against other columns?\n",
        "# Compute maximum possible absolute correlation value of each column against other columns in df.\n",
        "# Input\n",
        "df = pd.DataFrame(np.random.randint(1,100, 80).reshape(8, -1), columns=list('pqrstuvwxy'), index=list('abcdefgh'))\n",
        "df\n",
        "\n",
        "# Solution\n",
        "abs_corrmat = np.abs(df.corr())\n",
        "max_corr = abs_corrmat.apply(lambda x: sorted(x)[-2])\n",
        "print('Maximum Correlation possible for each column: ', np.round(max_corr.tolist(), 2))"
      ],
      "metadata": {
        "colab": {
          "base_uri": "https://localhost:8080/"
        },
        "id": "ahV5XmoQ9rkn",
        "outputId": "4e1ef135-d57b-41f4-b6da-a7eb832e3e8d"
      },
      "execution_count": null,
      "outputs": [
        {
          "output_type": "stream",
          "name": "stdout",
          "text": [
            "Maximum Correlation possible for each column:  [0.55 0.4  0.52 0.62 0.8  0.45 0.47 0.65 0.62 0.8 ]\n"
          ]
        }
      ]
    },
    {
      "cell_type": "code",
      "source": [
        "# 62. How to create a column containing the minimum by maximum of each row?\n",
        "# Compute the minimum-by-maximum for every row of df.\n",
        "# Input\n",
        "df = pd.DataFrame(np.random.randint(1,100, 80).reshape(8, -1))\n",
        "\n",
        "# Solution 1\n",
        "min_by_max = df.apply(lambda x: np.min(x)/np.max(x), axis=1)\n",
        "\n",
        "# Solution 2\n",
        "min_by_max = np.min(df, axis=1)/np.max(df, axis=1)"
      ],
      "metadata": {
        "id": "HjN7CG1f9riJ"
      },
      "execution_count": null,
      "outputs": []
    },
    {
      "cell_type": "code",
      "source": [
        "# 63. How to create a column that contains the penultimate value in each row?\n",
        "# Create a new column 'penultimate' which has the second largest value of each row of df.\n",
        "# Input\n",
        "df = pd.DataFrame(np.random.randint(1,100, 80).reshape(8, -1))\n",
        "\n",
        "# Solution\n",
        "out = df.apply(lambda x: x.sort_values().unique()[-2], axis=1)\n",
        "df['penultimate'] = out\n",
        "print(df)"
      ],
      "metadata": {
        "colab": {
          "base_uri": "https://localhost:8080/"
        },
        "id": "7OE0Xi5m9rfo",
        "outputId": "ecef9268-743d-47c9-8560-ce21fbc7e97e"
      },
      "execution_count": null,
      "outputs": [
        {
          "output_type": "stream",
          "name": "stdout",
          "text": [
            "    0   1   2   3   4  ...   6   7   8   9  penultimate\n",
            "0  41  40  51   3  89  ...  20  11   2  77           77\n",
            "1  25  55  68  14  13  ...  50  66  51  47           66\n",
            "2  99  37  33   7  59  ...  97   5  86  38           97\n",
            "3   3  65  78  70  91  ...  60  11   4  92           91\n",
            "4   5  63  98   9  42  ...  88  90  40  21           90\n",
            "5  34  32  29   4  38  ...  81  39  91   6           81\n",
            "6  57  42  71  10  39  ...  65  17  75  75           75\n",
            "7  13   4  75   2  70  ...  79  84  38  12           79\n",
            "\n",
            "[8 rows x 11 columns]\n"
          ]
        }
      ]
    },
    {
      "cell_type": "code",
      "source": [
        "# 64. How to normalize all columns in a dataframe?\n",
        "# Normalize all columns of df by subtracting the column mean and divide by standard deviation.\n",
        "# Range all columns of df such that the minimum value in each column is 0 and max is 1.\n",
        "# Don’t use external packages like sklearn.\n",
        "\n",
        "# Input\n",
        "df = pd.DataFrame(np.random.randint(1,100, 80).reshape(8, -1))\n",
        "\n",
        "# Solution Q1\n",
        "out1 = df.apply(lambda x: ((x - x.mean())/x.std()).round(2))\n",
        "print('Solution Q1\\n',out1)\n",
        "\n",
        "# Solution Q2\n",
        "out2 = df.apply(lambda x: ((x.max() - x)/(x.max() - x.min())).round(2))\n",
        "print('Solution Q2\\n', out2)"
      ],
      "metadata": {
        "colab": {
          "base_uri": "https://localhost:8080/"
        },
        "id": "QOH9e_fO9rdS",
        "outputId": "4b67310a-8b62-4162-8500-8ab1052791cd"
      },
      "execution_count": null,
      "outputs": [
        {
          "output_type": "stream",
          "name": "stdout",
          "text": [
            "Solution Q1\n",
            "       0     1     2     3     4     5     6     7     8     9\n",
            "0 -1.11 -0.52 -0.61  1.79  1.49 -1.20 -0.61  1.14  0.86 -0.07\n",
            "1  1.26  0.74 -0.11 -0.61 -0.20 -0.25  0.88  0.76 -0.19  1.60\n",
            "2 -0.35 -0.44 -0.17  0.71 -0.93 -1.02 -0.78  0.91  0.99  1.46\n",
            "3  0.73  0.86 -0.27 -0.49  1.46  0.38 -0.72 -0.80 -1.35 -0.56\n",
            "4 -0.51  1.41  1.69 -0.49 -0.77  1.60  1.15  0.91  0.63 -0.63\n",
            "5  1.46 -0.41 -0.71 -0.94 -0.47 -0.57 -0.70 -1.09 -0.26 -1.09\n",
            "6 -0.57 -1.75 -1.15 -0.85 -0.90 -0.12 -0.75 -1.00  0.83 -0.07\n",
            "7 -0.91  0.11  1.35  0.89  0.33  1.19  1.53 -0.83 -1.51 -0.63\n",
            "Solution Q2\n",
            "       0     1     2     3     4     5     6     7     8     9\n",
            "0  1.00  0.61  0.81  0.00  0.00  1.00  0.93  0.00  0.05  0.62\n",
            "1  0.08  0.21  0.63  0.88  0.70  0.66  0.28  0.17  0.47  0.00\n",
            "2  0.70  0.59  0.65  0.40  1.00  0.94  1.00  0.10  0.00  0.05\n",
            "3  0.29  0.18  0.69  0.84  0.01  0.44  0.98  0.87  0.93  0.80\n",
            "4  0.77  0.00  0.00  0.84  0.93  0.00  0.16  0.10  0.14  0.83\n",
            "5  0.00  0.57  0.85  1.00  0.81  0.77  0.96  1.00  0.50  1.00\n",
            "6  0.79  1.00  1.00  0.97  0.99  0.61  0.99  0.96  0.07  0.62\n",
            "7  0.92  0.41  0.12  0.33  0.48  0.15  0.00  0.88  1.00  0.83\n"
          ]
        }
      ]
    },
    {
      "cell_type": "code",
      "source": [
        "# 65. How to compute the correlation of each row with the suceeding row?\n",
        "# Compute the correlation of each row of df with its succeeding row.\n",
        "# Input\n",
        "df = pd.DataFrame(np.random.randint(1,100, 80).reshape(8, -1))\n",
        "\n",
        "# Solution\n",
        "[df.iloc[i].corr(df.iloc[i+1]).round(2) for i in range(df.shape[0])[:-1]]"
      ],
      "metadata": {
        "colab": {
          "base_uri": "https://localhost:8080/"
        },
        "id": "NJHXn84R9raj",
        "outputId": "9f02400d-1510-4b70-ee7e-4997b43866f7"
      },
      "execution_count": null,
      "outputs": [
        {
          "output_type": "execute_result",
          "data": {
            "text/plain": [
              "[0.04, 0.21, 0.18, -0.52, -0.44, 0.02, 0.32]"
            ]
          },
          "metadata": {},
          "execution_count": 75
        }
      ]
    },
    {
      "cell_type": "code",
      "source": [
        "# 66. How to replace both the diagonals of dataframe with 0?\n",
        "# Replace both values in both diagonals of df with 0.\n",
        "# Input\n",
        "df = pd.DataFrame(np.random.randint(1,100, 100).reshape(10, -1))\n",
        "\n",
        "# Solution\n",
        "for i in range(df.shape[0]):\n",
        "    df.iat[i, i] = 0\n",
        "    df.iat[df.shape[0]-i-1, i] = 0\n"
      ],
      "metadata": {
        "id": "mRocG21g9rYe"
      },
      "execution_count": null,
      "outputs": []
    },
    {
      "cell_type": "code",
      "source": [
        "# 67. How to get the particular group of a groupby dataframe by key?\n",
        "# This is a question related to understanding of grouped dataframe. From df_grouped, get the group belonging to 'apple' as a dataframe.\n",
        "# Input\n",
        "df = pd.DataFrame({'col1': ['apple', 'banana', 'orange'] * 3,\n",
        "                   'col2': np.random.rand(9),\n",
        "                   'col3': np.random.randint(0, 15, 9)})\n",
        "\n",
        "df_grouped = df.groupby(['col1'])\n",
        "\n",
        "# Solution 1\n",
        "df_grouped.get_group('apple')\n",
        "\n",
        "# Solution 2\n",
        "for i, dff in df_grouped:\n",
        "    if i == 'apple':\n",
        "        print(dff)"
      ],
      "metadata": {
        "colab": {
          "base_uri": "https://localhost:8080/"
        },
        "id": "92f_7NnY9rVm",
        "outputId": "695e11d9-e262-45c2-f017-8ff07f63a4b3"
      },
      "execution_count": null,
      "outputs": [
        {
          "output_type": "stream",
          "name": "stdout",
          "text": [
            "    col1      col2  col3\n",
            "0  apple  0.504733     1\n",
            "3  apple  0.763031     0\n",
            "6  apple  0.618188    14\n"
          ]
        }
      ]
    },
    {
      "cell_type": "code",
      "source": [
        "# 68. How to get the n’th largest value of a column when grouped by another column?\n",
        "# In df, find the second largest value of 'taste' for 'banana'\n",
        "# Input\n",
        "df = pd.DataFrame({'fruit': ['apple', 'banana', 'orange'] * 3,\n",
        "                   'taste': np.random.rand(9),\n",
        "                   'price': np.random.randint(0, 15, 9)})\n",
        "\n",
        "print(df)\n",
        "\n",
        "# Solution\n",
        "df_grpd = df['taste'].groupby(df.fruit)\n",
        "df_grpd.get_group('banana').sort_values().iloc[-2]"
      ],
      "metadata": {
        "colab": {
          "base_uri": "https://localhost:8080/"
        },
        "id": "-6V0FEvj9rTG",
        "outputId": "0410bfbc-9661-4c7f-c560-bb14bbc83b21"
      },
      "execution_count": null,
      "outputs": [
        {
          "output_type": "stream",
          "name": "stdout",
          "text": [
            "    fruit     taste  price\n",
            "0   apple  0.906713     12\n",
            "1  banana  0.106295      8\n",
            "2  orange  0.865171      3\n",
            "3   apple  0.097007     11\n",
            "4  banana  0.597943     13\n",
            "5  orange  0.429962      1\n",
            "6   apple  0.033684      3\n",
            "7  banana  0.202861     12\n",
            "8  orange  0.372081     12\n"
          ]
        },
        {
          "output_type": "execute_result",
          "data": {
            "text/plain": [
              "0.20286104994014542"
            ]
          },
          "metadata": {},
          "execution_count": 78
        }
      ]
    },
    {
      "cell_type": "code",
      "source": [
        "# 69. How to compute grouped mean on pandas dataframe and keep the grouped column as another column (not index)?\n",
        "# In df, Compute the mean price of every fruit, while keeping the fruit as another column instead of an index.\n",
        "# Input\n",
        "df = pd.DataFrame({'fruit': ['apple', 'banana', 'orange'] * 3,\n",
        "                   'rating': np.random.rand(9),\n",
        "                   'price': np.random.randint(0, 15, 9)})\n",
        "\n",
        "# Solution\n",
        "out = df.groupby('fruit', as_index=False)['price'].mean()\n",
        "print(out)\n"
      ],
      "metadata": {
        "colab": {
          "base_uri": "https://localhost:8080/"
        },
        "id": "CVgwrGYx9rQT",
        "outputId": "4ef14762-3ec6-44f4-a726-c1666da89195"
      },
      "execution_count": null,
      "outputs": [
        {
          "output_type": "stream",
          "name": "stdout",
          "text": [
            "    fruit     price\n",
            "0   apple  7.666667\n",
            "1  banana  6.666667\n",
            "2  orange  5.000000\n"
          ]
        }
      ]
    },
    {
      "cell_type": "code",
      "source": [
        "# 70. How to join two dataframes by 2 columns so they have only the common rows?\n",
        "# Join dataframes df1 and df2 by ‘fruit-pazham’ and ‘weight-kilo’.\n",
        "# Input\n",
        "df1 = pd.DataFrame({'fruit': ['apple', 'banana', 'orange'] * 3,\n",
        "                    'weight': ['high', 'medium', 'low'] * 3,\n",
        "                    'price': np.random.randint(0, 15, 9)})\n",
        "\n",
        "df2 = pd.DataFrame({'pazham': ['apple', 'orange', 'pine'] * 2,\n",
        "                    'kilo': ['high', 'low'] * 3,\n",
        "                    'price': np.random.randint(0, 15, 6)})\n",
        "\n",
        "# Solution\n",
        "pd.merge(df1, df2, how='inner', left_on=['fruit', 'weight'], right_on=['pazham','kilo'], suffixes=['_left', '_right'])"
      ],
      "metadata": {
        "colab": {
          "base_uri": "https://localhost:8080/",
          "height": 237
        },
        "id": "rmH3a9bNEt9p",
        "outputId": "7e7b92c0-6ffb-4f37-abbe-b328f26ec224"
      },
      "execution_count": null,
      "outputs": [
        {
          "output_type": "execute_result",
          "data": {
            "text/plain": [
              "    fruit weight  price_left  pazham  kilo  price_right\n",
              "0   apple   high           1   apple  high           12\n",
              "1   apple   high           0   apple  high           12\n",
              "2   apple   high          11   apple  high           12\n",
              "3  orange    low           5  orange   low            6\n",
              "4  orange    low          13  orange   low            6\n",
              "5  orange    low          12  orange   low            6"
            ],
            "text/html": [
              "\n",
              "  <div id=\"df-f9f7b673-6c7e-40a4-8ced-670b043ce5b6\">\n",
              "    <div class=\"colab-df-container\">\n",
              "      <div>\n",
              "<style scoped>\n",
              "    .dataframe tbody tr th:only-of-type {\n",
              "        vertical-align: middle;\n",
              "    }\n",
              "\n",
              "    .dataframe tbody tr th {\n",
              "        vertical-align: top;\n",
              "    }\n",
              "\n",
              "    .dataframe thead th {\n",
              "        text-align: right;\n",
              "    }\n",
              "</style>\n",
              "<table border=\"1\" class=\"dataframe\">\n",
              "  <thead>\n",
              "    <tr style=\"text-align: right;\">\n",
              "      <th></th>\n",
              "      <th>fruit</th>\n",
              "      <th>weight</th>\n",
              "      <th>price_left</th>\n",
              "      <th>pazham</th>\n",
              "      <th>kilo</th>\n",
              "      <th>price_right</th>\n",
              "    </tr>\n",
              "  </thead>\n",
              "  <tbody>\n",
              "    <tr>\n",
              "      <th>0</th>\n",
              "      <td>apple</td>\n",
              "      <td>high</td>\n",
              "      <td>1</td>\n",
              "      <td>apple</td>\n",
              "      <td>high</td>\n",
              "      <td>12</td>\n",
              "    </tr>\n",
              "    <tr>\n",
              "      <th>1</th>\n",
              "      <td>apple</td>\n",
              "      <td>high</td>\n",
              "      <td>0</td>\n",
              "      <td>apple</td>\n",
              "      <td>high</td>\n",
              "      <td>12</td>\n",
              "    </tr>\n",
              "    <tr>\n",
              "      <th>2</th>\n",
              "      <td>apple</td>\n",
              "      <td>high</td>\n",
              "      <td>11</td>\n",
              "      <td>apple</td>\n",
              "      <td>high</td>\n",
              "      <td>12</td>\n",
              "    </tr>\n",
              "    <tr>\n",
              "      <th>3</th>\n",
              "      <td>orange</td>\n",
              "      <td>low</td>\n",
              "      <td>5</td>\n",
              "      <td>orange</td>\n",
              "      <td>low</td>\n",
              "      <td>6</td>\n",
              "    </tr>\n",
              "    <tr>\n",
              "      <th>4</th>\n",
              "      <td>orange</td>\n",
              "      <td>low</td>\n",
              "      <td>13</td>\n",
              "      <td>orange</td>\n",
              "      <td>low</td>\n",
              "      <td>6</td>\n",
              "    </tr>\n",
              "    <tr>\n",
              "      <th>5</th>\n",
              "      <td>orange</td>\n",
              "      <td>low</td>\n",
              "      <td>12</td>\n",
              "      <td>orange</td>\n",
              "      <td>low</td>\n",
              "      <td>6</td>\n",
              "    </tr>\n",
              "  </tbody>\n",
              "</table>\n",
              "</div>\n",
              "      <button class=\"colab-df-convert\" onclick=\"convertToInteractive('df-f9f7b673-6c7e-40a4-8ced-670b043ce5b6')\"\n",
              "              title=\"Convert this dataframe to an interactive table.\"\n",
              "              style=\"display:none;\">\n",
              "        \n",
              "  <svg xmlns=\"http://www.w3.org/2000/svg\" height=\"24px\"viewBox=\"0 0 24 24\"\n",
              "       width=\"24px\">\n",
              "    <path d=\"M0 0h24v24H0V0z\" fill=\"none\"/>\n",
              "    <path d=\"M18.56 5.44l.94 2.06.94-2.06 2.06-.94-2.06-.94-.94-2.06-.94 2.06-2.06.94zm-11 1L8.5 8.5l.94-2.06 2.06-.94-2.06-.94L8.5 2.5l-.94 2.06-2.06.94zm10 10l.94 2.06.94-2.06 2.06-.94-2.06-.94-.94-2.06-.94 2.06-2.06.94z\"/><path d=\"M17.41 7.96l-1.37-1.37c-.4-.4-.92-.59-1.43-.59-.52 0-1.04.2-1.43.59L10.3 9.45l-7.72 7.72c-.78.78-.78 2.05 0 2.83L4 21.41c.39.39.9.59 1.41.59.51 0 1.02-.2 1.41-.59l7.78-7.78 2.81-2.81c.8-.78.8-2.07 0-2.86zM5.41 20L4 18.59l7.72-7.72 1.47 1.35L5.41 20z\"/>\n",
              "  </svg>\n",
              "      </button>\n",
              "      \n",
              "  <style>\n",
              "    .colab-df-container {\n",
              "      display:flex;\n",
              "      flex-wrap:wrap;\n",
              "      gap: 12px;\n",
              "    }\n",
              "\n",
              "    .colab-df-convert {\n",
              "      background-color: #E8F0FE;\n",
              "      border: none;\n",
              "      border-radius: 50%;\n",
              "      cursor: pointer;\n",
              "      display: none;\n",
              "      fill: #1967D2;\n",
              "      height: 32px;\n",
              "      padding: 0 0 0 0;\n",
              "      width: 32px;\n",
              "    }\n",
              "\n",
              "    .colab-df-convert:hover {\n",
              "      background-color: #E2EBFA;\n",
              "      box-shadow: 0px 1px 2px rgba(60, 64, 67, 0.3), 0px 1px 3px 1px rgba(60, 64, 67, 0.15);\n",
              "      fill: #174EA6;\n",
              "    }\n",
              "\n",
              "    [theme=dark] .colab-df-convert {\n",
              "      background-color: #3B4455;\n",
              "      fill: #D2E3FC;\n",
              "    }\n",
              "\n",
              "    [theme=dark] .colab-df-convert:hover {\n",
              "      background-color: #434B5C;\n",
              "      box-shadow: 0px 1px 3px 1px rgba(0, 0, 0, 0.15);\n",
              "      filter: drop-shadow(0px 1px 2px rgba(0, 0, 0, 0.3));\n",
              "      fill: #FFFFFF;\n",
              "    }\n",
              "  </style>\n",
              "\n",
              "      <script>\n",
              "        const buttonEl =\n",
              "          document.querySelector('#df-f9f7b673-6c7e-40a4-8ced-670b043ce5b6 button.colab-df-convert');\n",
              "        buttonEl.style.display =\n",
              "          google.colab.kernel.accessAllowed ? 'block' : 'none';\n",
              "\n",
              "        async function convertToInteractive(key) {\n",
              "          const element = document.querySelector('#df-f9f7b673-6c7e-40a4-8ced-670b043ce5b6');\n",
              "          const dataTable =\n",
              "            await google.colab.kernel.invokeFunction('convertToInteractive',\n",
              "                                                     [key], {});\n",
              "          if (!dataTable) return;\n",
              "\n",
              "          const docLinkHtml = 'Like what you see? Visit the ' +\n",
              "            '<a target=\"_blank\" href=https://colab.research.google.com/notebooks/data_table.ipynb>data table notebook</a>'\n",
              "            + ' to learn more about interactive tables.';\n",
              "          element.innerHTML = '';\n",
              "          dataTable['output_type'] = 'display_data';\n",
              "          await google.colab.output.renderOutput(dataTable, element);\n",
              "          const docLink = document.createElement('div');\n",
              "          docLink.innerHTML = docLinkHtml;\n",
              "          element.appendChild(docLink);\n",
              "        }\n",
              "      </script>\n",
              "    </div>\n",
              "  </div>\n",
              "  "
            ]
          },
          "metadata": {},
          "execution_count": 84
        }
      ]
    },
    {
      "cell_type": "code",
      "source": [
        "# 71. How to remove rows from a dataframe that are present in another dataframe?\n",
        "# From df1, remove the rows that are present in df2. All three columns must be the same.\n",
        "# Input\n",
        "df1 = pd.DataFrame({'fruit': ['apple', 'orange', 'banana'] * 3,\n",
        "                    'weight': ['high', 'medium', 'low'] * 3,\n",
        "                    'price': np.arange(9)})\n",
        "\n",
        "df2 = pd.DataFrame({'fruit': ['apple', 'orange', 'pine'] * 2,\n",
        "                    'weight': ['high', 'medium'] * 3,\n",
        "                    'price': np.arange(6)})\n",
        "\n",
        "\n",
        "# Solution\n",
        "print(df1[~df1.isin(df2).all(1)])"
      ],
      "metadata": {
        "colab": {
          "base_uri": "https://localhost:8080/"
        },
        "id": "pmmp_mqAE6nI",
        "outputId": "110374d6-bd9a-468f-dbeb-66d6590d8f19"
      },
      "execution_count": null,
      "outputs": [
        {
          "output_type": "stream",
          "name": "stdout",
          "text": [
            "    fruit  weight  price\n",
            "2  banana     low      2\n",
            "3   apple    high      3\n",
            "4  orange  medium      4\n",
            "5  banana     low      5\n",
            "6   apple    high      6\n",
            "7  orange  medium      7\n",
            "8  banana     low      8\n"
          ]
        }
      ]
    },
    {
      "cell_type": "code",
      "source": [
        "# 72. How to get the positions where values of two columns match?\n",
        "# Input\n",
        "df = pd.DataFrame({'fruit1': np.random.choice(['apple', 'orange', 'banana'], 10),\n",
        "                    'fruit2': np.random.choice(['apple', 'orange', 'banana'], 10)})\n",
        "\n",
        "# Solution\n",
        "np.where(df.fruit1 == df.fruit2)"
      ],
      "metadata": {
        "colab": {
          "base_uri": "https://localhost:8080/"
        },
        "id": "8wSqL19jE6jx",
        "outputId": "ca5444ea-ecee-4fc4-ed1f-6d5bf23d4635"
      },
      "execution_count": null,
      "outputs": [
        {
          "output_type": "execute_result",
          "data": {
            "text/plain": [
              "(array([8]),)"
            ]
          },
          "metadata": {},
          "execution_count": 86
        }
      ]
    },
    {
      "cell_type": "code",
      "source": [
        "# 73. How to create lags and leads of a column in a dataframe?\n",
        "# Create two new columns in df, one of which is a lag1 (shift column a down by 1 row) of column ‘a’ and the other is a lead1 (shift column b up by 1 row).\n",
        "# Input\n",
        "df = pd.DataFrame(np.random.randint(1, 100, 20).reshape(-1, 4), columns = list('abcd'))\n",
        "\n",
        "# Solution\n",
        "df['a_lag1'] = df['a'].shift(1)\n",
        "df['b_lead1'] = df['b'].shift(-1)\n",
        "print(df)"
      ],
      "metadata": {
        "colab": {
          "base_uri": "https://localhost:8080/"
        },
        "id": "S4WKd7XFE6ho",
        "outputId": "b1ad3eb3-1ea9-43e5-9138-c1d58ce18c92"
      },
      "execution_count": null,
      "outputs": [
        {
          "output_type": "stream",
          "name": "stdout",
          "text": [
            "    a   b   c   d  a_lag1  b_lead1\n",
            "0  48  25  99  14     NaN     47.0\n",
            "1  76  47  69  77    48.0      4.0\n",
            "2  69   4  99  44    76.0     93.0\n",
            "3   2  93   1  68    69.0     14.0\n",
            "4  76  14  76  43     2.0      NaN\n"
          ]
        }
      ]
    },
    {
      "cell_type": "code",
      "source": [
        "# 74. How to get the frequency of unique values in the entire dataframe?\n",
        "# Get the frequency of unique values in the entire dataframe df.\n",
        "# Input\n",
        "df = pd.DataFrame(np.random.randint(1, 10, 20).reshape(-1, 4), columns = list('abcd'))\n",
        "\n",
        "# Solution\n",
        "pd.value_counts(df.values.ravel())\n"
      ],
      "metadata": {
        "colab": {
          "base_uri": "https://localhost:8080/"
        },
        "id": "JqVlSGo8E6fU",
        "outputId": "38cdb22e-2d82-4b0a-fbb4-12b1271c885a"
      },
      "execution_count": null,
      "outputs": [
        {
          "output_type": "execute_result",
          "data": {
            "text/plain": [
              "5    3\n",
              "3    3\n",
              "8    3\n",
              "2    3\n",
              "1    2\n",
              "4    2\n",
              "7    2\n",
              "6    1\n",
              "9    1\n",
              "dtype: int64"
            ]
          },
          "metadata": {},
          "execution_count": 88
        }
      ]
    },
    {
      "cell_type": "code",
      "source": [
        "# 75. How to split a text column into two separate columns?\n",
        "# Split the string column in df to form a dataframe with 3 columns as shown.\n",
        "# Input\n",
        "df = pd.DataFrame([\"STD, City    State\",\n",
        "\"33, Kolkata    West Bengal\",\n",
        "\"44, Chennai    Tamil Nadu\",\n",
        "\"40, Hyderabad    Telengana\",\n",
        "\"80, Bangalore    Karnataka\"], columns=['row'])\n",
        "\n",
        "# Solution\n",
        "df_out = df.row.str.split(',|\\t', expand=True)\n",
        "\n",
        "# Make first row as header\n",
        "new_header = df_out.iloc[0]\n",
        "df_out = df_out[1:]\n",
        "df_out.columns = new_header\n",
        "print(df_out)"
      ],
      "metadata": {
        "colab": {
          "base_uri": "https://localhost:8080/"
        },
        "id": "KsPT9g11E6c8",
        "outputId": "5ac2698d-8ce0-4716-fd28-bf9ae58e9aec"
      },
      "execution_count": null,
      "outputs": [
        {
          "output_type": "stream",
          "name": "stdout",
          "text": [
            "0 STD            City    State\n",
            "1  33   Kolkata    West Bengal\n",
            "2  44    Chennai    Tamil Nadu\n",
            "3  40   Hyderabad    Telengana\n",
            "4  80   Bangalore    Karnataka\n"
          ]
        }
      ]
    },
    {
      "cell_type": "markdown",
      "source": [
        "# **Pandas 24 useful exercises**"
      ],
      "metadata": {
        "id": "eXi39hYZH_LU"
      }
    },
    {
      "cell_type": "code",
      "source": [
        "# Allow several prints in one cell\n",
        "from IPython.core.interactiveshell import InteractiveShell\n",
        "InteractiveShell.ast_node_interactivity = \"all\"\n",
        "\n",
        "import pandas as pd"
      ],
      "metadata": {
        "id": "ZCyesHgyE6am"
      },
      "execution_count": null,
      "outputs": []
    },
    {
      "cell_type": "code",
      "source": [
        "# 1. How to create a series from a list, numpy array and dict?\n",
        "# Create a pandas series from each of the items below: a list, numpy and a dictionary\n",
        "# Input\n",
        "import numpy as np\n",
        "a_list = list(\"abcdefg\")\n",
        "numpy_array = np.arange(1, 10)\n",
        "dictionary = {\"A\":  0, \"B\":1, \"C\":2, \"D\":3, \"E\":5}\n",
        "series1 = pd.Series(a_list)\n",
        "print(series1)\n",
        "series2 = pd.Series(numpy_array)\n",
        "print(series2)\n",
        "series3 = pd.Series(dictionary)\n",
        "print(series3)"
      ],
      "metadata": {
        "colab": {
          "base_uri": "https://localhost:8080/"
        },
        "id": "phiv-HivE6Y-",
        "outputId": "9da51356-c882-4395-b458-f3120dd592ac"
      },
      "execution_count": null,
      "outputs": [
        {
          "output_type": "stream",
          "name": "stdout",
          "text": [
            "0    a\n",
            "1    b\n",
            "2    c\n",
            "3    d\n",
            "4    e\n",
            "5    f\n",
            "6    g\n",
            "dtype: object\n",
            "0    1\n",
            "1    2\n",
            "2    3\n",
            "3    4\n",
            "4    5\n",
            "5    6\n",
            "6    7\n",
            "7    8\n",
            "8    9\n",
            "dtype: int64\n",
            "A    0\n",
            "B    1\n",
            "C    2\n",
            "D    3\n",
            "E    5\n",
            "dtype: int64\n"
          ]
        }
      ]
    },
    {
      "cell_type": "code",
      "source": [
        "# 2. How to combine many series to form a dataframe?\n",
        "# Combine ser1 and ser2 to form a dataframe.\n",
        "# input\n",
        "ser1 = pd.Series(list('abcedfghijklmnopqrstuvwxyz'))\n",
        "ser2 = pd.Series(np.arange(26))\n",
        "# using pandas DataFrame\n",
        "ser_df = pd.DataFrame(ser1, ser2).reset_index()\n",
        "ser_df.head()\n",
        "# using pandas DataFrame with a dictionary, gives a specific name to the column\n",
        "ser_df = pd.DataFrame({\"col1\":ser1, \"col2\":ser2})\n",
        "ser_df.head(5)\n",
        "# using pandas concat\n",
        "ser_df = pd.concat([ser1, ser2], axis = 1)\n",
        "ser_df.head()"
      ],
      "metadata": {
        "id": "XDZDyyv_E6Xy",
        "colab": {
          "base_uri": "https://localhost:8080/",
          "height": 584
        },
        "outputId": "c4ae21ea-5772-48f0-9cbd-901a2359051f"
      },
      "execution_count": null,
      "outputs": [
        {
          "output_type": "execute_result",
          "data": {
            "text/plain": [
              "   index  0\n",
              "0      0  a\n",
              "1      1  b\n",
              "2      2  c\n",
              "3      3  e\n",
              "4      4  d"
            ],
            "text/html": [
              "\n",
              "  <div id=\"df-a0e00e39-914a-4749-ad65-7ad3f4135741\">\n",
              "    <div class=\"colab-df-container\">\n",
              "      <div>\n",
              "<style scoped>\n",
              "    .dataframe tbody tr th:only-of-type {\n",
              "        vertical-align: middle;\n",
              "    }\n",
              "\n",
              "    .dataframe tbody tr th {\n",
              "        vertical-align: top;\n",
              "    }\n",
              "\n",
              "    .dataframe thead th {\n",
              "        text-align: right;\n",
              "    }\n",
              "</style>\n",
              "<table border=\"1\" class=\"dataframe\">\n",
              "  <thead>\n",
              "    <tr style=\"text-align: right;\">\n",
              "      <th></th>\n",
              "      <th>index</th>\n",
              "      <th>0</th>\n",
              "    </tr>\n",
              "  </thead>\n",
              "  <tbody>\n",
              "    <tr>\n",
              "      <th>0</th>\n",
              "      <td>0</td>\n",
              "      <td>a</td>\n",
              "    </tr>\n",
              "    <tr>\n",
              "      <th>1</th>\n",
              "      <td>1</td>\n",
              "      <td>b</td>\n",
              "    </tr>\n",
              "    <tr>\n",
              "      <th>2</th>\n",
              "      <td>2</td>\n",
              "      <td>c</td>\n",
              "    </tr>\n",
              "    <tr>\n",
              "      <th>3</th>\n",
              "      <td>3</td>\n",
              "      <td>e</td>\n",
              "    </tr>\n",
              "    <tr>\n",
              "      <th>4</th>\n",
              "      <td>4</td>\n",
              "      <td>d</td>\n",
              "    </tr>\n",
              "  </tbody>\n",
              "</table>\n",
              "</div>\n",
              "      <button class=\"colab-df-convert\" onclick=\"convertToInteractive('df-a0e00e39-914a-4749-ad65-7ad3f4135741')\"\n",
              "              title=\"Convert this dataframe to an interactive table.\"\n",
              "              style=\"display:none;\">\n",
              "        \n",
              "  <svg xmlns=\"http://www.w3.org/2000/svg\" height=\"24px\"viewBox=\"0 0 24 24\"\n",
              "       width=\"24px\">\n",
              "    <path d=\"M0 0h24v24H0V0z\" fill=\"none\"/>\n",
              "    <path d=\"M18.56 5.44l.94 2.06.94-2.06 2.06-.94-2.06-.94-.94-2.06-.94 2.06-2.06.94zm-11 1L8.5 8.5l.94-2.06 2.06-.94-2.06-.94L8.5 2.5l-.94 2.06-2.06.94zm10 10l.94 2.06.94-2.06 2.06-.94-2.06-.94-.94-2.06-.94 2.06-2.06.94z\"/><path d=\"M17.41 7.96l-1.37-1.37c-.4-.4-.92-.59-1.43-.59-.52 0-1.04.2-1.43.59L10.3 9.45l-7.72 7.72c-.78.78-.78 2.05 0 2.83L4 21.41c.39.39.9.59 1.41.59.51 0 1.02-.2 1.41-.59l7.78-7.78 2.81-2.81c.8-.78.8-2.07 0-2.86zM5.41 20L4 18.59l7.72-7.72 1.47 1.35L5.41 20z\"/>\n",
              "  </svg>\n",
              "      </button>\n",
              "      \n",
              "  <style>\n",
              "    .colab-df-container {\n",
              "      display:flex;\n",
              "      flex-wrap:wrap;\n",
              "      gap: 12px;\n",
              "    }\n",
              "\n",
              "    .colab-df-convert {\n",
              "      background-color: #E8F0FE;\n",
              "      border: none;\n",
              "      border-radius: 50%;\n",
              "      cursor: pointer;\n",
              "      display: none;\n",
              "      fill: #1967D2;\n",
              "      height: 32px;\n",
              "      padding: 0 0 0 0;\n",
              "      width: 32px;\n",
              "    }\n",
              "\n",
              "    .colab-df-convert:hover {\n",
              "      background-color: #E2EBFA;\n",
              "      box-shadow: 0px 1px 2px rgba(60, 64, 67, 0.3), 0px 1px 3px 1px rgba(60, 64, 67, 0.15);\n",
              "      fill: #174EA6;\n",
              "    }\n",
              "\n",
              "    [theme=dark] .colab-df-convert {\n",
              "      background-color: #3B4455;\n",
              "      fill: #D2E3FC;\n",
              "    }\n",
              "\n",
              "    [theme=dark] .colab-df-convert:hover {\n",
              "      background-color: #434B5C;\n",
              "      box-shadow: 0px 1px 3px 1px rgba(0, 0, 0, 0.15);\n",
              "      filter: drop-shadow(0px 1px 2px rgba(0, 0, 0, 0.3));\n",
              "      fill: #FFFFFF;\n",
              "    }\n",
              "  </style>\n",
              "\n",
              "      <script>\n",
              "        const buttonEl =\n",
              "          document.querySelector('#df-a0e00e39-914a-4749-ad65-7ad3f4135741 button.colab-df-convert');\n",
              "        buttonEl.style.display =\n",
              "          google.colab.kernel.accessAllowed ? 'block' : 'none';\n",
              "\n",
              "        async function convertToInteractive(key) {\n",
              "          const element = document.querySelector('#df-a0e00e39-914a-4749-ad65-7ad3f4135741');\n",
              "          const dataTable =\n",
              "            await google.colab.kernel.invokeFunction('convertToInteractive',\n",
              "                                                     [key], {});\n",
              "          if (!dataTable) return;\n",
              "\n",
              "          const docLinkHtml = 'Like what you see? Visit the ' +\n",
              "            '<a target=\"_blank\" href=https://colab.research.google.com/notebooks/data_table.ipynb>data table notebook</a>'\n",
              "            + ' to learn more about interactive tables.';\n",
              "          element.innerHTML = '';\n",
              "          dataTable['output_type'] = 'display_data';\n",
              "          await google.colab.output.renderOutput(dataTable, element);\n",
              "          const docLink = document.createElement('div');\n",
              "          docLink.innerHTML = docLinkHtml;\n",
              "          element.appendChild(docLink);\n",
              "        }\n",
              "      </script>\n",
              "    </div>\n",
              "  </div>\n",
              "  "
            ]
          },
          "metadata": {},
          "execution_count": 92
        },
        {
          "output_type": "execute_result",
          "data": {
            "text/plain": [
              "  col1  col2\n",
              "0    a     0\n",
              "1    b     1\n",
              "2    c     2\n",
              "3    e     3\n",
              "4    d     4"
            ],
            "text/html": [
              "\n",
              "  <div id=\"df-02a46aa2-a724-4834-888b-afe4137f14d0\">\n",
              "    <div class=\"colab-df-container\">\n",
              "      <div>\n",
              "<style scoped>\n",
              "    .dataframe tbody tr th:only-of-type {\n",
              "        vertical-align: middle;\n",
              "    }\n",
              "\n",
              "    .dataframe tbody tr th {\n",
              "        vertical-align: top;\n",
              "    }\n",
              "\n",
              "    .dataframe thead th {\n",
              "        text-align: right;\n",
              "    }\n",
              "</style>\n",
              "<table border=\"1\" class=\"dataframe\">\n",
              "  <thead>\n",
              "    <tr style=\"text-align: right;\">\n",
              "      <th></th>\n",
              "      <th>col1</th>\n",
              "      <th>col2</th>\n",
              "    </tr>\n",
              "  </thead>\n",
              "  <tbody>\n",
              "    <tr>\n",
              "      <th>0</th>\n",
              "      <td>a</td>\n",
              "      <td>0</td>\n",
              "    </tr>\n",
              "    <tr>\n",
              "      <th>1</th>\n",
              "      <td>b</td>\n",
              "      <td>1</td>\n",
              "    </tr>\n",
              "    <tr>\n",
              "      <th>2</th>\n",
              "      <td>c</td>\n",
              "      <td>2</td>\n",
              "    </tr>\n",
              "    <tr>\n",
              "      <th>3</th>\n",
              "      <td>e</td>\n",
              "      <td>3</td>\n",
              "    </tr>\n",
              "    <tr>\n",
              "      <th>4</th>\n",
              "      <td>d</td>\n",
              "      <td>4</td>\n",
              "    </tr>\n",
              "  </tbody>\n",
              "</table>\n",
              "</div>\n",
              "      <button class=\"colab-df-convert\" onclick=\"convertToInteractive('df-02a46aa2-a724-4834-888b-afe4137f14d0')\"\n",
              "              title=\"Convert this dataframe to an interactive table.\"\n",
              "              style=\"display:none;\">\n",
              "        \n",
              "  <svg xmlns=\"http://www.w3.org/2000/svg\" height=\"24px\"viewBox=\"0 0 24 24\"\n",
              "       width=\"24px\">\n",
              "    <path d=\"M0 0h24v24H0V0z\" fill=\"none\"/>\n",
              "    <path d=\"M18.56 5.44l.94 2.06.94-2.06 2.06-.94-2.06-.94-.94-2.06-.94 2.06-2.06.94zm-11 1L8.5 8.5l.94-2.06 2.06-.94-2.06-.94L8.5 2.5l-.94 2.06-2.06.94zm10 10l.94 2.06.94-2.06 2.06-.94-2.06-.94-.94-2.06-.94 2.06-2.06.94z\"/><path d=\"M17.41 7.96l-1.37-1.37c-.4-.4-.92-.59-1.43-.59-.52 0-1.04.2-1.43.59L10.3 9.45l-7.72 7.72c-.78.78-.78 2.05 0 2.83L4 21.41c.39.39.9.59 1.41.59.51 0 1.02-.2 1.41-.59l7.78-7.78 2.81-2.81c.8-.78.8-2.07 0-2.86zM5.41 20L4 18.59l7.72-7.72 1.47 1.35L5.41 20z\"/>\n",
              "  </svg>\n",
              "      </button>\n",
              "      \n",
              "  <style>\n",
              "    .colab-df-container {\n",
              "      display:flex;\n",
              "      flex-wrap:wrap;\n",
              "      gap: 12px;\n",
              "    }\n",
              "\n",
              "    .colab-df-convert {\n",
              "      background-color: #E8F0FE;\n",
              "      border: none;\n",
              "      border-radius: 50%;\n",
              "      cursor: pointer;\n",
              "      display: none;\n",
              "      fill: #1967D2;\n",
              "      height: 32px;\n",
              "      padding: 0 0 0 0;\n",
              "      width: 32px;\n",
              "    }\n",
              "\n",
              "    .colab-df-convert:hover {\n",
              "      background-color: #E2EBFA;\n",
              "      box-shadow: 0px 1px 2px rgba(60, 64, 67, 0.3), 0px 1px 3px 1px rgba(60, 64, 67, 0.15);\n",
              "      fill: #174EA6;\n",
              "    }\n",
              "\n",
              "    [theme=dark] .colab-df-convert {\n",
              "      background-color: #3B4455;\n",
              "      fill: #D2E3FC;\n",
              "    }\n",
              "\n",
              "    [theme=dark] .colab-df-convert:hover {\n",
              "      background-color: #434B5C;\n",
              "      box-shadow: 0px 1px 3px 1px rgba(0, 0, 0, 0.15);\n",
              "      filter: drop-shadow(0px 1px 2px rgba(0, 0, 0, 0.3));\n",
              "      fill: #FFFFFF;\n",
              "    }\n",
              "  </style>\n",
              "\n",
              "      <script>\n",
              "        const buttonEl =\n",
              "          document.querySelector('#df-02a46aa2-a724-4834-888b-afe4137f14d0 button.colab-df-convert');\n",
              "        buttonEl.style.display =\n",
              "          google.colab.kernel.accessAllowed ? 'block' : 'none';\n",
              "\n",
              "        async function convertToInteractive(key) {\n",
              "          const element = document.querySelector('#df-02a46aa2-a724-4834-888b-afe4137f14d0');\n",
              "          const dataTable =\n",
              "            await google.colab.kernel.invokeFunction('convertToInteractive',\n",
              "                                                     [key], {});\n",
              "          if (!dataTable) return;\n",
              "\n",
              "          const docLinkHtml = 'Like what you see? Visit the ' +\n",
              "            '<a target=\"_blank\" href=https://colab.research.google.com/notebooks/data_table.ipynb>data table notebook</a>'\n",
              "            + ' to learn more about interactive tables.';\n",
              "          element.innerHTML = '';\n",
              "          dataTable['output_type'] = 'display_data';\n",
              "          await google.colab.output.renderOutput(dataTable, element);\n",
              "          const docLink = document.createElement('div');\n",
              "          docLink.innerHTML = docLinkHtml;\n",
              "          element.appendChild(docLink);\n",
              "        }\n",
              "      </script>\n",
              "    </div>\n",
              "  </div>\n",
              "  "
            ]
          },
          "metadata": {},
          "execution_count": 92
        },
        {
          "output_type": "execute_result",
          "data": {
            "text/plain": [
              "   0  1\n",
              "0  a  0\n",
              "1  b  1\n",
              "2  c  2\n",
              "3  e  3\n",
              "4  d  4"
            ],
            "text/html": [
              "\n",
              "  <div id=\"df-66f8c714-8e0f-4866-8bec-7516356e2efb\">\n",
              "    <div class=\"colab-df-container\">\n",
              "      <div>\n",
              "<style scoped>\n",
              "    .dataframe tbody tr th:only-of-type {\n",
              "        vertical-align: middle;\n",
              "    }\n",
              "\n",
              "    .dataframe tbody tr th {\n",
              "        vertical-align: top;\n",
              "    }\n",
              "\n",
              "    .dataframe thead th {\n",
              "        text-align: right;\n",
              "    }\n",
              "</style>\n",
              "<table border=\"1\" class=\"dataframe\">\n",
              "  <thead>\n",
              "    <tr style=\"text-align: right;\">\n",
              "      <th></th>\n",
              "      <th>0</th>\n",
              "      <th>1</th>\n",
              "    </tr>\n",
              "  </thead>\n",
              "  <tbody>\n",
              "    <tr>\n",
              "      <th>0</th>\n",
              "      <td>a</td>\n",
              "      <td>0</td>\n",
              "    </tr>\n",
              "    <tr>\n",
              "      <th>1</th>\n",
              "      <td>b</td>\n",
              "      <td>1</td>\n",
              "    </tr>\n",
              "    <tr>\n",
              "      <th>2</th>\n",
              "      <td>c</td>\n",
              "      <td>2</td>\n",
              "    </tr>\n",
              "    <tr>\n",
              "      <th>3</th>\n",
              "      <td>e</td>\n",
              "      <td>3</td>\n",
              "    </tr>\n",
              "    <tr>\n",
              "      <th>4</th>\n",
              "      <td>d</td>\n",
              "      <td>4</td>\n",
              "    </tr>\n",
              "  </tbody>\n",
              "</table>\n",
              "</div>\n",
              "      <button class=\"colab-df-convert\" onclick=\"convertToInteractive('df-66f8c714-8e0f-4866-8bec-7516356e2efb')\"\n",
              "              title=\"Convert this dataframe to an interactive table.\"\n",
              "              style=\"display:none;\">\n",
              "        \n",
              "  <svg xmlns=\"http://www.w3.org/2000/svg\" height=\"24px\"viewBox=\"0 0 24 24\"\n",
              "       width=\"24px\">\n",
              "    <path d=\"M0 0h24v24H0V0z\" fill=\"none\"/>\n",
              "    <path d=\"M18.56 5.44l.94 2.06.94-2.06 2.06-.94-2.06-.94-.94-2.06-.94 2.06-2.06.94zm-11 1L8.5 8.5l.94-2.06 2.06-.94-2.06-.94L8.5 2.5l-.94 2.06-2.06.94zm10 10l.94 2.06.94-2.06 2.06-.94-2.06-.94-.94-2.06-.94 2.06-2.06.94z\"/><path d=\"M17.41 7.96l-1.37-1.37c-.4-.4-.92-.59-1.43-.59-.52 0-1.04.2-1.43.59L10.3 9.45l-7.72 7.72c-.78.78-.78 2.05 0 2.83L4 21.41c.39.39.9.59 1.41.59.51 0 1.02-.2 1.41-.59l7.78-7.78 2.81-2.81c.8-.78.8-2.07 0-2.86zM5.41 20L4 18.59l7.72-7.72 1.47 1.35L5.41 20z\"/>\n",
              "  </svg>\n",
              "      </button>\n",
              "      \n",
              "  <style>\n",
              "    .colab-df-container {\n",
              "      display:flex;\n",
              "      flex-wrap:wrap;\n",
              "      gap: 12px;\n",
              "    }\n",
              "\n",
              "    .colab-df-convert {\n",
              "      background-color: #E8F0FE;\n",
              "      border: none;\n",
              "      border-radius: 50%;\n",
              "      cursor: pointer;\n",
              "      display: none;\n",
              "      fill: #1967D2;\n",
              "      height: 32px;\n",
              "      padding: 0 0 0 0;\n",
              "      width: 32px;\n",
              "    }\n",
              "\n",
              "    .colab-df-convert:hover {\n",
              "      background-color: #E2EBFA;\n",
              "      box-shadow: 0px 1px 2px rgba(60, 64, 67, 0.3), 0px 1px 3px 1px rgba(60, 64, 67, 0.15);\n",
              "      fill: #174EA6;\n",
              "    }\n",
              "\n",
              "    [theme=dark] .colab-df-convert {\n",
              "      background-color: #3B4455;\n",
              "      fill: #D2E3FC;\n",
              "    }\n",
              "\n",
              "    [theme=dark] .colab-df-convert:hover {\n",
              "      background-color: #434B5C;\n",
              "      box-shadow: 0px 1px 3px 1px rgba(0, 0, 0, 0.15);\n",
              "      filter: drop-shadow(0px 1px 2px rgba(0, 0, 0, 0.3));\n",
              "      fill: #FFFFFF;\n",
              "    }\n",
              "  </style>\n",
              "\n",
              "      <script>\n",
              "        const buttonEl =\n",
              "          document.querySelector('#df-66f8c714-8e0f-4866-8bec-7516356e2efb button.colab-df-convert');\n",
              "        buttonEl.style.display =\n",
              "          google.colab.kernel.accessAllowed ? 'block' : 'none';\n",
              "\n",
              "        async function convertToInteractive(key) {\n",
              "          const element = document.querySelector('#df-66f8c714-8e0f-4866-8bec-7516356e2efb');\n",
              "          const dataTable =\n",
              "            await google.colab.kernel.invokeFunction('convertToInteractive',\n",
              "                                                     [key], {});\n",
              "          if (!dataTable) return;\n",
              "\n",
              "          const docLinkHtml = 'Like what you see? Visit the ' +\n",
              "            '<a target=\"_blank\" href=https://colab.research.google.com/notebooks/data_table.ipynb>data table notebook</a>'\n",
              "            + ' to learn more about interactive tables.';\n",
              "          element.innerHTML = '';\n",
              "          dataTable['output_type'] = 'display_data';\n",
              "          await google.colab.output.renderOutput(dataTable, element);\n",
              "          const docLink = document.createElement('div');\n",
              "          docLink.innerHTML = docLinkHtml;\n",
              "          element.appendChild(docLink);\n",
              "        }\n",
              "      </script>\n",
              "    </div>\n",
              "  </div>\n",
              "  "
            ]
          },
          "metadata": {},
          "execution_count": 92
        }
      ]
    },
    {
      "cell_type": "code",
      "source": [
        "# 3. How to get the items of series A not present in series B?\n",
        "# Get all items of ser1 and ser2 not common to both.\n",
        "# input\n",
        "ser1 = pd.Series([1, 2, 3, 4, 5])\n",
        "ser2 = pd.Series([4, 5, 6, 7, 8])\n",
        "ser1[~ser1.isin(ser2)]"
      ],
      "metadata": {
        "id": "fxxyV5IGE6VQ",
        "colab": {
          "base_uri": "https://localhost:8080/"
        },
        "outputId": "f3c5f511-2f62-40b5-fbc9-5cd06ec5c9e0"
      },
      "execution_count": null,
      "outputs": [
        {
          "output_type": "execute_result",
          "data": {
            "text/plain": [
              "0    1\n",
              "1    2\n",
              "2    3\n",
              "dtype: int64"
            ]
          },
          "metadata": {},
          "execution_count": 93
        }
      ]
    },
    {
      "cell_type": "code",
      "source": [
        "# 4. How to get the items not common to both series A and series B?\n",
        "# Get all items of ser1 and ser2 not common to both.\n",
        "# input\n",
        "ser1 = pd.Series([1, 2, 3, 4, 5])\n",
        "ser2 = pd.Series([4, 5, 6, 7, 8])\n",
        "# using pandas\n",
        "a_not_b = ser1[~ser1.isin(ser2)]\n",
        "b_not_a = ser2[~ser2.isin(ser1)]\n",
        "\n",
        "a_not_b.append(b_not_a, ignore_index = True)\n",
        "\n",
        "# using numpy union and intersection\n",
        "ser_u = pd.Series(np.union1d(ser1, ser2))\n",
        "ser_i = pd.Series(np.intersect1d(ser1, ser2))\n",
        "ser_u[~ser_u.isin(ser_i)]"
      ],
      "metadata": {
        "id": "2YALj_IWE6S7",
        "colab": {
          "base_uri": "https://localhost:8080/"
        },
        "outputId": "8a76caa4-e126-4dc0-8ddd-ef833166f2ad"
      },
      "execution_count": null,
      "outputs": [
        {
          "output_type": "execute_result",
          "data": {
            "text/plain": [
              "0    1\n",
              "1    2\n",
              "2    3\n",
              "3    6\n",
              "4    7\n",
              "5    8\n",
              "dtype: int64"
            ]
          },
          "metadata": {},
          "execution_count": 94
        },
        {
          "output_type": "execute_result",
          "data": {
            "text/plain": [
              "0    1\n",
              "1    2\n",
              "2    3\n",
              "5    6\n",
              "6    7\n",
              "7    8\n",
              "dtype: int64"
            ]
          },
          "metadata": {},
          "execution_count": 94
        }
      ]
    },
    {
      "cell_type": "code",
      "source": [
        "# 5. How to get useful infos\n",
        "# Compute the minimum, 25th percentile, median, 75th, and maximum of ser.\n",
        "# input\n",
        "state = np.random.RandomState(100)\n",
        "ser = pd.Series(state.normal(10, 5, 25))\n",
        "# using pandas\n",
        "ser.describe()"
      ],
      "metadata": {
        "id": "69wDoISYE6QU",
        "colab": {
          "base_uri": "https://localhost:8080/"
        },
        "outputId": "285bec75-f698-4783-d8cb-29b5392977ba"
      },
      "execution_count": null,
      "outputs": [
        {
          "output_type": "execute_result",
          "data": {
            "text/plain": [
              "count    25.000000\n",
              "mean     10.435437\n",
              "std       4.253118\n",
              "min       1.251173\n",
              "25%       7.709865\n",
              "50%      10.922593\n",
              "75%      13.363604\n",
              "max      18.094908\n",
              "dtype: float64"
            ]
          },
          "metadata": {},
          "execution_count": 95
        }
      ]
    },
    {
      "cell_type": "code",
      "source": [
        "# 6. How to get frequency counts of unique items of a series?\n",
        "# Calculate the frequency counts of each unique value ser.\n",
        "# input\n",
        "ser = pd.Series(np.take(list('abcdefgh'), np.random.randint(8, size=30)))\n",
        "ser.value_counts()\n"
      ],
      "metadata": {
        "id": "AJ2op46vE6OB",
        "colab": {
          "base_uri": "https://localhost:8080/"
        },
        "outputId": "ba120d28-9d37-473d-8272-e1117b957339"
      },
      "execution_count": null,
      "outputs": [
        {
          "output_type": "execute_result",
          "data": {
            "text/plain": [
              "c    10\n",
              "a     5\n",
              "b     4\n",
              "e     4\n",
              "f     3\n",
              "g     2\n",
              "h     1\n",
              "d     1\n",
              "dtype: int64"
            ]
          },
          "metadata": {},
          "execution_count": 96
        }
      ]
    },
    {
      "cell_type": "code",
      "source": [
        "# 7. How to convert a numpy array to a dataframe of given shape? (L1)\n",
        "# Reshape the series ser into a dataframe with 7 rows and 5 columns\n",
        "# input\n",
        "ser = pd.Series(np.random.randint(1, 10, 35))\n",
        "ser\n",
        "\n"
      ],
      "metadata": {
        "id": "2WOHGUNME6Lo",
        "colab": {
          "base_uri": "https://localhost:8080/"
        },
        "outputId": "6d97c036-1f1a-4a8b-c009-41e8f1fbb28c"
      },
      "execution_count": null,
      "outputs": [
        {
          "output_type": "execute_result",
          "data": {
            "text/plain": [
              "0     9\n",
              "1     7\n",
              "2     9\n",
              "3     6\n",
              "4     4\n",
              "     ..\n",
              "30    3\n",
              "31    6\n",
              "32    3\n",
              "33    8\n",
              "34    2\n",
              "Length: 35, dtype: int64"
            ]
          },
          "metadata": {},
          "execution_count": 97
        }
      ]
    },
    {
      "cell_type": "code",
      "source": [
        "# using numpy\n",
        "pd.DataFrame(np.array(ser).reshape(7, 5))\n",
        "\n",
        "# using only pandas\n",
        "pd.DataFrame(ser.values.reshape(7, 5))"
      ],
      "metadata": {
        "id": "ueruAVB3E6Jr",
        "colab": {
          "base_uri": "https://localhost:8080/",
          "height": 520
        },
        "outputId": "66177705-28f1-48e2-8d00-2581bfad6cc0"
      },
      "execution_count": null,
      "outputs": [
        {
          "output_type": "execute_result",
          "data": {
            "text/plain": [
              "   0  1  2  3  4\n",
              "0  9  7  9  6  4\n",
              "1  8  6  5  7  4\n",
              "2  7  1  5  2  7\n",
              "3  7  9  1  1  7\n",
              "4  9  4  5  2  6\n",
              "5  8  4  6  3  3\n",
              "6  3  6  3  8  2"
            ],
            "text/html": [
              "\n",
              "  <div id=\"df-da7e208e-994f-4d5c-9e1a-c8d6d77d562e\">\n",
              "    <div class=\"colab-df-container\">\n",
              "      <div>\n",
              "<style scoped>\n",
              "    .dataframe tbody tr th:only-of-type {\n",
              "        vertical-align: middle;\n",
              "    }\n",
              "\n",
              "    .dataframe tbody tr th {\n",
              "        vertical-align: top;\n",
              "    }\n",
              "\n",
              "    .dataframe thead th {\n",
              "        text-align: right;\n",
              "    }\n",
              "</style>\n",
              "<table border=\"1\" class=\"dataframe\">\n",
              "  <thead>\n",
              "    <tr style=\"text-align: right;\">\n",
              "      <th></th>\n",
              "      <th>0</th>\n",
              "      <th>1</th>\n",
              "      <th>2</th>\n",
              "      <th>3</th>\n",
              "      <th>4</th>\n",
              "    </tr>\n",
              "  </thead>\n",
              "  <tbody>\n",
              "    <tr>\n",
              "      <th>0</th>\n",
              "      <td>9</td>\n",
              "      <td>7</td>\n",
              "      <td>9</td>\n",
              "      <td>6</td>\n",
              "      <td>4</td>\n",
              "    </tr>\n",
              "    <tr>\n",
              "      <th>1</th>\n",
              "      <td>8</td>\n",
              "      <td>6</td>\n",
              "      <td>5</td>\n",
              "      <td>7</td>\n",
              "      <td>4</td>\n",
              "    </tr>\n",
              "    <tr>\n",
              "      <th>2</th>\n",
              "      <td>7</td>\n",
              "      <td>1</td>\n",
              "      <td>5</td>\n",
              "      <td>2</td>\n",
              "      <td>7</td>\n",
              "    </tr>\n",
              "    <tr>\n",
              "      <th>3</th>\n",
              "      <td>7</td>\n",
              "      <td>9</td>\n",
              "      <td>1</td>\n",
              "      <td>1</td>\n",
              "      <td>7</td>\n",
              "    </tr>\n",
              "    <tr>\n",
              "      <th>4</th>\n",
              "      <td>9</td>\n",
              "      <td>4</td>\n",
              "      <td>5</td>\n",
              "      <td>2</td>\n",
              "      <td>6</td>\n",
              "    </tr>\n",
              "    <tr>\n",
              "      <th>5</th>\n",
              "      <td>8</td>\n",
              "      <td>4</td>\n",
              "      <td>6</td>\n",
              "      <td>3</td>\n",
              "      <td>3</td>\n",
              "    </tr>\n",
              "    <tr>\n",
              "      <th>6</th>\n",
              "      <td>3</td>\n",
              "      <td>6</td>\n",
              "      <td>3</td>\n",
              "      <td>8</td>\n",
              "      <td>2</td>\n",
              "    </tr>\n",
              "  </tbody>\n",
              "</table>\n",
              "</div>\n",
              "      <button class=\"colab-df-convert\" onclick=\"convertToInteractive('df-da7e208e-994f-4d5c-9e1a-c8d6d77d562e')\"\n",
              "              title=\"Convert this dataframe to an interactive table.\"\n",
              "              style=\"display:none;\">\n",
              "        \n",
              "  <svg xmlns=\"http://www.w3.org/2000/svg\" height=\"24px\"viewBox=\"0 0 24 24\"\n",
              "       width=\"24px\">\n",
              "    <path d=\"M0 0h24v24H0V0z\" fill=\"none\"/>\n",
              "    <path d=\"M18.56 5.44l.94 2.06.94-2.06 2.06-.94-2.06-.94-.94-2.06-.94 2.06-2.06.94zm-11 1L8.5 8.5l.94-2.06 2.06-.94-2.06-.94L8.5 2.5l-.94 2.06-2.06.94zm10 10l.94 2.06.94-2.06 2.06-.94-2.06-.94-.94-2.06-.94 2.06-2.06.94z\"/><path d=\"M17.41 7.96l-1.37-1.37c-.4-.4-.92-.59-1.43-.59-.52 0-1.04.2-1.43.59L10.3 9.45l-7.72 7.72c-.78.78-.78 2.05 0 2.83L4 21.41c.39.39.9.59 1.41.59.51 0 1.02-.2 1.41-.59l7.78-7.78 2.81-2.81c.8-.78.8-2.07 0-2.86zM5.41 20L4 18.59l7.72-7.72 1.47 1.35L5.41 20z\"/>\n",
              "  </svg>\n",
              "      </button>\n",
              "      \n",
              "  <style>\n",
              "    .colab-df-container {\n",
              "      display:flex;\n",
              "      flex-wrap:wrap;\n",
              "      gap: 12px;\n",
              "    }\n",
              "\n",
              "    .colab-df-convert {\n",
              "      background-color: #E8F0FE;\n",
              "      border: none;\n",
              "      border-radius: 50%;\n",
              "      cursor: pointer;\n",
              "      display: none;\n",
              "      fill: #1967D2;\n",
              "      height: 32px;\n",
              "      padding: 0 0 0 0;\n",
              "      width: 32px;\n",
              "    }\n",
              "\n",
              "    .colab-df-convert:hover {\n",
              "      background-color: #E2EBFA;\n",
              "      box-shadow: 0px 1px 2px rgba(60, 64, 67, 0.3), 0px 1px 3px 1px rgba(60, 64, 67, 0.15);\n",
              "      fill: #174EA6;\n",
              "    }\n",
              "\n",
              "    [theme=dark] .colab-df-convert {\n",
              "      background-color: #3B4455;\n",
              "      fill: #D2E3FC;\n",
              "    }\n",
              "\n",
              "    [theme=dark] .colab-df-convert:hover {\n",
              "      background-color: #434B5C;\n",
              "      box-shadow: 0px 1px 3px 1px rgba(0, 0, 0, 0.15);\n",
              "      filter: drop-shadow(0px 1px 2px rgba(0, 0, 0, 0.3));\n",
              "      fill: #FFFFFF;\n",
              "    }\n",
              "  </style>\n",
              "\n",
              "      <script>\n",
              "        const buttonEl =\n",
              "          document.querySelector('#df-da7e208e-994f-4d5c-9e1a-c8d6d77d562e button.colab-df-convert');\n",
              "        buttonEl.style.display =\n",
              "          google.colab.kernel.accessAllowed ? 'block' : 'none';\n",
              "\n",
              "        async function convertToInteractive(key) {\n",
              "          const element = document.querySelector('#df-da7e208e-994f-4d5c-9e1a-c8d6d77d562e');\n",
              "          const dataTable =\n",
              "            await google.colab.kernel.invokeFunction('convertToInteractive',\n",
              "                                                     [key], {});\n",
              "          if (!dataTable) return;\n",
              "\n",
              "          const docLinkHtml = 'Like what you see? Visit the ' +\n",
              "            '<a target=\"_blank\" href=https://colab.research.google.com/notebooks/data_table.ipynb>data table notebook</a>'\n",
              "            + ' to learn more about interactive tables.';\n",
              "          element.innerHTML = '';\n",
              "          dataTable['output_type'] = 'display_data';\n",
              "          await google.colab.output.renderOutput(dataTable, element);\n",
              "          const docLink = document.createElement('div');\n",
              "          docLink.innerHTML = docLinkHtml;\n",
              "          element.appendChild(docLink);\n",
              "        }\n",
              "      </script>\n",
              "    </div>\n",
              "  </div>\n",
              "  "
            ]
          },
          "metadata": {},
          "execution_count": 98
        },
        {
          "output_type": "execute_result",
          "data": {
            "text/plain": [
              "   0  1  2  3  4\n",
              "0  9  7  9  6  4\n",
              "1  8  6  5  7  4\n",
              "2  7  1  5  2  7\n",
              "3  7  9  1  1  7\n",
              "4  9  4  5  2  6\n",
              "5  8  4  6  3  3\n",
              "6  3  6  3  8  2"
            ],
            "text/html": [
              "\n",
              "  <div id=\"df-bfdb6d7f-2a46-4bbf-8ea9-0d564f6ae83b\">\n",
              "    <div class=\"colab-df-container\">\n",
              "      <div>\n",
              "<style scoped>\n",
              "    .dataframe tbody tr th:only-of-type {\n",
              "        vertical-align: middle;\n",
              "    }\n",
              "\n",
              "    .dataframe tbody tr th {\n",
              "        vertical-align: top;\n",
              "    }\n",
              "\n",
              "    .dataframe thead th {\n",
              "        text-align: right;\n",
              "    }\n",
              "</style>\n",
              "<table border=\"1\" class=\"dataframe\">\n",
              "  <thead>\n",
              "    <tr style=\"text-align: right;\">\n",
              "      <th></th>\n",
              "      <th>0</th>\n",
              "      <th>1</th>\n",
              "      <th>2</th>\n",
              "      <th>3</th>\n",
              "      <th>4</th>\n",
              "    </tr>\n",
              "  </thead>\n",
              "  <tbody>\n",
              "    <tr>\n",
              "      <th>0</th>\n",
              "      <td>9</td>\n",
              "      <td>7</td>\n",
              "      <td>9</td>\n",
              "      <td>6</td>\n",
              "      <td>4</td>\n",
              "    </tr>\n",
              "    <tr>\n",
              "      <th>1</th>\n",
              "      <td>8</td>\n",
              "      <td>6</td>\n",
              "      <td>5</td>\n",
              "      <td>7</td>\n",
              "      <td>4</td>\n",
              "    </tr>\n",
              "    <tr>\n",
              "      <th>2</th>\n",
              "      <td>7</td>\n",
              "      <td>1</td>\n",
              "      <td>5</td>\n",
              "      <td>2</td>\n",
              "      <td>7</td>\n",
              "    </tr>\n",
              "    <tr>\n",
              "      <th>3</th>\n",
              "      <td>7</td>\n",
              "      <td>9</td>\n",
              "      <td>1</td>\n",
              "      <td>1</td>\n",
              "      <td>7</td>\n",
              "    </tr>\n",
              "    <tr>\n",
              "      <th>4</th>\n",
              "      <td>9</td>\n",
              "      <td>4</td>\n",
              "      <td>5</td>\n",
              "      <td>2</td>\n",
              "      <td>6</td>\n",
              "    </tr>\n",
              "    <tr>\n",
              "      <th>5</th>\n",
              "      <td>8</td>\n",
              "      <td>4</td>\n",
              "      <td>6</td>\n",
              "      <td>3</td>\n",
              "      <td>3</td>\n",
              "    </tr>\n",
              "    <tr>\n",
              "      <th>6</th>\n",
              "      <td>3</td>\n",
              "      <td>6</td>\n",
              "      <td>3</td>\n",
              "      <td>8</td>\n",
              "      <td>2</td>\n",
              "    </tr>\n",
              "  </tbody>\n",
              "</table>\n",
              "</div>\n",
              "      <button class=\"colab-df-convert\" onclick=\"convertToInteractive('df-bfdb6d7f-2a46-4bbf-8ea9-0d564f6ae83b')\"\n",
              "              title=\"Convert this dataframe to an interactive table.\"\n",
              "              style=\"display:none;\">\n",
              "        \n",
              "  <svg xmlns=\"http://www.w3.org/2000/svg\" height=\"24px\"viewBox=\"0 0 24 24\"\n",
              "       width=\"24px\">\n",
              "    <path d=\"M0 0h24v24H0V0z\" fill=\"none\"/>\n",
              "    <path d=\"M18.56 5.44l.94 2.06.94-2.06 2.06-.94-2.06-.94-.94-2.06-.94 2.06-2.06.94zm-11 1L8.5 8.5l.94-2.06 2.06-.94-2.06-.94L8.5 2.5l-.94 2.06-2.06.94zm10 10l.94 2.06.94-2.06 2.06-.94-2.06-.94-.94-2.06-.94 2.06-2.06.94z\"/><path d=\"M17.41 7.96l-1.37-1.37c-.4-.4-.92-.59-1.43-.59-.52 0-1.04.2-1.43.59L10.3 9.45l-7.72 7.72c-.78.78-.78 2.05 0 2.83L4 21.41c.39.39.9.59 1.41.59.51 0 1.02-.2 1.41-.59l7.78-7.78 2.81-2.81c.8-.78.8-2.07 0-2.86zM5.41 20L4 18.59l7.72-7.72 1.47 1.35L5.41 20z\"/>\n",
              "  </svg>\n",
              "      </button>\n",
              "      \n",
              "  <style>\n",
              "    .colab-df-container {\n",
              "      display:flex;\n",
              "      flex-wrap:wrap;\n",
              "      gap: 12px;\n",
              "    }\n",
              "\n",
              "    .colab-df-convert {\n",
              "      background-color: #E8F0FE;\n",
              "      border: none;\n",
              "      border-radius: 50%;\n",
              "      cursor: pointer;\n",
              "      display: none;\n",
              "      fill: #1967D2;\n",
              "      height: 32px;\n",
              "      padding: 0 0 0 0;\n",
              "      width: 32px;\n",
              "    }\n",
              "\n",
              "    .colab-df-convert:hover {\n",
              "      background-color: #E2EBFA;\n",
              "      box-shadow: 0px 1px 2px rgba(60, 64, 67, 0.3), 0px 1px 3px 1px rgba(60, 64, 67, 0.15);\n",
              "      fill: #174EA6;\n",
              "    }\n",
              "\n",
              "    [theme=dark] .colab-df-convert {\n",
              "      background-color: #3B4455;\n",
              "      fill: #D2E3FC;\n",
              "    }\n",
              "\n",
              "    [theme=dark] .colab-df-convert:hover {\n",
              "      background-color: #434B5C;\n",
              "      box-shadow: 0px 1px 3px 1px rgba(0, 0, 0, 0.15);\n",
              "      filter: drop-shadow(0px 1px 2px rgba(0, 0, 0, 0.3));\n",
              "      fill: #FFFFFF;\n",
              "    }\n",
              "  </style>\n",
              "\n",
              "      <script>\n",
              "        const buttonEl =\n",
              "          document.querySelector('#df-bfdb6d7f-2a46-4bbf-8ea9-0d564f6ae83b button.colab-df-convert');\n",
              "        buttonEl.style.display =\n",
              "          google.colab.kernel.accessAllowed ? 'block' : 'none';\n",
              "\n",
              "        async function convertToInteractive(key) {\n",
              "          const element = document.querySelector('#df-bfdb6d7f-2a46-4bbf-8ea9-0d564f6ae83b');\n",
              "          const dataTable =\n",
              "            await google.colab.kernel.invokeFunction('convertToInteractive',\n",
              "                                                     [key], {});\n",
              "          if (!dataTable) return;\n",
              "\n",
              "          const docLinkHtml = 'Like what you see? Visit the ' +\n",
              "            '<a target=\"_blank\" href=https://colab.research.google.com/notebooks/data_table.ipynb>data table notebook</a>'\n",
              "            + ' to learn more about interactive tables.';\n",
              "          element.innerHTML = '';\n",
              "          dataTable['output_type'] = 'display_data';\n",
              "          await google.colab.output.renderOutput(dataTable, element);\n",
              "          const docLink = document.createElement('div');\n",
              "          docLink.innerHTML = docLinkHtml;\n",
              "          element.appendChild(docLink);\n",
              "        }\n",
              "      </script>\n",
              "    </div>\n",
              "  </div>\n",
              "  "
            ]
          },
          "metadata": {},
          "execution_count": 98
        }
      ]
    },
    {
      "cell_type": "code",
      "source": [
        "# 8. How to find the positions of numbers that are multiples of 3 from a series?\n",
        "# Find the positions of numbers that are multiples of 3 from ser.\n",
        "# input\n",
        "\n",
        "np.random.RandomState(100)\n",
        "ser = pd.Series(np.random.randint(1, 5, 10))\n",
        "ser"
      ],
      "metadata": {
        "id": "2fHzRVRuE6G9",
        "colab": {
          "base_uri": "https://localhost:8080/"
        },
        "outputId": "36713cd7-cbb2-4d48-eaee-817d69a42001"
      },
      "execution_count": null,
      "outputs": [
        {
          "output_type": "execute_result",
          "data": {
            "text/plain": [
              "RandomState(MT19937) at 0x7F71D8B66D40"
            ]
          },
          "metadata": {},
          "execution_count": 99
        },
        {
          "output_type": "execute_result",
          "data": {
            "text/plain": [
              "0    4\n",
              "1    3\n",
              "2    3\n",
              "3    1\n",
              "4    2\n",
              "5    2\n",
              "6    3\n",
              "7    4\n",
              "8    1\n",
              "9    1\n",
              "dtype: int64"
            ]
          },
          "metadata": {},
          "execution_count": 99
        }
      ]
    },
    {
      "cell_type": "code",
      "source": [
        "# using the where clause\n",
        "ser.where(lambda x: x%3 == 0).dropna()\n",
        "\n",
        "# using numpy and reshape to get a pandas series\n",
        "#pd.Series(np.argwhere(ser%3 == 0).reshape(4))\n",
        "# np.argwhere(ser%3 == 0)"
      ],
      "metadata": {
        "id": "dtWtYGEzE6EO",
        "colab": {
          "base_uri": "https://localhost:8080/"
        },
        "outputId": "f24a0556-1727-442c-aa30-f93a8a5c7071"
      },
      "execution_count": null,
      "outputs": [
        {
          "output_type": "execute_result",
          "data": {
            "text/plain": [
              "1    3.0\n",
              "2    3.0\n",
              "6    3.0\n",
              "dtype: float64"
            ]
          },
          "metadata": {},
          "execution_count": 101
        }
      ]
    },
    {
      "cell_type": "code",
      "source": [
        "# 9. How to extract items at given positions from a series\n",
        "# From ser, extract the items at positions in list pos.\n",
        "# input\n",
        "\n",
        "ser = pd.Series(list('abcdefghijklmnopqrstuvwxyz'))\n",
        "pos = [0, 4, 8, 14, 20]\n",
        "# using loc\n",
        "ser.loc[pos]\n",
        "\n",
        "# using series take\n",
        "ser.take(pos)"
      ],
      "metadata": {
        "id": "Pf1LFPZPE6B-",
        "colab": {
          "base_uri": "https://localhost:8080/"
        },
        "outputId": "768b12ea-6916-4697-bee4-52a3df077445"
      },
      "execution_count": null,
      "outputs": [
        {
          "output_type": "execute_result",
          "data": {
            "text/plain": [
              "0     a\n",
              "4     e\n",
              "8     i\n",
              "14    o\n",
              "20    u\n",
              "dtype: object"
            ]
          },
          "metadata": {},
          "execution_count": 102
        },
        {
          "output_type": "execute_result",
          "data": {
            "text/plain": [
              "0     a\n",
              "4     e\n",
              "8     i\n",
              "14    o\n",
              "20    u\n",
              "dtype: object"
            ]
          },
          "metadata": {},
          "execution_count": 102
        }
      ]
    },
    {
      "cell_type": "code",
      "source": [
        "# 10. How to stack two series vertically and horizontally ?\n",
        "# Stack ser1 and ser2 vertically and horizontally (to form a dataframe).\n",
        "# input\n",
        "ser1 = pd.Series(range(5))\n",
        "ser2 = pd.Series(list('abcde'))\n",
        "# vertical\n",
        "ser1.append(ser2)\n",
        "# or using pandas concat and axis = 0\n",
        "pd.concat([ser1, ser2], axis = 0)\n",
        "\n",
        "# horizontal\n",
        "pd.concat([ser1, ser2], axis = 1)"
      ],
      "metadata": {
        "colab": {
          "base_uri": "https://localhost:8080/",
          "height": 570
        },
        "id": "pSEbtMJsWrvs",
        "outputId": "31512055-36d1-4567-a551-d67ec9c3a183"
      },
      "execution_count": null,
      "outputs": [
        {
          "output_type": "execute_result",
          "data": {
            "text/plain": [
              "0    0\n",
              "1    1\n",
              "2    2\n",
              "3    3\n",
              "4    4\n",
              "0    a\n",
              "1    b\n",
              "2    c\n",
              "3    d\n",
              "4    e\n",
              "dtype: object"
            ]
          },
          "metadata": {},
          "execution_count": 103
        },
        {
          "output_type": "execute_result",
          "data": {
            "text/plain": [
              "0    0\n",
              "1    1\n",
              "2    2\n",
              "3    3\n",
              "4    4\n",
              "0    a\n",
              "1    b\n",
              "2    c\n",
              "3    d\n",
              "4    e\n",
              "dtype: object"
            ]
          },
          "metadata": {},
          "execution_count": 103
        },
        {
          "output_type": "execute_result",
          "data": {
            "text/plain": [
              "   0  1\n",
              "0  0  a\n",
              "1  1  b\n",
              "2  2  c\n",
              "3  3  d\n",
              "4  4  e"
            ],
            "text/html": [
              "\n",
              "  <div id=\"df-6b9bd095-9cc3-403c-a4b9-81dcbd5d1f0a\">\n",
              "    <div class=\"colab-df-container\">\n",
              "      <div>\n",
              "<style scoped>\n",
              "    .dataframe tbody tr th:only-of-type {\n",
              "        vertical-align: middle;\n",
              "    }\n",
              "\n",
              "    .dataframe tbody tr th {\n",
              "        vertical-align: top;\n",
              "    }\n",
              "\n",
              "    .dataframe thead th {\n",
              "        text-align: right;\n",
              "    }\n",
              "</style>\n",
              "<table border=\"1\" class=\"dataframe\">\n",
              "  <thead>\n",
              "    <tr style=\"text-align: right;\">\n",
              "      <th></th>\n",
              "      <th>0</th>\n",
              "      <th>1</th>\n",
              "    </tr>\n",
              "  </thead>\n",
              "  <tbody>\n",
              "    <tr>\n",
              "      <th>0</th>\n",
              "      <td>0</td>\n",
              "      <td>a</td>\n",
              "    </tr>\n",
              "    <tr>\n",
              "      <th>1</th>\n",
              "      <td>1</td>\n",
              "      <td>b</td>\n",
              "    </tr>\n",
              "    <tr>\n",
              "      <th>2</th>\n",
              "      <td>2</td>\n",
              "      <td>c</td>\n",
              "    </tr>\n",
              "    <tr>\n",
              "      <th>3</th>\n",
              "      <td>3</td>\n",
              "      <td>d</td>\n",
              "    </tr>\n",
              "    <tr>\n",
              "      <th>4</th>\n",
              "      <td>4</td>\n",
              "      <td>e</td>\n",
              "    </tr>\n",
              "  </tbody>\n",
              "</table>\n",
              "</div>\n",
              "      <button class=\"colab-df-convert\" onclick=\"convertToInteractive('df-6b9bd095-9cc3-403c-a4b9-81dcbd5d1f0a')\"\n",
              "              title=\"Convert this dataframe to an interactive table.\"\n",
              "              style=\"display:none;\">\n",
              "        \n",
              "  <svg xmlns=\"http://www.w3.org/2000/svg\" height=\"24px\"viewBox=\"0 0 24 24\"\n",
              "       width=\"24px\">\n",
              "    <path d=\"M0 0h24v24H0V0z\" fill=\"none\"/>\n",
              "    <path d=\"M18.56 5.44l.94 2.06.94-2.06 2.06-.94-2.06-.94-.94-2.06-.94 2.06-2.06.94zm-11 1L8.5 8.5l.94-2.06 2.06-.94-2.06-.94L8.5 2.5l-.94 2.06-2.06.94zm10 10l.94 2.06.94-2.06 2.06-.94-2.06-.94-.94-2.06-.94 2.06-2.06.94z\"/><path d=\"M17.41 7.96l-1.37-1.37c-.4-.4-.92-.59-1.43-.59-.52 0-1.04.2-1.43.59L10.3 9.45l-7.72 7.72c-.78.78-.78 2.05 0 2.83L4 21.41c.39.39.9.59 1.41.59.51 0 1.02-.2 1.41-.59l7.78-7.78 2.81-2.81c.8-.78.8-2.07 0-2.86zM5.41 20L4 18.59l7.72-7.72 1.47 1.35L5.41 20z\"/>\n",
              "  </svg>\n",
              "      </button>\n",
              "      \n",
              "  <style>\n",
              "    .colab-df-container {\n",
              "      display:flex;\n",
              "      flex-wrap:wrap;\n",
              "      gap: 12px;\n",
              "    }\n",
              "\n",
              "    .colab-df-convert {\n",
              "      background-color: #E8F0FE;\n",
              "      border: none;\n",
              "      border-radius: 50%;\n",
              "      cursor: pointer;\n",
              "      display: none;\n",
              "      fill: #1967D2;\n",
              "      height: 32px;\n",
              "      padding: 0 0 0 0;\n",
              "      width: 32px;\n",
              "    }\n",
              "\n",
              "    .colab-df-convert:hover {\n",
              "      background-color: #E2EBFA;\n",
              "      box-shadow: 0px 1px 2px rgba(60, 64, 67, 0.3), 0px 1px 3px 1px rgba(60, 64, 67, 0.15);\n",
              "      fill: #174EA6;\n",
              "    }\n",
              "\n",
              "    [theme=dark] .colab-df-convert {\n",
              "      background-color: #3B4455;\n",
              "      fill: #D2E3FC;\n",
              "    }\n",
              "\n",
              "    [theme=dark] .colab-df-convert:hover {\n",
              "      background-color: #434B5C;\n",
              "      box-shadow: 0px 1px 3px 1px rgba(0, 0, 0, 0.15);\n",
              "      filter: drop-shadow(0px 1px 2px rgba(0, 0, 0, 0.3));\n",
              "      fill: #FFFFFF;\n",
              "    }\n",
              "  </style>\n",
              "\n",
              "      <script>\n",
              "        const buttonEl =\n",
              "          document.querySelector('#df-6b9bd095-9cc3-403c-a4b9-81dcbd5d1f0a button.colab-df-convert');\n",
              "        buttonEl.style.display =\n",
              "          google.colab.kernel.accessAllowed ? 'block' : 'none';\n",
              "\n",
              "        async function convertToInteractive(key) {\n",
              "          const element = document.querySelector('#df-6b9bd095-9cc3-403c-a4b9-81dcbd5d1f0a');\n",
              "          const dataTable =\n",
              "            await google.colab.kernel.invokeFunction('convertToInteractive',\n",
              "                                                     [key], {});\n",
              "          if (!dataTable) return;\n",
              "\n",
              "          const docLinkHtml = 'Like what you see? Visit the ' +\n",
              "            '<a target=\"_blank\" href=https://colab.research.google.com/notebooks/data_table.ipynb>data table notebook</a>'\n",
              "            + ' to learn more about interactive tables.';\n",
              "          element.innerHTML = '';\n",
              "          dataTable['output_type'] = 'display_data';\n",
              "          await google.colab.output.renderOutput(dataTable, element);\n",
              "          const docLink = document.createElement('div');\n",
              "          docLink.innerHTML = docLinkHtml;\n",
              "          element.appendChild(docLink);\n",
              "        }\n",
              "      </script>\n",
              "    </div>\n",
              "  </div>\n",
              "  "
            ]
          },
          "metadata": {},
          "execution_count": 103
        }
      ]
    },
    {
      "cell_type": "code",
      "source": [
        "# 11. How to get the positions of items of series A in another series B?\n",
        "# Get the positions of items of ser2 in ser1 as a list.\n",
        "# input\n",
        "ser1 = pd.Series([10, 9, 6, 5, 3, 1, 12, 8, 13])\n",
        "ser2 = pd.Series([1, 3, 10, 13])\n",
        "# get's the index, but it's sorts the index\n",
        "list(ser1[ser1.isin(ser2)].index)\n",
        "\n",
        "# using numpy where\n",
        "[np.where(i == ser1)[0].tolist()[0] for i in ser2]\n",
        "\n",
        "# using pandas Index and get location\n",
        "[pd.Index(ser1).get_loc(i) for i in ser2]"
      ],
      "metadata": {
        "colab": {
          "base_uri": "https://localhost:8080/"
        },
        "id": "HJWLI39oWrse",
        "outputId": "379f83bd-876b-4de6-c0cd-e1e2dbd6e4e0"
      },
      "execution_count": null,
      "outputs": [
        {
          "output_type": "execute_result",
          "data": {
            "text/plain": [
              "[0, 4, 5, 8]"
            ]
          },
          "metadata": {},
          "execution_count": 104
        },
        {
          "output_type": "execute_result",
          "data": {
            "text/plain": [
              "[5, 4, 0, 8]"
            ]
          },
          "metadata": {},
          "execution_count": 104
        },
        {
          "output_type": "execute_result",
          "data": {
            "text/plain": [
              "[5, 4, 0, 8]"
            ]
          },
          "metadata": {},
          "execution_count": 104
        }
      ]
    },
    {
      "cell_type": "code",
      "source": [
        "# 12. How to compute difference of differences between consequtive numbers of a series?\n",
        "# Difference of differences between the consequtive numbers of ser.\n",
        "# input\n",
        "ser = pd.Series([1, 3, 6, 10, 15, 21, 27, 35])\n",
        "\n",
        "# Desired Output\n",
        "# [nan, 2.0, 3.0, 4.0, 5.0, 6.0, 6.0, 8.0]\n",
        "# [nan, nan, 1.0, 1.0, 1.0, 1.0, 0.0, 2.0]\n",
        "# using pandas diff()\n",
        "ser.diff(periods = 1).tolist()\n",
        "ser.diff(periods = 1).diff(periods = 1).tolist()"
      ],
      "metadata": {
        "colab": {
          "base_uri": "https://localhost:8080/"
        },
        "id": "9MxyHnTcWrp3",
        "outputId": "530c76ab-a1e8-425a-ddcc-6ed8cf0ef82d"
      },
      "execution_count": null,
      "outputs": [
        {
          "output_type": "execute_result",
          "data": {
            "text/plain": [
              "[nan, 2.0, 3.0, 4.0, 5.0, 6.0, 6.0, 8.0]"
            ]
          },
          "metadata": {},
          "execution_count": 105
        },
        {
          "output_type": "execute_result",
          "data": {
            "text/plain": [
              "[nan, nan, 1.0, 1.0, 1.0, 1.0, 0.0, 2.0]"
            ]
          },
          "metadata": {},
          "execution_count": 105
        }
      ]
    },
    {
      "cell_type": "code",
      "source": [
        "# 13. How to convert a series of date-strings to a timeseries?\n",
        "# input\n",
        "ser = pd.Series(['01 Jan 2010', '02-02-2011', '20120303', '2013/04/04', '2014-05-05', '2015-06-06T12:20'])\n",
        "# using pands to_datetime\n",
        "pd.to_datetime(ser)\n",
        "\n",
        "# using dateutil parse\n",
        "from dateutil.parser import parse\n",
        "ser.map(lambda x: parse(x))"
      ],
      "metadata": {
        "colab": {
          "base_uri": "https://localhost:8080/"
        },
        "id": "Kf0w2nj9WrnZ",
        "outputId": "ddbb36d7-2925-42c5-f59f-9437f8573900"
      },
      "execution_count": null,
      "outputs": [
        {
          "output_type": "execute_result",
          "data": {
            "text/plain": [
              "0   2010-01-01 00:00:00\n",
              "1   2011-02-02 00:00:00\n",
              "2   2012-03-03 00:00:00\n",
              "3   2013-04-04 00:00:00\n",
              "4   2014-05-05 00:00:00\n",
              "5   2015-06-06 12:20:00\n",
              "dtype: datetime64[ns]"
            ]
          },
          "metadata": {},
          "execution_count": 106
        },
        {
          "output_type": "execute_result",
          "data": {
            "text/plain": [
              "0   2010-01-01 00:00:00\n",
              "1   2011-02-02 00:00:00\n",
              "2   2012-03-03 00:00:00\n",
              "3   2013-04-04 00:00:00\n",
              "4   2014-05-05 00:00:00\n",
              "5   2015-06-06 12:20:00\n",
              "dtype: datetime64[ns]"
            ]
          },
          "metadata": {},
          "execution_count": 106
        }
      ]
    },
    {
      "cell_type": "code",
      "source": [
        "# 14. How to filter words that contain atleast 2 vowels from a series?\n",
        "# From ser, extract words that contain atleast 2 vowels.\n",
        "#  input\n",
        "ser = pd.Series(['Apple', 'Orange', 'Plan', 'Python', 'Money'])\n",
        "# using nested loops\n",
        "vowels = list(\"aeiou\")\n",
        "list_ = []\n",
        "for w in ser:\n",
        "    c = 0\n",
        "    for l in list(w.lower()):\n",
        "        if l in vowels:\n",
        "            c += 1\n",
        "    if c >= 2:\n",
        "        print(w)\n",
        "        list_.append(w)\n",
        "\n",
        "ser[ser.isin(list_)]\n",
        "\n",
        "# another solution using counter\n",
        "\n",
        "from collections import Counter\n",
        "mask = ser.map(lambda x: sum([Counter(x.lower()).get(i, 0) for i in list('aeiou')]) >= 2)\n",
        "ser[mask]"
      ],
      "metadata": {
        "colab": {
          "base_uri": "https://localhost:8080/"
        },
        "id": "ClbV4SWIWrk_",
        "outputId": "ef833e7a-0107-4dd0-929b-8cbc82f93004"
      },
      "execution_count": null,
      "outputs": [
        {
          "output_type": "stream",
          "name": "stdout",
          "text": [
            "Apple\n",
            "Orange\n",
            "Money\n"
          ]
        },
        {
          "output_type": "execute_result",
          "data": {
            "text/plain": [
              "0     Apple\n",
              "1    Orange\n",
              "4     Money\n",
              "dtype: object"
            ]
          },
          "metadata": {},
          "execution_count": 107
        },
        {
          "output_type": "execute_result",
          "data": {
            "text/plain": [
              "0     Apple\n",
              "1    Orange\n",
              "4     Money\n",
              "dtype: object"
            ]
          },
          "metadata": {},
          "execution_count": 107
        }
      ]
    },
    {
      "cell_type": "code",
      "source": [
        "# 15. How to replace missing spaces in a string with the least frequent character?\n",
        "# Replace the spaces in my_str with the least frequent character.\n",
        "# input\n",
        "my_str = 'dbc deb abed ggade'\n",
        "# using Counter\n",
        "from collections import Counter\n",
        "my_str_ = my_str\n",
        "Counter_ = Counter(list(my_str_.replace(\" \", \"\")))\n",
        "Counter_\n",
        "minimum = min(Counter_, key = Counter_.get)\n",
        "\n",
        "print(my_str.replace(\" \", minimum))\n",
        "\n",
        "# using pandas\n",
        "ser = pd.Series(list(my_str.replace(\" \", \"\")))\n",
        "ser.value_counts()\n",
        "minimum = list(ser.value_counts().index)[-1]\n",
        "minimum\n",
        "print(my_str.replace(\" \", minimum))"
      ],
      "metadata": {
        "colab": {
          "base_uri": "https://localhost:8080/",
          "height": 157
        },
        "id": "QoqHVntIWrie",
        "outputId": "4e36db91-5f2d-4ece-b3fc-e53e2311201f"
      },
      "execution_count": null,
      "outputs": [
        {
          "output_type": "execute_result",
          "data": {
            "text/plain": [
              "Counter({'d': 4, 'b': 3, 'c': 1, 'e': 3, 'a': 2, 'g': 2})"
            ]
          },
          "metadata": {},
          "execution_count": 108
        },
        {
          "output_type": "stream",
          "name": "stdout",
          "text": [
            "dbccdebcabedcggade\n"
          ]
        },
        {
          "output_type": "execute_result",
          "data": {
            "text/plain": [
              "d    4\n",
              "b    3\n",
              "e    3\n",
              "a    2\n",
              "g    2\n",
              "c    1\n",
              "dtype: int64"
            ]
          },
          "metadata": {},
          "execution_count": 108
        },
        {
          "output_type": "execute_result",
          "data": {
            "text/plain": [
              "'c'"
            ],
            "application/vnd.google.colaboratory.intrinsic+json": {
              "type": "string"
            }
          },
          "metadata": {},
          "execution_count": 108
        },
        {
          "output_type": "stream",
          "name": "stdout",
          "text": [
            "dbccdebcabedcggade\n"
          ]
        }
      ]
    },
    {
      "cell_type": "code",
      "source": [
        "# 16. How to change column values when importing csv to a dataframe?\n",
        "# Import the boston housing dataset, but while importing change the 'medv' (median house value) column so that values < 25 becomes ‘Low’ and > 25 becomes ‘High’.\n",
        "# input\n",
        "import os\n",
        "for dirname, _, filenames in os.walk('/kaggle/input'):\n",
        "    for filename in filenames:\n",
        "        print(os.path.join(dirname, filename))\n"
      ],
      "metadata": {
        "id": "A2ZjZi4qWrf9"
      },
      "execution_count": null,
      "outputs": []
    },
    {
      "cell_type": "code",
      "source": [
        "# first let's import using the previuos code and save as a normal csv\n",
        "\n",
        "names = ['CRIM', 'ZN', 'INDUS', 'CHAS', 'NOX', 'RM', 'AGE', 'DIS', 'RAD', 'TAX', 'PTRATIO', 'B', 'LSTAT', 'MEDV']\n",
        "with open(\"/kaggle/input/boston-house-prices/housing.csv\") as f:\n",
        "    data = f.read()\n",
        "    nth_rows = []\n",
        "    for i, rows in enumerate(data.split(\"\\n\")):\n",
        "        nth_rows.append(rows)\n",
        "\n",
        "data_ = [nth_rows[i].split() for i in range(len(nth_rows))]\n",
        "\n",
        "df = pd.DataFrame(data_, columns=names)\n",
        "df.head()\n",
        "df.to_csv(\"housing_preprocessed.csv\")\n",
        "del df\n"
      ],
      "metadata": {
        "id": "SL5rTXM_WrQq"
      },
      "execution_count": null,
      "outputs": []
    },
    {
      "cell_type": "code",
      "source": [
        "# now let's start importing as normal and use converters to convert the values\n",
        "# skipfooter because we had the last rows with nan values and index_col to specify that the first column is the index\n",
        "df = pd.read_csv(\"housing_preprocessed.csv\",  index_col = 0, skipfooter=1,  converters = {\"MEDV\": lambda x: \"HIGH\" if float(x) >= 25 else \"LOW\"})\n",
        "df"
      ],
      "metadata": {
        "id": "rChc-7MKYXKB"
      },
      "execution_count": null,
      "outputs": []
    },
    {
      "cell_type": "code",
      "source": [
        "# 17. How to import only specified columns from a csv file?\n",
        "# input\n",
        "\n",
        "# code that generates the housing_preprocessed.csv file\n",
        "names = ['CRIM', 'ZN', 'INDUS', 'CHAS', 'NOX', 'RM', 'AGE', 'DIS', 'RAD', 'TAX', 'PTRATIO', 'B', 'LSTAT', 'MEDV']\n",
        "with open(\"/kaggle/input/boston-house-prices/housing.csv\") as f:\n",
        "    data = f.read()\n",
        "    nth_rows = []\n",
        "    for i, rows in enumerate(data.split(\"\\n\")):\n",
        "        nth_rows.append(rows)\n",
        "\n",
        "data_ = [nth_rows[i].split() for i in range(len(nth_rows))]\n",
        "\n",
        "df = pd.DataFrame(data_, columns=names)\n",
        "df.to_csv(\"housing_preprocessed.csv\")\n",
        "del df\n",
        "\n",
        "# use the /kaggle/input/boston-house-prices/housing_preprocessed.csv file\n",
        "import os\n",
        "for dirname, _, filenames in os.walk('/kaggle/input'):\n",
        "    for filename in filenames:\n",
        "        print(os.path.join(dirname, filename))\n"
      ],
      "metadata": {
        "id": "Qd_eIVYHYWtz"
      },
      "execution_count": null,
      "outputs": []
    },
    {
      "cell_type": "code",
      "source": [
        "file = \"housing_preprocessed.csv\"\n",
        "# using index\n",
        "df = pd.read_csv(file, usecols = [1, 2, 4], skipfooter=1)\n",
        "df.head()\n",
        "# using column names\n",
        "df = pd.read_csv(file, usecols = [\"CRIM\", \"ZN\", \"CHAS\"])\n",
        "df.head()"
      ],
      "metadata": {
        "id": "WY5IfFyIYWqb"
      },
      "execution_count": null,
      "outputs": []
    },
    {
      "cell_type": "code",
      "source": [
        "# 18. How to check if a dataframe has any missing values?\n",
        "# input\n",
        "df = pd.read_csv(\"../input/cars93/Cars93.csv\")\n",
        "df"
      ],
      "metadata": {
        "id": "25W8mSxPYWoG"
      },
      "execution_count": null,
      "outputs": []
    },
    {
      "cell_type": "code",
      "source": [
        "# Solution 1\n",
        "print(\"Our df has a total of {} null values\".format(df.isnull().sum().sum()))\n",
        "print()\n",
        "\n",
        "# Solution 2\n",
        "df.isnull().values.any()\n",
        "print()\n",
        "\n",
        "# Solution 3\n",
        "# A more detailed one\n",
        "def report_nulls(df):\n",
        "    '''\n",
        "    Show a fast report of the DF.\n",
        "    '''\n",
        "    rows = df.shape[0]\n",
        "    columns = df.shape[1]\n",
        "    null_cols = 0\n",
        "    list_of_nulls_cols = []\n",
        "    for col in list(df.columns):\n",
        "        null_values_rows = df[col].isnull().sum()\n",
        "        null_rows_pcn = round(((null_values_rows)/rows)*100, 2)\n",
        "        col_type = df[col].dtype\n",
        "        if null_values_rows > 0:\n",
        "            print(\"The column {} has {} null values. It is {}% of total rows.\".format(col, null_values_rows, null_rows_pcn))\n",
        "            print(\"The column {} is of type {}.\\n\".format(col, col_type))\n",
        "            null_cols += 1\n",
        "            list_of_nulls_cols.append(col)\n",
        "    null_cols_pcn = round((null_cols/columns)*100, 2)\n",
        "    print(\"The DataFrame has {} columns with null values. It is {}% of total columns.\".format(null_cols, null_cols_pcn))\n",
        "    return list_of_nulls_cols\n",
        "\n",
        "report_nulls(df)"
      ],
      "metadata": {
        "id": "DHiG_QnHYWlw",
        "colab": {
          "base_uri": "https://localhost:8080/"
        },
        "outputId": "94bbcaa0-3753-4e53-fa50-6770abe71a6e"
      },
      "execution_count": null,
      "outputs": [
        {
          "output_type": "stream",
          "name": "stdout",
          "text": [
            "Our df has a total of 0 null values\n",
            "\n"
          ]
        },
        {
          "output_type": "execute_result",
          "data": {
            "text/plain": [
              "False"
            ]
          },
          "metadata": {},
          "execution_count": 115
        },
        {
          "output_type": "stream",
          "name": "stdout",
          "text": [
            "\n",
            "The DataFrame has 0 columns with null values. It is 0.0% of total columns.\n"
          ]
        },
        {
          "output_type": "execute_result",
          "data": {
            "text/plain": [
              "[]"
            ]
          },
          "metadata": {},
          "execution_count": 115
        }
      ]
    },
    {
      "cell_type": "code",
      "source": [
        "# 19. How to replace missing values of multiple numeric columns with the mean?\n",
        "# Replace missing values in Luggage.room columns with their respective mean.\n",
        "# input\n",
        "df = pd.read_csv(\"../input/cars93/Cars93.csv\")\n",
        "# Solution 1\n",
        "beg_null = df.isnull().sum().sum()\n",
        "print(beg_null)\n",
        "# notice that we have filtering the columns  as a list.\n",
        "df[[\"Luggage.room\"]] = df[[\"Luggage.room\"]].apply(lambda x: x.fillna(x.mean()))\n",
        "end_null = df.isnull().sum().sum()\n",
        "print(end_null)\n",
        "\n",
        "print(\"We have got rid of {} null values, filling them with the mean.\".format(beg_null - end_null))"
      ],
      "metadata": {
        "id": "0zbA7fjWY8Ni"
      },
      "execution_count": null,
      "outputs": []
    },
    {
      "cell_type": "code",
      "source": [
        "# 20. How to change the order of columns of a dataframe?\n",
        "\n",
        "# Actually 3 questions.\n",
        "\n",
        "# In df, interchange columns 'a' and 'c'.\n",
        "\n",
        "# Create a generic function to interchange two columns, without hardcoding column names.\n",
        "\n",
        "# Sort the columns in reverse alphabetical order, that is colume 'e' first through column 'a' last.\n",
        "\n",
        "# input\n",
        "df = pd.DataFrame(np.arange(20).reshape(-1, 5), columns=list('abcde'))\n",
        "# Solution to question 1\n",
        "# we pass a list with the custom names BUT THIS DOESN'T change in place\n",
        "df = pd.DataFrame(np.arange(20).reshape(-1, 5), columns=list('abcde'))\n",
        "df[[\"c\", \"b\", \"a\", \"d\", \"e\"]]\n",
        "df\n",
        "\n",
        "# if we reasing that this will work\n",
        "df = df[[\"c\", \"b\", \"a\", \"d\", \"e\"]]\n",
        "df\n",
        "\n",
        "# Solution to question 2\n",
        "def change_cols(df, col1, col2):\n",
        "    df_columns = df.columns.to_list()\n",
        "    index1 = df_columns.index(col1)\n",
        "    index2 = df_columns.index(col2)\n",
        "    # swaping values\n",
        "    df_columns[index1], df_columns[index2] = col1, col2\n",
        "\n",
        "    return df[df_columns]\n",
        "\n",
        "\n",
        "df = change_cols(df, \"b\", \"e\")\n",
        "df\n",
        "\n",
        "\n",
        "# Solution to question 3\n",
        "df = pd.DataFrame(np.arange(20).reshape(-1, 5), columns=list('abcde'))\n",
        "col_list = list(df.columns)\n",
        "col_list_reversed = col_list[::-1]\n",
        "col_list\n",
        "col_list_reversed\n",
        "# using the trick from solution 1\n",
        "df = df[col_list_reversed]\n",
        "df\n",
        "\n",
        "\n",
        "print(\"Solution from the website\")\n",
        "print(\"-------------------------\")\n",
        "# Others solution from the website\n",
        "\n",
        "# Input\n",
        "df = pd.DataFrame(np.arange(20).reshape(-1, 5), columns=list('abcde'))\n",
        "\n",
        "# Solution Q1\n",
        "df[list('cbade')]\n",
        "\n",
        "# Solution Q2 - No hard coding\n",
        "def switch_columns(df, col1=None, col2=None):\n",
        "    colnames = df.columns.tolist()\n",
        "    i1, i2 = colnames.index(col1), colnames.index(col2)\n",
        "    colnames[i2], colnames[i1] = colnames[i1], colnames[i2]\n",
        "    return df[colnames]\n",
        "\n",
        "df1 = switch_columns(df, 'a', 'c')\n",
        "\n",
        "# Solution Q3\n",
        "df[sorted(df.columns)]\n",
        "# or\n",
        "df.sort_index(axis=1, ascending=False, inplace=True)"
      ],
      "metadata": {
        "id": "0Oh4R3NaY8KN",
        "colab": {
          "base_uri": "https://localhost:8080/",
          "height": 1000
        },
        "outputId": "8ddaee96-bbfc-4e5d-bb18-83f9eac4227d"
      },
      "execution_count": null,
      "outputs": [
        {
          "output_type": "execute_result",
          "data": {
            "text/plain": [
              "    c   b   a   d   e\n",
              "0   2   1   0   3   4\n",
              "1   7   6   5   8   9\n",
              "2  12  11  10  13  14\n",
              "3  17  16  15  18  19"
            ],
            "text/html": [
              "\n",
              "  <div id=\"df-d41c6b97-d547-416b-b290-cfbd6054ac77\">\n",
              "    <div class=\"colab-df-container\">\n",
              "      <div>\n",
              "<style scoped>\n",
              "    .dataframe tbody tr th:only-of-type {\n",
              "        vertical-align: middle;\n",
              "    }\n",
              "\n",
              "    .dataframe tbody tr th {\n",
              "        vertical-align: top;\n",
              "    }\n",
              "\n",
              "    .dataframe thead th {\n",
              "        text-align: right;\n",
              "    }\n",
              "</style>\n",
              "<table border=\"1\" class=\"dataframe\">\n",
              "  <thead>\n",
              "    <tr style=\"text-align: right;\">\n",
              "      <th></th>\n",
              "      <th>c</th>\n",
              "      <th>b</th>\n",
              "      <th>a</th>\n",
              "      <th>d</th>\n",
              "      <th>e</th>\n",
              "    </tr>\n",
              "  </thead>\n",
              "  <tbody>\n",
              "    <tr>\n",
              "      <th>0</th>\n",
              "      <td>2</td>\n",
              "      <td>1</td>\n",
              "      <td>0</td>\n",
              "      <td>3</td>\n",
              "      <td>4</td>\n",
              "    </tr>\n",
              "    <tr>\n",
              "      <th>1</th>\n",
              "      <td>7</td>\n",
              "      <td>6</td>\n",
              "      <td>5</td>\n",
              "      <td>8</td>\n",
              "      <td>9</td>\n",
              "    </tr>\n",
              "    <tr>\n",
              "      <th>2</th>\n",
              "      <td>12</td>\n",
              "      <td>11</td>\n",
              "      <td>10</td>\n",
              "      <td>13</td>\n",
              "      <td>14</td>\n",
              "    </tr>\n",
              "    <tr>\n",
              "      <th>3</th>\n",
              "      <td>17</td>\n",
              "      <td>16</td>\n",
              "      <td>15</td>\n",
              "      <td>18</td>\n",
              "      <td>19</td>\n",
              "    </tr>\n",
              "  </tbody>\n",
              "</table>\n",
              "</div>\n",
              "      <button class=\"colab-df-convert\" onclick=\"convertToInteractive('df-d41c6b97-d547-416b-b290-cfbd6054ac77')\"\n",
              "              title=\"Convert this dataframe to an interactive table.\"\n",
              "              style=\"display:none;\">\n",
              "        \n",
              "  <svg xmlns=\"http://www.w3.org/2000/svg\" height=\"24px\"viewBox=\"0 0 24 24\"\n",
              "       width=\"24px\">\n",
              "    <path d=\"M0 0h24v24H0V0z\" fill=\"none\"/>\n",
              "    <path d=\"M18.56 5.44l.94 2.06.94-2.06 2.06-.94-2.06-.94-.94-2.06-.94 2.06-2.06.94zm-11 1L8.5 8.5l.94-2.06 2.06-.94-2.06-.94L8.5 2.5l-.94 2.06-2.06.94zm10 10l.94 2.06.94-2.06 2.06-.94-2.06-.94-.94-2.06-.94 2.06-2.06.94z\"/><path d=\"M17.41 7.96l-1.37-1.37c-.4-.4-.92-.59-1.43-.59-.52 0-1.04.2-1.43.59L10.3 9.45l-7.72 7.72c-.78.78-.78 2.05 0 2.83L4 21.41c.39.39.9.59 1.41.59.51 0 1.02-.2 1.41-.59l7.78-7.78 2.81-2.81c.8-.78.8-2.07 0-2.86zM5.41 20L4 18.59l7.72-7.72 1.47 1.35L5.41 20z\"/>\n",
              "  </svg>\n",
              "      </button>\n",
              "      \n",
              "  <style>\n",
              "    .colab-df-container {\n",
              "      display:flex;\n",
              "      flex-wrap:wrap;\n",
              "      gap: 12px;\n",
              "    }\n",
              "\n",
              "    .colab-df-convert {\n",
              "      background-color: #E8F0FE;\n",
              "      border: none;\n",
              "      border-radius: 50%;\n",
              "      cursor: pointer;\n",
              "      display: none;\n",
              "      fill: #1967D2;\n",
              "      height: 32px;\n",
              "      padding: 0 0 0 0;\n",
              "      width: 32px;\n",
              "    }\n",
              "\n",
              "    .colab-df-convert:hover {\n",
              "      background-color: #E2EBFA;\n",
              "      box-shadow: 0px 1px 2px rgba(60, 64, 67, 0.3), 0px 1px 3px 1px rgba(60, 64, 67, 0.15);\n",
              "      fill: #174EA6;\n",
              "    }\n",
              "\n",
              "    [theme=dark] .colab-df-convert {\n",
              "      background-color: #3B4455;\n",
              "      fill: #D2E3FC;\n",
              "    }\n",
              "\n",
              "    [theme=dark] .colab-df-convert:hover {\n",
              "      background-color: #434B5C;\n",
              "      box-shadow: 0px 1px 3px 1px rgba(0, 0, 0, 0.15);\n",
              "      filter: drop-shadow(0px 1px 2px rgba(0, 0, 0, 0.3));\n",
              "      fill: #FFFFFF;\n",
              "    }\n",
              "  </style>\n",
              "\n",
              "      <script>\n",
              "        const buttonEl =\n",
              "          document.querySelector('#df-d41c6b97-d547-416b-b290-cfbd6054ac77 button.colab-df-convert');\n",
              "        buttonEl.style.display =\n",
              "          google.colab.kernel.accessAllowed ? 'block' : 'none';\n",
              "\n",
              "        async function convertToInteractive(key) {\n",
              "          const element = document.querySelector('#df-d41c6b97-d547-416b-b290-cfbd6054ac77');\n",
              "          const dataTable =\n",
              "            await google.colab.kernel.invokeFunction('convertToInteractive',\n",
              "                                                     [key], {});\n",
              "          if (!dataTable) return;\n",
              "\n",
              "          const docLinkHtml = 'Like what you see? Visit the ' +\n",
              "            '<a target=\"_blank\" href=https://colab.research.google.com/notebooks/data_table.ipynb>data table notebook</a>'\n",
              "            + ' to learn more about interactive tables.';\n",
              "          element.innerHTML = '';\n",
              "          dataTable['output_type'] = 'display_data';\n",
              "          await google.colab.output.renderOutput(dataTable, element);\n",
              "          const docLink = document.createElement('div');\n",
              "          docLink.innerHTML = docLinkHtml;\n",
              "          element.appendChild(docLink);\n",
              "        }\n",
              "      </script>\n",
              "    </div>\n",
              "  </div>\n",
              "  "
            ]
          },
          "metadata": {},
          "execution_count": 117
        },
        {
          "output_type": "execute_result",
          "data": {
            "text/plain": [
              "    a   b   c   d   e\n",
              "0   0   1   2   3   4\n",
              "1   5   6   7   8   9\n",
              "2  10  11  12  13  14\n",
              "3  15  16  17  18  19"
            ],
            "text/html": [
              "\n",
              "  <div id=\"df-f3bc10d9-b288-486e-82bd-db4ee1029d1b\">\n",
              "    <div class=\"colab-df-container\">\n",
              "      <div>\n",
              "<style scoped>\n",
              "    .dataframe tbody tr th:only-of-type {\n",
              "        vertical-align: middle;\n",
              "    }\n",
              "\n",
              "    .dataframe tbody tr th {\n",
              "        vertical-align: top;\n",
              "    }\n",
              "\n",
              "    .dataframe thead th {\n",
              "        text-align: right;\n",
              "    }\n",
              "</style>\n",
              "<table border=\"1\" class=\"dataframe\">\n",
              "  <thead>\n",
              "    <tr style=\"text-align: right;\">\n",
              "      <th></th>\n",
              "      <th>a</th>\n",
              "      <th>b</th>\n",
              "      <th>c</th>\n",
              "      <th>d</th>\n",
              "      <th>e</th>\n",
              "    </tr>\n",
              "  </thead>\n",
              "  <tbody>\n",
              "    <tr>\n",
              "      <th>0</th>\n",
              "      <td>0</td>\n",
              "      <td>1</td>\n",
              "      <td>2</td>\n",
              "      <td>3</td>\n",
              "      <td>4</td>\n",
              "    </tr>\n",
              "    <tr>\n",
              "      <th>1</th>\n",
              "      <td>5</td>\n",
              "      <td>6</td>\n",
              "      <td>7</td>\n",
              "      <td>8</td>\n",
              "      <td>9</td>\n",
              "    </tr>\n",
              "    <tr>\n",
              "      <th>2</th>\n",
              "      <td>10</td>\n",
              "      <td>11</td>\n",
              "      <td>12</td>\n",
              "      <td>13</td>\n",
              "      <td>14</td>\n",
              "    </tr>\n",
              "    <tr>\n",
              "      <th>3</th>\n",
              "      <td>15</td>\n",
              "      <td>16</td>\n",
              "      <td>17</td>\n",
              "      <td>18</td>\n",
              "      <td>19</td>\n",
              "    </tr>\n",
              "  </tbody>\n",
              "</table>\n",
              "</div>\n",
              "      <button class=\"colab-df-convert\" onclick=\"convertToInteractive('df-f3bc10d9-b288-486e-82bd-db4ee1029d1b')\"\n",
              "              title=\"Convert this dataframe to an interactive table.\"\n",
              "              style=\"display:none;\">\n",
              "        \n",
              "  <svg xmlns=\"http://www.w3.org/2000/svg\" height=\"24px\"viewBox=\"0 0 24 24\"\n",
              "       width=\"24px\">\n",
              "    <path d=\"M0 0h24v24H0V0z\" fill=\"none\"/>\n",
              "    <path d=\"M18.56 5.44l.94 2.06.94-2.06 2.06-.94-2.06-.94-.94-2.06-.94 2.06-2.06.94zm-11 1L8.5 8.5l.94-2.06 2.06-.94-2.06-.94L8.5 2.5l-.94 2.06-2.06.94zm10 10l.94 2.06.94-2.06 2.06-.94-2.06-.94-.94-2.06-.94 2.06-2.06.94z\"/><path d=\"M17.41 7.96l-1.37-1.37c-.4-.4-.92-.59-1.43-.59-.52 0-1.04.2-1.43.59L10.3 9.45l-7.72 7.72c-.78.78-.78 2.05 0 2.83L4 21.41c.39.39.9.59 1.41.59.51 0 1.02-.2 1.41-.59l7.78-7.78 2.81-2.81c.8-.78.8-2.07 0-2.86zM5.41 20L4 18.59l7.72-7.72 1.47 1.35L5.41 20z\"/>\n",
              "  </svg>\n",
              "      </button>\n",
              "      \n",
              "  <style>\n",
              "    .colab-df-container {\n",
              "      display:flex;\n",
              "      flex-wrap:wrap;\n",
              "      gap: 12px;\n",
              "    }\n",
              "\n",
              "    .colab-df-convert {\n",
              "      background-color: #E8F0FE;\n",
              "      border: none;\n",
              "      border-radius: 50%;\n",
              "      cursor: pointer;\n",
              "      display: none;\n",
              "      fill: #1967D2;\n",
              "      height: 32px;\n",
              "      padding: 0 0 0 0;\n",
              "      width: 32px;\n",
              "    }\n",
              "\n",
              "    .colab-df-convert:hover {\n",
              "      background-color: #E2EBFA;\n",
              "      box-shadow: 0px 1px 2px rgba(60, 64, 67, 0.3), 0px 1px 3px 1px rgba(60, 64, 67, 0.15);\n",
              "      fill: #174EA6;\n",
              "    }\n",
              "\n",
              "    [theme=dark] .colab-df-convert {\n",
              "      background-color: #3B4455;\n",
              "      fill: #D2E3FC;\n",
              "    }\n",
              "\n",
              "    [theme=dark] .colab-df-convert:hover {\n",
              "      background-color: #434B5C;\n",
              "      box-shadow: 0px 1px 3px 1px rgba(0, 0, 0, 0.15);\n",
              "      filter: drop-shadow(0px 1px 2px rgba(0, 0, 0, 0.3));\n",
              "      fill: #FFFFFF;\n",
              "    }\n",
              "  </style>\n",
              "\n",
              "      <script>\n",
              "        const buttonEl =\n",
              "          document.querySelector('#df-f3bc10d9-b288-486e-82bd-db4ee1029d1b button.colab-df-convert');\n",
              "        buttonEl.style.display =\n",
              "          google.colab.kernel.accessAllowed ? 'block' : 'none';\n",
              "\n",
              "        async function convertToInteractive(key) {\n",
              "          const element = document.querySelector('#df-f3bc10d9-b288-486e-82bd-db4ee1029d1b');\n",
              "          const dataTable =\n",
              "            await google.colab.kernel.invokeFunction('convertToInteractive',\n",
              "                                                     [key], {});\n",
              "          if (!dataTable) return;\n",
              "\n",
              "          const docLinkHtml = 'Like what you see? Visit the ' +\n",
              "            '<a target=\"_blank\" href=https://colab.research.google.com/notebooks/data_table.ipynb>data table notebook</a>'\n",
              "            + ' to learn more about interactive tables.';\n",
              "          element.innerHTML = '';\n",
              "          dataTable['output_type'] = 'display_data';\n",
              "          await google.colab.output.renderOutput(dataTable, element);\n",
              "          const docLink = document.createElement('div');\n",
              "          docLink.innerHTML = docLinkHtml;\n",
              "          element.appendChild(docLink);\n",
              "        }\n",
              "      </script>\n",
              "    </div>\n",
              "  </div>\n",
              "  "
            ]
          },
          "metadata": {},
          "execution_count": 117
        },
        {
          "output_type": "execute_result",
          "data": {
            "text/plain": [
              "    c   b   a   d   e\n",
              "0   2   1   0   3   4\n",
              "1   7   6   5   8   9\n",
              "2  12  11  10  13  14\n",
              "3  17  16  15  18  19"
            ],
            "text/html": [
              "\n",
              "  <div id=\"df-2d0f86ba-6ebf-4adc-9f93-a0c73660c8dd\">\n",
              "    <div class=\"colab-df-container\">\n",
              "      <div>\n",
              "<style scoped>\n",
              "    .dataframe tbody tr th:only-of-type {\n",
              "        vertical-align: middle;\n",
              "    }\n",
              "\n",
              "    .dataframe tbody tr th {\n",
              "        vertical-align: top;\n",
              "    }\n",
              "\n",
              "    .dataframe thead th {\n",
              "        text-align: right;\n",
              "    }\n",
              "</style>\n",
              "<table border=\"1\" class=\"dataframe\">\n",
              "  <thead>\n",
              "    <tr style=\"text-align: right;\">\n",
              "      <th></th>\n",
              "      <th>c</th>\n",
              "      <th>b</th>\n",
              "      <th>a</th>\n",
              "      <th>d</th>\n",
              "      <th>e</th>\n",
              "    </tr>\n",
              "  </thead>\n",
              "  <tbody>\n",
              "    <tr>\n",
              "      <th>0</th>\n",
              "      <td>2</td>\n",
              "      <td>1</td>\n",
              "      <td>0</td>\n",
              "      <td>3</td>\n",
              "      <td>4</td>\n",
              "    </tr>\n",
              "    <tr>\n",
              "      <th>1</th>\n",
              "      <td>7</td>\n",
              "      <td>6</td>\n",
              "      <td>5</td>\n",
              "      <td>8</td>\n",
              "      <td>9</td>\n",
              "    </tr>\n",
              "    <tr>\n",
              "      <th>2</th>\n",
              "      <td>12</td>\n",
              "      <td>11</td>\n",
              "      <td>10</td>\n",
              "      <td>13</td>\n",
              "      <td>14</td>\n",
              "    </tr>\n",
              "    <tr>\n",
              "      <th>3</th>\n",
              "      <td>17</td>\n",
              "      <td>16</td>\n",
              "      <td>15</td>\n",
              "      <td>18</td>\n",
              "      <td>19</td>\n",
              "    </tr>\n",
              "  </tbody>\n",
              "</table>\n",
              "</div>\n",
              "      <button class=\"colab-df-convert\" onclick=\"convertToInteractive('df-2d0f86ba-6ebf-4adc-9f93-a0c73660c8dd')\"\n",
              "              title=\"Convert this dataframe to an interactive table.\"\n",
              "              style=\"display:none;\">\n",
              "        \n",
              "  <svg xmlns=\"http://www.w3.org/2000/svg\" height=\"24px\"viewBox=\"0 0 24 24\"\n",
              "       width=\"24px\">\n",
              "    <path d=\"M0 0h24v24H0V0z\" fill=\"none\"/>\n",
              "    <path d=\"M18.56 5.44l.94 2.06.94-2.06 2.06-.94-2.06-.94-.94-2.06-.94 2.06-2.06.94zm-11 1L8.5 8.5l.94-2.06 2.06-.94-2.06-.94L8.5 2.5l-.94 2.06-2.06.94zm10 10l.94 2.06.94-2.06 2.06-.94-2.06-.94-.94-2.06-.94 2.06-2.06.94z\"/><path d=\"M17.41 7.96l-1.37-1.37c-.4-.4-.92-.59-1.43-.59-.52 0-1.04.2-1.43.59L10.3 9.45l-7.72 7.72c-.78.78-.78 2.05 0 2.83L4 21.41c.39.39.9.59 1.41.59.51 0 1.02-.2 1.41-.59l7.78-7.78 2.81-2.81c.8-.78.8-2.07 0-2.86zM5.41 20L4 18.59l7.72-7.72 1.47 1.35L5.41 20z\"/>\n",
              "  </svg>\n",
              "      </button>\n",
              "      \n",
              "  <style>\n",
              "    .colab-df-container {\n",
              "      display:flex;\n",
              "      flex-wrap:wrap;\n",
              "      gap: 12px;\n",
              "    }\n",
              "\n",
              "    .colab-df-convert {\n",
              "      background-color: #E8F0FE;\n",
              "      border: none;\n",
              "      border-radius: 50%;\n",
              "      cursor: pointer;\n",
              "      display: none;\n",
              "      fill: #1967D2;\n",
              "      height: 32px;\n",
              "      padding: 0 0 0 0;\n",
              "      width: 32px;\n",
              "    }\n",
              "\n",
              "    .colab-df-convert:hover {\n",
              "      background-color: #E2EBFA;\n",
              "      box-shadow: 0px 1px 2px rgba(60, 64, 67, 0.3), 0px 1px 3px 1px rgba(60, 64, 67, 0.15);\n",
              "      fill: #174EA6;\n",
              "    }\n",
              "\n",
              "    [theme=dark] .colab-df-convert {\n",
              "      background-color: #3B4455;\n",
              "      fill: #D2E3FC;\n",
              "    }\n",
              "\n",
              "    [theme=dark] .colab-df-convert:hover {\n",
              "      background-color: #434B5C;\n",
              "      box-shadow: 0px 1px 3px 1px rgba(0, 0, 0, 0.15);\n",
              "      filter: drop-shadow(0px 1px 2px rgba(0, 0, 0, 0.3));\n",
              "      fill: #FFFFFF;\n",
              "    }\n",
              "  </style>\n",
              "\n",
              "      <script>\n",
              "        const buttonEl =\n",
              "          document.querySelector('#df-2d0f86ba-6ebf-4adc-9f93-a0c73660c8dd button.colab-df-convert');\n",
              "        buttonEl.style.display =\n",
              "          google.colab.kernel.accessAllowed ? 'block' : 'none';\n",
              "\n",
              "        async function convertToInteractive(key) {\n",
              "          const element = document.querySelector('#df-2d0f86ba-6ebf-4adc-9f93-a0c73660c8dd');\n",
              "          const dataTable =\n",
              "            await google.colab.kernel.invokeFunction('convertToInteractive',\n",
              "                                                     [key], {});\n",
              "          if (!dataTable) return;\n",
              "\n",
              "          const docLinkHtml = 'Like what you see? Visit the ' +\n",
              "            '<a target=\"_blank\" href=https://colab.research.google.com/notebooks/data_table.ipynb>data table notebook</a>'\n",
              "            + ' to learn more about interactive tables.';\n",
              "          element.innerHTML = '';\n",
              "          dataTable['output_type'] = 'display_data';\n",
              "          await google.colab.output.renderOutput(dataTable, element);\n",
              "          const docLink = document.createElement('div');\n",
              "          docLink.innerHTML = docLinkHtml;\n",
              "          element.appendChild(docLink);\n",
              "        }\n",
              "      </script>\n",
              "    </div>\n",
              "  </div>\n",
              "  "
            ]
          },
          "metadata": {},
          "execution_count": 117
        },
        {
          "output_type": "execute_result",
          "data": {
            "text/plain": [
              "    c   b   a   d   e\n",
              "0   2   1   0   3   4\n",
              "1   7   6   5   8   9\n",
              "2  12  11  10  13  14\n",
              "3  17  16  15  18  19"
            ],
            "text/html": [
              "\n",
              "  <div id=\"df-aee1044c-b3e7-491e-895a-21be05e61ae6\">\n",
              "    <div class=\"colab-df-container\">\n",
              "      <div>\n",
              "<style scoped>\n",
              "    .dataframe tbody tr th:only-of-type {\n",
              "        vertical-align: middle;\n",
              "    }\n",
              "\n",
              "    .dataframe tbody tr th {\n",
              "        vertical-align: top;\n",
              "    }\n",
              "\n",
              "    .dataframe thead th {\n",
              "        text-align: right;\n",
              "    }\n",
              "</style>\n",
              "<table border=\"1\" class=\"dataframe\">\n",
              "  <thead>\n",
              "    <tr style=\"text-align: right;\">\n",
              "      <th></th>\n",
              "      <th>c</th>\n",
              "      <th>b</th>\n",
              "      <th>a</th>\n",
              "      <th>d</th>\n",
              "      <th>e</th>\n",
              "    </tr>\n",
              "  </thead>\n",
              "  <tbody>\n",
              "    <tr>\n",
              "      <th>0</th>\n",
              "      <td>2</td>\n",
              "      <td>1</td>\n",
              "      <td>0</td>\n",
              "      <td>3</td>\n",
              "      <td>4</td>\n",
              "    </tr>\n",
              "    <tr>\n",
              "      <th>1</th>\n",
              "      <td>7</td>\n",
              "      <td>6</td>\n",
              "      <td>5</td>\n",
              "      <td>8</td>\n",
              "      <td>9</td>\n",
              "    </tr>\n",
              "    <tr>\n",
              "      <th>2</th>\n",
              "      <td>12</td>\n",
              "      <td>11</td>\n",
              "      <td>10</td>\n",
              "      <td>13</td>\n",
              "      <td>14</td>\n",
              "    </tr>\n",
              "    <tr>\n",
              "      <th>3</th>\n",
              "      <td>17</td>\n",
              "      <td>16</td>\n",
              "      <td>15</td>\n",
              "      <td>18</td>\n",
              "      <td>19</td>\n",
              "    </tr>\n",
              "  </tbody>\n",
              "</table>\n",
              "</div>\n",
              "      <button class=\"colab-df-convert\" onclick=\"convertToInteractive('df-aee1044c-b3e7-491e-895a-21be05e61ae6')\"\n",
              "              title=\"Convert this dataframe to an interactive table.\"\n",
              "              style=\"display:none;\">\n",
              "        \n",
              "  <svg xmlns=\"http://www.w3.org/2000/svg\" height=\"24px\"viewBox=\"0 0 24 24\"\n",
              "       width=\"24px\">\n",
              "    <path d=\"M0 0h24v24H0V0z\" fill=\"none\"/>\n",
              "    <path d=\"M18.56 5.44l.94 2.06.94-2.06 2.06-.94-2.06-.94-.94-2.06-.94 2.06-2.06.94zm-11 1L8.5 8.5l.94-2.06 2.06-.94-2.06-.94L8.5 2.5l-.94 2.06-2.06.94zm10 10l.94 2.06.94-2.06 2.06-.94-2.06-.94-.94-2.06-.94 2.06-2.06.94z\"/><path d=\"M17.41 7.96l-1.37-1.37c-.4-.4-.92-.59-1.43-.59-.52 0-1.04.2-1.43.59L10.3 9.45l-7.72 7.72c-.78.78-.78 2.05 0 2.83L4 21.41c.39.39.9.59 1.41.59.51 0 1.02-.2 1.41-.59l7.78-7.78 2.81-2.81c.8-.78.8-2.07 0-2.86zM5.41 20L4 18.59l7.72-7.72 1.47 1.35L5.41 20z\"/>\n",
              "  </svg>\n",
              "      </button>\n",
              "      \n",
              "  <style>\n",
              "    .colab-df-container {\n",
              "      display:flex;\n",
              "      flex-wrap:wrap;\n",
              "      gap: 12px;\n",
              "    }\n",
              "\n",
              "    .colab-df-convert {\n",
              "      background-color: #E8F0FE;\n",
              "      border: none;\n",
              "      border-radius: 50%;\n",
              "      cursor: pointer;\n",
              "      display: none;\n",
              "      fill: #1967D2;\n",
              "      height: 32px;\n",
              "      padding: 0 0 0 0;\n",
              "      width: 32px;\n",
              "    }\n",
              "\n",
              "    .colab-df-convert:hover {\n",
              "      background-color: #E2EBFA;\n",
              "      box-shadow: 0px 1px 2px rgba(60, 64, 67, 0.3), 0px 1px 3px 1px rgba(60, 64, 67, 0.15);\n",
              "      fill: #174EA6;\n",
              "    }\n",
              "\n",
              "    [theme=dark] .colab-df-convert {\n",
              "      background-color: #3B4455;\n",
              "      fill: #D2E3FC;\n",
              "    }\n",
              "\n",
              "    [theme=dark] .colab-df-convert:hover {\n",
              "      background-color: #434B5C;\n",
              "      box-shadow: 0px 1px 3px 1px rgba(0, 0, 0, 0.15);\n",
              "      filter: drop-shadow(0px 1px 2px rgba(0, 0, 0, 0.3));\n",
              "      fill: #FFFFFF;\n",
              "    }\n",
              "  </style>\n",
              "\n",
              "      <script>\n",
              "        const buttonEl =\n",
              "          document.querySelector('#df-aee1044c-b3e7-491e-895a-21be05e61ae6 button.colab-df-convert');\n",
              "        buttonEl.style.display =\n",
              "          google.colab.kernel.accessAllowed ? 'block' : 'none';\n",
              "\n",
              "        async function convertToInteractive(key) {\n",
              "          const element = document.querySelector('#df-aee1044c-b3e7-491e-895a-21be05e61ae6');\n",
              "          const dataTable =\n",
              "            await google.colab.kernel.invokeFunction('convertToInteractive',\n",
              "                                                     [key], {});\n",
              "          if (!dataTable) return;\n",
              "\n",
              "          const docLinkHtml = 'Like what you see? Visit the ' +\n",
              "            '<a target=\"_blank\" href=https://colab.research.google.com/notebooks/data_table.ipynb>data table notebook</a>'\n",
              "            + ' to learn more about interactive tables.';\n",
              "          element.innerHTML = '';\n",
              "          dataTable['output_type'] = 'display_data';\n",
              "          await google.colab.output.renderOutput(dataTable, element);\n",
              "          const docLink = document.createElement('div');\n",
              "          docLink.innerHTML = docLinkHtml;\n",
              "          element.appendChild(docLink);\n",
              "        }\n",
              "      </script>\n",
              "    </div>\n",
              "  </div>\n",
              "  "
            ]
          },
          "metadata": {},
          "execution_count": 117
        },
        {
          "output_type": "execute_result",
          "data": {
            "text/plain": [
              "['a', 'b', 'c', 'd', 'e']"
            ]
          },
          "metadata": {},
          "execution_count": 117
        },
        {
          "output_type": "execute_result",
          "data": {
            "text/plain": [
              "['e', 'd', 'c', 'b', 'a']"
            ]
          },
          "metadata": {},
          "execution_count": 117
        },
        {
          "output_type": "execute_result",
          "data": {
            "text/plain": [
              "    e   d   c   b   a\n",
              "0   4   3   2   1   0\n",
              "1   9   8   7   6   5\n",
              "2  14  13  12  11  10\n",
              "3  19  18  17  16  15"
            ],
            "text/html": [
              "\n",
              "  <div id=\"df-621655eb-688f-4369-82d7-0d09e25d2372\">\n",
              "    <div class=\"colab-df-container\">\n",
              "      <div>\n",
              "<style scoped>\n",
              "    .dataframe tbody tr th:only-of-type {\n",
              "        vertical-align: middle;\n",
              "    }\n",
              "\n",
              "    .dataframe tbody tr th {\n",
              "        vertical-align: top;\n",
              "    }\n",
              "\n",
              "    .dataframe thead th {\n",
              "        text-align: right;\n",
              "    }\n",
              "</style>\n",
              "<table border=\"1\" class=\"dataframe\">\n",
              "  <thead>\n",
              "    <tr style=\"text-align: right;\">\n",
              "      <th></th>\n",
              "      <th>e</th>\n",
              "      <th>d</th>\n",
              "      <th>c</th>\n",
              "      <th>b</th>\n",
              "      <th>a</th>\n",
              "    </tr>\n",
              "  </thead>\n",
              "  <tbody>\n",
              "    <tr>\n",
              "      <th>0</th>\n",
              "      <td>4</td>\n",
              "      <td>3</td>\n",
              "      <td>2</td>\n",
              "      <td>1</td>\n",
              "      <td>0</td>\n",
              "    </tr>\n",
              "    <tr>\n",
              "      <th>1</th>\n",
              "      <td>9</td>\n",
              "      <td>8</td>\n",
              "      <td>7</td>\n",
              "      <td>6</td>\n",
              "      <td>5</td>\n",
              "    </tr>\n",
              "    <tr>\n",
              "      <th>2</th>\n",
              "      <td>14</td>\n",
              "      <td>13</td>\n",
              "      <td>12</td>\n",
              "      <td>11</td>\n",
              "      <td>10</td>\n",
              "    </tr>\n",
              "    <tr>\n",
              "      <th>3</th>\n",
              "      <td>19</td>\n",
              "      <td>18</td>\n",
              "      <td>17</td>\n",
              "      <td>16</td>\n",
              "      <td>15</td>\n",
              "    </tr>\n",
              "  </tbody>\n",
              "</table>\n",
              "</div>\n",
              "      <button class=\"colab-df-convert\" onclick=\"convertToInteractive('df-621655eb-688f-4369-82d7-0d09e25d2372')\"\n",
              "              title=\"Convert this dataframe to an interactive table.\"\n",
              "              style=\"display:none;\">\n",
              "        \n",
              "  <svg xmlns=\"http://www.w3.org/2000/svg\" height=\"24px\"viewBox=\"0 0 24 24\"\n",
              "       width=\"24px\">\n",
              "    <path d=\"M0 0h24v24H0V0z\" fill=\"none\"/>\n",
              "    <path d=\"M18.56 5.44l.94 2.06.94-2.06 2.06-.94-2.06-.94-.94-2.06-.94 2.06-2.06.94zm-11 1L8.5 8.5l.94-2.06 2.06-.94-2.06-.94L8.5 2.5l-.94 2.06-2.06.94zm10 10l.94 2.06.94-2.06 2.06-.94-2.06-.94-.94-2.06-.94 2.06-2.06.94z\"/><path d=\"M17.41 7.96l-1.37-1.37c-.4-.4-.92-.59-1.43-.59-.52 0-1.04.2-1.43.59L10.3 9.45l-7.72 7.72c-.78.78-.78 2.05 0 2.83L4 21.41c.39.39.9.59 1.41.59.51 0 1.02-.2 1.41-.59l7.78-7.78 2.81-2.81c.8-.78.8-2.07 0-2.86zM5.41 20L4 18.59l7.72-7.72 1.47 1.35L5.41 20z\"/>\n",
              "  </svg>\n",
              "      </button>\n",
              "      \n",
              "  <style>\n",
              "    .colab-df-container {\n",
              "      display:flex;\n",
              "      flex-wrap:wrap;\n",
              "      gap: 12px;\n",
              "    }\n",
              "\n",
              "    .colab-df-convert {\n",
              "      background-color: #E8F0FE;\n",
              "      border: none;\n",
              "      border-radius: 50%;\n",
              "      cursor: pointer;\n",
              "      display: none;\n",
              "      fill: #1967D2;\n",
              "      height: 32px;\n",
              "      padding: 0 0 0 0;\n",
              "      width: 32px;\n",
              "    }\n",
              "\n",
              "    .colab-df-convert:hover {\n",
              "      background-color: #E2EBFA;\n",
              "      box-shadow: 0px 1px 2px rgba(60, 64, 67, 0.3), 0px 1px 3px 1px rgba(60, 64, 67, 0.15);\n",
              "      fill: #174EA6;\n",
              "    }\n",
              "\n",
              "    [theme=dark] .colab-df-convert {\n",
              "      background-color: #3B4455;\n",
              "      fill: #D2E3FC;\n",
              "    }\n",
              "\n",
              "    [theme=dark] .colab-df-convert:hover {\n",
              "      background-color: #434B5C;\n",
              "      box-shadow: 0px 1px 3px 1px rgba(0, 0, 0, 0.15);\n",
              "      filter: drop-shadow(0px 1px 2px rgba(0, 0, 0, 0.3));\n",
              "      fill: #FFFFFF;\n",
              "    }\n",
              "  </style>\n",
              "\n",
              "      <script>\n",
              "        const buttonEl =\n",
              "          document.querySelector('#df-621655eb-688f-4369-82d7-0d09e25d2372 button.colab-df-convert');\n",
              "        buttonEl.style.display =\n",
              "          google.colab.kernel.accessAllowed ? 'block' : 'none';\n",
              "\n",
              "        async function convertToInteractive(key) {\n",
              "          const element = document.querySelector('#df-621655eb-688f-4369-82d7-0d09e25d2372');\n",
              "          const dataTable =\n",
              "            await google.colab.kernel.invokeFunction('convertToInteractive',\n",
              "                                                     [key], {});\n",
              "          if (!dataTable) return;\n",
              "\n",
              "          const docLinkHtml = 'Like what you see? Visit the ' +\n",
              "            '<a target=\"_blank\" href=https://colab.research.google.com/notebooks/data_table.ipynb>data table notebook</a>'\n",
              "            + ' to learn more about interactive tables.';\n",
              "          element.innerHTML = '';\n",
              "          dataTable['output_type'] = 'display_data';\n",
              "          await google.colab.output.renderOutput(dataTable, element);\n",
              "          const docLink = document.createElement('div');\n",
              "          docLink.innerHTML = docLinkHtml;\n",
              "          element.appendChild(docLink);\n",
              "        }\n",
              "      </script>\n",
              "    </div>\n",
              "  </div>\n",
              "  "
            ]
          },
          "metadata": {},
          "execution_count": 117
        },
        {
          "output_type": "stream",
          "name": "stdout",
          "text": [
            "Solution from the website\n",
            "-------------------------\n"
          ]
        },
        {
          "output_type": "execute_result",
          "data": {
            "text/plain": [
              "    c   b   a   d   e\n",
              "0   2   1   0   3   4\n",
              "1   7   6   5   8   9\n",
              "2  12  11  10  13  14\n",
              "3  17  16  15  18  19"
            ],
            "text/html": [
              "\n",
              "  <div id=\"df-a6376f2f-6015-4630-8d8f-1ebf45d09cc9\">\n",
              "    <div class=\"colab-df-container\">\n",
              "      <div>\n",
              "<style scoped>\n",
              "    .dataframe tbody tr th:only-of-type {\n",
              "        vertical-align: middle;\n",
              "    }\n",
              "\n",
              "    .dataframe tbody tr th {\n",
              "        vertical-align: top;\n",
              "    }\n",
              "\n",
              "    .dataframe thead th {\n",
              "        text-align: right;\n",
              "    }\n",
              "</style>\n",
              "<table border=\"1\" class=\"dataframe\">\n",
              "  <thead>\n",
              "    <tr style=\"text-align: right;\">\n",
              "      <th></th>\n",
              "      <th>c</th>\n",
              "      <th>b</th>\n",
              "      <th>a</th>\n",
              "      <th>d</th>\n",
              "      <th>e</th>\n",
              "    </tr>\n",
              "  </thead>\n",
              "  <tbody>\n",
              "    <tr>\n",
              "      <th>0</th>\n",
              "      <td>2</td>\n",
              "      <td>1</td>\n",
              "      <td>0</td>\n",
              "      <td>3</td>\n",
              "      <td>4</td>\n",
              "    </tr>\n",
              "    <tr>\n",
              "      <th>1</th>\n",
              "      <td>7</td>\n",
              "      <td>6</td>\n",
              "      <td>5</td>\n",
              "      <td>8</td>\n",
              "      <td>9</td>\n",
              "    </tr>\n",
              "    <tr>\n",
              "      <th>2</th>\n",
              "      <td>12</td>\n",
              "      <td>11</td>\n",
              "      <td>10</td>\n",
              "      <td>13</td>\n",
              "      <td>14</td>\n",
              "    </tr>\n",
              "    <tr>\n",
              "      <th>3</th>\n",
              "      <td>17</td>\n",
              "      <td>16</td>\n",
              "      <td>15</td>\n",
              "      <td>18</td>\n",
              "      <td>19</td>\n",
              "    </tr>\n",
              "  </tbody>\n",
              "</table>\n",
              "</div>\n",
              "      <button class=\"colab-df-convert\" onclick=\"convertToInteractive('df-a6376f2f-6015-4630-8d8f-1ebf45d09cc9')\"\n",
              "              title=\"Convert this dataframe to an interactive table.\"\n",
              "              style=\"display:none;\">\n",
              "        \n",
              "  <svg xmlns=\"http://www.w3.org/2000/svg\" height=\"24px\"viewBox=\"0 0 24 24\"\n",
              "       width=\"24px\">\n",
              "    <path d=\"M0 0h24v24H0V0z\" fill=\"none\"/>\n",
              "    <path d=\"M18.56 5.44l.94 2.06.94-2.06 2.06-.94-2.06-.94-.94-2.06-.94 2.06-2.06.94zm-11 1L8.5 8.5l.94-2.06 2.06-.94-2.06-.94L8.5 2.5l-.94 2.06-2.06.94zm10 10l.94 2.06.94-2.06 2.06-.94-2.06-.94-.94-2.06-.94 2.06-2.06.94z\"/><path d=\"M17.41 7.96l-1.37-1.37c-.4-.4-.92-.59-1.43-.59-.52 0-1.04.2-1.43.59L10.3 9.45l-7.72 7.72c-.78.78-.78 2.05 0 2.83L4 21.41c.39.39.9.59 1.41.59.51 0 1.02-.2 1.41-.59l7.78-7.78 2.81-2.81c.8-.78.8-2.07 0-2.86zM5.41 20L4 18.59l7.72-7.72 1.47 1.35L5.41 20z\"/>\n",
              "  </svg>\n",
              "      </button>\n",
              "      \n",
              "  <style>\n",
              "    .colab-df-container {\n",
              "      display:flex;\n",
              "      flex-wrap:wrap;\n",
              "      gap: 12px;\n",
              "    }\n",
              "\n",
              "    .colab-df-convert {\n",
              "      background-color: #E8F0FE;\n",
              "      border: none;\n",
              "      border-radius: 50%;\n",
              "      cursor: pointer;\n",
              "      display: none;\n",
              "      fill: #1967D2;\n",
              "      height: 32px;\n",
              "      padding: 0 0 0 0;\n",
              "      width: 32px;\n",
              "    }\n",
              "\n",
              "    .colab-df-convert:hover {\n",
              "      background-color: #E2EBFA;\n",
              "      box-shadow: 0px 1px 2px rgba(60, 64, 67, 0.3), 0px 1px 3px 1px rgba(60, 64, 67, 0.15);\n",
              "      fill: #174EA6;\n",
              "    }\n",
              "\n",
              "    [theme=dark] .colab-df-convert {\n",
              "      background-color: #3B4455;\n",
              "      fill: #D2E3FC;\n",
              "    }\n",
              "\n",
              "    [theme=dark] .colab-df-convert:hover {\n",
              "      background-color: #434B5C;\n",
              "      box-shadow: 0px 1px 3px 1px rgba(0, 0, 0, 0.15);\n",
              "      filter: drop-shadow(0px 1px 2px rgba(0, 0, 0, 0.3));\n",
              "      fill: #FFFFFF;\n",
              "    }\n",
              "  </style>\n",
              "\n",
              "      <script>\n",
              "        const buttonEl =\n",
              "          document.querySelector('#df-a6376f2f-6015-4630-8d8f-1ebf45d09cc9 button.colab-df-convert');\n",
              "        buttonEl.style.display =\n",
              "          google.colab.kernel.accessAllowed ? 'block' : 'none';\n",
              "\n",
              "        async function convertToInteractive(key) {\n",
              "          const element = document.querySelector('#df-a6376f2f-6015-4630-8d8f-1ebf45d09cc9');\n",
              "          const dataTable =\n",
              "            await google.colab.kernel.invokeFunction('convertToInteractive',\n",
              "                                                     [key], {});\n",
              "          if (!dataTable) return;\n",
              "\n",
              "          const docLinkHtml = 'Like what you see? Visit the ' +\n",
              "            '<a target=\"_blank\" href=https://colab.research.google.com/notebooks/data_table.ipynb>data table notebook</a>'\n",
              "            + ' to learn more about interactive tables.';\n",
              "          element.innerHTML = '';\n",
              "          dataTable['output_type'] = 'display_data';\n",
              "          await google.colab.output.renderOutput(dataTable, element);\n",
              "          const docLink = document.createElement('div');\n",
              "          docLink.innerHTML = docLinkHtml;\n",
              "          element.appendChild(docLink);\n",
              "        }\n",
              "      </script>\n",
              "    </div>\n",
              "  </div>\n",
              "  "
            ]
          },
          "metadata": {},
          "execution_count": 117
        },
        {
          "output_type": "execute_result",
          "data": {
            "text/plain": [
              "    a   b   c   d   e\n",
              "0   0   1   2   3   4\n",
              "1   5   6   7   8   9\n",
              "2  10  11  12  13  14\n",
              "3  15  16  17  18  19"
            ],
            "text/html": [
              "\n",
              "  <div id=\"df-f9b3e4c5-c0d0-4528-9ba2-84218f17fc4c\">\n",
              "    <div class=\"colab-df-container\">\n",
              "      <div>\n",
              "<style scoped>\n",
              "    .dataframe tbody tr th:only-of-type {\n",
              "        vertical-align: middle;\n",
              "    }\n",
              "\n",
              "    .dataframe tbody tr th {\n",
              "        vertical-align: top;\n",
              "    }\n",
              "\n",
              "    .dataframe thead th {\n",
              "        text-align: right;\n",
              "    }\n",
              "</style>\n",
              "<table border=\"1\" class=\"dataframe\">\n",
              "  <thead>\n",
              "    <tr style=\"text-align: right;\">\n",
              "      <th></th>\n",
              "      <th>a</th>\n",
              "      <th>b</th>\n",
              "      <th>c</th>\n",
              "      <th>d</th>\n",
              "      <th>e</th>\n",
              "    </tr>\n",
              "  </thead>\n",
              "  <tbody>\n",
              "    <tr>\n",
              "      <th>0</th>\n",
              "      <td>0</td>\n",
              "      <td>1</td>\n",
              "      <td>2</td>\n",
              "      <td>3</td>\n",
              "      <td>4</td>\n",
              "    </tr>\n",
              "    <tr>\n",
              "      <th>1</th>\n",
              "      <td>5</td>\n",
              "      <td>6</td>\n",
              "      <td>7</td>\n",
              "      <td>8</td>\n",
              "      <td>9</td>\n",
              "    </tr>\n",
              "    <tr>\n",
              "      <th>2</th>\n",
              "      <td>10</td>\n",
              "      <td>11</td>\n",
              "      <td>12</td>\n",
              "      <td>13</td>\n",
              "      <td>14</td>\n",
              "    </tr>\n",
              "    <tr>\n",
              "      <th>3</th>\n",
              "      <td>15</td>\n",
              "      <td>16</td>\n",
              "      <td>17</td>\n",
              "      <td>18</td>\n",
              "      <td>19</td>\n",
              "    </tr>\n",
              "  </tbody>\n",
              "</table>\n",
              "</div>\n",
              "      <button class=\"colab-df-convert\" onclick=\"convertToInteractive('df-f9b3e4c5-c0d0-4528-9ba2-84218f17fc4c')\"\n",
              "              title=\"Convert this dataframe to an interactive table.\"\n",
              "              style=\"display:none;\">\n",
              "        \n",
              "  <svg xmlns=\"http://www.w3.org/2000/svg\" height=\"24px\"viewBox=\"0 0 24 24\"\n",
              "       width=\"24px\">\n",
              "    <path d=\"M0 0h24v24H0V0z\" fill=\"none\"/>\n",
              "    <path d=\"M18.56 5.44l.94 2.06.94-2.06 2.06-.94-2.06-.94-.94-2.06-.94 2.06-2.06.94zm-11 1L8.5 8.5l.94-2.06 2.06-.94-2.06-.94L8.5 2.5l-.94 2.06-2.06.94zm10 10l.94 2.06.94-2.06 2.06-.94-2.06-.94-.94-2.06-.94 2.06-2.06.94z\"/><path d=\"M17.41 7.96l-1.37-1.37c-.4-.4-.92-.59-1.43-.59-.52 0-1.04.2-1.43.59L10.3 9.45l-7.72 7.72c-.78.78-.78 2.05 0 2.83L4 21.41c.39.39.9.59 1.41.59.51 0 1.02-.2 1.41-.59l7.78-7.78 2.81-2.81c.8-.78.8-2.07 0-2.86zM5.41 20L4 18.59l7.72-7.72 1.47 1.35L5.41 20z\"/>\n",
              "  </svg>\n",
              "      </button>\n",
              "      \n",
              "  <style>\n",
              "    .colab-df-container {\n",
              "      display:flex;\n",
              "      flex-wrap:wrap;\n",
              "      gap: 12px;\n",
              "    }\n",
              "\n",
              "    .colab-df-convert {\n",
              "      background-color: #E8F0FE;\n",
              "      border: none;\n",
              "      border-radius: 50%;\n",
              "      cursor: pointer;\n",
              "      display: none;\n",
              "      fill: #1967D2;\n",
              "      height: 32px;\n",
              "      padding: 0 0 0 0;\n",
              "      width: 32px;\n",
              "    }\n",
              "\n",
              "    .colab-df-convert:hover {\n",
              "      background-color: #E2EBFA;\n",
              "      box-shadow: 0px 1px 2px rgba(60, 64, 67, 0.3), 0px 1px 3px 1px rgba(60, 64, 67, 0.15);\n",
              "      fill: #174EA6;\n",
              "    }\n",
              "\n",
              "    [theme=dark] .colab-df-convert {\n",
              "      background-color: #3B4455;\n",
              "      fill: #D2E3FC;\n",
              "    }\n",
              "\n",
              "    [theme=dark] .colab-df-convert:hover {\n",
              "      background-color: #434B5C;\n",
              "      box-shadow: 0px 1px 3px 1px rgba(0, 0, 0, 0.15);\n",
              "      filter: drop-shadow(0px 1px 2px rgba(0, 0, 0, 0.3));\n",
              "      fill: #FFFFFF;\n",
              "    }\n",
              "  </style>\n",
              "\n",
              "      <script>\n",
              "        const buttonEl =\n",
              "          document.querySelector('#df-f9b3e4c5-c0d0-4528-9ba2-84218f17fc4c button.colab-df-convert');\n",
              "        buttonEl.style.display =\n",
              "          google.colab.kernel.accessAllowed ? 'block' : 'none';\n",
              "\n",
              "        async function convertToInteractive(key) {\n",
              "          const element = document.querySelector('#df-f9b3e4c5-c0d0-4528-9ba2-84218f17fc4c');\n",
              "          const dataTable =\n",
              "            await google.colab.kernel.invokeFunction('convertToInteractive',\n",
              "                                                     [key], {});\n",
              "          if (!dataTable) return;\n",
              "\n",
              "          const docLinkHtml = 'Like what you see? Visit the ' +\n",
              "            '<a target=\"_blank\" href=https://colab.research.google.com/notebooks/data_table.ipynb>data table notebook</a>'\n",
              "            + ' to learn more about interactive tables.';\n",
              "          element.innerHTML = '';\n",
              "          dataTable['output_type'] = 'display_data';\n",
              "          await google.colab.output.renderOutput(dataTable, element);\n",
              "          const docLink = document.createElement('div');\n",
              "          docLink.innerHTML = docLinkHtml;\n",
              "          element.appendChild(docLink);\n",
              "        }\n",
              "      </script>\n",
              "    </div>\n",
              "  </div>\n",
              "  "
            ]
          },
          "metadata": {},
          "execution_count": 117
        }
      ]
    },
    {
      "cell_type": "code",
      "source": [
        "# 21. How to filter every nth row in a dataframe?\n",
        "# From df, filter the 'Manufacturer', 'Model' and 'Type' for every 20th row starting from 1st (row 0).\n",
        "# input\n",
        "df = pd.read_csv(\"../input/cars93/Cars93.csv\")\n",
        "df\n",
        "\n",
        "# First let's import only the columns we need\n",
        "df = pd.read_csv(\"../input/cars93/Cars93.csv\", usecols=[\"Manufacturer\", \"Model\", \"Type\"])\n",
        "\n",
        "# Solution 1\n",
        "# Using normal python slicing\n",
        "df[::20]\n",
        "\n",
        "df = pd.read_csv(\"../input/cars93/Cars93.csv\", usecols=[\"Manufacturer\", \"Model\", \"Type\"])\n",
        "\n",
        "# Solution 2\n",
        "# Using iloc\n",
        "df.iloc[::20, :][['Manufacturer', 'Model', 'Type']]"
      ],
      "metadata": {
        "id": "xTpyraTJY8ID"
      },
      "execution_count": null,
      "outputs": []
    },
    {
      "cell_type": "code",
      "source": [
        "# 22. How to get the last n rows of a dataframe with row sum > 100?\n",
        "# Get the last two rows of df whose row sum is greater than 100.\n",
        "# input\n",
        "df = pd.DataFrame(np.random.randint(10, 40, 60).reshape(-1, 4))\n",
        "df1 = df.copy(deep = True)\n",
        "# Solution 1\n",
        "df[\"sum\"] = df.sum(axis = 1)\n",
        "df\n",
        "\n",
        "print(\"The index of the rows that are greater than 100 are {}\".format((df[df[\"sum\"] > 100].index).to_list()[-2:]))\n",
        "\n",
        "# Solution 2 using numpy\n",
        "rowsums = df1.apply(np.sum, axis=1)\n",
        "\n",
        "# last two rows with row sum greater than 100\n",
        "last_two_rows = df1.iloc[np.where(rowsums > 100)[0][-2:], :]\n",
        "last_two_rows"
      ],
      "metadata": {
        "id": "HzdJ6E1EY8FX",
        "colab": {
          "base_uri": "https://localhost:8080/",
          "height": 536
        },
        "outputId": "b2c1f3ac-c48a-4b87-c53e-6b8d3ff1e8cd"
      },
      "execution_count": null,
      "outputs": [
        {
          "output_type": "execute_result",
          "data": {
            "text/plain": [
              "     0   1   2   3  sum\n",
              "0   15  33  15  36   99\n",
              "1   22  16  24  34   96\n",
              "2   12  33  36  19  100\n",
              "3   39  11  20  38  108\n",
              "4   15  17  20  16   68\n",
              "..  ..  ..  ..  ..  ...\n",
              "10  29  24  27  14   94\n",
              "11  19  21  37  34  111\n",
              "12  27  15  32  39  113\n",
              "13  29  16  29  13   87\n",
              "14  33  11  15  10   69\n",
              "\n",
              "[15 rows x 5 columns]"
            ],
            "text/html": [
              "\n",
              "  <div id=\"df-ea28515f-de9d-4146-9d19-17c2e573b4f3\">\n",
              "    <div class=\"colab-df-container\">\n",
              "      <div>\n",
              "<style scoped>\n",
              "    .dataframe tbody tr th:only-of-type {\n",
              "        vertical-align: middle;\n",
              "    }\n",
              "\n",
              "    .dataframe tbody tr th {\n",
              "        vertical-align: top;\n",
              "    }\n",
              "\n",
              "    .dataframe thead th {\n",
              "        text-align: right;\n",
              "    }\n",
              "</style>\n",
              "<table border=\"1\" class=\"dataframe\">\n",
              "  <thead>\n",
              "    <tr style=\"text-align: right;\">\n",
              "      <th></th>\n",
              "      <th>0</th>\n",
              "      <th>1</th>\n",
              "      <th>2</th>\n",
              "      <th>3</th>\n",
              "      <th>sum</th>\n",
              "    </tr>\n",
              "  </thead>\n",
              "  <tbody>\n",
              "    <tr>\n",
              "      <th>0</th>\n",
              "      <td>15</td>\n",
              "      <td>33</td>\n",
              "      <td>15</td>\n",
              "      <td>36</td>\n",
              "      <td>99</td>\n",
              "    </tr>\n",
              "    <tr>\n",
              "      <th>1</th>\n",
              "      <td>22</td>\n",
              "      <td>16</td>\n",
              "      <td>24</td>\n",
              "      <td>34</td>\n",
              "      <td>96</td>\n",
              "    </tr>\n",
              "    <tr>\n",
              "      <th>2</th>\n",
              "      <td>12</td>\n",
              "      <td>33</td>\n",
              "      <td>36</td>\n",
              "      <td>19</td>\n",
              "      <td>100</td>\n",
              "    </tr>\n",
              "    <tr>\n",
              "      <th>3</th>\n",
              "      <td>39</td>\n",
              "      <td>11</td>\n",
              "      <td>20</td>\n",
              "      <td>38</td>\n",
              "      <td>108</td>\n",
              "    </tr>\n",
              "    <tr>\n",
              "      <th>4</th>\n",
              "      <td>15</td>\n",
              "      <td>17</td>\n",
              "      <td>20</td>\n",
              "      <td>16</td>\n",
              "      <td>68</td>\n",
              "    </tr>\n",
              "    <tr>\n",
              "      <th>...</th>\n",
              "      <td>...</td>\n",
              "      <td>...</td>\n",
              "      <td>...</td>\n",
              "      <td>...</td>\n",
              "      <td>...</td>\n",
              "    </tr>\n",
              "    <tr>\n",
              "      <th>10</th>\n",
              "      <td>29</td>\n",
              "      <td>24</td>\n",
              "      <td>27</td>\n",
              "      <td>14</td>\n",
              "      <td>94</td>\n",
              "    </tr>\n",
              "    <tr>\n",
              "      <th>11</th>\n",
              "      <td>19</td>\n",
              "      <td>21</td>\n",
              "      <td>37</td>\n",
              "      <td>34</td>\n",
              "      <td>111</td>\n",
              "    </tr>\n",
              "    <tr>\n",
              "      <th>12</th>\n",
              "      <td>27</td>\n",
              "      <td>15</td>\n",
              "      <td>32</td>\n",
              "      <td>39</td>\n",
              "      <td>113</td>\n",
              "    </tr>\n",
              "    <tr>\n",
              "      <th>13</th>\n",
              "      <td>29</td>\n",
              "      <td>16</td>\n",
              "      <td>29</td>\n",
              "      <td>13</td>\n",
              "      <td>87</td>\n",
              "    </tr>\n",
              "    <tr>\n",
              "      <th>14</th>\n",
              "      <td>33</td>\n",
              "      <td>11</td>\n",
              "      <td>15</td>\n",
              "      <td>10</td>\n",
              "      <td>69</td>\n",
              "    </tr>\n",
              "  </tbody>\n",
              "</table>\n",
              "<p>15 rows × 5 columns</p>\n",
              "</div>\n",
              "      <button class=\"colab-df-convert\" onclick=\"convertToInteractive('df-ea28515f-de9d-4146-9d19-17c2e573b4f3')\"\n",
              "              title=\"Convert this dataframe to an interactive table.\"\n",
              "              style=\"display:none;\">\n",
              "        \n",
              "  <svg xmlns=\"http://www.w3.org/2000/svg\" height=\"24px\"viewBox=\"0 0 24 24\"\n",
              "       width=\"24px\">\n",
              "    <path d=\"M0 0h24v24H0V0z\" fill=\"none\"/>\n",
              "    <path d=\"M18.56 5.44l.94 2.06.94-2.06 2.06-.94-2.06-.94-.94-2.06-.94 2.06-2.06.94zm-11 1L8.5 8.5l.94-2.06 2.06-.94-2.06-.94L8.5 2.5l-.94 2.06-2.06.94zm10 10l.94 2.06.94-2.06 2.06-.94-2.06-.94-.94-2.06-.94 2.06-2.06.94z\"/><path d=\"M17.41 7.96l-1.37-1.37c-.4-.4-.92-.59-1.43-.59-.52 0-1.04.2-1.43.59L10.3 9.45l-7.72 7.72c-.78.78-.78 2.05 0 2.83L4 21.41c.39.39.9.59 1.41.59.51 0 1.02-.2 1.41-.59l7.78-7.78 2.81-2.81c.8-.78.8-2.07 0-2.86zM5.41 20L4 18.59l7.72-7.72 1.47 1.35L5.41 20z\"/>\n",
              "  </svg>\n",
              "      </button>\n",
              "      \n",
              "  <style>\n",
              "    .colab-df-container {\n",
              "      display:flex;\n",
              "      flex-wrap:wrap;\n",
              "      gap: 12px;\n",
              "    }\n",
              "\n",
              "    .colab-df-convert {\n",
              "      background-color: #E8F0FE;\n",
              "      border: none;\n",
              "      border-radius: 50%;\n",
              "      cursor: pointer;\n",
              "      display: none;\n",
              "      fill: #1967D2;\n",
              "      height: 32px;\n",
              "      padding: 0 0 0 0;\n",
              "      width: 32px;\n",
              "    }\n",
              "\n",
              "    .colab-df-convert:hover {\n",
              "      background-color: #E2EBFA;\n",
              "      box-shadow: 0px 1px 2px rgba(60, 64, 67, 0.3), 0px 1px 3px 1px rgba(60, 64, 67, 0.15);\n",
              "      fill: #174EA6;\n",
              "    }\n",
              "\n",
              "    [theme=dark] .colab-df-convert {\n",
              "      background-color: #3B4455;\n",
              "      fill: #D2E3FC;\n",
              "    }\n",
              "\n",
              "    [theme=dark] .colab-df-convert:hover {\n",
              "      background-color: #434B5C;\n",
              "      box-shadow: 0px 1px 3px 1px rgba(0, 0, 0, 0.15);\n",
              "      filter: drop-shadow(0px 1px 2px rgba(0, 0, 0, 0.3));\n",
              "      fill: #FFFFFF;\n",
              "    }\n",
              "  </style>\n",
              "\n",
              "      <script>\n",
              "        const buttonEl =\n",
              "          document.querySelector('#df-ea28515f-de9d-4146-9d19-17c2e573b4f3 button.colab-df-convert');\n",
              "        buttonEl.style.display =\n",
              "          google.colab.kernel.accessAllowed ? 'block' : 'none';\n",
              "\n",
              "        async function convertToInteractive(key) {\n",
              "          const element = document.querySelector('#df-ea28515f-de9d-4146-9d19-17c2e573b4f3');\n",
              "          const dataTable =\n",
              "            await google.colab.kernel.invokeFunction('convertToInteractive',\n",
              "                                                     [key], {});\n",
              "          if (!dataTable) return;\n",
              "\n",
              "          const docLinkHtml = 'Like what you see? Visit the ' +\n",
              "            '<a target=\"_blank\" href=https://colab.research.google.com/notebooks/data_table.ipynb>data table notebook</a>'\n",
              "            + ' to learn more about interactive tables.';\n",
              "          element.innerHTML = '';\n",
              "          dataTable['output_type'] = 'display_data';\n",
              "          await google.colab.output.renderOutput(dataTable, element);\n",
              "          const docLink = document.createElement('div');\n",
              "          docLink.innerHTML = docLinkHtml;\n",
              "          element.appendChild(docLink);\n",
              "        }\n",
              "      </script>\n",
              "    </div>\n",
              "  </div>\n",
              "  "
            ]
          },
          "metadata": {},
          "execution_count": 118
        },
        {
          "output_type": "stream",
          "name": "stdout",
          "text": [
            "The index of the rows that are greater than 100 are [11, 12]\n"
          ]
        },
        {
          "output_type": "execute_result",
          "data": {
            "text/plain": [
              "     0   1   2   3\n",
              "11  19  21  37  34\n",
              "12  27  15  32  39"
            ],
            "text/html": [
              "\n",
              "  <div id=\"df-d3f6b16a-0bf2-4e58-a24e-4d9adc311841\">\n",
              "    <div class=\"colab-df-container\">\n",
              "      <div>\n",
              "<style scoped>\n",
              "    .dataframe tbody tr th:only-of-type {\n",
              "        vertical-align: middle;\n",
              "    }\n",
              "\n",
              "    .dataframe tbody tr th {\n",
              "        vertical-align: top;\n",
              "    }\n",
              "\n",
              "    .dataframe thead th {\n",
              "        text-align: right;\n",
              "    }\n",
              "</style>\n",
              "<table border=\"1\" class=\"dataframe\">\n",
              "  <thead>\n",
              "    <tr style=\"text-align: right;\">\n",
              "      <th></th>\n",
              "      <th>0</th>\n",
              "      <th>1</th>\n",
              "      <th>2</th>\n",
              "      <th>3</th>\n",
              "    </tr>\n",
              "  </thead>\n",
              "  <tbody>\n",
              "    <tr>\n",
              "      <th>11</th>\n",
              "      <td>19</td>\n",
              "      <td>21</td>\n",
              "      <td>37</td>\n",
              "      <td>34</td>\n",
              "    </tr>\n",
              "    <tr>\n",
              "      <th>12</th>\n",
              "      <td>27</td>\n",
              "      <td>15</td>\n",
              "      <td>32</td>\n",
              "      <td>39</td>\n",
              "    </tr>\n",
              "  </tbody>\n",
              "</table>\n",
              "</div>\n",
              "      <button class=\"colab-df-convert\" onclick=\"convertToInteractive('df-d3f6b16a-0bf2-4e58-a24e-4d9adc311841')\"\n",
              "              title=\"Convert this dataframe to an interactive table.\"\n",
              "              style=\"display:none;\">\n",
              "        \n",
              "  <svg xmlns=\"http://www.w3.org/2000/svg\" height=\"24px\"viewBox=\"0 0 24 24\"\n",
              "       width=\"24px\">\n",
              "    <path d=\"M0 0h24v24H0V0z\" fill=\"none\"/>\n",
              "    <path d=\"M18.56 5.44l.94 2.06.94-2.06 2.06-.94-2.06-.94-.94-2.06-.94 2.06-2.06.94zm-11 1L8.5 8.5l.94-2.06 2.06-.94-2.06-.94L8.5 2.5l-.94 2.06-2.06.94zm10 10l.94 2.06.94-2.06 2.06-.94-2.06-.94-.94-2.06-.94 2.06-2.06.94z\"/><path d=\"M17.41 7.96l-1.37-1.37c-.4-.4-.92-.59-1.43-.59-.52 0-1.04.2-1.43.59L10.3 9.45l-7.72 7.72c-.78.78-.78 2.05 0 2.83L4 21.41c.39.39.9.59 1.41.59.51 0 1.02-.2 1.41-.59l7.78-7.78 2.81-2.81c.8-.78.8-2.07 0-2.86zM5.41 20L4 18.59l7.72-7.72 1.47 1.35L5.41 20z\"/>\n",
              "  </svg>\n",
              "      </button>\n",
              "      \n",
              "  <style>\n",
              "    .colab-df-container {\n",
              "      display:flex;\n",
              "      flex-wrap:wrap;\n",
              "      gap: 12px;\n",
              "    }\n",
              "\n",
              "    .colab-df-convert {\n",
              "      background-color: #E8F0FE;\n",
              "      border: none;\n",
              "      border-radius: 50%;\n",
              "      cursor: pointer;\n",
              "      display: none;\n",
              "      fill: #1967D2;\n",
              "      height: 32px;\n",
              "      padding: 0 0 0 0;\n",
              "      width: 32px;\n",
              "    }\n",
              "\n",
              "    .colab-df-convert:hover {\n",
              "      background-color: #E2EBFA;\n",
              "      box-shadow: 0px 1px 2px rgba(60, 64, 67, 0.3), 0px 1px 3px 1px rgba(60, 64, 67, 0.15);\n",
              "      fill: #174EA6;\n",
              "    }\n",
              "\n",
              "    [theme=dark] .colab-df-convert {\n",
              "      background-color: #3B4455;\n",
              "      fill: #D2E3FC;\n",
              "    }\n",
              "\n",
              "    [theme=dark] .colab-df-convert:hover {\n",
              "      background-color: #434B5C;\n",
              "      box-shadow: 0px 1px 3px 1px rgba(0, 0, 0, 0.15);\n",
              "      filter: drop-shadow(0px 1px 2px rgba(0, 0, 0, 0.3));\n",
              "      fill: #FFFFFF;\n",
              "    }\n",
              "  </style>\n",
              "\n",
              "      <script>\n",
              "        const buttonEl =\n",
              "          document.querySelector('#df-d3f6b16a-0bf2-4e58-a24e-4d9adc311841 button.colab-df-convert');\n",
              "        buttonEl.style.display =\n",
              "          google.colab.kernel.accessAllowed ? 'block' : 'none';\n",
              "\n",
              "        async function convertToInteractive(key) {\n",
              "          const element = document.querySelector('#df-d3f6b16a-0bf2-4e58-a24e-4d9adc311841');\n",
              "          const dataTable =\n",
              "            await google.colab.kernel.invokeFunction('convertToInteractive',\n",
              "                                                     [key], {});\n",
              "          if (!dataTable) return;\n",
              "\n",
              "          const docLinkHtml = 'Like what you see? Visit the ' +\n",
              "            '<a target=\"_blank\" href=https://colab.research.google.com/notebooks/data_table.ipynb>data table notebook</a>'\n",
              "            + ' to learn more about interactive tables.';\n",
              "          element.innerHTML = '';\n",
              "          dataTable['output_type'] = 'display_data';\n",
              "          await google.colab.output.renderOutput(dataTable, element);\n",
              "          const docLink = document.createElement('div');\n",
              "          docLink.innerHTML = docLinkHtml;\n",
              "          element.appendChild(docLink);\n",
              "        }\n",
              "      </script>\n",
              "    </div>\n",
              "  </div>\n",
              "  "
            ]
          },
          "metadata": {},
          "execution_count": 118
        }
      ]
    },
    {
      "cell_type": "code",
      "source": [
        "# 23. How to find and cap outliers from a series or dataframe column?\n",
        "# Replace all values of ser in the lower 5%ile and greater than 95%ile with respective 5th and 95th %ile value.\n",
        "# input\n",
        "ser = pd.Series(np.logspace(-2, 2, 30))\n",
        "ser1 = ser.copy(deep = True)\n",
        "ser2 = ser.copy(deep = True)\n",
        "# Solution 1\n",
        "# get the quantiles values\n",
        "quantiles = np.quantile(ser, [0.05, 0.95])\n",
        "ser\n",
        "\n",
        "# filter ser using numpy to know where the values are below or greater than 5% or 95% and replace the values\n",
        "ser.iloc[np.where(ser < quantiles[0])] = quantiles[0]\n",
        "ser.iloc[np.where(ser > quantiles[1])] = quantiles[1]\n",
        "\n",
        "# or we can just do\n",
        "ser1[ser1 < quantiles[0]] = quantiles[0]\n",
        "ser1[ser1 > quantiles[1]] = quantiles[1]\n",
        "\n",
        "ser1\n",
        "\n",
        "# Solution from the webpage\n",
        "def cap_outliers(ser, low_perc, high_perc):\n",
        "    low, high = ser.quantile([low_perc, high_perc])\n",
        "    print(low_perc, '%ile: ', low, '|', high_perc, '%ile: ', high)\n",
        "    ser[ser < low] = low\n",
        "    ser[ser > high] = high\n",
        "    return(ser)\n",
        "\n",
        "capped_ser = cap_outliers(ser2, .05, .95)\n",
        "ser2\n",
        "capped_ser"
      ],
      "metadata": {
        "colab": {
          "base_uri": "https://localhost:8080/"
        },
        "id": "39s-00D3Y8Dv",
        "outputId": "754bcfbb-1f9a-4a74-a68f-dfe919734796"
      },
      "execution_count": null,
      "outputs": [
        {
          "output_type": "execute_result",
          "data": {
            "text/plain": [
              "0       0.010000\n",
              "1       0.013738\n",
              "2       0.018874\n",
              "3       0.025929\n",
              "4       0.035622\n",
              "         ...    \n",
              "25     28.072162\n",
              "26     38.566204\n",
              "27     52.983169\n",
              "28     72.789538\n",
              "29    100.000000\n",
              "Length: 30, dtype: float64"
            ]
          },
          "metadata": {},
          "execution_count": 120
        },
        {
          "output_type": "execute_result",
          "data": {
            "text/plain": [
              "0      0.016049\n",
              "1      0.016049\n",
              "2      0.018874\n",
              "3      0.025929\n",
              "4      0.035622\n",
              "        ...    \n",
              "25    28.072162\n",
              "26    38.566204\n",
              "27    52.983169\n",
              "28    63.876672\n",
              "29    63.876672\n",
              "Length: 30, dtype: float64"
            ]
          },
          "metadata": {},
          "execution_count": 120
        },
        {
          "output_type": "stream",
          "name": "stdout",
          "text": [
            "0.05 %ile:  0.016049294076965887 | 0.95 %ile:  63.87667222018393\n"
          ]
        },
        {
          "output_type": "execute_result",
          "data": {
            "text/plain": [
              "0      0.016049\n",
              "1      0.016049\n",
              "2      0.018874\n",
              "3      0.025929\n",
              "4      0.035622\n",
              "        ...    \n",
              "25    28.072162\n",
              "26    38.566204\n",
              "27    52.983169\n",
              "28    63.876672\n",
              "29    63.876672\n",
              "Length: 30, dtype: float64"
            ]
          },
          "metadata": {},
          "execution_count": 120
        },
        {
          "output_type": "execute_result",
          "data": {
            "text/plain": [
              "0      0.016049\n",
              "1      0.016049\n",
              "2      0.018874\n",
              "3      0.025929\n",
              "4      0.035622\n",
              "        ...    \n",
              "25    28.072162\n",
              "26    38.566204\n",
              "27    52.983169\n",
              "28    63.876672\n",
              "29    63.876672\n",
              "Length: 30, dtype: float64"
            ]
          },
          "metadata": {},
          "execution_count": 120
        }
      ]
    },
    {
      "cell_type": "code",
      "source": [
        "# 24. How to reverse the rows of a dataframe?\n",
        "# Reverse all the rows of dataframe df.\n",
        "# input\n",
        "df = pd.DataFrame(np.arange(25).reshape(5, -1))\n",
        "# Solution 1\n",
        "df\n",
        "df.iloc[df.index.to_list()[::-1]]\n",
        "\n",
        "# Solutions from the webpage\n",
        "# Solution 2\n",
        "df.iloc[::-1, :]\n",
        "\n",
        "# Solution 3\n",
        "print(df.loc[df.index[::-1], :])"
      ],
      "metadata": {
        "colab": {
          "base_uri": "https://localhost:8080/",
          "height": 688
        },
        "id": "zxiA8ECMY8A3",
        "outputId": "0ddc64a9-e627-483c-edcd-d86ad7975708"
      },
      "execution_count": null,
      "outputs": [
        {
          "output_type": "execute_result",
          "data": {
            "text/plain": [
              "    0   1   2   3   4\n",
              "0   0   1   2   3   4\n",
              "1   5   6   7   8   9\n",
              "2  10  11  12  13  14\n",
              "3  15  16  17  18  19\n",
              "4  20  21  22  23  24"
            ],
            "text/html": [
              "\n",
              "  <div id=\"df-85425e9d-5f6b-4ae3-82ec-3424d1a51d40\">\n",
              "    <div class=\"colab-df-container\">\n",
              "      <div>\n",
              "<style scoped>\n",
              "    .dataframe tbody tr th:only-of-type {\n",
              "        vertical-align: middle;\n",
              "    }\n",
              "\n",
              "    .dataframe tbody tr th {\n",
              "        vertical-align: top;\n",
              "    }\n",
              "\n",
              "    .dataframe thead th {\n",
              "        text-align: right;\n",
              "    }\n",
              "</style>\n",
              "<table border=\"1\" class=\"dataframe\">\n",
              "  <thead>\n",
              "    <tr style=\"text-align: right;\">\n",
              "      <th></th>\n",
              "      <th>0</th>\n",
              "      <th>1</th>\n",
              "      <th>2</th>\n",
              "      <th>3</th>\n",
              "      <th>4</th>\n",
              "    </tr>\n",
              "  </thead>\n",
              "  <tbody>\n",
              "    <tr>\n",
              "      <th>0</th>\n",
              "      <td>0</td>\n",
              "      <td>1</td>\n",
              "      <td>2</td>\n",
              "      <td>3</td>\n",
              "      <td>4</td>\n",
              "    </tr>\n",
              "    <tr>\n",
              "      <th>1</th>\n",
              "      <td>5</td>\n",
              "      <td>6</td>\n",
              "      <td>7</td>\n",
              "      <td>8</td>\n",
              "      <td>9</td>\n",
              "    </tr>\n",
              "    <tr>\n",
              "      <th>2</th>\n",
              "      <td>10</td>\n",
              "      <td>11</td>\n",
              "      <td>12</td>\n",
              "      <td>13</td>\n",
              "      <td>14</td>\n",
              "    </tr>\n",
              "    <tr>\n",
              "      <th>3</th>\n",
              "      <td>15</td>\n",
              "      <td>16</td>\n",
              "      <td>17</td>\n",
              "      <td>18</td>\n",
              "      <td>19</td>\n",
              "    </tr>\n",
              "    <tr>\n",
              "      <th>4</th>\n",
              "      <td>20</td>\n",
              "      <td>21</td>\n",
              "      <td>22</td>\n",
              "      <td>23</td>\n",
              "      <td>24</td>\n",
              "    </tr>\n",
              "  </tbody>\n",
              "</table>\n",
              "</div>\n",
              "      <button class=\"colab-df-convert\" onclick=\"convertToInteractive('df-85425e9d-5f6b-4ae3-82ec-3424d1a51d40')\"\n",
              "              title=\"Convert this dataframe to an interactive table.\"\n",
              "              style=\"display:none;\">\n",
              "        \n",
              "  <svg xmlns=\"http://www.w3.org/2000/svg\" height=\"24px\"viewBox=\"0 0 24 24\"\n",
              "       width=\"24px\">\n",
              "    <path d=\"M0 0h24v24H0V0z\" fill=\"none\"/>\n",
              "    <path d=\"M18.56 5.44l.94 2.06.94-2.06 2.06-.94-2.06-.94-.94-2.06-.94 2.06-2.06.94zm-11 1L8.5 8.5l.94-2.06 2.06-.94-2.06-.94L8.5 2.5l-.94 2.06-2.06.94zm10 10l.94 2.06.94-2.06 2.06-.94-2.06-.94-.94-2.06-.94 2.06-2.06.94z\"/><path d=\"M17.41 7.96l-1.37-1.37c-.4-.4-.92-.59-1.43-.59-.52 0-1.04.2-1.43.59L10.3 9.45l-7.72 7.72c-.78.78-.78 2.05 0 2.83L4 21.41c.39.39.9.59 1.41.59.51 0 1.02-.2 1.41-.59l7.78-7.78 2.81-2.81c.8-.78.8-2.07 0-2.86zM5.41 20L4 18.59l7.72-7.72 1.47 1.35L5.41 20z\"/>\n",
              "  </svg>\n",
              "      </button>\n",
              "      \n",
              "  <style>\n",
              "    .colab-df-container {\n",
              "      display:flex;\n",
              "      flex-wrap:wrap;\n",
              "      gap: 12px;\n",
              "    }\n",
              "\n",
              "    .colab-df-convert {\n",
              "      background-color: #E8F0FE;\n",
              "      border: none;\n",
              "      border-radius: 50%;\n",
              "      cursor: pointer;\n",
              "      display: none;\n",
              "      fill: #1967D2;\n",
              "      height: 32px;\n",
              "      padding: 0 0 0 0;\n",
              "      width: 32px;\n",
              "    }\n",
              "\n",
              "    .colab-df-convert:hover {\n",
              "      background-color: #E2EBFA;\n",
              "      box-shadow: 0px 1px 2px rgba(60, 64, 67, 0.3), 0px 1px 3px 1px rgba(60, 64, 67, 0.15);\n",
              "      fill: #174EA6;\n",
              "    }\n",
              "\n",
              "    [theme=dark] .colab-df-convert {\n",
              "      background-color: #3B4455;\n",
              "      fill: #D2E3FC;\n",
              "    }\n",
              "\n",
              "    [theme=dark] .colab-df-convert:hover {\n",
              "      background-color: #434B5C;\n",
              "      box-shadow: 0px 1px 3px 1px rgba(0, 0, 0, 0.15);\n",
              "      filter: drop-shadow(0px 1px 2px rgba(0, 0, 0, 0.3));\n",
              "      fill: #FFFFFF;\n",
              "    }\n",
              "  </style>\n",
              "\n",
              "      <script>\n",
              "        const buttonEl =\n",
              "          document.querySelector('#df-85425e9d-5f6b-4ae3-82ec-3424d1a51d40 button.colab-df-convert');\n",
              "        buttonEl.style.display =\n",
              "          google.colab.kernel.accessAllowed ? 'block' : 'none';\n",
              "\n",
              "        async function convertToInteractive(key) {\n",
              "          const element = document.querySelector('#df-85425e9d-5f6b-4ae3-82ec-3424d1a51d40');\n",
              "          const dataTable =\n",
              "            await google.colab.kernel.invokeFunction('convertToInteractive',\n",
              "                                                     [key], {});\n",
              "          if (!dataTable) return;\n",
              "\n",
              "          const docLinkHtml = 'Like what you see? Visit the ' +\n",
              "            '<a target=\"_blank\" href=https://colab.research.google.com/notebooks/data_table.ipynb>data table notebook</a>'\n",
              "            + ' to learn more about interactive tables.';\n",
              "          element.innerHTML = '';\n",
              "          dataTable['output_type'] = 'display_data';\n",
              "          await google.colab.output.renderOutput(dataTable, element);\n",
              "          const docLink = document.createElement('div');\n",
              "          docLink.innerHTML = docLinkHtml;\n",
              "          element.appendChild(docLink);\n",
              "        }\n",
              "      </script>\n",
              "    </div>\n",
              "  </div>\n",
              "  "
            ]
          },
          "metadata": {},
          "execution_count": 121
        },
        {
          "output_type": "execute_result",
          "data": {
            "text/plain": [
              "    0   1   2   3   4\n",
              "4  20  21  22  23  24\n",
              "3  15  16  17  18  19\n",
              "2  10  11  12  13  14\n",
              "1   5   6   7   8   9\n",
              "0   0   1   2   3   4"
            ],
            "text/html": [
              "\n",
              "  <div id=\"df-ab10ee91-0778-45b4-9cd0-06ac610b1a2c\">\n",
              "    <div class=\"colab-df-container\">\n",
              "      <div>\n",
              "<style scoped>\n",
              "    .dataframe tbody tr th:only-of-type {\n",
              "        vertical-align: middle;\n",
              "    }\n",
              "\n",
              "    .dataframe tbody tr th {\n",
              "        vertical-align: top;\n",
              "    }\n",
              "\n",
              "    .dataframe thead th {\n",
              "        text-align: right;\n",
              "    }\n",
              "</style>\n",
              "<table border=\"1\" class=\"dataframe\">\n",
              "  <thead>\n",
              "    <tr style=\"text-align: right;\">\n",
              "      <th></th>\n",
              "      <th>0</th>\n",
              "      <th>1</th>\n",
              "      <th>2</th>\n",
              "      <th>3</th>\n",
              "      <th>4</th>\n",
              "    </tr>\n",
              "  </thead>\n",
              "  <tbody>\n",
              "    <tr>\n",
              "      <th>4</th>\n",
              "      <td>20</td>\n",
              "      <td>21</td>\n",
              "      <td>22</td>\n",
              "      <td>23</td>\n",
              "      <td>24</td>\n",
              "    </tr>\n",
              "    <tr>\n",
              "      <th>3</th>\n",
              "      <td>15</td>\n",
              "      <td>16</td>\n",
              "      <td>17</td>\n",
              "      <td>18</td>\n",
              "      <td>19</td>\n",
              "    </tr>\n",
              "    <tr>\n",
              "      <th>2</th>\n",
              "      <td>10</td>\n",
              "      <td>11</td>\n",
              "      <td>12</td>\n",
              "      <td>13</td>\n",
              "      <td>14</td>\n",
              "    </tr>\n",
              "    <tr>\n",
              "      <th>1</th>\n",
              "      <td>5</td>\n",
              "      <td>6</td>\n",
              "      <td>7</td>\n",
              "      <td>8</td>\n",
              "      <td>9</td>\n",
              "    </tr>\n",
              "    <tr>\n",
              "      <th>0</th>\n",
              "      <td>0</td>\n",
              "      <td>1</td>\n",
              "      <td>2</td>\n",
              "      <td>3</td>\n",
              "      <td>4</td>\n",
              "    </tr>\n",
              "  </tbody>\n",
              "</table>\n",
              "</div>\n",
              "      <button class=\"colab-df-convert\" onclick=\"convertToInteractive('df-ab10ee91-0778-45b4-9cd0-06ac610b1a2c')\"\n",
              "              title=\"Convert this dataframe to an interactive table.\"\n",
              "              style=\"display:none;\">\n",
              "        \n",
              "  <svg xmlns=\"http://www.w3.org/2000/svg\" height=\"24px\"viewBox=\"0 0 24 24\"\n",
              "       width=\"24px\">\n",
              "    <path d=\"M0 0h24v24H0V0z\" fill=\"none\"/>\n",
              "    <path d=\"M18.56 5.44l.94 2.06.94-2.06 2.06-.94-2.06-.94-.94-2.06-.94 2.06-2.06.94zm-11 1L8.5 8.5l.94-2.06 2.06-.94-2.06-.94L8.5 2.5l-.94 2.06-2.06.94zm10 10l.94 2.06.94-2.06 2.06-.94-2.06-.94-.94-2.06-.94 2.06-2.06.94z\"/><path d=\"M17.41 7.96l-1.37-1.37c-.4-.4-.92-.59-1.43-.59-.52 0-1.04.2-1.43.59L10.3 9.45l-7.72 7.72c-.78.78-.78 2.05 0 2.83L4 21.41c.39.39.9.59 1.41.59.51 0 1.02-.2 1.41-.59l7.78-7.78 2.81-2.81c.8-.78.8-2.07 0-2.86zM5.41 20L4 18.59l7.72-7.72 1.47 1.35L5.41 20z\"/>\n",
              "  </svg>\n",
              "      </button>\n",
              "      \n",
              "  <style>\n",
              "    .colab-df-container {\n",
              "      display:flex;\n",
              "      flex-wrap:wrap;\n",
              "      gap: 12px;\n",
              "    }\n",
              "\n",
              "    .colab-df-convert {\n",
              "      background-color: #E8F0FE;\n",
              "      border: none;\n",
              "      border-radius: 50%;\n",
              "      cursor: pointer;\n",
              "      display: none;\n",
              "      fill: #1967D2;\n",
              "      height: 32px;\n",
              "      padding: 0 0 0 0;\n",
              "      width: 32px;\n",
              "    }\n",
              "\n",
              "    .colab-df-convert:hover {\n",
              "      background-color: #E2EBFA;\n",
              "      box-shadow: 0px 1px 2px rgba(60, 64, 67, 0.3), 0px 1px 3px 1px rgba(60, 64, 67, 0.15);\n",
              "      fill: #174EA6;\n",
              "    }\n",
              "\n",
              "    [theme=dark] .colab-df-convert {\n",
              "      background-color: #3B4455;\n",
              "      fill: #D2E3FC;\n",
              "    }\n",
              "\n",
              "    [theme=dark] .colab-df-convert:hover {\n",
              "      background-color: #434B5C;\n",
              "      box-shadow: 0px 1px 3px 1px rgba(0, 0, 0, 0.15);\n",
              "      filter: drop-shadow(0px 1px 2px rgba(0, 0, 0, 0.3));\n",
              "      fill: #FFFFFF;\n",
              "    }\n",
              "  </style>\n",
              "\n",
              "      <script>\n",
              "        const buttonEl =\n",
              "          document.querySelector('#df-ab10ee91-0778-45b4-9cd0-06ac610b1a2c button.colab-df-convert');\n",
              "        buttonEl.style.display =\n",
              "          google.colab.kernel.accessAllowed ? 'block' : 'none';\n",
              "\n",
              "        async function convertToInteractive(key) {\n",
              "          const element = document.querySelector('#df-ab10ee91-0778-45b4-9cd0-06ac610b1a2c');\n",
              "          const dataTable =\n",
              "            await google.colab.kernel.invokeFunction('convertToInteractive',\n",
              "                                                     [key], {});\n",
              "          if (!dataTable) return;\n",
              "\n",
              "          const docLinkHtml = 'Like what you see? Visit the ' +\n",
              "            '<a target=\"_blank\" href=https://colab.research.google.com/notebooks/data_table.ipynb>data table notebook</a>'\n",
              "            + ' to learn more about interactive tables.';\n",
              "          element.innerHTML = '';\n",
              "          dataTable['output_type'] = 'display_data';\n",
              "          await google.colab.output.renderOutput(dataTable, element);\n",
              "          const docLink = document.createElement('div');\n",
              "          docLink.innerHTML = docLinkHtml;\n",
              "          element.appendChild(docLink);\n",
              "        }\n",
              "      </script>\n",
              "    </div>\n",
              "  </div>\n",
              "  "
            ]
          },
          "metadata": {},
          "execution_count": 121
        },
        {
          "output_type": "execute_result",
          "data": {
            "text/plain": [
              "    0   1   2   3   4\n",
              "4  20  21  22  23  24\n",
              "3  15  16  17  18  19\n",
              "2  10  11  12  13  14\n",
              "1   5   6   7   8   9\n",
              "0   0   1   2   3   4"
            ],
            "text/html": [
              "\n",
              "  <div id=\"df-36c269d1-bb34-4312-a5cd-1633dadd68c5\">\n",
              "    <div class=\"colab-df-container\">\n",
              "      <div>\n",
              "<style scoped>\n",
              "    .dataframe tbody tr th:only-of-type {\n",
              "        vertical-align: middle;\n",
              "    }\n",
              "\n",
              "    .dataframe tbody tr th {\n",
              "        vertical-align: top;\n",
              "    }\n",
              "\n",
              "    .dataframe thead th {\n",
              "        text-align: right;\n",
              "    }\n",
              "</style>\n",
              "<table border=\"1\" class=\"dataframe\">\n",
              "  <thead>\n",
              "    <tr style=\"text-align: right;\">\n",
              "      <th></th>\n",
              "      <th>0</th>\n",
              "      <th>1</th>\n",
              "      <th>2</th>\n",
              "      <th>3</th>\n",
              "      <th>4</th>\n",
              "    </tr>\n",
              "  </thead>\n",
              "  <tbody>\n",
              "    <tr>\n",
              "      <th>4</th>\n",
              "      <td>20</td>\n",
              "      <td>21</td>\n",
              "      <td>22</td>\n",
              "      <td>23</td>\n",
              "      <td>24</td>\n",
              "    </tr>\n",
              "    <tr>\n",
              "      <th>3</th>\n",
              "      <td>15</td>\n",
              "      <td>16</td>\n",
              "      <td>17</td>\n",
              "      <td>18</td>\n",
              "      <td>19</td>\n",
              "    </tr>\n",
              "    <tr>\n",
              "      <th>2</th>\n",
              "      <td>10</td>\n",
              "      <td>11</td>\n",
              "      <td>12</td>\n",
              "      <td>13</td>\n",
              "      <td>14</td>\n",
              "    </tr>\n",
              "    <tr>\n",
              "      <th>1</th>\n",
              "      <td>5</td>\n",
              "      <td>6</td>\n",
              "      <td>7</td>\n",
              "      <td>8</td>\n",
              "      <td>9</td>\n",
              "    </tr>\n",
              "    <tr>\n",
              "      <th>0</th>\n",
              "      <td>0</td>\n",
              "      <td>1</td>\n",
              "      <td>2</td>\n",
              "      <td>3</td>\n",
              "      <td>4</td>\n",
              "    </tr>\n",
              "  </tbody>\n",
              "</table>\n",
              "</div>\n",
              "      <button class=\"colab-df-convert\" onclick=\"convertToInteractive('df-36c269d1-bb34-4312-a5cd-1633dadd68c5')\"\n",
              "              title=\"Convert this dataframe to an interactive table.\"\n",
              "              style=\"display:none;\">\n",
              "        \n",
              "  <svg xmlns=\"http://www.w3.org/2000/svg\" height=\"24px\"viewBox=\"0 0 24 24\"\n",
              "       width=\"24px\">\n",
              "    <path d=\"M0 0h24v24H0V0z\" fill=\"none\"/>\n",
              "    <path d=\"M18.56 5.44l.94 2.06.94-2.06 2.06-.94-2.06-.94-.94-2.06-.94 2.06-2.06.94zm-11 1L8.5 8.5l.94-2.06 2.06-.94-2.06-.94L8.5 2.5l-.94 2.06-2.06.94zm10 10l.94 2.06.94-2.06 2.06-.94-2.06-.94-.94-2.06-.94 2.06-2.06.94z\"/><path d=\"M17.41 7.96l-1.37-1.37c-.4-.4-.92-.59-1.43-.59-.52 0-1.04.2-1.43.59L10.3 9.45l-7.72 7.72c-.78.78-.78 2.05 0 2.83L4 21.41c.39.39.9.59 1.41.59.51 0 1.02-.2 1.41-.59l7.78-7.78 2.81-2.81c.8-.78.8-2.07 0-2.86zM5.41 20L4 18.59l7.72-7.72 1.47 1.35L5.41 20z\"/>\n",
              "  </svg>\n",
              "      </button>\n",
              "      \n",
              "  <style>\n",
              "    .colab-df-container {\n",
              "      display:flex;\n",
              "      flex-wrap:wrap;\n",
              "      gap: 12px;\n",
              "    }\n",
              "\n",
              "    .colab-df-convert {\n",
              "      background-color: #E8F0FE;\n",
              "      border: none;\n",
              "      border-radius: 50%;\n",
              "      cursor: pointer;\n",
              "      display: none;\n",
              "      fill: #1967D2;\n",
              "      height: 32px;\n",
              "      padding: 0 0 0 0;\n",
              "      width: 32px;\n",
              "    }\n",
              "\n",
              "    .colab-df-convert:hover {\n",
              "      background-color: #E2EBFA;\n",
              "      box-shadow: 0px 1px 2px rgba(60, 64, 67, 0.3), 0px 1px 3px 1px rgba(60, 64, 67, 0.15);\n",
              "      fill: #174EA6;\n",
              "    }\n",
              "\n",
              "    [theme=dark] .colab-df-convert {\n",
              "      background-color: #3B4455;\n",
              "      fill: #D2E3FC;\n",
              "    }\n",
              "\n",
              "    [theme=dark] .colab-df-convert:hover {\n",
              "      background-color: #434B5C;\n",
              "      box-shadow: 0px 1px 3px 1px rgba(0, 0, 0, 0.15);\n",
              "      filter: drop-shadow(0px 1px 2px rgba(0, 0, 0, 0.3));\n",
              "      fill: #FFFFFF;\n",
              "    }\n",
              "  </style>\n",
              "\n",
              "      <script>\n",
              "        const buttonEl =\n",
              "          document.querySelector('#df-36c269d1-bb34-4312-a5cd-1633dadd68c5 button.colab-df-convert');\n",
              "        buttonEl.style.display =\n",
              "          google.colab.kernel.accessAllowed ? 'block' : 'none';\n",
              "\n",
              "        async function convertToInteractive(key) {\n",
              "          const element = document.querySelector('#df-36c269d1-bb34-4312-a5cd-1633dadd68c5');\n",
              "          const dataTable =\n",
              "            await google.colab.kernel.invokeFunction('convertToInteractive',\n",
              "                                                     [key], {});\n",
              "          if (!dataTable) return;\n",
              "\n",
              "          const docLinkHtml = 'Like what you see? Visit the ' +\n",
              "            '<a target=\"_blank\" href=https://colab.research.google.com/notebooks/data_table.ipynb>data table notebook</a>'\n",
              "            + ' to learn more about interactive tables.';\n",
              "          element.innerHTML = '';\n",
              "          dataTable['output_type'] = 'display_data';\n",
              "          await google.colab.output.renderOutput(dataTable, element);\n",
              "          const docLink = document.createElement('div');\n",
              "          docLink.innerHTML = docLinkHtml;\n",
              "          element.appendChild(docLink);\n",
              "        }\n",
              "      </script>\n",
              "    </div>\n",
              "  </div>\n",
              "  "
            ]
          },
          "metadata": {},
          "execution_count": 121
        },
        {
          "output_type": "stream",
          "name": "stdout",
          "text": [
            "    0   1   2   3   4\n",
            "4  20  21  22  23  24\n",
            "3  15  16  17  18  19\n",
            "2  10  11  12  13  14\n",
            "1   5   6   7   8   9\n",
            "0   0   1   2   3   4\n"
          ]
        }
      ]
    }
  ]
}